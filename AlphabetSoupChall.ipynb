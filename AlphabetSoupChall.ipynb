{
 "metadata": {
  "language_info": {
   "codemirror_mode": {
    "name": "ipython",
    "version": 3
   },
   "file_extension": ".py",
   "mimetype": "text/x-python",
   "name": "python",
   "nbconvert_exporter": "python",
   "pygments_lexer": "ipython3",
   "version": "3.8.5-final"
  },
  "orig_nbformat": 2,
  "kernelspec": {
   "name": "Python 3.8.5 64-bit",
   "display_name": "Python 3.8.5 64-bit",
   "metadata": {
    "interpreter": {
     "hash": "6b3b3f7ce04feafef176f851e88cd2417c32f4811068f4b2f20a94410a2a3581"
    }
   }
  }
 },
 "nbformat": 4,
 "nbformat_minor": 2,
 "cells": [
  {
   "source": [
    "### Goals\n",
    "---\n",
    "###### Import, analyze, clean, and preprocess a “real-world” classification dataset.\n",
    "Select, design, and train a binary classification model of your choosing.\n",
    "Optimize model training and input data to achieve desired model performance."
   ],
   "cell_type": "markdown",
   "metadata": {}
  },
  {
   "cell_type": "code",
   "execution_count": 1,
   "metadata": {},
   "outputs": [
    {
     "output_type": "execute_result",
     "data": {
      "text/plain": [
       "        EIN                                      NAME APPLICATION_TYPE  \\\n",
       "0  10520599              BLUE KNIGHTS MOTORCYCLE CLUB              T10   \n",
       "1  10531628    AMERICAN CHESAPEAKE CLUB CHARITABLE TR               T3   \n",
       "2  10547893        ST CLOUD PROFESSIONAL FIREFIGHTERS               T5   \n",
       "3  10553066            SOUTHSIDE ATHLETIC ASSOCIATION               T3   \n",
       "4  10556103  GENETIC RESEARCH INSTITUTE OF THE DESERT               T3   \n",
       "\n",
       "        AFFILIATION CLASSIFICATION      USE_CASE  ORGANIZATION  STATUS  \\\n",
       "0       Independent          C1000    ProductDev   Association       1   \n",
       "1       Independent          C2000  Preservation  Co-operative       1   \n",
       "2  CompanySponsored          C3000    ProductDev   Association       1   \n",
       "3  CompanySponsored          C2000  Preservation         Trust       1   \n",
       "4       Independent          C1000     Heathcare         Trust       1   \n",
       "\n",
       "      INCOME_AMT SPECIAL_CONSIDERATIONS  ASK_AMT  IS_SUCCESSFUL  \n",
       "0              0                      N     5000              1  \n",
       "1         1-9999                      N   108590              1  \n",
       "2              0                      N     5000              0  \n",
       "3    10000-24999                      N     6692              1  \n",
       "4  100000-499999                      N   142590              1  "
      ],
      "text/html": "<div>\n<style scoped>\n    .dataframe tbody tr th:only-of-type {\n        vertical-align: middle;\n    }\n\n    .dataframe tbody tr th {\n        vertical-align: top;\n    }\n\n    .dataframe thead th {\n        text-align: right;\n    }\n</style>\n<table border=\"1\" class=\"dataframe\">\n  <thead>\n    <tr style=\"text-align: right;\">\n      <th></th>\n      <th>EIN</th>\n      <th>NAME</th>\n      <th>APPLICATION_TYPE</th>\n      <th>AFFILIATION</th>\n      <th>CLASSIFICATION</th>\n      <th>USE_CASE</th>\n      <th>ORGANIZATION</th>\n      <th>STATUS</th>\n      <th>INCOME_AMT</th>\n      <th>SPECIAL_CONSIDERATIONS</th>\n      <th>ASK_AMT</th>\n      <th>IS_SUCCESSFUL</th>\n    </tr>\n  </thead>\n  <tbody>\n    <tr>\n      <th>0</th>\n      <td>10520599</td>\n      <td>BLUE KNIGHTS MOTORCYCLE CLUB</td>\n      <td>T10</td>\n      <td>Independent</td>\n      <td>C1000</td>\n      <td>ProductDev</td>\n      <td>Association</td>\n      <td>1</td>\n      <td>0</td>\n      <td>N</td>\n      <td>5000</td>\n      <td>1</td>\n    </tr>\n    <tr>\n      <th>1</th>\n      <td>10531628</td>\n      <td>AMERICAN CHESAPEAKE CLUB CHARITABLE TR</td>\n      <td>T3</td>\n      <td>Independent</td>\n      <td>C2000</td>\n      <td>Preservation</td>\n      <td>Co-operative</td>\n      <td>1</td>\n      <td>1-9999</td>\n      <td>N</td>\n      <td>108590</td>\n      <td>1</td>\n    </tr>\n    <tr>\n      <th>2</th>\n      <td>10547893</td>\n      <td>ST CLOUD PROFESSIONAL FIREFIGHTERS</td>\n      <td>T5</td>\n      <td>CompanySponsored</td>\n      <td>C3000</td>\n      <td>ProductDev</td>\n      <td>Association</td>\n      <td>1</td>\n      <td>0</td>\n      <td>N</td>\n      <td>5000</td>\n      <td>0</td>\n    </tr>\n    <tr>\n      <th>3</th>\n      <td>10553066</td>\n      <td>SOUTHSIDE ATHLETIC ASSOCIATION</td>\n      <td>T3</td>\n      <td>CompanySponsored</td>\n      <td>C2000</td>\n      <td>Preservation</td>\n      <td>Trust</td>\n      <td>1</td>\n      <td>10000-24999</td>\n      <td>N</td>\n      <td>6692</td>\n      <td>1</td>\n    </tr>\n    <tr>\n      <th>4</th>\n      <td>10556103</td>\n      <td>GENETIC RESEARCH INSTITUTE OF THE DESERT</td>\n      <td>T3</td>\n      <td>Independent</td>\n      <td>C1000</td>\n      <td>Heathcare</td>\n      <td>Trust</td>\n      <td>1</td>\n      <td>100000-499999</td>\n      <td>N</td>\n      <td>142590</td>\n      <td>1</td>\n    </tr>\n  </tbody>\n</table>\n</div>"
     },
     "metadata": {},
     "execution_count": 1
    }
   ],
   "source": [
    "# Import dependencies\n",
    "from sklearn.model_selection import train_test_split\n",
    "from sklearn.preprocessing import StandardScaler\n",
    "from sklearn.ensemble import RandomForestClassifier\n",
    "from sklearn.metrics import accuracy_score\n",
    "from sklearn.preprocessing import OneHotEncoder\n",
    "import pandas as pd\n",
    "import tensorflow as tf\n",
    "\n",
    "# Import input dataset\n",
    "loans_df = pd.read_csv('charity_data.csv')\n",
    "loans_df.head()"
   ]
  },
  {
   "cell_type": "code",
   "execution_count": null,
   "metadata": {},
   "outputs": [],
   "source": []
  }
 ]
}