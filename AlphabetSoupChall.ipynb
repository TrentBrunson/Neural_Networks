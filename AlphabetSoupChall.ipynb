{
 "metadata": {
  "language_info": {
   "codemirror_mode": {
    "name": "ipython",
    "version": 3
   },
   "file_extension": ".py",
   "mimetype": "text/x-python",
   "name": "python",
   "nbconvert_exporter": "python",
   "pygments_lexer": "ipython3",
   "version": "3.8.5-final"
  },
  "orig_nbformat": 2,
  "kernelspec": {
   "name": "Python 3.8.5 64-bit",
   "display_name": "Python 3.8.5 64-bit",
   "metadata": {
    "interpreter": {
     "hash": "6b3b3f7ce04feafef176f851e88cd2417c32f4811068f4b2f20a94410a2a3581"
    }
   }
  }
 },
 "nbformat": 4,
 "nbformat_minor": 2,
 "cells": [
  {
   "source": [
    "### Goals\n",
    "---\n",
    "###### Import, analyze, clean, and preprocess a “real-world” classification dataset.\n",
    "Select, design, and train a binary classification model of your choosing.\n",
    "Optimize model training and input data to achieve desired model performance."
   ],
   "cell_type": "markdown",
   "metadata": {}
  },
  {
   "cell_type": "code",
   "execution_count": 1,
   "metadata": {},
   "outputs": [
    {
     "output_type": "execute_result",
     "data": {
      "text/plain": [
       "        EIN                                      NAME APPLICATION_TYPE  \\\n",
       "0  10520599              BLUE KNIGHTS MOTORCYCLE CLUB              T10   \n",
       "1  10531628    AMERICAN CHESAPEAKE CLUB CHARITABLE TR               T3   \n",
       "2  10547893        ST CLOUD PROFESSIONAL FIREFIGHTERS               T5   \n",
       "3  10553066            SOUTHSIDE ATHLETIC ASSOCIATION               T3   \n",
       "4  10556103  GENETIC RESEARCH INSTITUTE OF THE DESERT               T3   \n",
       "\n",
       "        AFFILIATION CLASSIFICATION      USE_CASE  ORGANIZATION  STATUS  \\\n",
       "0       Independent          C1000    ProductDev   Association       1   \n",
       "1       Independent          C2000  Preservation  Co-operative       1   \n",
       "2  CompanySponsored          C3000    ProductDev   Association       1   \n",
       "3  CompanySponsored          C2000  Preservation         Trust       1   \n",
       "4       Independent          C1000     Heathcare         Trust       1   \n",
       "\n",
       "      INCOME_AMT SPECIAL_CONSIDERATIONS  ASK_AMT  IS_SUCCESSFUL  \n",
       "0              0                      N     5000              1  \n",
       "1         1-9999                      N   108590              1  \n",
       "2              0                      N     5000              0  \n",
       "3    10000-24999                      N     6692              1  \n",
       "4  100000-499999                      N   142590              1  "
      ],
      "text/html": "<div>\n<style scoped>\n    .dataframe tbody tr th:only-of-type {\n        vertical-align: middle;\n    }\n\n    .dataframe tbody tr th {\n        vertical-align: top;\n    }\n\n    .dataframe thead th {\n        text-align: right;\n    }\n</style>\n<table border=\"1\" class=\"dataframe\">\n  <thead>\n    <tr style=\"text-align: right;\">\n      <th></th>\n      <th>EIN</th>\n      <th>NAME</th>\n      <th>APPLICATION_TYPE</th>\n      <th>AFFILIATION</th>\n      <th>CLASSIFICATION</th>\n      <th>USE_CASE</th>\n      <th>ORGANIZATION</th>\n      <th>STATUS</th>\n      <th>INCOME_AMT</th>\n      <th>SPECIAL_CONSIDERATIONS</th>\n      <th>ASK_AMT</th>\n      <th>IS_SUCCESSFUL</th>\n    </tr>\n  </thead>\n  <tbody>\n    <tr>\n      <th>0</th>\n      <td>10520599</td>\n      <td>BLUE KNIGHTS MOTORCYCLE CLUB</td>\n      <td>T10</td>\n      <td>Independent</td>\n      <td>C1000</td>\n      <td>ProductDev</td>\n      <td>Association</td>\n      <td>1</td>\n      <td>0</td>\n      <td>N</td>\n      <td>5000</td>\n      <td>1</td>\n    </tr>\n    <tr>\n      <th>1</th>\n      <td>10531628</td>\n      <td>AMERICAN CHESAPEAKE CLUB CHARITABLE TR</td>\n      <td>T3</td>\n      <td>Independent</td>\n      <td>C2000</td>\n      <td>Preservation</td>\n      <td>Co-operative</td>\n      <td>1</td>\n      <td>1-9999</td>\n      <td>N</td>\n      <td>108590</td>\n      <td>1</td>\n    </tr>\n    <tr>\n      <th>2</th>\n      <td>10547893</td>\n      <td>ST CLOUD PROFESSIONAL FIREFIGHTERS</td>\n      <td>T5</td>\n      <td>CompanySponsored</td>\n      <td>C3000</td>\n      <td>ProductDev</td>\n      <td>Association</td>\n      <td>1</td>\n      <td>0</td>\n      <td>N</td>\n      <td>5000</td>\n      <td>0</td>\n    </tr>\n    <tr>\n      <th>3</th>\n      <td>10553066</td>\n      <td>SOUTHSIDE ATHLETIC ASSOCIATION</td>\n      <td>T3</td>\n      <td>CompanySponsored</td>\n      <td>C2000</td>\n      <td>Preservation</td>\n      <td>Trust</td>\n      <td>1</td>\n      <td>10000-24999</td>\n      <td>N</td>\n      <td>6692</td>\n      <td>1</td>\n    </tr>\n    <tr>\n      <th>4</th>\n      <td>10556103</td>\n      <td>GENETIC RESEARCH INSTITUTE OF THE DESERT</td>\n      <td>T3</td>\n      <td>Independent</td>\n      <td>C1000</td>\n      <td>Heathcare</td>\n      <td>Trust</td>\n      <td>1</td>\n      <td>100000-499999</td>\n      <td>N</td>\n      <td>142590</td>\n      <td>1</td>\n    </tr>\n  </tbody>\n</table>\n</div>"
     },
     "metadata": {},
     "execution_count": 1
    }
   ],
   "source": [
    "# Import dependencies\n",
    "from sklearn.model_selection import train_test_split\n",
    "from sklearn.preprocessing import StandardScaler\n",
    "from sklearn.ensemble import RandomForestClassifier\n",
    "from sklearn.metrics import accuracy_score\n",
    "from sklearn.preprocessing import OneHotEncoder\n",
    "import pandas as pd\n",
    "import tensorflow as tf\n",
    "\n",
    "# Import input dataset\n",
    "charity_df = pd.read_csv('charity_data.csv')\n",
    "charity_df.head()"
   ]
  },
  {
   "cell_type": "code",
   "execution_count": 2,
   "metadata": {},
   "outputs": [
    {
     "output_type": "execute_result",
     "data": {
      "text/plain": [
       "EIN                        int64\n",
       "NAME                      object\n",
       "APPLICATION_TYPE          object\n",
       "AFFILIATION               object\n",
       "CLASSIFICATION            object\n",
       "USE_CASE                  object\n",
       "ORGANIZATION              object\n",
       "STATUS                     int64\n",
       "INCOME_AMT                object\n",
       "SPECIAL_CONSIDERATIONS    object\n",
       "ASK_AMT                    int64\n",
       "IS_SUCCESSFUL              int64\n",
       "dtype: object"
      ]
     },
     "metadata": {},
     "execution_count": 2
    }
   ],
   "source": [
    "# check columns imported correctly\n",
    "charity_df.dtypes"
   ]
  },
  {
   "cell_type": "code",
   "execution_count": 3,
   "metadata": {},
   "outputs": [
    {
     "output_type": "stream",
     "name": "stdout",
     "text": [
      "Column EIN has 0 null values.\nColumn NAME has 0 null values.\nColumn APPLICATION_TYPE has 0 null values.\nColumn AFFILIATION has 0 null values.\nColumn CLASSIFICATION has 0 null values.\nColumn USE_CASE has 0 null values.\nColumn ORGANIZATION has 0 null values.\nColumn STATUS has 0 null values.\nColumn INCOME_AMT has 0 null values.\nColumn SPECIAL_CONSIDERATIONS has 0 null values.\nColumn ASK_AMT has 0 null values.\nColumn IS_SUCCESSFUL has 0 null values.\n"
     ]
    }
   ],
   "source": [
    "for column in charity_df.columns:\n",
    "    print(f'Column {column} has {charity_df[column].isnull().sum()} null values.')"
   ]
  },
  {
   "cell_type": "code",
   "execution_count": 4,
   "metadata": {},
   "outputs": [
    {
     "output_type": "stream",
     "name": "stdout",
     "text": [
      "Duplicate entries: 0\n"
     ]
    }
   ],
   "source": [
    "print(f'Duplicate entries: {charity_df.duplicated().sum()}')"
   ]
  },
  {
   "cell_type": "code",
   "execution_count": 5,
   "metadata": {},
   "outputs": [
    {
     "output_type": "execute_result",
     "data": {
      "text/plain": [
       "['NAME',\n",
       " 'APPLICATION_TYPE',\n",
       " 'AFFILIATION',\n",
       " 'CLASSIFICATION',\n",
       " 'USE_CASE',\n",
       " 'ORGANIZATION',\n",
       " 'INCOME_AMT',\n",
       " 'SPECIAL_CONSIDERATIONS']"
      ]
     },
     "metadata": {},
     "execution_count": 5
    }
   ],
   "source": [
    "# pre-processing first this time; get ready to encode:\n",
    "\n",
    "# Generate categorical variable list\n",
    "charity_cat = charity_df.dtypes[charity_df.dtypes == \"object\"].index.tolist()\n",
    "charity_cat"
   ]
  },
  {
   "cell_type": "code",
   "execution_count": 6,
   "metadata": {},
   "outputs": [
    {
     "output_type": "execute_result",
     "data": {
      "text/plain": [
       "NAME                      19568\n",
       "APPLICATION_TYPE             17\n",
       "AFFILIATION                   6\n",
       "CLASSIFICATION               71\n",
       "USE_CASE                      5\n",
       "ORGANIZATION                  4\n",
       "INCOME_AMT                    9\n",
       "SPECIAL_CONSIDERATIONS        2\n",
       "dtype: int64"
      ]
     },
     "metadata": {},
     "execution_count": 6
    }
   ],
   "source": [
    "# Check the number of unique values in each column\n",
    "charity_df[charity_cat].nunique()"
   ]
  },
  {
   "source": [
    "###### \n",
    "Target data is the \"Is_Successful\" column; 1 = yes, 2 = no\n",
    "\n",
    "Drop EIN & Name\n",
    "\n",
    "Bin income amounts and ask amounts"
   ],
   "cell_type": "markdown",
   "metadata": {}
  },
  {
   "cell_type": "code",
   "execution_count": 7,
   "metadata": {},
   "outputs": [
    {
     "output_type": "execute_result",
     "data": {
      "text/plain": [
       "  APPLICATION_TYPE       AFFILIATION CLASSIFICATION      USE_CASE  \\\n",
       "0              T10       Independent          C1000    ProductDev   \n",
       "1               T3       Independent          C2000  Preservation   \n",
       "2               T5  CompanySponsored          C3000    ProductDev   \n",
       "3               T3  CompanySponsored          C2000  Preservation   \n",
       "4               T3       Independent          C1000     Heathcare   \n",
       "\n",
       "   ORGANIZATION  STATUS     INCOME_AMT SPECIAL_CONSIDERATIONS  ASK_AMT  \\\n",
       "0   Association       1              0                      N     5000   \n",
       "1  Co-operative       1         1-9999                      N   108590   \n",
       "2   Association       1              0                      N     5000   \n",
       "3         Trust       1    10000-24999                      N     6692   \n",
       "4         Trust       1  100000-499999                      N   142590   \n",
       "\n",
       "   IS_SUCCESSFUL  \n",
       "0              1  \n",
       "1              1  \n",
       "2              0  \n",
       "3              1  \n",
       "4              1  "
      ],
      "text/html": "<div>\n<style scoped>\n    .dataframe tbody tr th:only-of-type {\n        vertical-align: middle;\n    }\n\n    .dataframe tbody tr th {\n        vertical-align: top;\n    }\n\n    .dataframe thead th {\n        text-align: right;\n    }\n</style>\n<table border=\"1\" class=\"dataframe\">\n  <thead>\n    <tr style=\"text-align: right;\">\n      <th></th>\n      <th>APPLICATION_TYPE</th>\n      <th>AFFILIATION</th>\n      <th>CLASSIFICATION</th>\n      <th>USE_CASE</th>\n      <th>ORGANIZATION</th>\n      <th>STATUS</th>\n      <th>INCOME_AMT</th>\n      <th>SPECIAL_CONSIDERATIONS</th>\n      <th>ASK_AMT</th>\n      <th>IS_SUCCESSFUL</th>\n    </tr>\n  </thead>\n  <tbody>\n    <tr>\n      <th>0</th>\n      <td>T10</td>\n      <td>Independent</td>\n      <td>C1000</td>\n      <td>ProductDev</td>\n      <td>Association</td>\n      <td>1</td>\n      <td>0</td>\n      <td>N</td>\n      <td>5000</td>\n      <td>1</td>\n    </tr>\n    <tr>\n      <th>1</th>\n      <td>T3</td>\n      <td>Independent</td>\n      <td>C2000</td>\n      <td>Preservation</td>\n      <td>Co-operative</td>\n      <td>1</td>\n      <td>1-9999</td>\n      <td>N</td>\n      <td>108590</td>\n      <td>1</td>\n    </tr>\n    <tr>\n      <th>2</th>\n      <td>T5</td>\n      <td>CompanySponsored</td>\n      <td>C3000</td>\n      <td>ProductDev</td>\n      <td>Association</td>\n      <td>1</td>\n      <td>0</td>\n      <td>N</td>\n      <td>5000</td>\n      <td>0</td>\n    </tr>\n    <tr>\n      <th>3</th>\n      <td>T3</td>\n      <td>CompanySponsored</td>\n      <td>C2000</td>\n      <td>Preservation</td>\n      <td>Trust</td>\n      <td>1</td>\n      <td>10000-24999</td>\n      <td>N</td>\n      <td>6692</td>\n      <td>1</td>\n    </tr>\n    <tr>\n      <th>4</th>\n      <td>T3</td>\n      <td>Independent</td>\n      <td>C1000</td>\n      <td>Heathcare</td>\n      <td>Trust</td>\n      <td>1</td>\n      <td>100000-499999</td>\n      <td>N</td>\n      <td>142590</td>\n      <td>1</td>\n    </tr>\n  </tbody>\n</table>\n</div>"
     },
     "metadata": {},
     "execution_count": 7
    }
   ],
   "source": [
    "charity_df.drop(columns=['NAME', 'EIN'], inplace=True)\n",
    "charity_df.head()"
   ]
  },
  {
   "cell_type": "code",
   "execution_count": 8,
   "metadata": {},
   "outputs": [
    {
     "output_type": "execute_result",
     "data": {
      "text/plain": [
       "(34299, 10)"
      ]
     },
     "metadata": {},
     "execution_count": 8
    }
   ],
   "source": [
    "charity_df.shape"
   ]
  },
  {
   "source": [
    "### Pre-process the data\n",
    "##### - Bin\n",
    "- Encode\n",
    "- Standardize"
   ],
   "cell_type": "markdown",
   "metadata": {}
  },
  {
   "cell_type": "code",
   "execution_count": 9,
   "metadata": {},
   "outputs": [
    {
     "output_type": "execute_result",
     "data": {
      "text/plain": [
       "T3     27037\n",
       "T4      1542\n",
       "T6      1216\n",
       "T5      1173\n",
       "T19     1065\n",
       "T8       737\n",
       "T7       725\n",
       "T10      528\n",
       "T9       156\n",
       "T13       66\n",
       "T12       27\n",
       "T2        16\n",
       "T14        3\n",
       "T25        3\n",
       "T15        2\n",
       "T29        2\n",
       "T17        1\n",
       "Name: APPLICATION_TYPE, dtype: int64"
      ]
     },
     "metadata": {},
     "execution_count": 9
    }
   ],
   "source": [
    "# Check the unique value counts to see if binning is required\n",
    "app_type_count = charity_df.APPLICATION_TYPE.value_counts()\n",
    "app_type_count"
   ]
  },
  {
   "cell_type": "code",
   "execution_count": 10,
   "metadata": {},
   "outputs": [
    {
     "output_type": "execute_result",
     "data": {
      "text/plain": [
       "<matplotlib.axes._subplots.AxesSubplot at 0x1e79cf415e0>"
      ]
     },
     "metadata": {},
     "execution_count": 10
    },
    {
     "output_type": "display_data",
     "data": {
      "text/plain": "<Figure size 432x288 with 1 Axes>",
      "image/svg+xml": "<?xml version=\"1.0\" encoding=\"utf-8\" standalone=\"no\"?>\r\n<!DOCTYPE svg PUBLIC \"-//W3C//DTD SVG 1.1//EN\"\r\n  \"http://www.w3.org/Graphics/SVG/1.1/DTD/svg11.dtd\">\r\n<!-- Created with matplotlib (https://matplotlib.org/) -->\r\n<svg height=\"248.518125pt\" version=\"1.1\" viewBox=\"0 0 411.23125 248.518125\" width=\"411.23125pt\" xmlns=\"http://www.w3.org/2000/svg\" xmlns:xlink=\"http://www.w3.org/1999/xlink\">\r\n <defs>\r\n  <style type=\"text/css\">\r\n*{stroke-linecap:butt;stroke-linejoin:round;}\r\n  </style>\r\n </defs>\r\n <g id=\"figure_1\">\r\n  <g id=\"patch_1\">\r\n   <path d=\"M 0 248.518125 \r\nL 411.23125 248.518125 \r\nL 411.23125 0 \r\nL 0 0 \r\nz\r\n\" style=\"fill:none;\"/>\r\n  </g>\r\n  <g id=\"axes_1\">\r\n   <g id=\"patch_2\">\r\n    <path d=\"M 69.23125 224.64 \r\nL 404.03125 224.64 \r\nL 404.03125 7.2 \r\nL 69.23125 7.2 \r\nz\r\n\" style=\"fill:#ffffff;\"/>\r\n   </g>\r\n   <g id=\"matplotlib.axis_1\">\r\n    <g id=\"xtick_1\">\r\n     <g id=\"line2d_1\">\r\n      <defs>\r\n       <path d=\"M 0 0 \r\nL 0 3.5 \r\n\" id=\"mb0bb6fc907\" style=\"stroke:#000000;stroke-width:0.8;\"/>\r\n      </defs>\r\n      <g>\r\n       <use style=\"stroke:#000000;stroke-width:0.8;\" x=\"104.246127\" xlink:href=\"#mb0bb6fc907\" y=\"224.64\"/>\r\n      </g>\r\n     </g>\r\n     <g id=\"text_1\">\r\n      <!-- −10000 -->\r\n      <defs>\r\n       <path d=\"M 10.59375 35.5 \r\nL 73.1875 35.5 \r\nL 73.1875 27.203125 \r\nL 10.59375 27.203125 \r\nz\r\n\" id=\"DejaVuSans-8722\"/>\r\n       <path d=\"M 12.40625 8.296875 \r\nL 28.515625 8.296875 \r\nL 28.515625 63.921875 \r\nL 10.984375 60.40625 \r\nL 10.984375 69.390625 \r\nL 28.421875 72.90625 \r\nL 38.28125 72.90625 \r\nL 38.28125 8.296875 \r\nL 54.390625 8.296875 \r\nL 54.390625 0 \r\nL 12.40625 0 \r\nz\r\n\" id=\"DejaVuSans-49\"/>\r\n       <path d=\"M 31.78125 66.40625 \r\nQ 24.171875 66.40625 20.328125 58.90625 \r\nQ 16.5 51.421875 16.5 36.375 \r\nQ 16.5 21.390625 20.328125 13.890625 \r\nQ 24.171875 6.390625 31.78125 6.390625 \r\nQ 39.453125 6.390625 43.28125 13.890625 \r\nQ 47.125 21.390625 47.125 36.375 \r\nQ 47.125 51.421875 43.28125 58.90625 \r\nQ 39.453125 66.40625 31.78125 66.40625 \r\nz\r\nM 31.78125 74.21875 \r\nQ 44.046875 74.21875 50.515625 64.515625 \r\nQ 56.984375 54.828125 56.984375 36.375 \r\nQ 56.984375 17.96875 50.515625 8.265625 \r\nQ 44.046875 -1.421875 31.78125 -1.421875 \r\nQ 19.53125 -1.421875 13.0625 8.265625 \r\nQ 6.59375 17.96875 6.59375 36.375 \r\nQ 6.59375 54.828125 13.0625 64.515625 \r\nQ 19.53125 74.21875 31.78125 74.21875 \r\nz\r\n\" id=\"DejaVuSans-48\"/>\r\n      </defs>\r\n      <g transform=\"translate(84.150033 239.238437)scale(0.1 -0.1)\">\r\n       <use xlink:href=\"#DejaVuSans-8722\"/>\r\n       <use x=\"83.789062\" xlink:href=\"#DejaVuSans-49\"/>\r\n       <use x=\"147.412109\" xlink:href=\"#DejaVuSans-48\"/>\r\n       <use x=\"211.035156\" xlink:href=\"#DejaVuSans-48\"/>\r\n       <use x=\"274.658203\" xlink:href=\"#DejaVuSans-48\"/>\r\n       <use x=\"338.28125\" xlink:href=\"#DejaVuSans-48\"/>\r\n      </g>\r\n     </g>\r\n    </g>\r\n    <g id=\"xtick_2\">\r\n     <g id=\"line2d_2\">\r\n      <g>\r\n       <use style=\"stroke:#000000;stroke-width:0.8;\" x=\"160.534712\" xlink:href=\"#mb0bb6fc907\" y=\"224.64\"/>\r\n      </g>\r\n     </g>\r\n     <g id=\"text_2\">\r\n      <!-- 0 -->\r\n      <g transform=\"translate(157.353462 239.238437)scale(0.1 -0.1)\">\r\n       <use xlink:href=\"#DejaVuSans-48\"/>\r\n      </g>\r\n     </g>\r\n    </g>\r\n    <g id=\"xtick_3\">\r\n     <g id=\"line2d_3\">\r\n      <g>\r\n       <use style=\"stroke:#000000;stroke-width:0.8;\" x=\"216.823297\" xlink:href=\"#mb0bb6fc907\" y=\"224.64\"/>\r\n      </g>\r\n     </g>\r\n     <g id=\"text_3\">\r\n      <!-- 10000 -->\r\n      <g transform=\"translate(200.917047 239.238437)scale(0.1 -0.1)\">\r\n       <use xlink:href=\"#DejaVuSans-49\"/>\r\n       <use x=\"63.623047\" xlink:href=\"#DejaVuSans-48\"/>\r\n       <use x=\"127.246094\" xlink:href=\"#DejaVuSans-48\"/>\r\n       <use x=\"190.869141\" xlink:href=\"#DejaVuSans-48\"/>\r\n       <use x=\"254.492188\" xlink:href=\"#DejaVuSans-48\"/>\r\n      </g>\r\n     </g>\r\n    </g>\r\n    <g id=\"xtick_4\">\r\n     <g id=\"line2d_4\">\r\n      <g>\r\n       <use style=\"stroke:#000000;stroke-width:0.8;\" x=\"273.111882\" xlink:href=\"#mb0bb6fc907\" y=\"224.64\"/>\r\n      </g>\r\n     </g>\r\n     <g id=\"text_4\">\r\n      <!-- 20000 -->\r\n      <defs>\r\n       <path d=\"M 19.1875 8.296875 \r\nL 53.609375 8.296875 \r\nL 53.609375 0 \r\nL 7.328125 0 \r\nL 7.328125 8.296875 \r\nQ 12.9375 14.109375 22.625 23.890625 \r\nQ 32.328125 33.6875 34.8125 36.53125 \r\nQ 39.546875 41.84375 41.421875 45.53125 \r\nQ 43.3125 49.21875 43.3125 52.78125 \r\nQ 43.3125 58.59375 39.234375 62.25 \r\nQ 35.15625 65.921875 28.609375 65.921875 \r\nQ 23.96875 65.921875 18.8125 64.3125 \r\nQ 13.671875 62.703125 7.8125 59.421875 \r\nL 7.8125 69.390625 \r\nQ 13.765625 71.78125 18.9375 73 \r\nQ 24.125 74.21875 28.421875 74.21875 \r\nQ 39.75 74.21875 46.484375 68.546875 \r\nQ 53.21875 62.890625 53.21875 53.421875 \r\nQ 53.21875 48.921875 51.53125 44.890625 \r\nQ 49.859375 40.875 45.40625 35.40625 \r\nQ 44.1875 33.984375 37.640625 27.21875 \r\nQ 31.109375 20.453125 19.1875 8.296875 \r\nz\r\n\" id=\"DejaVuSans-50\"/>\r\n      </defs>\r\n      <g transform=\"translate(257.205632 239.238437)scale(0.1 -0.1)\">\r\n       <use xlink:href=\"#DejaVuSans-50\"/>\r\n       <use x=\"63.623047\" xlink:href=\"#DejaVuSans-48\"/>\r\n       <use x=\"127.246094\" xlink:href=\"#DejaVuSans-48\"/>\r\n       <use x=\"190.869141\" xlink:href=\"#DejaVuSans-48\"/>\r\n       <use x=\"254.492188\" xlink:href=\"#DejaVuSans-48\"/>\r\n      </g>\r\n     </g>\r\n    </g>\r\n    <g id=\"xtick_5\">\r\n     <g id=\"line2d_5\">\r\n      <g>\r\n       <use style=\"stroke:#000000;stroke-width:0.8;\" x=\"329.400467\" xlink:href=\"#mb0bb6fc907\" y=\"224.64\"/>\r\n      </g>\r\n     </g>\r\n     <g id=\"text_5\">\r\n      <!-- 30000 -->\r\n      <defs>\r\n       <path d=\"M 40.578125 39.3125 \r\nQ 47.65625 37.796875 51.625 33 \r\nQ 55.609375 28.21875 55.609375 21.1875 \r\nQ 55.609375 10.40625 48.1875 4.484375 \r\nQ 40.765625 -1.421875 27.09375 -1.421875 \r\nQ 22.515625 -1.421875 17.65625 -0.515625 \r\nQ 12.796875 0.390625 7.625 2.203125 \r\nL 7.625 11.71875 \r\nQ 11.71875 9.328125 16.59375 8.109375 \r\nQ 21.484375 6.890625 26.8125 6.890625 \r\nQ 36.078125 6.890625 40.9375 10.546875 \r\nQ 45.796875 14.203125 45.796875 21.1875 \r\nQ 45.796875 27.640625 41.28125 31.265625 \r\nQ 36.765625 34.90625 28.71875 34.90625 \r\nL 20.21875 34.90625 \r\nL 20.21875 43.015625 \r\nL 29.109375 43.015625 \r\nQ 36.375 43.015625 40.234375 45.921875 \r\nQ 44.09375 48.828125 44.09375 54.296875 \r\nQ 44.09375 59.90625 40.109375 62.90625 \r\nQ 36.140625 65.921875 28.71875 65.921875 \r\nQ 24.65625 65.921875 20.015625 65.03125 \r\nQ 15.375 64.15625 9.8125 62.3125 \r\nL 9.8125 71.09375 \r\nQ 15.4375 72.65625 20.34375 73.4375 \r\nQ 25.25 74.21875 29.59375 74.21875 \r\nQ 40.828125 74.21875 47.359375 69.109375 \r\nQ 53.90625 64.015625 53.90625 55.328125 \r\nQ 53.90625 49.265625 50.4375 45.09375 \r\nQ 46.96875 40.921875 40.578125 39.3125 \r\nz\r\n\" id=\"DejaVuSans-51\"/>\r\n      </defs>\r\n      <g transform=\"translate(313.494217 239.238437)scale(0.1 -0.1)\">\r\n       <use xlink:href=\"#DejaVuSans-51\"/>\r\n       <use x=\"63.623047\" xlink:href=\"#DejaVuSans-48\"/>\r\n       <use x=\"127.246094\" xlink:href=\"#DejaVuSans-48\"/>\r\n       <use x=\"190.869141\" xlink:href=\"#DejaVuSans-48\"/>\r\n       <use x=\"254.492188\" xlink:href=\"#DejaVuSans-48\"/>\r\n      </g>\r\n     </g>\r\n    </g>\r\n    <g id=\"xtick_6\">\r\n     <g id=\"line2d_6\">\r\n      <g>\r\n       <use style=\"stroke:#000000;stroke-width:0.8;\" x=\"385.689052\" xlink:href=\"#mb0bb6fc907\" y=\"224.64\"/>\r\n      </g>\r\n     </g>\r\n     <g id=\"text_6\">\r\n      <!-- 40000 -->\r\n      <defs>\r\n       <path d=\"M 37.796875 64.3125 \r\nL 12.890625 25.390625 \r\nL 37.796875 25.390625 \r\nz\r\nM 35.203125 72.90625 \r\nL 47.609375 72.90625 \r\nL 47.609375 25.390625 \r\nL 58.015625 25.390625 \r\nL 58.015625 17.1875 \r\nL 47.609375 17.1875 \r\nL 47.609375 0 \r\nL 37.796875 0 \r\nL 37.796875 17.1875 \r\nL 4.890625 17.1875 \r\nL 4.890625 26.703125 \r\nz\r\n\" id=\"DejaVuSans-52\"/>\r\n      </defs>\r\n      <g transform=\"translate(369.782802 239.238437)scale(0.1 -0.1)\">\r\n       <use xlink:href=\"#DejaVuSans-52\"/>\r\n       <use x=\"63.623047\" xlink:href=\"#DejaVuSans-48\"/>\r\n       <use x=\"127.246094\" xlink:href=\"#DejaVuSans-48\"/>\r\n       <use x=\"190.869141\" xlink:href=\"#DejaVuSans-48\"/>\r\n       <use x=\"254.492188\" xlink:href=\"#DejaVuSans-48\"/>\r\n      </g>\r\n     </g>\r\n    </g>\r\n   </g>\r\n   <g id=\"matplotlib.axis_2\">\r\n    <g id=\"ytick_1\">\r\n     <g id=\"line2d_7\">\r\n      <defs>\r\n       <path d=\"M 0 0 \r\nL -3.5 0 \r\n\" id=\"m6e4dc9a9b7\" style=\"stroke:#000000;stroke-width:0.8;\"/>\r\n      </defs>\r\n      <g>\r\n       <use style=\"stroke:#000000;stroke-width:0.8;\" x=\"69.23125\" xlink:href=\"#m6e4dc9a9b7\" y=\"214.770528\"/>\r\n      </g>\r\n     </g>\r\n     <g id=\"text_7\">\r\n      <!-- 0.00000 -->\r\n      <defs>\r\n       <path d=\"M 10.6875 12.40625 \r\nL 21 12.40625 \r\nL 21 0 \r\nL 10.6875 0 \r\nz\r\n\" id=\"DejaVuSans-46\"/>\r\n      </defs>\r\n      <g transform=\"translate(20.878125 218.569747)scale(0.1 -0.1)\">\r\n       <use xlink:href=\"#DejaVuSans-48\"/>\r\n       <use x=\"63.623047\" xlink:href=\"#DejaVuSans-46\"/>\r\n       <use x=\"95.410156\" xlink:href=\"#DejaVuSans-48\"/>\r\n       <use x=\"159.033203\" xlink:href=\"#DejaVuSans-48\"/>\r\n       <use x=\"222.65625\" xlink:href=\"#DejaVuSans-48\"/>\r\n       <use x=\"286.279297\" xlink:href=\"#DejaVuSans-48\"/>\r\n       <use x=\"349.902344\" xlink:href=\"#DejaVuSans-48\"/>\r\n      </g>\r\n     </g>\r\n    </g>\r\n    <g id=\"ytick_2\">\r\n     <g id=\"line2d_8\">\r\n      <g>\r\n       <use style=\"stroke:#000000;stroke-width:0.8;\" x=\"69.23125\" xlink:href=\"#m6e4dc9a9b7\" y=\"175.720338\"/>\r\n      </g>\r\n     </g>\r\n     <g id=\"text_8\">\r\n      <!-- 0.00002 -->\r\n      <g transform=\"translate(20.878125 179.519557)scale(0.1 -0.1)\">\r\n       <use xlink:href=\"#DejaVuSans-48\"/>\r\n       <use x=\"63.623047\" xlink:href=\"#DejaVuSans-46\"/>\r\n       <use x=\"95.410156\" xlink:href=\"#DejaVuSans-48\"/>\r\n       <use x=\"159.033203\" xlink:href=\"#DejaVuSans-48\"/>\r\n       <use x=\"222.65625\" xlink:href=\"#DejaVuSans-48\"/>\r\n       <use x=\"286.279297\" xlink:href=\"#DejaVuSans-48\"/>\r\n       <use x=\"349.902344\" xlink:href=\"#DejaVuSans-50\"/>\r\n      </g>\r\n     </g>\r\n    </g>\r\n    <g id=\"ytick_3\">\r\n     <g id=\"line2d_9\">\r\n      <g>\r\n       <use style=\"stroke:#000000;stroke-width:0.8;\" x=\"69.23125\" xlink:href=\"#m6e4dc9a9b7\" y=\"136.670148\"/>\r\n      </g>\r\n     </g>\r\n     <g id=\"text_9\">\r\n      <!-- 0.00004 -->\r\n      <g transform=\"translate(20.878125 140.469367)scale(0.1 -0.1)\">\r\n       <use xlink:href=\"#DejaVuSans-48\"/>\r\n       <use x=\"63.623047\" xlink:href=\"#DejaVuSans-46\"/>\r\n       <use x=\"95.410156\" xlink:href=\"#DejaVuSans-48\"/>\r\n       <use x=\"159.033203\" xlink:href=\"#DejaVuSans-48\"/>\r\n       <use x=\"222.65625\" xlink:href=\"#DejaVuSans-48\"/>\r\n       <use x=\"286.279297\" xlink:href=\"#DejaVuSans-48\"/>\r\n       <use x=\"349.902344\" xlink:href=\"#DejaVuSans-52\"/>\r\n      </g>\r\n     </g>\r\n    </g>\r\n    <g id=\"ytick_4\">\r\n     <g id=\"line2d_10\">\r\n      <g>\r\n       <use style=\"stroke:#000000;stroke-width:0.8;\" x=\"69.23125\" xlink:href=\"#m6e4dc9a9b7\" y=\"97.619958\"/>\r\n      </g>\r\n     </g>\r\n     <g id=\"text_10\">\r\n      <!-- 0.00006 -->\r\n      <defs>\r\n       <path d=\"M 33.015625 40.375 \r\nQ 26.375 40.375 22.484375 35.828125 \r\nQ 18.609375 31.296875 18.609375 23.390625 \r\nQ 18.609375 15.53125 22.484375 10.953125 \r\nQ 26.375 6.390625 33.015625 6.390625 \r\nQ 39.65625 6.390625 43.53125 10.953125 \r\nQ 47.40625 15.53125 47.40625 23.390625 \r\nQ 47.40625 31.296875 43.53125 35.828125 \r\nQ 39.65625 40.375 33.015625 40.375 \r\nz\r\nM 52.59375 71.296875 \r\nL 52.59375 62.3125 \r\nQ 48.875 64.0625 45.09375 64.984375 \r\nQ 41.3125 65.921875 37.59375 65.921875 \r\nQ 27.828125 65.921875 22.671875 59.328125 \r\nQ 17.53125 52.734375 16.796875 39.40625 \r\nQ 19.671875 43.65625 24.015625 45.921875 \r\nQ 28.375 48.1875 33.59375 48.1875 \r\nQ 44.578125 48.1875 50.953125 41.515625 \r\nQ 57.328125 34.859375 57.328125 23.390625 \r\nQ 57.328125 12.15625 50.6875 5.359375 \r\nQ 44.046875 -1.421875 33.015625 -1.421875 \r\nQ 20.359375 -1.421875 13.671875 8.265625 \r\nQ 6.984375 17.96875 6.984375 36.375 \r\nQ 6.984375 53.65625 15.1875 63.9375 \r\nQ 23.390625 74.21875 37.203125 74.21875 \r\nQ 40.921875 74.21875 44.703125 73.484375 \r\nQ 48.484375 72.75 52.59375 71.296875 \r\nz\r\n\" id=\"DejaVuSans-54\"/>\r\n      </defs>\r\n      <g transform=\"translate(20.878125 101.419176)scale(0.1 -0.1)\">\r\n       <use xlink:href=\"#DejaVuSans-48\"/>\r\n       <use x=\"63.623047\" xlink:href=\"#DejaVuSans-46\"/>\r\n       <use x=\"95.410156\" xlink:href=\"#DejaVuSans-48\"/>\r\n       <use x=\"159.033203\" xlink:href=\"#DejaVuSans-48\"/>\r\n       <use x=\"222.65625\" xlink:href=\"#DejaVuSans-48\"/>\r\n       <use x=\"286.279297\" xlink:href=\"#DejaVuSans-48\"/>\r\n       <use x=\"349.902344\" xlink:href=\"#DejaVuSans-54\"/>\r\n      </g>\r\n     </g>\r\n    </g>\r\n    <g id=\"ytick_5\">\r\n     <g id=\"line2d_11\">\r\n      <g>\r\n       <use style=\"stroke:#000000;stroke-width:0.8;\" x=\"69.23125\" xlink:href=\"#m6e4dc9a9b7\" y=\"58.569767\"/>\r\n      </g>\r\n     </g>\r\n     <g id=\"text_11\">\r\n      <!-- 0.00008 -->\r\n      <defs>\r\n       <path d=\"M 31.78125 34.625 \r\nQ 24.75 34.625 20.71875 30.859375 \r\nQ 16.703125 27.09375 16.703125 20.515625 \r\nQ 16.703125 13.921875 20.71875 10.15625 \r\nQ 24.75 6.390625 31.78125 6.390625 \r\nQ 38.8125 6.390625 42.859375 10.171875 \r\nQ 46.921875 13.96875 46.921875 20.515625 \r\nQ 46.921875 27.09375 42.890625 30.859375 \r\nQ 38.875 34.625 31.78125 34.625 \r\nz\r\nM 21.921875 38.8125 \r\nQ 15.578125 40.375 12.03125 44.71875 \r\nQ 8.5 49.078125 8.5 55.328125 \r\nQ 8.5 64.0625 14.71875 69.140625 \r\nQ 20.953125 74.21875 31.78125 74.21875 \r\nQ 42.671875 74.21875 48.875 69.140625 \r\nQ 55.078125 64.0625 55.078125 55.328125 \r\nQ 55.078125 49.078125 51.53125 44.71875 \r\nQ 48 40.375 41.703125 38.8125 \r\nQ 48.828125 37.15625 52.796875 32.3125 \r\nQ 56.78125 27.484375 56.78125 20.515625 \r\nQ 56.78125 9.90625 50.3125 4.234375 \r\nQ 43.84375 -1.421875 31.78125 -1.421875 \r\nQ 19.734375 -1.421875 13.25 4.234375 \r\nQ 6.78125 9.90625 6.78125 20.515625 \r\nQ 6.78125 27.484375 10.78125 32.3125 \r\nQ 14.796875 37.15625 21.921875 38.8125 \r\nz\r\nM 18.3125 54.390625 \r\nQ 18.3125 48.734375 21.84375 45.5625 \r\nQ 25.390625 42.390625 31.78125 42.390625 \r\nQ 38.140625 42.390625 41.71875 45.5625 \r\nQ 45.3125 48.734375 45.3125 54.390625 \r\nQ 45.3125 60.0625 41.71875 63.234375 \r\nQ 38.140625 66.40625 31.78125 66.40625 \r\nQ 25.390625 66.40625 21.84375 63.234375 \r\nQ 18.3125 60.0625 18.3125 54.390625 \r\nz\r\n\" id=\"DejaVuSans-56\"/>\r\n      </defs>\r\n      <g transform=\"translate(20.878125 62.368986)scale(0.1 -0.1)\">\r\n       <use xlink:href=\"#DejaVuSans-48\"/>\r\n       <use x=\"63.623047\" xlink:href=\"#DejaVuSans-46\"/>\r\n       <use x=\"95.410156\" xlink:href=\"#DejaVuSans-48\"/>\r\n       <use x=\"159.033203\" xlink:href=\"#DejaVuSans-48\"/>\r\n       <use x=\"222.65625\" xlink:href=\"#DejaVuSans-48\"/>\r\n       <use x=\"286.279297\" xlink:href=\"#DejaVuSans-48\"/>\r\n       <use x=\"349.902344\" xlink:href=\"#DejaVuSans-56\"/>\r\n      </g>\r\n     </g>\r\n    </g>\r\n    <g id=\"ytick_6\">\r\n     <g id=\"line2d_12\">\r\n      <g>\r\n       <use style=\"stroke:#000000;stroke-width:0.8;\" x=\"69.23125\" xlink:href=\"#m6e4dc9a9b7\" y=\"19.519577\"/>\r\n      </g>\r\n     </g>\r\n     <g id=\"text_12\">\r\n      <!-- 0.00010 -->\r\n      <g transform=\"translate(20.878125 23.318796)scale(0.1 -0.1)\">\r\n       <use xlink:href=\"#DejaVuSans-48\"/>\r\n       <use x=\"63.623047\" xlink:href=\"#DejaVuSans-46\"/>\r\n       <use x=\"95.410156\" xlink:href=\"#DejaVuSans-48\"/>\r\n       <use x=\"159.033203\" xlink:href=\"#DejaVuSans-48\"/>\r\n       <use x=\"222.65625\" xlink:href=\"#DejaVuSans-48\"/>\r\n       <use x=\"286.279297\" xlink:href=\"#DejaVuSans-49\"/>\r\n       <use x=\"349.902344\" xlink:href=\"#DejaVuSans-48\"/>\r\n      </g>\r\n     </g>\r\n    </g>\r\n    <g id=\"text_13\">\r\n     <!-- Density -->\r\n     <defs>\r\n      <path d=\"M 19.671875 64.796875 \r\nL 19.671875 8.109375 \r\nL 31.59375 8.109375 \r\nQ 46.6875 8.109375 53.6875 14.9375 \r\nQ 60.6875 21.78125 60.6875 36.53125 \r\nQ 60.6875 51.171875 53.6875 57.984375 \r\nQ 46.6875 64.796875 31.59375 64.796875 \r\nz\r\nM 9.8125 72.90625 \r\nL 30.078125 72.90625 \r\nQ 51.265625 72.90625 61.171875 64.09375 \r\nQ 71.09375 55.28125 71.09375 36.53125 \r\nQ 71.09375 17.671875 61.125 8.828125 \r\nQ 51.171875 0 30.078125 0 \r\nL 9.8125 0 \r\nz\r\n\" id=\"DejaVuSans-68\"/>\r\n      <path d=\"M 56.203125 29.59375 \r\nL 56.203125 25.203125 \r\nL 14.890625 25.203125 \r\nQ 15.484375 15.921875 20.484375 11.0625 \r\nQ 25.484375 6.203125 34.421875 6.203125 \r\nQ 39.59375 6.203125 44.453125 7.46875 \r\nQ 49.3125 8.734375 54.109375 11.28125 \r\nL 54.109375 2.78125 \r\nQ 49.265625 0.734375 44.1875 -0.34375 \r\nQ 39.109375 -1.421875 33.890625 -1.421875 \r\nQ 20.796875 -1.421875 13.15625 6.1875 \r\nQ 5.515625 13.8125 5.515625 26.8125 \r\nQ 5.515625 40.234375 12.765625 48.109375 \r\nQ 20.015625 56 32.328125 56 \r\nQ 43.359375 56 49.78125 48.890625 \r\nQ 56.203125 41.796875 56.203125 29.59375 \r\nz\r\nM 47.21875 32.234375 \r\nQ 47.125 39.59375 43.09375 43.984375 \r\nQ 39.0625 48.390625 32.421875 48.390625 \r\nQ 24.90625 48.390625 20.390625 44.140625 \r\nQ 15.875 39.890625 15.1875 32.171875 \r\nz\r\n\" id=\"DejaVuSans-101\"/>\r\n      <path d=\"M 54.890625 33.015625 \r\nL 54.890625 0 \r\nL 45.90625 0 \r\nL 45.90625 32.71875 \r\nQ 45.90625 40.484375 42.875 44.328125 \r\nQ 39.84375 48.1875 33.796875 48.1875 \r\nQ 26.515625 48.1875 22.3125 43.546875 \r\nQ 18.109375 38.921875 18.109375 30.90625 \r\nL 18.109375 0 \r\nL 9.078125 0 \r\nL 9.078125 54.6875 \r\nL 18.109375 54.6875 \r\nL 18.109375 46.1875 \r\nQ 21.34375 51.125 25.703125 53.5625 \r\nQ 30.078125 56 35.796875 56 \r\nQ 45.21875 56 50.046875 50.171875 \r\nQ 54.890625 44.34375 54.890625 33.015625 \r\nz\r\n\" id=\"DejaVuSans-110\"/>\r\n      <path d=\"M 44.28125 53.078125 \r\nL 44.28125 44.578125 \r\nQ 40.484375 46.53125 36.375 47.5 \r\nQ 32.28125 48.484375 27.875 48.484375 \r\nQ 21.1875 48.484375 17.84375 46.4375 \r\nQ 14.5 44.390625 14.5 40.28125 \r\nQ 14.5 37.15625 16.890625 35.375 \r\nQ 19.28125 33.59375 26.515625 31.984375 \r\nL 29.59375 31.296875 \r\nQ 39.15625 29.25 43.1875 25.515625 \r\nQ 47.21875 21.78125 47.21875 15.09375 \r\nQ 47.21875 7.46875 41.1875 3.015625 \r\nQ 35.15625 -1.421875 24.609375 -1.421875 \r\nQ 20.21875 -1.421875 15.453125 -0.5625 \r\nQ 10.6875 0.296875 5.421875 2 \r\nL 5.421875 11.28125 \r\nQ 10.40625 8.6875 15.234375 7.390625 \r\nQ 20.0625 6.109375 24.8125 6.109375 \r\nQ 31.15625 6.109375 34.5625 8.28125 \r\nQ 37.984375 10.453125 37.984375 14.40625 \r\nQ 37.984375 18.0625 35.515625 20.015625 \r\nQ 33.0625 21.96875 24.703125 23.78125 \r\nL 21.578125 24.515625 \r\nQ 13.234375 26.265625 9.515625 29.90625 \r\nQ 5.8125 33.546875 5.8125 39.890625 \r\nQ 5.8125 47.609375 11.28125 51.796875 \r\nQ 16.75 56 26.8125 56 \r\nQ 31.78125 56 36.171875 55.265625 \r\nQ 40.578125 54.546875 44.28125 53.078125 \r\nz\r\n\" id=\"DejaVuSans-115\"/>\r\n      <path d=\"M 9.421875 54.6875 \r\nL 18.40625 54.6875 \r\nL 18.40625 0 \r\nL 9.421875 0 \r\nz\r\nM 9.421875 75.984375 \r\nL 18.40625 75.984375 \r\nL 18.40625 64.59375 \r\nL 9.421875 64.59375 \r\nz\r\n\" id=\"DejaVuSans-105\"/>\r\n      <path d=\"M 18.3125 70.21875 \r\nL 18.3125 54.6875 \r\nL 36.8125 54.6875 \r\nL 36.8125 47.703125 \r\nL 18.3125 47.703125 \r\nL 18.3125 18.015625 \r\nQ 18.3125 11.328125 20.140625 9.421875 \r\nQ 21.96875 7.515625 27.59375 7.515625 \r\nL 36.8125 7.515625 \r\nL 36.8125 0 \r\nL 27.59375 0 \r\nQ 17.1875 0 13.234375 3.875 \r\nQ 9.28125 7.765625 9.28125 18.015625 \r\nL 9.28125 47.703125 \r\nL 2.6875 47.703125 \r\nL 2.6875 54.6875 \r\nL 9.28125 54.6875 \r\nL 9.28125 70.21875 \r\nz\r\n\" id=\"DejaVuSans-116\"/>\r\n      <path d=\"M 32.171875 -5.078125 \r\nQ 28.375 -14.84375 24.75 -17.8125 \r\nQ 21.140625 -20.796875 15.09375 -20.796875 \r\nL 7.90625 -20.796875 \r\nL 7.90625 -13.28125 \r\nL 13.1875 -13.28125 \r\nQ 16.890625 -13.28125 18.9375 -11.515625 \r\nQ 21 -9.765625 23.484375 -3.21875 \r\nL 25.09375 0.875 \r\nL 2.984375 54.6875 \r\nL 12.5 54.6875 \r\nL 29.59375 11.921875 \r\nL 46.6875 54.6875 \r\nL 56.203125 54.6875 \r\nz\r\n\" id=\"DejaVuSans-121\"/>\r\n     </defs>\r\n     <g transform=\"translate(14.798437 134.928594)rotate(-90)scale(0.1 -0.1)\">\r\n      <use xlink:href=\"#DejaVuSans-68\"/>\r\n      <use x=\"77.001953\" xlink:href=\"#DejaVuSans-101\"/>\r\n      <use x=\"138.525391\" xlink:href=\"#DejaVuSans-110\"/>\r\n      <use x=\"201.904297\" xlink:href=\"#DejaVuSans-115\"/>\r\n      <use x=\"254.003906\" xlink:href=\"#DejaVuSans-105\"/>\r\n      <use x=\"281.787109\" xlink:href=\"#DejaVuSans-116\"/>\r\n      <use x=\"320.996094\" xlink:href=\"#DejaVuSans-121\"/>\r\n     </g>\r\n    </g>\r\n   </g>\r\n   <g id=\"line2d_13\">\r\n    <path clip-path=\"url(#pa702ab801e)\" d=\"M 84.449432 214.60949 \r\nL 90.23813 214.328263 \r\nL 94.198818 213.926267 \r\nL 97.245501 213.416125 \r\nL 99.987515 212.735727 \r\nL 102.424862 211.891023 \r\nL 104.55754 210.912431 \r\nL 106.38555 209.85415 \r\nL 108.21356 208.553753 \r\nL 110.041569 206.969829 \r\nL 111.869579 205.057581 \r\nL 113.697589 202.7695 \r\nL 115.525599 200.056332 \r\nL 117.353609 196.868346 \r\nL 119.181619 193.156908 \r\nL 121.009628 188.876364 \r\nL 122.837638 183.986189 \r\nL 124.665648 178.45335 \r\nL 126.493658 172.254823 \r\nL 128.626336 164.168697 \r\nL 130.759014 155.17243 \r\nL 133.196361 143.832335 \r\nL 135.938375 129.875321 \r\nL 139.289727 111.491139 \r\nL 148.734444 58.614188 \r\nL 151.171791 46.721197 \r\nL 152.9998 38.794153 \r\nL 154.82781 31.902335 \r\nL 156.351152 27.057159 \r\nL 157.569825 23.82278 \r\nL 158.788498 21.193887 \r\nL 159.702503 19.635599 \r\nL 160.616508 18.441621 \r\nL 161.530513 17.618733 \r\nL 162.444518 17.171615 \r\nL 163.053854 17.083636 \r\nL 163.663191 17.164049 \r\nL 164.272528 17.412638 \r\nL 165.186533 18.099323 \r\nL 166.100537 19.158881 \r\nL 167.014542 20.585222 \r\nL 167.928547 22.370196 \r\nL 169.147221 25.290247 \r\nL 170.365894 28.800453 \r\nL 171.889235 33.964846 \r\nL 173.412577 39.918566 \r\nL 175.240587 47.980095 \r\nL 177.373265 58.437302 \r\nL 180.115279 73.110875 \r\nL 184.685304 99.084438 \r\nL 189.255329 124.708098 \r\nL 192.302012 140.551512 \r\nL 194.739358 152.159807 \r\nL 197.176705 162.665737 \r\nL 199.309383 170.893715 \r\nL 201.442061 178.204905 \r\nL 203.270071 183.751873 \r\nL 205.09808 188.657746 \r\nL 206.92609 192.955094 \r\nL 208.7541 196.683992 \r\nL 210.58211 199.889663 \r\nL 212.41012 202.620347 \r\nL 214.23813 204.925433 \r\nL 216.066139 206.853884 \r\nL 217.894149 208.452976 \r\nL 219.722159 209.767331 \r\nL 221.550169 210.838233 \r\nL 223.682847 211.829754 \r\nL 226.120193 212.686777 \r\nL 228.55754 213.312946 \r\nL 231.604223 213.85347 \r\nL 235.260243 214.253641 \r\nL 239.830267 214.513685 \r\nL 245.923633 214.627191 \r\nL 253.540341 214.547296 \r\nL 260.243044 214.270618 \r\nL 265.727073 213.829883 \r\nL 270.297098 213.253906 \r\nL 274.562454 212.502571 \r\nL 278.82781 211.520044 \r\nL 283.093166 210.306084 \r\nL 287.967859 208.680553 \r\nL 301.373265 204.035581 \r\nL 304.724616 203.188614 \r\nL 307.771299 202.640909 \r\nL 310.513314 202.358768 \r\nL 313.255329 202.291793 \r\nL 315.997343 202.443489 \r\nL 318.739358 202.805935 \r\nL 321.786041 203.432801 \r\nL 325.137393 204.349516 \r\nL 329.402749 205.759341 \r\nL 344.026827 210.809313 \r\nL 348.292184 211.934351 \r\nL 352.55754 212.824587 \r\nL 356.822896 213.491096 \r\nL 361.697589 214.018516 \r\nL 367.181619 214.383549 \r\nL 374.493658 214.627515 \r\nL 385.766385 214.746411 \r\nL 388.813068 214.756364 \r\nL 388.813068 214.756364 \r\n\" style=\"fill:none;stroke:#1f77b4;stroke-linecap:square;stroke-width:1.5;\"/>\r\n   </g>\r\n   <g id=\"patch_3\">\r\n    <path d=\"M 69.23125 224.64 \r\nL 69.23125 7.2 \r\n\" style=\"fill:none;stroke:#000000;stroke-linecap:square;stroke-linejoin:miter;stroke-width:0.8;\"/>\r\n   </g>\r\n   <g id=\"patch_4\">\r\n    <path d=\"M 404.03125 224.64 \r\nL 404.03125 7.2 \r\n\" style=\"fill:none;stroke:#000000;stroke-linecap:square;stroke-linejoin:miter;stroke-width:0.8;\"/>\r\n   </g>\r\n   <g id=\"patch_5\">\r\n    <path d=\"M 69.23125 224.64 \r\nL 404.03125 224.64 \r\n\" style=\"fill:none;stroke:#000000;stroke-linecap:square;stroke-linejoin:miter;stroke-width:0.8;\"/>\r\n   </g>\r\n   <g id=\"patch_6\">\r\n    <path d=\"M 69.23125 7.2 \r\nL 404.03125 7.2 \r\n\" style=\"fill:none;stroke:#000000;stroke-linecap:square;stroke-linejoin:miter;stroke-width:0.8;\"/>\r\n   </g>\r\n  </g>\r\n </g>\r\n <defs>\r\n  <clipPath id=\"pa702ab801e\">\r\n   <rect height=\"217.44\" width=\"334.8\" x=\"69.23125\" y=\"7.2\"/>\r\n  </clipPath>\r\n </defs>\r\n</svg>\r\n",
      "image/png": "[encoded data removed]"
     },
     "metadata": {
      "needs_background": "light"
     }
    }
   ],
   "source": [
    "# see range & concentration of values\n",
    "app_type_count.plot.density()"
   ]
  },
  {
   "source": [
    "######  \n",
    "will bin everything together that is less than 150"
   ],
   "cell_type": "markdown",
   "metadata": {}
  },
  {
   "cell_type": "code",
   "execution_count": 11,
   "metadata": {},
   "outputs": [
    {
     "output_type": "execute_result",
     "data": {
      "text/plain": [
       "T3       27037\n",
       "T4        1542\n",
       "T6        1216\n",
       "T5        1173\n",
       "T19       1065\n",
       "T8         737\n",
       "T7         725\n",
       "T10        528\n",
       "T9         156\n",
       "OTHER      120\n",
       "Name: APPLICATION_TYPE, dtype: int64"
      ]
     },
     "metadata": {},
     "execution_count": 11
    }
   ],
   "source": [
    "# binning values less than 150\n",
    "app_type_bin = list(app_type_count[app_type_count < 150].index)\n",
    "\n",
    "# replace the small outliers and place in \"OTHER\" categors\n",
    "for i in app_type_bin:\n",
    "    charity_df.APPLICATION_TYPE = charity_df.APPLICATION_TYPE.replace(i, \"OTHER\")\n",
    "\n",
    "charity_df.APPLICATION_TYPE.value_counts()"
   ]
  },
  {
   "cell_type": "code",
   "execution_count": 12,
   "metadata": {},
   "outputs": [
    {
     "output_type": "execute_result",
     "data": {
      "text/plain": [
       "<matplotlib.axes._subplots.AxesSubplot at 0x1e79d07af70>"
      ]
     },
     "metadata": {},
     "execution_count": 12
    },
    {
     "output_type": "display_data",
     "data": {
      "text/plain": "<Figure size 432x288 with 1 Axes>",
      "image/svg+xml": "<?xml version=\"1.0\" encoding=\"utf-8\" standalone=\"no\"?>\r\n<!DOCTYPE svg PUBLIC \"-//W3C//DTD SVG 1.1//EN\"\r\n  \"http://www.w3.org/Graphics/SVG/1.1/DTD/svg11.dtd\">\r\n<!-- Created with matplotlib (https://matplotlib.org/) -->\r\n<svg height=\"259.116562pt\" version=\"1.1\" viewBox=\"0 0 376.240625 259.116562\" width=\"376.240625pt\" xmlns=\"http://www.w3.org/2000/svg\" xmlns:xlink=\"http://www.w3.org/1999/xlink\">\r\n <defs>\r\n  <style type=\"text/css\">\r\n*{stroke-linecap:butt;stroke-linejoin:round;}\r\n  </style>\r\n </defs>\r\n <g id=\"figure_1\">\r\n  <g id=\"patch_1\">\r\n   <path d=\"M 0 259.116562 \r\nL 376.240625 259.116562 \r\nL 376.240625 0 \r\nL 0 0 \r\nz\r\n\" style=\"fill:none;\"/>\r\n  </g>\r\n  <g id=\"axes_1\">\r\n   <g id=\"patch_2\">\r\n    <path d=\"M 34.240625 235.238437 \r\nL 369.040625 235.238437 \r\nL 369.040625 17.798437 \r\nL 34.240625 17.798437 \r\nz\r\n\" style=\"fill:#ffffff;\"/>\r\n   </g>\r\n   <g id=\"matplotlib.axis_1\">\r\n    <g id=\"xtick_1\">\r\n     <g id=\"line2d_1\">\r\n      <defs>\r\n       <path d=\"M 0 0 \r\nL 0 3.5 \r\n\" id=\"m13d87c9501\" style=\"stroke:#000000;stroke-width:0.8;\"/>\r\n      </defs>\r\n      <g>\r\n       <use style=\"stroke:#000000;stroke-width:0.8;\" x=\"68.33383\" xlink:href=\"#m13d87c9501\" y=\"235.238437\"/>\r\n      </g>\r\n     </g>\r\n     <g id=\"text_1\">\r\n      <!-- −10000 -->\r\n      <defs>\r\n       <path d=\"M 10.59375 35.5 \r\nL 73.1875 35.5 \r\nL 73.1875 27.203125 \r\nL 10.59375 27.203125 \r\nz\r\n\" id=\"DejaVuSans-8722\"/>\r\n       <path d=\"M 12.40625 8.296875 \r\nL 28.515625 8.296875 \r\nL 28.515625 63.921875 \r\nL 10.984375 60.40625 \r\nL 10.984375 69.390625 \r\nL 28.421875 72.90625 \r\nL 38.28125 72.90625 \r\nL 38.28125 8.296875 \r\nL 54.390625 8.296875 \r\nL 54.390625 0 \r\nL 12.40625 0 \r\nz\r\n\" id=\"DejaVuSans-49\"/>\r\n       <path d=\"M 31.78125 66.40625 \r\nQ 24.171875 66.40625 20.328125 58.90625 \r\nQ 16.5 51.421875 16.5 36.375 \r\nQ 16.5 21.390625 20.328125 13.890625 \r\nQ 24.171875 6.390625 31.78125 6.390625 \r\nQ 39.453125 6.390625 43.28125 13.890625 \r\nQ 47.125 21.390625 47.125 36.375 \r\nQ 47.125 51.421875 43.28125 58.90625 \r\nQ 39.453125 66.40625 31.78125 66.40625 \r\nz\r\nM 31.78125 74.21875 \r\nQ 44.046875 74.21875 50.515625 64.515625 \r\nQ 56.984375 54.828125 56.984375 36.375 \r\nQ 56.984375 17.96875 50.515625 8.265625 \r\nQ 44.046875 -1.421875 31.78125 -1.421875 \r\nQ 19.53125 -1.421875 13.0625 8.265625 \r\nQ 6.59375 17.96875 6.59375 36.375 \r\nQ 6.59375 54.828125 13.0625 64.515625 \r\nQ 19.53125 74.21875 31.78125 74.21875 \r\nz\r\n\" id=\"DejaVuSans-48\"/>\r\n      </defs>\r\n      <g transform=\"translate(48.237736 249.836875)scale(0.1 -0.1)\">\r\n       <use xlink:href=\"#DejaVuSans-8722\"/>\r\n       <use x=\"83.789062\" xlink:href=\"#DejaVuSans-49\"/>\r\n       <use x=\"147.412109\" xlink:href=\"#DejaVuSans-48\"/>\r\n       <use x=\"211.035156\" xlink:href=\"#DejaVuSans-48\"/>\r\n       <use x=\"274.658203\" xlink:href=\"#DejaVuSans-48\"/>\r\n       <use x=\"338.28125\" xlink:href=\"#DejaVuSans-48\"/>\r\n      </g>\r\n     </g>\r\n    </g>\r\n    <g id=\"xtick_2\">\r\n     <g id=\"line2d_2\">\r\n      <g>\r\n       <use style=\"stroke:#000000;stroke-width:0.8;\" x=\"124.871267\" xlink:href=\"#m13d87c9501\" y=\"235.238437\"/>\r\n      </g>\r\n     </g>\r\n     <g id=\"text_2\">\r\n      <!-- 0 -->\r\n      <g transform=\"translate(121.690017 249.836875)scale(0.1 -0.1)\">\r\n       <use xlink:href=\"#DejaVuSans-48\"/>\r\n      </g>\r\n     </g>\r\n    </g>\r\n    <g id=\"xtick_3\">\r\n     <g id=\"line2d_3\">\r\n      <g>\r\n       <use style=\"stroke:#000000;stroke-width:0.8;\" x=\"181.408703\" xlink:href=\"#m13d87c9501\" y=\"235.238437\"/>\r\n      </g>\r\n     </g>\r\n     <g id=\"text_3\">\r\n      <!-- 10000 -->\r\n      <g transform=\"translate(165.502453 249.836875)scale(0.1 -0.1)\">\r\n       <use xlink:href=\"#DejaVuSans-49\"/>\r\n       <use x=\"63.623047\" xlink:href=\"#DejaVuSans-48\"/>\r\n       <use x=\"127.246094\" xlink:href=\"#DejaVuSans-48\"/>\r\n       <use x=\"190.869141\" xlink:href=\"#DejaVuSans-48\"/>\r\n       <use x=\"254.492188\" xlink:href=\"#DejaVuSans-48\"/>\r\n      </g>\r\n     </g>\r\n    </g>\r\n    <g id=\"xtick_4\">\r\n     <g id=\"line2d_4\">\r\n      <g>\r\n       <use style=\"stroke:#000000;stroke-width:0.8;\" x=\"237.94614\" xlink:href=\"#m13d87c9501\" y=\"235.238437\"/>\r\n      </g>\r\n     </g>\r\n     <g id=\"text_4\">\r\n      <!-- 20000 -->\r\n      <defs>\r\n       <path d=\"M 19.1875 8.296875 \r\nL 53.609375 8.296875 \r\nL 53.609375 0 \r\nL 7.328125 0 \r\nL 7.328125 8.296875 \r\nQ 12.9375 14.109375 22.625 23.890625 \r\nQ 32.328125 33.6875 34.8125 36.53125 \r\nQ 39.546875 41.84375 41.421875 45.53125 \r\nQ 43.3125 49.21875 43.3125 52.78125 \r\nQ 43.3125 58.59375 39.234375 62.25 \r\nQ 35.15625 65.921875 28.609375 65.921875 \r\nQ 23.96875 65.921875 18.8125 64.3125 \r\nQ 13.671875 62.703125 7.8125 59.421875 \r\nL 7.8125 69.390625 \r\nQ 13.765625 71.78125 18.9375 73 \r\nQ 24.125 74.21875 28.421875 74.21875 \r\nQ 39.75 74.21875 46.484375 68.546875 \r\nQ 53.21875 62.890625 53.21875 53.421875 \r\nQ 53.21875 48.921875 51.53125 44.890625 \r\nQ 49.859375 40.875 45.40625 35.40625 \r\nQ 44.1875 33.984375 37.640625 27.21875 \r\nQ 31.109375 20.453125 19.1875 8.296875 \r\nz\r\n\" id=\"DejaVuSans-50\"/>\r\n      </defs>\r\n      <g transform=\"translate(222.03989 249.836875)scale(0.1 -0.1)\">\r\n       <use xlink:href=\"#DejaVuSans-50\"/>\r\n       <use x=\"63.623047\" xlink:href=\"#DejaVuSans-48\"/>\r\n       <use x=\"127.246094\" xlink:href=\"#DejaVuSans-48\"/>\r\n       <use x=\"190.869141\" xlink:href=\"#DejaVuSans-48\"/>\r\n       <use x=\"254.492188\" xlink:href=\"#DejaVuSans-48\"/>\r\n      </g>\r\n     </g>\r\n    </g>\r\n    <g id=\"xtick_5\">\r\n     <g id=\"line2d_5\">\r\n      <g>\r\n       <use style=\"stroke:#000000;stroke-width:0.8;\" x=\"294.483577\" xlink:href=\"#m13d87c9501\" y=\"235.238437\"/>\r\n      </g>\r\n     </g>\r\n     <g id=\"text_5\">\r\n      <!-- 30000 -->\r\n      <defs>\r\n       <path d=\"M 40.578125 39.3125 \r\nQ 47.65625 37.796875 51.625 33 \r\nQ 55.609375 28.21875 55.609375 21.1875 \r\nQ 55.609375 10.40625 48.1875 4.484375 \r\nQ 40.765625 -1.421875 27.09375 -1.421875 \r\nQ 22.515625 -1.421875 17.65625 -0.515625 \r\nQ 12.796875 0.390625 7.625 2.203125 \r\nL 7.625 11.71875 \r\nQ 11.71875 9.328125 16.59375 8.109375 \r\nQ 21.484375 6.890625 26.8125 6.890625 \r\nQ 36.078125 6.890625 40.9375 10.546875 \r\nQ 45.796875 14.203125 45.796875 21.1875 \r\nQ 45.796875 27.640625 41.28125 31.265625 \r\nQ 36.765625 34.90625 28.71875 34.90625 \r\nL 20.21875 34.90625 \r\nL 20.21875 43.015625 \r\nL 29.109375 43.015625 \r\nQ 36.375 43.015625 40.234375 45.921875 \r\nQ 44.09375 48.828125 44.09375 54.296875 \r\nQ 44.09375 59.90625 40.109375 62.90625 \r\nQ 36.140625 65.921875 28.71875 65.921875 \r\nQ 24.65625 65.921875 20.015625 65.03125 \r\nQ 15.375 64.15625 9.8125 62.3125 \r\nL 9.8125 71.09375 \r\nQ 15.4375 72.65625 20.34375 73.4375 \r\nQ 25.25 74.21875 29.59375 74.21875 \r\nQ 40.828125 74.21875 47.359375 69.109375 \r\nQ 53.90625 64.015625 53.90625 55.328125 \r\nQ 53.90625 49.265625 50.4375 45.09375 \r\nQ 46.96875 40.921875 40.578125 39.3125 \r\nz\r\n\" id=\"DejaVuSans-51\"/>\r\n      </defs>\r\n      <g transform=\"translate(278.577327 249.836875)scale(0.1 -0.1)\">\r\n       <use xlink:href=\"#DejaVuSans-51\"/>\r\n       <use x=\"63.623047\" xlink:href=\"#DejaVuSans-48\"/>\r\n       <use x=\"127.246094\" xlink:href=\"#DejaVuSans-48\"/>\r\n       <use x=\"190.869141\" xlink:href=\"#DejaVuSans-48\"/>\r\n       <use x=\"254.492188\" xlink:href=\"#DejaVuSans-48\"/>\r\n      </g>\r\n     </g>\r\n    </g>\r\n    <g id=\"xtick_6\">\r\n     <g id=\"line2d_6\">\r\n      <g>\r\n       <use style=\"stroke:#000000;stroke-width:0.8;\" x=\"351.021013\" xlink:href=\"#m13d87c9501\" y=\"235.238437\"/>\r\n      </g>\r\n     </g>\r\n     <g id=\"text_6\">\r\n      <!-- 40000 -->\r\n      <defs>\r\n       <path d=\"M 37.796875 64.3125 \r\nL 12.890625 25.390625 \r\nL 37.796875 25.390625 \r\nz\r\nM 35.203125 72.90625 \r\nL 47.609375 72.90625 \r\nL 47.609375 25.390625 \r\nL 58.015625 25.390625 \r\nL 58.015625 17.1875 \r\nL 47.609375 17.1875 \r\nL 47.609375 0 \r\nL 37.796875 0 \r\nL 37.796875 17.1875 \r\nL 4.890625 17.1875 \r\nL 4.890625 26.703125 \r\nz\r\n\" id=\"DejaVuSans-52\"/>\r\n      </defs>\r\n      <g transform=\"translate(335.114763 249.836875)scale(0.1 -0.1)\">\r\n       <use xlink:href=\"#DejaVuSans-52\"/>\r\n       <use x=\"63.623047\" xlink:href=\"#DejaVuSans-48\"/>\r\n       <use x=\"127.246094\" xlink:href=\"#DejaVuSans-48\"/>\r\n       <use x=\"190.869141\" xlink:href=\"#DejaVuSans-48\"/>\r\n       <use x=\"254.492188\" xlink:href=\"#DejaVuSans-48\"/>\r\n      </g>\r\n     </g>\r\n    </g>\r\n   </g>\r\n   <g id=\"matplotlib.axis_2\">\r\n    <g id=\"ytick_1\">\r\n     <g id=\"line2d_7\">\r\n      <defs>\r\n       <path d=\"M 0 0 \r\nL -3.5 0 \r\n\" id=\"m50b3160b80\" style=\"stroke:#000000;stroke-width:0.8;\"/>\r\n      </defs>\r\n      <g>\r\n       <use style=\"stroke:#000000;stroke-width:0.8;\" x=\"34.240625\" xlink:href=\"#m50b3160b80\" y=\"226.174335\"/>\r\n      </g>\r\n     </g>\r\n     <g id=\"text_7\">\r\n      <!-- 0 -->\r\n      <g transform=\"translate(20.878125 229.973554)scale(0.1 -0.1)\">\r\n       <use xlink:href=\"#DejaVuSans-48\"/>\r\n      </g>\r\n     </g>\r\n    </g>\r\n    <g id=\"ytick_2\">\r\n     <g id=\"line2d_8\">\r\n      <g>\r\n       <use style=\"stroke:#000000;stroke-width:0.8;\" x=\"34.240625\" xlink:href=\"#m50b3160b80\" y=\"197.085965\"/>\r\n      </g>\r\n     </g>\r\n     <g id=\"text_8\">\r\n      <!-- 1 -->\r\n      <g transform=\"translate(20.878125 200.885184)scale(0.1 -0.1)\">\r\n       <use xlink:href=\"#DejaVuSans-49\"/>\r\n      </g>\r\n     </g>\r\n    </g>\r\n    <g id=\"ytick_3\">\r\n     <g id=\"line2d_9\">\r\n      <g>\r\n       <use style=\"stroke:#000000;stroke-width:0.8;\" x=\"34.240625\" xlink:href=\"#m50b3160b80\" y=\"167.997596\"/>\r\n      </g>\r\n     </g>\r\n     <g id=\"text_9\">\r\n      <!-- 2 -->\r\n      <g transform=\"translate(20.878125 171.796814)scale(0.1 -0.1)\">\r\n       <use xlink:href=\"#DejaVuSans-50\"/>\r\n      </g>\r\n     </g>\r\n    </g>\r\n    <g id=\"ytick_4\">\r\n     <g id=\"line2d_10\">\r\n      <g>\r\n       <use style=\"stroke:#000000;stroke-width:0.8;\" x=\"34.240625\" xlink:href=\"#m50b3160b80\" y=\"138.909226\"/>\r\n      </g>\r\n     </g>\r\n     <g id=\"text_10\">\r\n      <!-- 3 -->\r\n      <g transform=\"translate(20.878125 142.708445)scale(0.1 -0.1)\">\r\n       <use xlink:href=\"#DejaVuSans-51\"/>\r\n      </g>\r\n     </g>\r\n    </g>\r\n    <g id=\"ytick_5\">\r\n     <g id=\"line2d_11\">\r\n      <g>\r\n       <use style=\"stroke:#000000;stroke-width:0.8;\" x=\"34.240625\" xlink:href=\"#m50b3160b80\" y=\"109.820856\"/>\r\n      </g>\r\n     </g>\r\n     <g id=\"text_11\">\r\n      <!-- 4 -->\r\n      <g transform=\"translate(20.878125 113.620075)scale(0.1 -0.1)\">\r\n       <use xlink:href=\"#DejaVuSans-52\"/>\r\n      </g>\r\n     </g>\r\n    </g>\r\n    <g id=\"ytick_6\">\r\n     <g id=\"line2d_12\">\r\n      <g>\r\n       <use style=\"stroke:#000000;stroke-width:0.8;\" x=\"34.240625\" xlink:href=\"#m50b3160b80\" y=\"80.732487\"/>\r\n      </g>\r\n     </g>\r\n     <g id=\"text_12\">\r\n      <!-- 5 -->\r\n      <defs>\r\n       <path d=\"M 10.796875 72.90625 \r\nL 49.515625 72.90625 \r\nL 49.515625 64.59375 \r\nL 19.828125 64.59375 \r\nL 19.828125 46.734375 \r\nQ 21.96875 47.46875 24.109375 47.828125 \r\nQ 26.265625 48.1875 28.421875 48.1875 \r\nQ 40.625 48.1875 47.75 41.5 \r\nQ 54.890625 34.8125 54.890625 23.390625 \r\nQ 54.890625 11.625 47.5625 5.09375 \r\nQ 40.234375 -1.421875 26.90625 -1.421875 \r\nQ 22.3125 -1.421875 17.546875 -0.640625 \r\nQ 12.796875 0.140625 7.71875 1.703125 \r\nL 7.71875 11.625 \r\nQ 12.109375 9.234375 16.796875 8.0625 \r\nQ 21.484375 6.890625 26.703125 6.890625 \r\nQ 35.15625 6.890625 40.078125 11.328125 \r\nQ 45.015625 15.765625 45.015625 23.390625 \r\nQ 45.015625 31 40.078125 35.4375 \r\nQ 35.15625 39.890625 26.703125 39.890625 \r\nQ 22.75 39.890625 18.8125 39.015625 \r\nQ 14.890625 38.140625 10.796875 36.28125 \r\nz\r\n\" id=\"DejaVuSans-53\"/>\r\n      </defs>\r\n      <g transform=\"translate(20.878125 84.531706)scale(0.1 -0.1)\">\r\n       <use xlink:href=\"#DejaVuSans-53\"/>\r\n      </g>\r\n     </g>\r\n    </g>\r\n    <g id=\"ytick_7\">\r\n     <g id=\"line2d_13\">\r\n      <g>\r\n       <use style=\"stroke:#000000;stroke-width:0.8;\" x=\"34.240625\" xlink:href=\"#m50b3160b80\" y=\"51.644117\"/>\r\n      </g>\r\n     </g>\r\n     <g id=\"text_13\">\r\n      <!-- 6 -->\r\n      <defs>\r\n       <path d=\"M 33.015625 40.375 \r\nQ 26.375 40.375 22.484375 35.828125 \r\nQ 18.609375 31.296875 18.609375 23.390625 \r\nQ 18.609375 15.53125 22.484375 10.953125 \r\nQ 26.375 6.390625 33.015625 6.390625 \r\nQ 39.65625 6.390625 43.53125 10.953125 \r\nQ 47.40625 15.53125 47.40625 23.390625 \r\nQ 47.40625 31.296875 43.53125 35.828125 \r\nQ 39.65625 40.375 33.015625 40.375 \r\nz\r\nM 52.59375 71.296875 \r\nL 52.59375 62.3125 \r\nQ 48.875 64.0625 45.09375 64.984375 \r\nQ 41.3125 65.921875 37.59375 65.921875 \r\nQ 27.828125 65.921875 22.671875 59.328125 \r\nQ 17.53125 52.734375 16.796875 39.40625 \r\nQ 19.671875 43.65625 24.015625 45.921875 \r\nQ 28.375 48.1875 33.59375 48.1875 \r\nQ 44.578125 48.1875 50.953125 41.515625 \r\nQ 57.328125 34.859375 57.328125 23.390625 \r\nQ 57.328125 12.15625 50.6875 5.359375 \r\nQ 44.046875 -1.421875 33.015625 -1.421875 \r\nQ 20.359375 -1.421875 13.671875 8.265625 \r\nQ 6.984375 17.96875 6.984375 36.375 \r\nQ 6.984375 53.65625 15.1875 63.9375 \r\nQ 23.390625 74.21875 37.203125 74.21875 \r\nQ 40.921875 74.21875 44.703125 73.484375 \r\nQ 48.484375 72.75 52.59375 71.296875 \r\nz\r\n\" id=\"DejaVuSans-54\"/>\r\n      </defs>\r\n      <g transform=\"translate(20.878125 55.443336)scale(0.1 -0.1)\">\r\n       <use xlink:href=\"#DejaVuSans-54\"/>\r\n      </g>\r\n     </g>\r\n    </g>\r\n    <g id=\"ytick_8\">\r\n     <g id=\"line2d_14\">\r\n      <g>\r\n       <use style=\"stroke:#000000;stroke-width:0.8;\" x=\"34.240625\" xlink:href=\"#m50b3160b80\" y=\"22.555748\"/>\r\n      </g>\r\n     </g>\r\n     <g id=\"text_14\">\r\n      <!-- 7 -->\r\n      <defs>\r\n       <path d=\"M 8.203125 72.90625 \r\nL 55.078125 72.90625 \r\nL 55.078125 68.703125 \r\nL 28.609375 0 \r\nL 18.3125 0 \r\nL 43.21875 64.59375 \r\nL 8.203125 64.59375 \r\nz\r\n\" id=\"DejaVuSans-55\"/>\r\n      </defs>\r\n      <g transform=\"translate(20.878125 26.354966)scale(0.1 -0.1)\">\r\n       <use xlink:href=\"#DejaVuSans-55\"/>\r\n      </g>\r\n     </g>\r\n    </g>\r\n    <g id=\"text_15\">\r\n     <!-- Density -->\r\n     <defs>\r\n      <path d=\"M 19.671875 64.796875 \r\nL 19.671875 8.109375 \r\nL 31.59375 8.109375 \r\nQ 46.6875 8.109375 53.6875 14.9375 \r\nQ 60.6875 21.78125 60.6875 36.53125 \r\nQ 60.6875 51.171875 53.6875 57.984375 \r\nQ 46.6875 64.796875 31.59375 64.796875 \r\nz\r\nM 9.8125 72.90625 \r\nL 30.078125 72.90625 \r\nQ 51.265625 72.90625 61.171875 64.09375 \r\nQ 71.09375 55.28125 71.09375 36.53125 \r\nQ 71.09375 17.671875 61.125 8.828125 \r\nQ 51.171875 0 30.078125 0 \r\nL 9.8125 0 \r\nz\r\n\" id=\"DejaVuSans-68\"/>\r\n      <path d=\"M 56.203125 29.59375 \r\nL 56.203125 25.203125 \r\nL 14.890625 25.203125 \r\nQ 15.484375 15.921875 20.484375 11.0625 \r\nQ 25.484375 6.203125 34.421875 6.203125 \r\nQ 39.59375 6.203125 44.453125 7.46875 \r\nQ 49.3125 8.734375 54.109375 11.28125 \r\nL 54.109375 2.78125 \r\nQ 49.265625 0.734375 44.1875 -0.34375 \r\nQ 39.109375 -1.421875 33.890625 -1.421875 \r\nQ 20.796875 -1.421875 13.15625 6.1875 \r\nQ 5.515625 13.8125 5.515625 26.8125 \r\nQ 5.515625 40.234375 12.765625 48.109375 \r\nQ 20.015625 56 32.328125 56 \r\nQ 43.359375 56 49.78125 48.890625 \r\nQ 56.203125 41.796875 56.203125 29.59375 \r\nz\r\nM 47.21875 32.234375 \r\nQ 47.125 39.59375 43.09375 43.984375 \r\nQ 39.0625 48.390625 32.421875 48.390625 \r\nQ 24.90625 48.390625 20.390625 44.140625 \r\nQ 15.875 39.890625 15.1875 32.171875 \r\nz\r\n\" id=\"DejaVuSans-101\"/>\r\n      <path d=\"M 54.890625 33.015625 \r\nL 54.890625 0 \r\nL 45.90625 0 \r\nL 45.90625 32.71875 \r\nQ 45.90625 40.484375 42.875 44.328125 \r\nQ 39.84375 48.1875 33.796875 48.1875 \r\nQ 26.515625 48.1875 22.3125 43.546875 \r\nQ 18.109375 38.921875 18.109375 30.90625 \r\nL 18.109375 0 \r\nL 9.078125 0 \r\nL 9.078125 54.6875 \r\nL 18.109375 54.6875 \r\nL 18.109375 46.1875 \r\nQ 21.34375 51.125 25.703125 53.5625 \r\nQ 30.078125 56 35.796875 56 \r\nQ 45.21875 56 50.046875 50.171875 \r\nQ 54.890625 44.34375 54.890625 33.015625 \r\nz\r\n\" id=\"DejaVuSans-110\"/>\r\n      <path d=\"M 44.28125 53.078125 \r\nL 44.28125 44.578125 \r\nQ 40.484375 46.53125 36.375 47.5 \r\nQ 32.28125 48.484375 27.875 48.484375 \r\nQ 21.1875 48.484375 17.84375 46.4375 \r\nQ 14.5 44.390625 14.5 40.28125 \r\nQ 14.5 37.15625 16.890625 35.375 \r\nQ 19.28125 33.59375 26.515625 31.984375 \r\nL 29.59375 31.296875 \r\nQ 39.15625 29.25 43.1875 25.515625 \r\nQ 47.21875 21.78125 47.21875 15.09375 \r\nQ 47.21875 7.46875 41.1875 3.015625 \r\nQ 35.15625 -1.421875 24.609375 -1.421875 \r\nQ 20.21875 -1.421875 15.453125 -0.5625 \r\nQ 10.6875 0.296875 5.421875 2 \r\nL 5.421875 11.28125 \r\nQ 10.40625 8.6875 15.234375 7.390625 \r\nQ 20.0625 6.109375 24.8125 6.109375 \r\nQ 31.15625 6.109375 34.5625 8.28125 \r\nQ 37.984375 10.453125 37.984375 14.40625 \r\nQ 37.984375 18.0625 35.515625 20.015625 \r\nQ 33.0625 21.96875 24.703125 23.78125 \r\nL 21.578125 24.515625 \r\nQ 13.234375 26.265625 9.515625 29.90625 \r\nQ 5.8125 33.546875 5.8125 39.890625 \r\nQ 5.8125 47.609375 11.28125 51.796875 \r\nQ 16.75 56 26.8125 56 \r\nQ 31.78125 56 36.171875 55.265625 \r\nQ 40.578125 54.546875 44.28125 53.078125 \r\nz\r\n\" id=\"DejaVuSans-115\"/>\r\n      <path d=\"M 9.421875 54.6875 \r\nL 18.40625 54.6875 \r\nL 18.40625 0 \r\nL 9.421875 0 \r\nz\r\nM 9.421875 75.984375 \r\nL 18.40625 75.984375 \r\nL 18.40625 64.59375 \r\nL 9.421875 64.59375 \r\nz\r\n\" id=\"DejaVuSans-105\"/>\r\n      <path d=\"M 18.3125 70.21875 \r\nL 18.3125 54.6875 \r\nL 36.8125 54.6875 \r\nL 36.8125 47.703125 \r\nL 18.3125 47.703125 \r\nL 18.3125 18.015625 \r\nQ 18.3125 11.328125 20.140625 9.421875 \r\nQ 21.96875 7.515625 27.59375 7.515625 \r\nL 36.8125 7.515625 \r\nL 36.8125 0 \r\nL 27.59375 0 \r\nQ 17.1875 0 13.234375 3.875 \r\nQ 9.28125 7.765625 9.28125 18.015625 \r\nL 9.28125 47.703125 \r\nL 2.6875 47.703125 \r\nL 2.6875 54.6875 \r\nL 9.28125 54.6875 \r\nL 9.28125 70.21875 \r\nz\r\n\" id=\"DejaVuSans-116\"/>\r\n      <path d=\"M 32.171875 -5.078125 \r\nQ 28.375 -14.84375 24.75 -17.8125 \r\nQ 21.140625 -20.796875 15.09375 -20.796875 \r\nL 7.90625 -20.796875 \r\nL 7.90625 -13.28125 \r\nL 13.1875 -13.28125 \r\nQ 16.890625 -13.28125 18.9375 -11.515625 \r\nQ 21 -9.765625 23.484375 -3.21875 \r\nL 25.09375 0.875 \r\nL 2.984375 54.6875 \r\nL 12.5 54.6875 \r\nL 29.59375 11.921875 \r\nL 46.6875 54.6875 \r\nL 56.203125 54.6875 \r\nz\r\n\" id=\"DejaVuSans-121\"/>\r\n     </defs>\r\n     <g transform=\"translate(14.798437 145.527031)rotate(-90)scale(0.1 -0.1)\">\r\n      <use xlink:href=\"#DejaVuSans-68\"/>\r\n      <use x=\"77.001953\" xlink:href=\"#DejaVuSans-101\"/>\r\n      <use x=\"138.525391\" xlink:href=\"#DejaVuSans-110\"/>\r\n      <use x=\"201.904297\" xlink:href=\"#DejaVuSans-115\"/>\r\n      <use x=\"254.003906\" xlink:href=\"#DejaVuSans-105\"/>\r\n      <use x=\"281.787109\" xlink:href=\"#DejaVuSans-116\"/>\r\n      <use x=\"320.996094\" xlink:href=\"#DejaVuSans-121\"/>\r\n     </g>\r\n    </g>\r\n    <g id=\"text_16\">\r\n     <!-- 1e−5 -->\r\n     <g transform=\"translate(34.240625 14.798437)scale(0.1 -0.1)\">\r\n      <use xlink:href=\"#DejaVuSans-49\"/>\r\n      <use x=\"63.623047\" xlink:href=\"#DejaVuSans-101\"/>\r\n      <use x=\"125.146484\" xlink:href=\"#DejaVuSans-8722\"/>\r\n      <use x=\"208.935547\" xlink:href=\"#DejaVuSans-53\"/>\r\n     </g>\r\n    </g>\r\n   </g>\r\n   <g id=\"line2d_15\">\r\n    <path clip-path=\"url(#p928301d7f3)\" d=\"M 49.458807 220.824344 \r\nL 51.896153 219.528423 \r\nL 54.3335 217.97383 \r\nL 56.770846 216.123292 \r\nL 58.903524 214.230501 \r\nL 61.036202 212.054024 \r\nL 63.168881 209.566515 \r\nL 65.301559 206.74093 \r\nL 67.434237 203.551184 \r\nL 69.566915 199.972892 \r\nL 71.699593 195.984187 \r\nL 73.832271 191.566596 \r\nL 76.269618 185.974834 \r\nL 78.706964 179.791981 \r\nL 81.144311 173.016216 \r\nL 83.886325 164.698585 \r\nL 86.62834 155.680942 \r\nL 89.675023 144.915502 \r\nL 93.331043 131.130393 \r\nL 98.205736 111.765517 \r\nL 106.43178 78.970176 \r\nL 109.783131 66.58827 \r\nL 112.525146 57.288589 \r\nL 114.962492 49.830442 \r\nL 117.09517 44.040566 \r\nL 118.92318 39.691131 \r\nL 120.75119 35.95743 \r\nL 122.274532 33.345965 \r\nL 123.797873 31.210548 \r\nL 125.016546 29.856193 \r\nL 126.23522 28.823901 \r\nL 127.453893 28.118836 \r\nL 128.367898 27.806972 \r\nL 129.281903 27.682079 \r\nL 130.195908 27.744512 \r\nL 131.109912 27.994094 \r\nL 132.023917 28.430119 \r\nL 133.242591 29.299303 \r\nL 134.461264 30.493336 \r\nL 135.679937 32.006254 \r\nL 136.89861 33.830537 \r\nL 138.421952 36.534877 \r\nL 139.945293 39.690826 \r\nL 141.773303 44.040214 \r\nL 143.601313 48.95856 \r\nL 145.733991 55.346176 \r\nL 148.171338 63.392425 \r\nL 150.913352 73.224312 \r\nL 154.569372 87.2634 \r\nL 160.967406 112.988503 \r\nL 166.451436 134.637098 \r\nL 170.107455 148.195757 \r\nL 173.154139 158.722545 \r\nL 175.896153 167.495974 \r\nL 178.638168 175.548879 \r\nL 181.075514 182.077089 \r\nL 183.512861 188.004531 \r\nL 185.950207 193.335643 \r\nL 188.387554 198.084689 \r\nL 190.520232 201.779949 \r\nL 192.65291 205.065319 \r\nL 194.785588 207.962304 \r\nL 196.918266 210.494244 \r\nL 199.050944 212.685541 \r\nL 201.183623 214.560972 \r\nL 203.316301 216.145107 \r\nL 205.448979 217.461819 \r\nL 207.581657 218.533903 \r\nL 209.714335 219.382796 \r\nL 212.151682 220.105102 \r\nL 214.589028 220.588865 \r\nL 217.026374 220.858298 \r\nL 219.768389 220.931883 \r\nL 222.510404 220.78822 \r\nL 225.557087 220.402304 \r\nL 228.908438 219.735394 \r\nL 232.564458 218.757175 \r\nL 236.525146 217.449814 \r\nL 241.09517 215.690733 \r\nL 247.188537 213.079098 \r\nL 257.851927 208.477884 \r\nL 262.117283 206.894795 \r\nL 265.773303 205.760529 \r\nL 269.124654 204.946012 \r\nL 272.171338 204.419203 \r\nL 275.218021 204.113191 \r\nL 278.264704 204.037763 \r\nL 281.311387 204.195422 \r\nL 284.35807 204.581282 \r\nL 287.404753 205.183343 \r\nL 290.756104 206.073092 \r\nL 294.412124 207.278379 \r\nL 298.67748 208.928457 \r\nL 304.466178 211.436326 \r\nL 317.566915 217.204218 \r\nL 322.746276 219.189851 \r\nL 327.316301 220.713767 \r\nL 331.886325 222.005514 \r\nL 336.45635 223.066482 \r\nL 341.331043 223.961138 \r\nL 346.510404 224.676413 \r\nL 352.299102 225.240405 \r\nL 353.822443 225.354801 \r\nL 353.822443 225.354801 \r\n\" style=\"fill:none;stroke:#1f77b4;stroke-linecap:square;stroke-width:1.5;\"/>\r\n   </g>\r\n   <g id=\"patch_3\">\r\n    <path d=\"M 34.240625 235.238438 \r\nL 34.240625 17.798437 \r\n\" style=\"fill:none;stroke:#000000;stroke-linecap:square;stroke-linejoin:miter;stroke-width:0.8;\"/>\r\n   </g>\r\n   <g id=\"patch_4\">\r\n    <path d=\"M 369.040625 235.238438 \r\nL 369.040625 17.798437 \r\n\" style=\"fill:none;stroke:#000000;stroke-linecap:square;stroke-linejoin:miter;stroke-width:0.8;\"/>\r\n   </g>\r\n   <g id=\"patch_5\">\r\n    <path d=\"M 34.240625 235.238437 \r\nL 369.040625 235.238437 \r\n\" style=\"fill:none;stroke:#000000;stroke-linecap:square;stroke-linejoin:miter;stroke-width:0.8;\"/>\r\n   </g>\r\n   <g id=\"patch_6\">\r\n    <path d=\"M 34.240625 17.798437 \r\nL 369.040625 17.798437 \r\n\" style=\"fill:none;stroke:#000000;stroke-linecap:square;stroke-linejoin:miter;stroke-width:0.8;\"/>\r\n   </g>\r\n  </g>\r\n </g>\r\n <defs>\r\n  <clipPath id=\"p928301d7f3\">\r\n   <rect height=\"217.44\" width=\"334.8\" x=\"34.240625\" y=\"17.798437\"/>\r\n  </clipPath>\r\n </defs>\r\n</svg>\r\n",
      "image/png": "[encoded data removed]"
     },
     "metadata": {
      "needs_background": "light"
     }
    }
   ],
   "source": [
    "charity_df.APPLICATION_TYPE.value_counts().plot.density()"
   ]
  },
  {
   "cell_type": "code",
   "execution_count": 13,
   "metadata": {},
   "outputs": [
    {
     "output_type": "execute_result",
     "data": {
      "text/plain": [
       "Independent         18480\n",
       "CompanySponsored    15705\n",
       "Family/Parent          64\n",
       "National               33\n",
       "Regional               13\n",
       "Other                   4\n",
       "Name: AFFILIATION, dtype: int64"
      ]
     },
     "metadata": {},
     "execution_count": 13
    }
   ],
   "source": [
    "aff_type_count = charity_df.AFFILIATION.value_counts()\n",
    "aff_type_count"
   ]
  },
  {
   "source": [
    "Bin Family/Parent, National, Regional & Other together\n",
    "\n",
    "While less than 10 categorical values, the skew will overweight categories that are more granular -- lumping these back together to not distort the model.\n",
    "\n",
    "It may be worth dropping this category altogether since the data collection is not particularly well thought out to have such broad categories that provide no real business value.\n"
   ],
   "cell_type": "markdown",
   "metadata": {}
  },
  {
   "cell_type": "code",
   "execution_count": 14,
   "metadata": {},
   "outputs": [
    {
     "output_type": "execute_result",
     "data": {
      "text/plain": [
       "Independent         18480\n",
       "CompanySponsored    15705\n",
       "OTHER                 114\n",
       "Name: AFFILIATION, dtype: int64"
      ]
     },
     "metadata": {},
     "execution_count": 14
    }
   ],
   "source": [
    "# binning values less than 150\n",
    "aff_type_bin = list(aff_type_count[aff_type_count < 100].index)\n",
    "\n",
    "# replace the small outliers and place in \"OTHER\" categors\n",
    "for i in aff_type_bin:\n",
    "    charity_df.AFFILIATION = charity_df.AFFILIATION.replace(i, \"OTHER\")\n",
    "\n",
    "charity_df.AFFILIATION.value_counts()"
   ]
  },
  {
   "cell_type": "code",
   "execution_count": 15,
   "metadata": {},
   "outputs": [
    {
     "output_type": "execute_result",
     "data": {
      "text/plain": [
       "C1000    17326\n",
       "C2000     6074\n",
       "C1200     4837\n",
       "C3000     1918\n",
       "C2100     1883\n",
       "         ...  \n",
       "C2170        1\n",
       "C1728        1\n",
       "C2561        1\n",
       "C1820        1\n",
       "C5200        1\n",
       "Name: CLASSIFICATION, Length: 71, dtype: int64"
      ]
     },
     "metadata": {},
     "execution_count": 15
    }
   ],
   "source": [
    "class_count = charity_df.CLASSIFICATION.value_counts()\n",
    "\n",
    "class_count"
   ]
  },
  {
   "cell_type": "code",
   "execution_count": 16,
   "metadata": {},
   "outputs": [
    {
     "output_type": "execute_result",
     "data": {
      "text/plain": [
       "<matplotlib.axes._subplots.AxesSubplot at 0x1e79d0e1280>"
      ]
     },
     "metadata": {},
     "execution_count": 16
    },
    {
     "output_type": "display_data",
     "data": {
      "text/plain": "<Figure size 432x288 with 1 Axes>",
      "image/svg+xml": "<?xml version=\"1.0\" encoding=\"utf-8\" standalone=\"no\"?>\r\n<!DOCTYPE svg PUBLIC \"-//W3C//DTD SVG 1.1//EN\"\r\n  \"http://www.w3.org/Graphics/SVG/1.1/DTD/svg11.dtd\">\r\n<!-- Created with matplotlib (https://matplotlib.org/) -->\r\n<svg height=\"248.728883pt\" version=\"1.1\" viewBox=\"0 0 411.23125 248.728883\" width=\"411.23125pt\" xmlns=\"http://www.w3.org/2000/svg\" xmlns:xlink=\"http://www.w3.org/1999/xlink\">\r\n <defs>\r\n  <style type=\"text/css\">\r\n*{stroke-linecap:butt;stroke-linejoin:round;}\r\n  </style>\r\n </defs>\r\n <g id=\"figure_1\">\r\n  <g id=\"patch_1\">\r\n   <path d=\"M 0 248.728883 \r\nL 411.23125 248.728883 \r\nL 411.23125 0 \r\nL 0 0 \r\nz\r\n\" style=\"fill:none;\"/>\r\n  </g>\r\n  <g id=\"axes_1\">\r\n   <g id=\"patch_2\">\r\n    <path d=\"M 69.23125 224.850758 \r\nL 404.03125 224.850758 \r\nL 404.03125 7.410758 \r\nL 69.23125 7.410758 \r\nz\r\n\" style=\"fill:#ffffff;\"/>\r\n   </g>\r\n   <g id=\"matplotlib.axis_1\">\r\n    <g id=\"xtick_1\">\r\n     <g id=\"line2d_1\">\r\n      <defs>\r\n       <path d=\"M 0 0 \r\nL 0 3.5 \r\n\" id=\"m556eeaecde\" style=\"stroke:#000000;stroke-width:0.8;\"/>\r\n      </defs>\r\n      <g>\r\n       <use style=\"stroke:#000000;stroke-width:0.8;\" x=\"72.692124\" xlink:href=\"#m556eeaecde\" y=\"224.850758\"/>\r\n      </g>\r\n     </g>\r\n     <g id=\"text_1\">\r\n      <!-- −10000 -->\r\n      <defs>\r\n       <path d=\"M 10.59375 35.5 \r\nL 73.1875 35.5 \r\nL 73.1875 27.203125 \r\nL 10.59375 27.203125 \r\nz\r\n\" id=\"DejaVuSans-8722\"/>\r\n       <path d=\"M 12.40625 8.296875 \r\nL 28.515625 8.296875 \r\nL 28.515625 63.921875 \r\nL 10.984375 60.40625 \r\nL 10.984375 69.390625 \r\nL 28.421875 72.90625 \r\nL 38.28125 72.90625 \r\nL 38.28125 8.296875 \r\nL 54.390625 8.296875 \r\nL 54.390625 0 \r\nL 12.40625 0 \r\nz\r\n\" id=\"DejaVuSans-49\"/>\r\n       <path d=\"M 31.78125 66.40625 \r\nQ 24.171875 66.40625 20.328125 58.90625 \r\nQ 16.5 51.421875 16.5 36.375 \r\nQ 16.5 21.390625 20.328125 13.890625 \r\nQ 24.171875 6.390625 31.78125 6.390625 \r\nQ 39.453125 6.390625 43.28125 13.890625 \r\nQ 47.125 21.390625 47.125 36.375 \r\nQ 47.125 51.421875 43.28125 58.90625 \r\nQ 39.453125 66.40625 31.78125 66.40625 \r\nz\r\nM 31.78125 74.21875 \r\nQ 44.046875 74.21875 50.515625 64.515625 \r\nQ 56.984375 54.828125 56.984375 36.375 \r\nQ 56.984375 17.96875 50.515625 8.265625 \r\nQ 44.046875 -1.421875 31.78125 -1.421875 \r\nQ 19.53125 -1.421875 13.0625 8.265625 \r\nQ 6.59375 17.96875 6.59375 36.375 \r\nQ 6.59375 54.828125 13.0625 64.515625 \r\nQ 19.53125 74.21875 31.78125 74.21875 \r\nz\r\n\" id=\"DejaVuSans-48\"/>\r\n      </defs>\r\n      <g transform=\"translate(52.59603 239.449195)scale(0.1 -0.1)\">\r\n       <use xlink:href=\"#DejaVuSans-8722\"/>\r\n       <use x=\"83.789062\" xlink:href=\"#DejaVuSans-49\"/>\r\n       <use x=\"147.412109\" xlink:href=\"#DejaVuSans-48\"/>\r\n       <use x=\"211.035156\" xlink:href=\"#DejaVuSans-48\"/>\r\n       <use x=\"274.658203\" xlink:href=\"#DejaVuSans-48\"/>\r\n       <use x=\"338.28125\" xlink:href=\"#DejaVuSans-48\"/>\r\n      </g>\r\n     </g>\r\n    </g>\r\n    <g id=\"xtick_2\">\r\n     <g id=\"line2d_2\">\r\n      <g>\r\n       <use style=\"stroke:#000000;stroke-width:0.8;\" x=\"116.61184\" xlink:href=\"#m556eeaecde\" y=\"224.850758\"/>\r\n      </g>\r\n     </g>\r\n     <g id=\"text_2\">\r\n      <!-- −5000 -->\r\n      <defs>\r\n       <path d=\"M 10.796875 72.90625 \r\nL 49.515625 72.90625 \r\nL 49.515625 64.59375 \r\nL 19.828125 64.59375 \r\nL 19.828125 46.734375 \r\nQ 21.96875 47.46875 24.109375 47.828125 \r\nQ 26.265625 48.1875 28.421875 48.1875 \r\nQ 40.625 48.1875 47.75 41.5 \r\nQ 54.890625 34.8125 54.890625 23.390625 \r\nQ 54.890625 11.625 47.5625 5.09375 \r\nQ 40.234375 -1.421875 26.90625 -1.421875 \r\nQ 22.3125 -1.421875 17.546875 -0.640625 \r\nQ 12.796875 0.140625 7.71875 1.703125 \r\nL 7.71875 11.625 \r\nQ 12.109375 9.234375 16.796875 8.0625 \r\nQ 21.484375 6.890625 26.703125 6.890625 \r\nQ 35.15625 6.890625 40.078125 11.328125 \r\nQ 45.015625 15.765625 45.015625 23.390625 \r\nQ 45.015625 31 40.078125 35.4375 \r\nQ 35.15625 39.890625 26.703125 39.890625 \r\nQ 22.75 39.890625 18.8125 39.015625 \r\nQ 14.890625 38.140625 10.796875 36.28125 \r\nz\r\n\" id=\"DejaVuSans-53\"/>\r\n      </defs>\r\n      <g transform=\"translate(99.696997 239.449195)scale(0.1 -0.1)\">\r\n       <use xlink:href=\"#DejaVuSans-8722\"/>\r\n       <use x=\"83.789062\" xlink:href=\"#DejaVuSans-53\"/>\r\n       <use x=\"147.412109\" xlink:href=\"#DejaVuSans-48\"/>\r\n       <use x=\"211.035156\" xlink:href=\"#DejaVuSans-48\"/>\r\n       <use x=\"274.658203\" xlink:href=\"#DejaVuSans-48\"/>\r\n      </g>\r\n     </g>\r\n    </g>\r\n    <g id=\"xtick_3\">\r\n     <g id=\"line2d_3\">\r\n      <g>\r\n       <use style=\"stroke:#000000;stroke-width:0.8;\" x=\"160.531557\" xlink:href=\"#m556eeaecde\" y=\"224.850758\"/>\r\n      </g>\r\n     </g>\r\n     <g id=\"text_3\">\r\n      <!-- 0 -->\r\n      <g transform=\"translate(157.350307 239.449195)scale(0.1 -0.1)\">\r\n       <use xlink:href=\"#DejaVuSans-48\"/>\r\n      </g>\r\n     </g>\r\n    </g>\r\n    <g id=\"xtick_4\">\r\n     <g id=\"line2d_4\">\r\n      <g>\r\n       <use style=\"stroke:#000000;stroke-width:0.8;\" x=\"204.451274\" xlink:href=\"#m556eeaecde\" y=\"224.850758\"/>\r\n      </g>\r\n     </g>\r\n     <g id=\"text_4\">\r\n      <!-- 5000 -->\r\n      <g transform=\"translate(191.726274 239.449195)scale(0.1 -0.1)\">\r\n       <use xlink:href=\"#DejaVuSans-53\"/>\r\n       <use x=\"63.623047\" xlink:href=\"#DejaVuSans-48\"/>\r\n       <use x=\"127.246094\" xlink:href=\"#DejaVuSans-48\"/>\r\n       <use x=\"190.869141\" xlink:href=\"#DejaVuSans-48\"/>\r\n      </g>\r\n     </g>\r\n    </g>\r\n    <g id=\"xtick_5\">\r\n     <g id=\"line2d_5\">\r\n      <g>\r\n       <use style=\"stroke:#000000;stroke-width:0.8;\" x=\"248.37099\" xlink:href=\"#m556eeaecde\" y=\"224.850758\"/>\r\n      </g>\r\n     </g>\r\n     <g id=\"text_5\">\r\n      <!-- 10000 -->\r\n      <g transform=\"translate(232.46474 239.449195)scale(0.1 -0.1)\">\r\n       <use xlink:href=\"#DejaVuSans-49\"/>\r\n       <use x=\"63.623047\" xlink:href=\"#DejaVuSans-48\"/>\r\n       <use x=\"127.246094\" xlink:href=\"#DejaVuSans-48\"/>\r\n       <use x=\"190.869141\" xlink:href=\"#DejaVuSans-48\"/>\r\n       <use x=\"254.492188\" xlink:href=\"#DejaVuSans-48\"/>\r\n      </g>\r\n     </g>\r\n    </g>\r\n    <g id=\"xtick_6\">\r\n     <g id=\"line2d_6\">\r\n      <g>\r\n       <use style=\"stroke:#000000;stroke-width:0.8;\" x=\"292.290707\" xlink:href=\"#m556eeaecde\" y=\"224.850758\"/>\r\n      </g>\r\n     </g>\r\n     <g id=\"text_6\">\r\n      <!-- 15000 -->\r\n      <g transform=\"translate(276.384457 239.449195)scale(0.1 -0.1)\">\r\n       <use xlink:href=\"#DejaVuSans-49\"/>\r\n       <use x=\"63.623047\" xlink:href=\"#DejaVuSans-53\"/>\r\n       <use x=\"127.246094\" xlink:href=\"#DejaVuSans-48\"/>\r\n       <use x=\"190.869141\" xlink:href=\"#DejaVuSans-48\"/>\r\n       <use x=\"254.492188\" xlink:href=\"#DejaVuSans-48\"/>\r\n      </g>\r\n     </g>\r\n    </g>\r\n    <g id=\"xtick_7\">\r\n     <g id=\"line2d_7\">\r\n      <g>\r\n       <use style=\"stroke:#000000;stroke-width:0.8;\" x=\"336.210424\" xlink:href=\"#m556eeaecde\" y=\"224.850758\"/>\r\n      </g>\r\n     </g>\r\n     <g id=\"text_7\">\r\n      <!-- 20000 -->\r\n      <defs>\r\n       <path d=\"M 19.1875 8.296875 \r\nL 53.609375 8.296875 \r\nL 53.609375 0 \r\nL 7.328125 0 \r\nL 7.328125 8.296875 \r\nQ 12.9375 14.109375 22.625 23.890625 \r\nQ 32.328125 33.6875 34.8125 36.53125 \r\nQ 39.546875 41.84375 41.421875 45.53125 \r\nQ 43.3125 49.21875 43.3125 52.78125 \r\nQ 43.3125 58.59375 39.234375 62.25 \r\nQ 35.15625 65.921875 28.609375 65.921875 \r\nQ 23.96875 65.921875 18.8125 64.3125 \r\nQ 13.671875 62.703125 7.8125 59.421875 \r\nL 7.8125 69.390625 \r\nQ 13.765625 71.78125 18.9375 73 \r\nQ 24.125 74.21875 28.421875 74.21875 \r\nQ 39.75 74.21875 46.484375 68.546875 \r\nQ 53.21875 62.890625 53.21875 53.421875 \r\nQ 53.21875 48.921875 51.53125 44.890625 \r\nQ 49.859375 40.875 45.40625 35.40625 \r\nQ 44.1875 33.984375 37.640625 27.21875 \r\nQ 31.109375 20.453125 19.1875 8.296875 \r\nz\r\n\" id=\"DejaVuSans-50\"/>\r\n      </defs>\r\n      <g transform=\"translate(320.304174 239.449195)scale(0.1 -0.1)\">\r\n       <use xlink:href=\"#DejaVuSans-50\"/>\r\n       <use x=\"63.623047\" xlink:href=\"#DejaVuSans-48\"/>\r\n       <use x=\"127.246094\" xlink:href=\"#DejaVuSans-48\"/>\r\n       <use x=\"190.869141\" xlink:href=\"#DejaVuSans-48\"/>\r\n       <use x=\"254.492188\" xlink:href=\"#DejaVuSans-48\"/>\r\n      </g>\r\n     </g>\r\n    </g>\r\n    <g id=\"xtick_8\">\r\n     <g id=\"line2d_8\">\r\n      <g>\r\n       <use style=\"stroke:#000000;stroke-width:0.8;\" x=\"380.13014\" xlink:href=\"#m556eeaecde\" y=\"224.850758\"/>\r\n      </g>\r\n     </g>\r\n     <g id=\"text_8\">\r\n      <!-- 25000 -->\r\n      <g transform=\"translate(364.22389 239.449195)scale(0.1 -0.1)\">\r\n       <use xlink:href=\"#DejaVuSans-50\"/>\r\n       <use x=\"63.623047\" xlink:href=\"#DejaVuSans-53\"/>\r\n       <use x=\"127.246094\" xlink:href=\"#DejaVuSans-48\"/>\r\n       <use x=\"190.869141\" xlink:href=\"#DejaVuSans-48\"/>\r\n       <use x=\"254.492188\" xlink:href=\"#DejaVuSans-48\"/>\r\n      </g>\r\n     </g>\r\n    </g>\r\n   </g>\r\n   <g id=\"matplotlib.axis_2\">\r\n    <g id=\"ytick_1\">\r\n     <g id=\"line2d_9\">\r\n      <defs>\r\n       <path d=\"M 0 0 \r\nL -3.5 0 \r\n\" id=\"m22f68eeb99\" style=\"stroke:#000000;stroke-width:0.8;\"/>\r\n      </defs>\r\n      <g>\r\n       <use style=\"stroke:#000000;stroke-width:0.8;\" x=\"69.23125\" xlink:href=\"#m22f68eeb99\" y=\"214.967122\"/>\r\n      </g>\r\n     </g>\r\n     <g id=\"text_9\">\r\n      <!-- 0.00000 -->\r\n      <defs>\r\n       <path d=\"M 10.6875 12.40625 \r\nL 21 12.40625 \r\nL 21 0 \r\nL 10.6875 0 \r\nz\r\n\" id=\"DejaVuSans-46\"/>\r\n      </defs>\r\n      <g transform=\"translate(20.878125 218.76634)scale(0.1 -0.1)\">\r\n       <use xlink:href=\"#DejaVuSans-48\"/>\r\n       <use x=\"63.623047\" xlink:href=\"#DejaVuSans-46\"/>\r\n       <use x=\"95.410156\" xlink:href=\"#DejaVuSans-48\"/>\r\n       <use x=\"159.033203\" xlink:href=\"#DejaVuSans-48\"/>\r\n       <use x=\"222.65625\" xlink:href=\"#DejaVuSans-48\"/>\r\n       <use x=\"286.279297\" xlink:href=\"#DejaVuSans-48\"/>\r\n       <use x=\"349.902344\" xlink:href=\"#DejaVuSans-48\"/>\r\n      </g>\r\n     </g>\r\n    </g>\r\n    <g id=\"ytick_2\">\r\n     <g id=\"line2d_10\">\r\n      <g>\r\n       <use style=\"stroke:#000000;stroke-width:0.8;\" x=\"69.23125\" xlink:href=\"#m22f68eeb99\" y=\"189.471134\"/>\r\n      </g>\r\n     </g>\r\n     <g id=\"text_10\">\r\n      <!-- 0.00005 -->\r\n      <g transform=\"translate(20.878125 193.270352)scale(0.1 -0.1)\">\r\n       <use xlink:href=\"#DejaVuSans-48\"/>\r\n       <use x=\"63.623047\" xlink:href=\"#DejaVuSans-46\"/>\r\n       <use x=\"95.410156\" xlink:href=\"#DejaVuSans-48\"/>\r\n       <use x=\"159.033203\" xlink:href=\"#DejaVuSans-48\"/>\r\n       <use x=\"222.65625\" xlink:href=\"#DejaVuSans-48\"/>\r\n       <use x=\"286.279297\" xlink:href=\"#DejaVuSans-48\"/>\r\n       <use x=\"349.902344\" xlink:href=\"#DejaVuSans-53\"/>\r\n      </g>\r\n     </g>\r\n    </g>\r\n    <g id=\"ytick_3\">\r\n     <g id=\"line2d_11\">\r\n      <g>\r\n       <use style=\"stroke:#000000;stroke-width:0.8;\" x=\"69.23125\" xlink:href=\"#m22f68eeb99\" y=\"163.975146\"/>\r\n      </g>\r\n     </g>\r\n     <g id=\"text_11\">\r\n      <!-- 0.00010 -->\r\n      <g transform=\"translate(20.878125 167.774365)scale(0.1 -0.1)\">\r\n       <use xlink:href=\"#DejaVuSans-48\"/>\r\n       <use x=\"63.623047\" xlink:href=\"#DejaVuSans-46\"/>\r\n       <use x=\"95.410156\" xlink:href=\"#DejaVuSans-48\"/>\r\n       <use x=\"159.033203\" xlink:href=\"#DejaVuSans-48\"/>\r\n       <use x=\"222.65625\" xlink:href=\"#DejaVuSans-48\"/>\r\n       <use x=\"286.279297\" xlink:href=\"#DejaVuSans-49\"/>\r\n       <use x=\"349.902344\" xlink:href=\"#DejaVuSans-48\"/>\r\n      </g>\r\n     </g>\r\n    </g>\r\n    <g id=\"ytick_4\">\r\n     <g id=\"line2d_12\">\r\n      <g>\r\n       <use style=\"stroke:#000000;stroke-width:0.8;\" x=\"69.23125\" xlink:href=\"#m22f68eeb99\" y=\"138.479158\"/>\r\n      </g>\r\n     </g>\r\n     <g id=\"text_12\">\r\n      <!-- 0.00015 -->\r\n      <g transform=\"translate(20.878125 142.278377)scale(0.1 -0.1)\">\r\n       <use xlink:href=\"#DejaVuSans-48\"/>\r\n       <use x=\"63.623047\" xlink:href=\"#DejaVuSans-46\"/>\r\n       <use x=\"95.410156\" xlink:href=\"#DejaVuSans-48\"/>\r\n       <use x=\"159.033203\" xlink:href=\"#DejaVuSans-48\"/>\r\n       <use x=\"222.65625\" xlink:href=\"#DejaVuSans-48\"/>\r\n       <use x=\"286.279297\" xlink:href=\"#DejaVuSans-49\"/>\r\n       <use x=\"349.902344\" xlink:href=\"#DejaVuSans-53\"/>\r\n      </g>\r\n     </g>\r\n    </g>\r\n    <g id=\"ytick_5\">\r\n     <g id=\"line2d_13\">\r\n      <g>\r\n       <use style=\"stroke:#000000;stroke-width:0.8;\" x=\"69.23125\" xlink:href=\"#m22f68eeb99\" y=\"112.98317\"/>\r\n      </g>\r\n     </g>\r\n     <g id=\"text_13\">\r\n      <!-- 0.00020 -->\r\n      <g transform=\"translate(20.878125 116.782389)scale(0.1 -0.1)\">\r\n       <use xlink:href=\"#DejaVuSans-48\"/>\r\n       <use x=\"63.623047\" xlink:href=\"#DejaVuSans-46\"/>\r\n       <use x=\"95.410156\" xlink:href=\"#DejaVuSans-48\"/>\r\n       <use x=\"159.033203\" xlink:href=\"#DejaVuSans-48\"/>\r\n       <use x=\"222.65625\" xlink:href=\"#DejaVuSans-48\"/>\r\n       <use x=\"286.279297\" xlink:href=\"#DejaVuSans-50\"/>\r\n       <use x=\"349.902344\" xlink:href=\"#DejaVuSans-48\"/>\r\n      </g>\r\n     </g>\r\n    </g>\r\n    <g id=\"ytick_6\">\r\n     <g id=\"line2d_14\">\r\n      <g>\r\n       <use style=\"stroke:#000000;stroke-width:0.8;\" x=\"69.23125\" xlink:href=\"#m22f68eeb99\" y=\"87.487182\"/>\r\n      </g>\r\n     </g>\r\n     <g id=\"text_14\">\r\n      <!-- 0.00025 -->\r\n      <g transform=\"translate(20.878125 91.286401)scale(0.1 -0.1)\">\r\n       <use xlink:href=\"#DejaVuSans-48\"/>\r\n       <use x=\"63.623047\" xlink:href=\"#DejaVuSans-46\"/>\r\n       <use x=\"95.410156\" xlink:href=\"#DejaVuSans-48\"/>\r\n       <use x=\"159.033203\" xlink:href=\"#DejaVuSans-48\"/>\r\n       <use x=\"222.65625\" xlink:href=\"#DejaVuSans-48\"/>\r\n       <use x=\"286.279297\" xlink:href=\"#DejaVuSans-50\"/>\r\n       <use x=\"349.902344\" xlink:href=\"#DejaVuSans-53\"/>\r\n      </g>\r\n     </g>\r\n    </g>\r\n    <g id=\"ytick_7\">\r\n     <g id=\"line2d_15\">\r\n      <g>\r\n       <use style=\"stroke:#000000;stroke-width:0.8;\" x=\"69.23125\" xlink:href=\"#m22f68eeb99\" y=\"61.991194\"/>\r\n      </g>\r\n     </g>\r\n     <g id=\"text_15\">\r\n      <!-- 0.00030 -->\r\n      <defs>\r\n       <path d=\"M 40.578125 39.3125 \r\nQ 47.65625 37.796875 51.625 33 \r\nQ 55.609375 28.21875 55.609375 21.1875 \r\nQ 55.609375 10.40625 48.1875 4.484375 \r\nQ 40.765625 -1.421875 27.09375 -1.421875 \r\nQ 22.515625 -1.421875 17.65625 -0.515625 \r\nQ 12.796875 0.390625 7.625 2.203125 \r\nL 7.625 11.71875 \r\nQ 11.71875 9.328125 16.59375 8.109375 \r\nQ 21.484375 6.890625 26.8125 6.890625 \r\nQ 36.078125 6.890625 40.9375 10.546875 \r\nQ 45.796875 14.203125 45.796875 21.1875 \r\nQ 45.796875 27.640625 41.28125 31.265625 \r\nQ 36.765625 34.90625 28.71875 34.90625 \r\nL 20.21875 34.90625 \r\nL 20.21875 43.015625 \r\nL 29.109375 43.015625 \r\nQ 36.375 43.015625 40.234375 45.921875 \r\nQ 44.09375 48.828125 44.09375 54.296875 \r\nQ 44.09375 59.90625 40.109375 62.90625 \r\nQ 36.140625 65.921875 28.71875 65.921875 \r\nQ 24.65625 65.921875 20.015625 65.03125 \r\nQ 15.375 64.15625 9.8125 62.3125 \r\nL 9.8125 71.09375 \r\nQ 15.4375 72.65625 20.34375 73.4375 \r\nQ 25.25 74.21875 29.59375 74.21875 \r\nQ 40.828125 74.21875 47.359375 69.109375 \r\nQ 53.90625 64.015625 53.90625 55.328125 \r\nQ 53.90625 49.265625 50.4375 45.09375 \r\nQ 46.96875 40.921875 40.578125 39.3125 \r\nz\r\n\" id=\"DejaVuSans-51\"/>\r\n      </defs>\r\n      <g transform=\"translate(20.878125 65.790413)scale(0.1 -0.1)\">\r\n       <use xlink:href=\"#DejaVuSans-48\"/>\r\n       <use x=\"63.623047\" xlink:href=\"#DejaVuSans-46\"/>\r\n       <use x=\"95.410156\" xlink:href=\"#DejaVuSans-48\"/>\r\n       <use x=\"159.033203\" xlink:href=\"#DejaVuSans-48\"/>\r\n       <use x=\"222.65625\" xlink:href=\"#DejaVuSans-48\"/>\r\n       <use x=\"286.279297\" xlink:href=\"#DejaVuSans-51\"/>\r\n       <use x=\"349.902344\" xlink:href=\"#DejaVuSans-48\"/>\r\n      </g>\r\n     </g>\r\n    </g>\r\n    <g id=\"ytick_8\">\r\n     <g id=\"line2d_16\">\r\n      <g>\r\n       <use style=\"stroke:#000000;stroke-width:0.8;\" x=\"69.23125\" xlink:href=\"#m22f68eeb99\" y=\"36.495207\"/>\r\n      </g>\r\n     </g>\r\n     <g id=\"text_16\">\r\n      <!-- 0.00035 -->\r\n      <g transform=\"translate(20.878125 40.294425)scale(0.1 -0.1)\">\r\n       <use xlink:href=\"#DejaVuSans-48\"/>\r\n       <use x=\"63.623047\" xlink:href=\"#DejaVuSans-46\"/>\r\n       <use x=\"95.410156\" xlink:href=\"#DejaVuSans-48\"/>\r\n       <use x=\"159.033203\" xlink:href=\"#DejaVuSans-48\"/>\r\n       <use x=\"222.65625\" xlink:href=\"#DejaVuSans-48\"/>\r\n       <use x=\"286.279297\" xlink:href=\"#DejaVuSans-51\"/>\r\n       <use x=\"349.902344\" xlink:href=\"#DejaVuSans-53\"/>\r\n      </g>\r\n     </g>\r\n    </g>\r\n    <g id=\"ytick_9\">\r\n     <g id=\"line2d_17\">\r\n      <g>\r\n       <use style=\"stroke:#000000;stroke-width:0.8;\" x=\"69.23125\" xlink:href=\"#m22f68eeb99\" y=\"10.999219\"/>\r\n      </g>\r\n     </g>\r\n     <g id=\"text_17\">\r\n      <!-- 0.00040 -->\r\n      <defs>\r\n       <path d=\"M 37.796875 64.3125 \r\nL 12.890625 25.390625 \r\nL 37.796875 25.390625 \r\nz\r\nM 35.203125 72.90625 \r\nL 47.609375 72.90625 \r\nL 47.609375 25.390625 \r\nL 58.015625 25.390625 \r\nL 58.015625 17.1875 \r\nL 47.609375 17.1875 \r\nL 47.609375 0 \r\nL 37.796875 0 \r\nL 37.796875 17.1875 \r\nL 4.890625 17.1875 \r\nL 4.890625 26.703125 \r\nz\r\n\" id=\"DejaVuSans-52\"/>\r\n      </defs>\r\n      <g transform=\"translate(20.878125 14.798437)scale(0.1 -0.1)\">\r\n       <use xlink:href=\"#DejaVuSans-48\"/>\r\n       <use x=\"63.623047\" xlink:href=\"#DejaVuSans-46\"/>\r\n       <use x=\"95.410156\" xlink:href=\"#DejaVuSans-48\"/>\r\n       <use x=\"159.033203\" xlink:href=\"#DejaVuSans-48\"/>\r\n       <use x=\"222.65625\" xlink:href=\"#DejaVuSans-48\"/>\r\n       <use x=\"286.279297\" xlink:href=\"#DejaVuSans-52\"/>\r\n       <use x=\"349.902344\" xlink:href=\"#DejaVuSans-48\"/>\r\n      </g>\r\n     </g>\r\n    </g>\r\n    <g id=\"text_18\">\r\n     <!-- Density -->\r\n     <defs>\r\n      <path d=\"M 19.671875 64.796875 \r\nL 19.671875 8.109375 \r\nL 31.59375 8.109375 \r\nQ 46.6875 8.109375 53.6875 14.9375 \r\nQ 60.6875 21.78125 60.6875 36.53125 \r\nQ 60.6875 51.171875 53.6875 57.984375 \r\nQ 46.6875 64.796875 31.59375 64.796875 \r\nz\r\nM 9.8125 72.90625 \r\nL 30.078125 72.90625 \r\nQ 51.265625 72.90625 61.171875 64.09375 \r\nQ 71.09375 55.28125 71.09375 36.53125 \r\nQ 71.09375 17.671875 61.125 8.828125 \r\nQ 51.171875 0 30.078125 0 \r\nL 9.8125 0 \r\nz\r\n\" id=\"DejaVuSans-68\"/>\r\n      <path d=\"M 56.203125 29.59375 \r\nL 56.203125 25.203125 \r\nL 14.890625 25.203125 \r\nQ 15.484375 15.921875 20.484375 11.0625 \r\nQ 25.484375 6.203125 34.421875 6.203125 \r\nQ 39.59375 6.203125 44.453125 7.46875 \r\nQ 49.3125 8.734375 54.109375 11.28125 \r\nL 54.109375 2.78125 \r\nQ 49.265625 0.734375 44.1875 -0.34375 \r\nQ 39.109375 -1.421875 33.890625 -1.421875 \r\nQ 20.796875 -1.421875 13.15625 6.1875 \r\nQ 5.515625 13.8125 5.515625 26.8125 \r\nQ 5.515625 40.234375 12.765625 48.109375 \r\nQ 20.015625 56 32.328125 56 \r\nQ 43.359375 56 49.78125 48.890625 \r\nQ 56.203125 41.796875 56.203125 29.59375 \r\nz\r\nM 47.21875 32.234375 \r\nQ 47.125 39.59375 43.09375 43.984375 \r\nQ 39.0625 48.390625 32.421875 48.390625 \r\nQ 24.90625 48.390625 20.390625 44.140625 \r\nQ 15.875 39.890625 15.1875 32.171875 \r\nz\r\n\" id=\"DejaVuSans-101\"/>\r\n      <path d=\"M 54.890625 33.015625 \r\nL 54.890625 0 \r\nL 45.90625 0 \r\nL 45.90625 32.71875 \r\nQ 45.90625 40.484375 42.875 44.328125 \r\nQ 39.84375 48.1875 33.796875 48.1875 \r\nQ 26.515625 48.1875 22.3125 43.546875 \r\nQ 18.109375 38.921875 18.109375 30.90625 \r\nL 18.109375 0 \r\nL 9.078125 0 \r\nL 9.078125 54.6875 \r\nL 18.109375 54.6875 \r\nL 18.109375 46.1875 \r\nQ 21.34375 51.125 25.703125 53.5625 \r\nQ 30.078125 56 35.796875 56 \r\nQ 45.21875 56 50.046875 50.171875 \r\nQ 54.890625 44.34375 54.890625 33.015625 \r\nz\r\n\" id=\"DejaVuSans-110\"/>\r\n      <path d=\"M 44.28125 53.078125 \r\nL 44.28125 44.578125 \r\nQ 40.484375 46.53125 36.375 47.5 \r\nQ 32.28125 48.484375 27.875 48.484375 \r\nQ 21.1875 48.484375 17.84375 46.4375 \r\nQ 14.5 44.390625 14.5 40.28125 \r\nQ 14.5 37.15625 16.890625 35.375 \r\nQ 19.28125 33.59375 26.515625 31.984375 \r\nL 29.59375 31.296875 \r\nQ 39.15625 29.25 43.1875 25.515625 \r\nQ 47.21875 21.78125 47.21875 15.09375 \r\nQ 47.21875 7.46875 41.1875 3.015625 \r\nQ 35.15625 -1.421875 24.609375 -1.421875 \r\nQ 20.21875 -1.421875 15.453125 -0.5625 \r\nQ 10.6875 0.296875 5.421875 2 \r\nL 5.421875 11.28125 \r\nQ 10.40625 8.6875 15.234375 7.390625 \r\nQ 20.0625 6.109375 24.8125 6.109375 \r\nQ 31.15625 6.109375 34.5625 8.28125 \r\nQ 37.984375 10.453125 37.984375 14.40625 \r\nQ 37.984375 18.0625 35.515625 20.015625 \r\nQ 33.0625 21.96875 24.703125 23.78125 \r\nL 21.578125 24.515625 \r\nQ 13.234375 26.265625 9.515625 29.90625 \r\nQ 5.8125 33.546875 5.8125 39.890625 \r\nQ 5.8125 47.609375 11.28125 51.796875 \r\nQ 16.75 56 26.8125 56 \r\nQ 31.78125 56 36.171875 55.265625 \r\nQ 40.578125 54.546875 44.28125 53.078125 \r\nz\r\n\" id=\"DejaVuSans-115\"/>\r\n      <path d=\"M 9.421875 54.6875 \r\nL 18.40625 54.6875 \r\nL 18.40625 0 \r\nL 9.421875 0 \r\nz\r\nM 9.421875 75.984375 \r\nL 18.40625 75.984375 \r\nL 18.40625 64.59375 \r\nL 9.421875 64.59375 \r\nz\r\n\" id=\"DejaVuSans-105\"/>\r\n      <path d=\"M 18.3125 70.21875 \r\nL 18.3125 54.6875 \r\nL 36.8125 54.6875 \r\nL 36.8125 47.703125 \r\nL 18.3125 47.703125 \r\nL 18.3125 18.015625 \r\nQ 18.3125 11.328125 20.140625 9.421875 \r\nQ 21.96875 7.515625 27.59375 7.515625 \r\nL 36.8125 7.515625 \r\nL 36.8125 0 \r\nL 27.59375 0 \r\nQ 17.1875 0 13.234375 3.875 \r\nQ 9.28125 7.765625 9.28125 18.015625 \r\nL 9.28125 47.703125 \r\nL 2.6875 47.703125 \r\nL 2.6875 54.6875 \r\nL 9.28125 54.6875 \r\nL 9.28125 70.21875 \r\nz\r\n\" id=\"DejaVuSans-116\"/>\r\n      <path d=\"M 32.171875 -5.078125 \r\nQ 28.375 -14.84375 24.75 -17.8125 \r\nQ 21.140625 -20.796875 15.09375 -20.796875 \r\nL 7.90625 -20.796875 \r\nL 7.90625 -13.28125 \r\nL 13.1875 -13.28125 \r\nQ 16.890625 -13.28125 18.9375 -11.515625 \r\nQ 21 -9.765625 23.484375 -3.21875 \r\nL 25.09375 0.875 \r\nL 2.984375 54.6875 \r\nL 12.5 54.6875 \r\nL 29.59375 11.921875 \r\nL 46.6875 54.6875 \r\nL 56.203125 54.6875 \r\nz\r\n\" id=\"DejaVuSans-121\"/>\r\n     </defs>\r\n     <g transform=\"translate(14.798437 135.139352)rotate(-90)scale(0.1 -0.1)\">\r\n      <use xlink:href=\"#DejaVuSans-68\"/>\r\n      <use x=\"77.001953\" xlink:href=\"#DejaVuSans-101\"/>\r\n      <use x=\"138.525391\" xlink:href=\"#DejaVuSans-110\"/>\r\n      <use x=\"201.904297\" xlink:href=\"#DejaVuSans-115\"/>\r\n      <use x=\"254.003906\" xlink:href=\"#DejaVuSans-105\"/>\r\n      <use x=\"281.787109\" xlink:href=\"#DejaVuSans-116\"/>\r\n      <use x=\"320.996094\" xlink:href=\"#DejaVuSans-121\"/>\r\n     </g>\r\n    </g>\r\n   </g>\r\n   <g id=\"line2d_18\">\r\n    <path clip-path=\"url(#p56bec29ec8)\" d=\"M 84.449432 214.967122 \r\nL 128.016999 214.867099 \r\nL 130.759014 214.629406 \r\nL 132.587024 214.250696 \r\nL 133.805697 213.814983 \r\nL 135.02437 213.152823 \r\nL 135.938375 212.45164 \r\nL 136.85238 211.520453 \r\nL 137.766385 210.300053 \r\nL 138.68039 208.721788 \r\nL 139.594395 206.707985 \r\nL 140.5084 204.173136 \r\nL 141.422405 201.025994 \r\nL 142.33641 197.172706 \r\nL 143.250415 192.521057 \r\nL 144.469088 184.931384 \r\nL 145.687761 175.610106 \r\nL 146.906434 164.466699 \r\nL 148.429776 148.00493 \r\nL 149.953117 129.037362 \r\nL 152.390464 95.321445 \r\nL 155.132479 57.849239 \r\nL 156.65582 40.320168 \r\nL 157.569825 31.756049 \r\nL 158.48383 25.000733 \r\nL 159.093166 21.613693 \r\nL 159.702503 19.179482 \r\nL 160.31184 17.733136 \r\nL 160.616508 17.387195 \r\nL 160.921176 17.294394 \r\nL 161.225845 17.45473 \r\nL 161.530513 17.867204 \r\nL 162.13985 19.439645 \r\nL 162.749186 21.984266 \r\nL 163.358523 25.458829 \r\nL 164.272528 32.288638 \r\nL 165.186533 40.843814 \r\nL 166.405206 54.434824 \r\nL 168.233216 77.93797 \r\nL 172.498572 134.296264 \r\nL 174.021913 151.418622 \r\nL 175.545255 166.00522 \r\nL 176.763928 175.768986 \r\nL 177.982601 183.902759 \r\nL 179.201275 190.543392 \r\nL 180.419948 195.869958 \r\nL 181.638621 200.078034 \r\nL 182.857294 203.359774 \r\nL 184.075967 205.8904 \r\nL 185.294641 207.820734 \r\nL 186.513314 209.274743 \r\nL 187.731987 210.350723 \r\nL 188.95066 211.124744 \r\nL 190.169334 211.655122 \r\nL 191.692675 212.043323 \r\nL 193.216017 212.189756 \r\nL 195.044026 212.124735 \r\nL 197.176705 211.822045 \r\nL 201.746729 210.863394 \r\nL 204.793412 210.340399 \r\nL 207.230759 210.124314 \r\nL 209.668105 210.130783 \r\nL 212.105451 210.366255 \r\nL 214.847466 210.877812 \r\nL 218.198818 211.755382 \r\nL 225.206189 213.667947 \r\nL 228.252872 214.240967 \r\nL 231.604223 214.634569 \r\nL 235.564911 214.858532 \r\nL 241.962945 214.95587 \r\nL 270.601766 214.967111 \r\nL 291.014542 214.861086 \r\nL 295.279899 214.620588 \r\nL 298.935918 214.188412 \r\nL 302.591938 213.519441 \r\nL 309.294641 212.209416 \r\nL 311.731987 211.990595 \r\nL 314.169334 212.014014 \r\nL 316.60668 212.273998 \r\nL 319.653363 212.835209 \r\nL 326.660734 214.211389 \r\nL 330.012085 214.607339 \r\nL 333.972773 214.845247 \r\nL 340.066139 214.952195 \r\nL 362.916262 214.967121 \r\nL 388.813068 214.967122 \r\nL 388.813068 214.967122 \r\n\" style=\"fill:none;stroke:#1f77b4;stroke-linecap:square;stroke-width:1.5;\"/>\r\n   </g>\r\n   <g id=\"patch_3\">\r\n    <path d=\"M 69.23125 224.850758 \r\nL 69.23125 7.410758 \r\n\" style=\"fill:none;stroke:#000000;stroke-linecap:square;stroke-linejoin:miter;stroke-width:0.8;\"/>\r\n   </g>\r\n   <g id=\"patch_4\">\r\n    <path d=\"M 404.03125 224.850758 \r\nL 404.03125 7.410758 \r\n\" style=\"fill:none;stroke:#000000;stroke-linecap:square;stroke-linejoin:miter;stroke-width:0.8;\"/>\r\n   </g>\r\n   <g id=\"patch_5\">\r\n    <path d=\"M 69.23125 224.850758 \r\nL 404.03125 224.850758 \r\n\" style=\"fill:none;stroke:#000000;stroke-linecap:square;stroke-linejoin:miter;stroke-width:0.8;\"/>\r\n   </g>\r\n   <g id=\"patch_6\">\r\n    <path d=\"M 69.23125 7.410758 \r\nL 404.03125 7.410758 \r\n\" style=\"fill:none;stroke:#000000;stroke-linecap:square;stroke-linejoin:miter;stroke-width:0.8;\"/>\r\n   </g>\r\n  </g>\r\n </g>\r\n <defs>\r\n  <clipPath id=\"p56bec29ec8\">\r\n   <rect height=\"217.44\" width=\"334.8\" x=\"69.23125\" y=\"7.410758\"/>\r\n  </clipPath>\r\n </defs>\r\n</svg>\r\n",
      "image/png": "[encoded data removed]"
     },
     "metadata": {
      "needs_background": "light"
     }
    }
   ],
   "source": [
    "charity_df.CLASSIFICATION.value_counts().plot.density()"
   ]
  },
  {
   "cell_type": "code",
   "execution_count": 17,
   "metadata": {},
   "outputs": [
    {
     "output_type": "execute_result",
     "data": {
      "text/plain": [
       "C1000    17326\n",
       "C2000     6074\n",
       "C1200     4837\n",
       "C3000     1918\n",
       "C2100     1883\n",
       "C7000      777\n",
       "OTHER      669\n",
       "C1700      287\n",
       "C4000      194\n",
       "C5000      116\n",
       "C1270      114\n",
       "C2700      104\n",
       "Name: CLASSIFICATION, dtype: int64"
      ]
     },
     "metadata": {},
     "execution_count": 17
    }
   ],
   "source": [
    "# binning values less than 100\n",
    "class_bin = list(class_count[class_count < 100].index)\n",
    "\n",
    "# replace the small outliers and place in \"OTHER\" categors\n",
    "for i in class_bin:\n",
    "    charity_df.CLASSIFICATION = charity_df.CLASSIFICATION.replace(i, \"OTHER\")\n",
    "\n",
    "charity_df.CLASSIFICATION.value_counts()"
   ]
  },
  {
   "cell_type": "code",
   "execution_count": 18,
   "metadata": {},
   "outputs": [
    {
     "output_type": "execute_result",
     "data": {
      "text/plain": [
       "Preservation     28095\n",
       "ProductDev        5671\n",
       "CommunityServ      384\n",
       "Heathcare          146\n",
       "Other                3\n",
       "Name: USE_CASE, dtype: int64"
      ]
     },
     "metadata": {},
     "execution_count": 18
    }
   ],
   "source": [
    "charity_df.USE_CASE.value_counts()"
   ]
  },
  {
   "cell_type": "code",
   "execution_count": 19,
   "metadata": {},
   "outputs": [
    {
     "output_type": "execute_result",
     "data": {
      "text/plain": [
       "Trust           23515\n",
       "Association     10255\n",
       "Co-operative      486\n",
       "Corporation        43\n",
       "Name: ORGANIZATION, dtype: int64"
      ]
     },
     "metadata": {},
     "execution_count": 19
    }
   ],
   "source": [
    "charity_df.ORGANIZATION.value_counts()"
   ]
  },
  {
   "cell_type": "code",
   "execution_count": 20,
   "metadata": {},
   "outputs": [
    {
     "output_type": "execute_result",
     "data": {
      "text/plain": [
       "0                24388\n",
       "25000-99999       3747\n",
       "100000-499999     3374\n",
       "1M-5M              955\n",
       "1-9999             728\n",
       "10000-24999        543\n",
       "10M-50M            240\n",
       "5M-10M             185\n",
       "50M+               139\n",
       "Name: INCOME_AMT, dtype: int64"
      ]
     },
     "metadata": {},
     "execution_count": 20
    }
   ],
   "source": [
    "charity_df.INCOME_AMT.value_counts()"
   ]
  },
  {
   "cell_type": "code",
   "execution_count": 21,
   "metadata": {},
   "outputs": [
    {
     "output_type": "execute_result",
     "data": {
      "text/plain": [
       "N    34272\n",
       "Y       27\n",
       "Name: SPECIAL_CONSIDERATIONS, dtype: int64"
      ]
     },
     "metadata": {},
     "execution_count": 21
    }
   ],
   "source": [
    "charity_df.SPECIAL_CONSIDERATIONS.value_counts()"
   ]
  },
  {
   "cell_type": "code",
   "execution_count": 22,
   "metadata": {},
   "outputs": [
    {
     "output_type": "execute_result",
     "data": {
      "text/plain": [
       "  APPLICATION_TYPE       AFFILIATION CLASSIFICATION      USE_CASE  \\\n",
       "0              T10       Independent          C1000    ProductDev   \n",
       "1               T3       Independent          C2000  Preservation   \n",
       "2               T5  CompanySponsored          C3000    ProductDev   \n",
       "3               T3  CompanySponsored          C2000  Preservation   \n",
       "4               T3       Independent          C1000     Heathcare   \n",
       "\n",
       "   ORGANIZATION  STATUS     INCOME_AMT  SPECIAL_CONSIDERATIONS  ASK_AMT  \\\n",
       "0   Association       1              0                       1     5000   \n",
       "1  Co-operative       1         1-9999                       1   108590   \n",
       "2   Association       1              0                       1     5000   \n",
       "3         Trust       1    10000-24999                       1     6692   \n",
       "4         Trust       1  100000-499999                       1   142590   \n",
       "\n",
       "   IS_SUCCESSFUL  \n",
       "0              1  \n",
       "1              1  \n",
       "2              0  \n",
       "3              1  \n",
       "4              1  "
      ],
      "text/html": "<div>\n<style scoped>\n    .dataframe tbody tr th:only-of-type {\n        vertical-align: middle;\n    }\n\n    .dataframe tbody tr th {\n        vertical-align: top;\n    }\n\n    .dataframe thead th {\n        text-align: right;\n    }\n</style>\n<table border=\"1\" class=\"dataframe\">\n  <thead>\n    <tr style=\"text-align: right;\">\n      <th></th>\n      <th>APPLICATION_TYPE</th>\n      <th>AFFILIATION</th>\n      <th>CLASSIFICATION</th>\n      <th>USE_CASE</th>\n      <th>ORGANIZATION</th>\n      <th>STATUS</th>\n      <th>INCOME_AMT</th>\n      <th>SPECIAL_CONSIDERATIONS</th>\n      <th>ASK_AMT</th>\n      <th>IS_SUCCESSFUL</th>\n    </tr>\n  </thead>\n  <tbody>\n    <tr>\n      <th>0</th>\n      <td>T10</td>\n      <td>Independent</td>\n      <td>C1000</td>\n      <td>ProductDev</td>\n      <td>Association</td>\n      <td>1</td>\n      <td>0</td>\n      <td>1</td>\n      <td>5000</td>\n      <td>1</td>\n    </tr>\n    <tr>\n      <th>1</th>\n      <td>T3</td>\n      <td>Independent</td>\n      <td>C2000</td>\n      <td>Preservation</td>\n      <td>Co-operative</td>\n      <td>1</td>\n      <td>1-9999</td>\n      <td>1</td>\n      <td>108590</td>\n      <td>1</td>\n    </tr>\n    <tr>\n      <th>2</th>\n      <td>T5</td>\n      <td>CompanySponsored</td>\n      <td>C3000</td>\n      <td>ProductDev</td>\n      <td>Association</td>\n      <td>1</td>\n      <td>0</td>\n      <td>1</td>\n      <td>5000</td>\n      <td>0</td>\n    </tr>\n    <tr>\n      <th>3</th>\n      <td>T3</td>\n      <td>CompanySponsored</td>\n      <td>C2000</td>\n      <td>Preservation</td>\n      <td>Trust</td>\n      <td>1</td>\n      <td>10000-24999</td>\n      <td>1</td>\n      <td>6692</td>\n      <td>1</td>\n    </tr>\n    <tr>\n      <th>4</th>\n      <td>T3</td>\n      <td>Independent</td>\n      <td>C1000</td>\n      <td>Heathcare</td>\n      <td>Trust</td>\n      <td>1</td>\n      <td>100000-499999</td>\n      <td>1</td>\n      <td>142590</td>\n      <td>1</td>\n    </tr>\n  </tbody>\n</table>\n</div>"
     },
     "metadata": {},
     "execution_count": 22
    }
   ],
   "source": [
    "# Change values to Y = 1, N = 0\n",
    "charity_df['SPECIAL_CONSIDERATIONS'] = charity_df['SPECIAL_CONSIDERATIONS'].replace(['Y','N'], [0,1])\n",
    "charity_df.head()"
   ]
  },
  {
   "cell_type": "code",
   "execution_count": 23,
   "metadata": {},
   "outputs": [
    {
     "output_type": "execute_result",
     "data": {
      "text/plain": [
       "APPLICATION_TYPE          object\n",
       "AFFILIATION               object\n",
       "CLASSIFICATION            object\n",
       "USE_CASE                  object\n",
       "ORGANIZATION              object\n",
       "STATUS                     int64\n",
       "INCOME_AMT                object\n",
       "SPECIAL_CONSIDERATIONS     int64\n",
       "ASK_AMT                    int64\n",
       "IS_SUCCESSFUL              int64\n",
       "dtype: object"
      ]
     },
     "metadata": {},
     "execution_count": 23
    }
   ],
   "source": [
    "charity_df.dtypes"
   ]
  },
  {
   "cell_type": "code",
   "execution_count": 24,
   "metadata": {},
   "outputs": [
    {
     "output_type": "execute_result",
     "data": {
      "text/plain": [
       "['APPLICATION_TYPE',\n",
       " 'AFFILIATION',\n",
       " 'CLASSIFICATION',\n",
       " 'USE_CASE',\n",
       " 'ORGANIZATION',\n",
       " 'INCOME_AMT']"
      ]
     },
     "metadata": {},
     "execution_count": 24
    }
   ],
   "source": [
    "# create new list of columns of data type = object\n",
    "charity_bin_cat = charity_df.dtypes[charity_df.dtypes == 'object'].index.tolist()\n",
    "charity_bin_cat"
   ]
  },
  {
   "source": [
    "## Encode categorical data"
   ],
   "cell_type": "markdown",
   "metadata": {}
  },
  {
   "cell_type": "code",
   "execution_count": 25,
   "metadata": {},
   "outputs": [
    {
     "output_type": "execute_result",
     "data": {
      "text/plain": [
       "   APPLICATION_TYPE_OTHER  APPLICATION_TYPE_T10  APPLICATION_TYPE_T19  \\\n",
       "0                     0.0                   1.0                   0.0   \n",
       "1                     0.0                   0.0                   0.0   \n",
       "2                     0.0                   0.0                   0.0   \n",
       "3                     0.0                   0.0                   0.0   \n",
       "4                     0.0                   0.0                   0.0   \n",
       "\n",
       "   APPLICATION_TYPE_T3  APPLICATION_TYPE_T4  APPLICATION_TYPE_T5  \\\n",
       "0                  0.0                  0.0                  0.0   \n",
       "1                  1.0                  0.0                  0.0   \n",
       "2                  0.0                  0.0                  1.0   \n",
       "3                  1.0                  0.0                  0.0   \n",
       "4                  1.0                  0.0                  0.0   \n",
       "\n",
       "   APPLICATION_TYPE_T6  APPLICATION_TYPE_T7  APPLICATION_TYPE_T8  \\\n",
       "0                  0.0                  0.0                  0.0   \n",
       "1                  0.0                  0.0                  0.0   \n",
       "2                  0.0                  0.0                  0.0   \n",
       "3                  0.0                  0.0                  0.0   \n",
       "4                  0.0                  0.0                  0.0   \n",
       "\n",
       "   APPLICATION_TYPE_T9  ...  ORGANIZATION_Trust  INCOME_AMT_0  \\\n",
       "0                  0.0  ...                 0.0           1.0   \n",
       "1                  0.0  ...                 0.0           0.0   \n",
       "2                  0.0  ...                 0.0           1.0   \n",
       "3                  0.0  ...                 1.0           0.0   \n",
       "4                  0.0  ...                 1.0           0.0   \n",
       "\n",
       "   INCOME_AMT_1-9999  INCOME_AMT_10000-24999  INCOME_AMT_100000-499999  \\\n",
       "0                0.0                     0.0                       0.0   \n",
       "1                1.0                     0.0                       0.0   \n",
       "2                0.0                     0.0                       0.0   \n",
       "3                0.0                     1.0                       0.0   \n",
       "4                0.0                     0.0                       1.0   \n",
       "\n",
       "   INCOME_AMT_10M-50M  INCOME_AMT_1M-5M  INCOME_AMT_25000-99999  \\\n",
       "0                 0.0               0.0                     0.0   \n",
       "1                 0.0               0.0                     0.0   \n",
       "2                 0.0               0.0                     0.0   \n",
       "3                 0.0               0.0                     0.0   \n",
       "4                 0.0               0.0                     0.0   \n",
       "\n",
       "   INCOME_AMT_50M+  INCOME_AMT_5M-10M  \n",
       "0              0.0                0.0  \n",
       "1              0.0                0.0  \n",
       "2              0.0                0.0  \n",
       "3              0.0                0.0  \n",
       "4              0.0                0.0  \n",
       "\n",
       "[5 rows x 43 columns]"
      ],
      "text/html": "<div>\n<style scoped>\n    .dataframe tbody tr th:only-of-type {\n        vertical-align: middle;\n    }\n\n    .dataframe tbody tr th {\n        vertical-align: top;\n    }\n\n    .dataframe thead th {\n        text-align: right;\n    }\n</style>\n<table border=\"1\" class=\"dataframe\">\n  <thead>\n    <tr style=\"text-align: right;\">\n      <th></th>\n      <th>APPLICATION_TYPE_OTHER</th>\n      <th>APPLICATION_TYPE_T10</th>\n      <th>APPLICATION_TYPE_T19</th>\n      <th>APPLICATION_TYPE_T3</th>\n      <th>APPLICATION_TYPE_T4</th>\n      <th>APPLICATION_TYPE_T5</th>\n      <th>APPLICATION_TYPE_T6</th>\n      <th>APPLICATION_TYPE_T7</th>\n      <th>APPLICATION_TYPE_T8</th>\n      <th>APPLICATION_TYPE_T9</th>\n      <th>...</th>\n      <th>ORGANIZATION_Trust</th>\n      <th>INCOME_AMT_0</th>\n      <th>INCOME_AMT_1-9999</th>\n      <th>INCOME_AMT_10000-24999</th>\n      <th>INCOME_AMT_100000-499999</th>\n      <th>INCOME_AMT_10M-50M</th>\n      <th>INCOME_AMT_1M-5M</th>\n      <th>INCOME_AMT_25000-99999</th>\n      <th>INCOME_AMT_50M+</th>\n      <th>INCOME_AMT_5M-10M</th>\n    </tr>\n  </thead>\n  <tbody>\n    <tr>\n      <th>0</th>\n      <td>0.0</td>\n      <td>1.0</td>\n      <td>0.0</td>\n      <td>0.0</td>\n      <td>0.0</td>\n      <td>0.0</td>\n      <td>0.0</td>\n      <td>0.0</td>\n      <td>0.0</td>\n      <td>0.0</td>\n      <td>...</td>\n      <td>0.0</td>\n      <td>1.0</td>\n      <td>0.0</td>\n      <td>0.0</td>\n      <td>0.0</td>\n      <td>0.0</td>\n      <td>0.0</td>\n      <td>0.0</td>\n      <td>0.0</td>\n      <td>0.0</td>\n    </tr>\n    <tr>\n      <th>1</th>\n      <td>0.0</td>\n      <td>0.0</td>\n      <td>0.0</td>\n      <td>1.0</td>\n      <td>0.0</td>\n      <td>0.0</td>\n      <td>0.0</td>\n      <td>0.0</td>\n      <td>0.0</td>\n      <td>0.0</td>\n      <td>...</td>\n      <td>0.0</td>\n      <td>0.0</td>\n      <td>1.0</td>\n      <td>0.0</td>\n      <td>0.0</td>\n      <td>0.0</td>\n      <td>0.0</td>\n      <td>0.0</td>\n      <td>0.0</td>\n      <td>0.0</td>\n    </tr>\n    <tr>\n      <th>2</th>\n      <td>0.0</td>\n      <td>0.0</td>\n      <td>0.0</td>\n      <td>0.0</td>\n      <td>0.0</td>\n      <td>1.0</td>\n      <td>0.0</td>\n      <td>0.0</td>\n      <td>0.0</td>\n      <td>0.0</td>\n      <td>...</td>\n      <td>0.0</td>\n      <td>1.0</td>\n      <td>0.0</td>\n      <td>0.0</td>\n      <td>0.0</td>\n      <td>0.0</td>\n      <td>0.0</td>\n      <td>0.0</td>\n      <td>0.0</td>\n      <td>0.0</td>\n    </tr>\n    <tr>\n      <th>3</th>\n      <td>0.0</td>\n      <td>0.0</td>\n      <td>0.0</td>\n      <td>1.0</td>\n      <td>0.0</td>\n      <td>0.0</td>\n      <td>0.0</td>\n      <td>0.0</td>\n      <td>0.0</td>\n      <td>0.0</td>\n      <td>...</td>\n      <td>1.0</td>\n      <td>0.0</td>\n      <td>0.0</td>\n      <td>1.0</td>\n      <td>0.0</td>\n      <td>0.0</td>\n      <td>0.0</td>\n      <td>0.0</td>\n      <td>0.0</td>\n      <td>0.0</td>\n    </tr>\n    <tr>\n      <th>4</th>\n      <td>0.0</td>\n      <td>0.0</td>\n      <td>0.0</td>\n      <td>1.0</td>\n      <td>0.0</td>\n      <td>0.0</td>\n      <td>0.0</td>\n      <td>0.0</td>\n      <td>0.0</td>\n      <td>0.0</td>\n      <td>...</td>\n      <td>1.0</td>\n      <td>0.0</td>\n      <td>0.0</td>\n      <td>0.0</td>\n      <td>1.0</td>\n      <td>0.0</td>\n      <td>0.0</td>\n      <td>0.0</td>\n      <td>0.0</td>\n      <td>0.0</td>\n    </tr>\n  </tbody>\n</table>\n<p>5 rows × 43 columns</p>\n</div>"
     },
     "metadata": {},
     "execution_count": 25
    }
   ],
   "source": [
    "# categorical variables look ready to encode\n",
    "\n",
    "# Create a OneHotEncoder instance\n",
    "enc = OneHotEncoder(sparse=False)\n",
    "\n",
    "# Fit and transform the OneHotEncoder using the categorical variable list\n",
    "encode_df = pd.DataFrame(enc.fit_transform(charity_df[charity_bin_cat]))\n",
    "\n",
    "# Add the encoded variable names to the DataFrame\n",
    "encode_df.columns = enc.get_feature_names(charity_bin_cat)\n",
    "encode_df.head()"
   ]
  },
  {
   "source": [
    "## Merge encoded data columns; drop old"
   ],
   "cell_type": "markdown",
   "metadata": {}
  },
  {
   "cell_type": "code",
   "execution_count": 26,
   "metadata": {},
   "outputs": [
    {
     "output_type": "execute_result",
     "data": {
      "text/plain": [
       "   STATUS  SPECIAL_CONSIDERATIONS  ASK_AMT  IS_SUCCESSFUL  \\\n",
       "0       1                       1     5000              1   \n",
       "1       1                       1   108590              1   \n",
       "2       1                       1     5000              0   \n",
       "3       1                       1     6692              1   \n",
       "4       1                       1   142590              1   \n",
       "\n",
       "   APPLICATION_TYPE_OTHER  APPLICATION_TYPE_T10  APPLICATION_TYPE_T19  \\\n",
       "0                     0.0                   1.0                   0.0   \n",
       "1                     0.0                   0.0                   0.0   \n",
       "2                     0.0                   0.0                   0.0   \n",
       "3                     0.0                   0.0                   0.0   \n",
       "4                     0.0                   0.0                   0.0   \n",
       "\n",
       "   APPLICATION_TYPE_T3  APPLICATION_TYPE_T4  APPLICATION_TYPE_T5  ...  \\\n",
       "0                  0.0                  0.0                  0.0  ...   \n",
       "1                  1.0                  0.0                  0.0  ...   \n",
       "2                  0.0                  0.0                  1.0  ...   \n",
       "3                  1.0                  0.0                  0.0  ...   \n",
       "4                  1.0                  0.0                  0.0  ...   \n",
       "\n",
       "   ORGANIZATION_Trust  INCOME_AMT_0  INCOME_AMT_1-9999  \\\n",
       "0                 0.0           1.0                0.0   \n",
       "1                 0.0           0.0                1.0   \n",
       "2                 0.0           1.0                0.0   \n",
       "3                 1.0           0.0                0.0   \n",
       "4                 1.0           0.0                0.0   \n",
       "\n",
       "   INCOME_AMT_10000-24999  INCOME_AMT_100000-499999  INCOME_AMT_10M-50M  \\\n",
       "0                     0.0                       0.0                 0.0   \n",
       "1                     0.0                       0.0                 0.0   \n",
       "2                     0.0                       0.0                 0.0   \n",
       "3                     1.0                       0.0                 0.0   \n",
       "4                     0.0                       1.0                 0.0   \n",
       "\n",
       "   INCOME_AMT_1M-5M  INCOME_AMT_25000-99999  INCOME_AMT_50M+  \\\n",
       "0               0.0                     0.0              0.0   \n",
       "1               0.0                     0.0              0.0   \n",
       "2               0.0                     0.0              0.0   \n",
       "3               0.0                     0.0              0.0   \n",
       "4               0.0                     0.0              0.0   \n",
       "\n",
       "   INCOME_AMT_5M-10M  \n",
       "0                0.0  \n",
       "1                0.0  \n",
       "2                0.0  \n",
       "3                0.0  \n",
       "4                0.0  \n",
       "\n",
       "[5 rows x 47 columns]"
      ],
      "text/html": "<div>\n<style scoped>\n    .dataframe tbody tr th:only-of-type {\n        vertical-align: middle;\n    }\n\n    .dataframe tbody tr th {\n        vertical-align: top;\n    }\n\n    .dataframe thead th {\n        text-align: right;\n    }\n</style>\n<table border=\"1\" class=\"dataframe\">\n  <thead>\n    <tr style=\"text-align: right;\">\n      <th></th>\n      <th>STATUS</th>\n      <th>SPECIAL_CONSIDERATIONS</th>\n      <th>ASK_AMT</th>\n      <th>IS_SUCCESSFUL</th>\n      <th>APPLICATION_TYPE_OTHER</th>\n      <th>APPLICATION_TYPE_T10</th>\n      <th>APPLICATION_TYPE_T19</th>\n      <th>APPLICATION_TYPE_T3</th>\n      <th>APPLICATION_TYPE_T4</th>\n      <th>APPLICATION_TYPE_T5</th>\n      <th>...</th>\n      <th>ORGANIZATION_Trust</th>\n      <th>INCOME_AMT_0</th>\n      <th>INCOME_AMT_1-9999</th>\n      <th>INCOME_AMT_10000-24999</th>\n      <th>INCOME_AMT_100000-499999</th>\n      <th>INCOME_AMT_10M-50M</th>\n      <th>INCOME_AMT_1M-5M</th>\n      <th>INCOME_AMT_25000-99999</th>\n      <th>INCOME_AMT_50M+</th>\n      <th>INCOME_AMT_5M-10M</th>\n    </tr>\n  </thead>\n  <tbody>\n    <tr>\n      <th>0</th>\n      <td>1</td>\n      <td>1</td>\n      <td>5000</td>\n      <td>1</td>\n      <td>0.0</td>\n      <td>1.0</td>\n      <td>0.0</td>\n      <td>0.0</td>\n      <td>0.0</td>\n      <td>0.0</td>\n      <td>...</td>\n      <td>0.0</td>\n      <td>1.0</td>\n      <td>0.0</td>\n      <td>0.0</td>\n      <td>0.0</td>\n      <td>0.0</td>\n      <td>0.0</td>\n      <td>0.0</td>\n      <td>0.0</td>\n      <td>0.0</td>\n    </tr>\n    <tr>\n      <th>1</th>\n      <td>1</td>\n      <td>1</td>\n      <td>108590</td>\n      <td>1</td>\n      <td>0.0</td>\n      <td>0.0</td>\n      <td>0.0</td>\n      <td>1.0</td>\n      <td>0.0</td>\n      <td>0.0</td>\n      <td>...</td>\n      <td>0.0</td>\n      <td>0.0</td>\n      <td>1.0</td>\n      <td>0.0</td>\n      <td>0.0</td>\n      <td>0.0</td>\n      <td>0.0</td>\n      <td>0.0</td>\n      <td>0.0</td>\n      <td>0.0</td>\n    </tr>\n    <tr>\n      <th>2</th>\n      <td>1</td>\n      <td>1</td>\n      <td>5000</td>\n      <td>0</td>\n      <td>0.0</td>\n      <td>0.0</td>\n      <td>0.0</td>\n      <td>0.0</td>\n      <td>0.0</td>\n      <td>1.0</td>\n      <td>...</td>\n      <td>0.0</td>\n      <td>1.0</td>\n      <td>0.0</td>\n      <td>0.0</td>\n      <td>0.0</td>\n      <td>0.0</td>\n      <td>0.0</td>\n      <td>0.0</td>\n      <td>0.0</td>\n      <td>0.0</td>\n    </tr>\n    <tr>\n      <th>3</th>\n      <td>1</td>\n      <td>1</td>\n      <td>6692</td>\n      <td>1</td>\n      <td>0.0</td>\n      <td>0.0</td>\n      <td>0.0</td>\n      <td>1.0</td>\n      <td>0.0</td>\n      <td>0.0</td>\n      <td>...</td>\n      <td>1.0</td>\n      <td>0.0</td>\n      <td>0.0</td>\n      <td>1.0</td>\n      <td>0.0</td>\n      <td>0.0</td>\n      <td>0.0</td>\n      <td>0.0</td>\n      <td>0.0</td>\n      <td>0.0</td>\n    </tr>\n    <tr>\n      <th>4</th>\n      <td>1</td>\n      <td>1</td>\n      <td>142590</td>\n      <td>1</td>\n      <td>0.0</td>\n      <td>0.0</td>\n      <td>0.0</td>\n      <td>1.0</td>\n      <td>0.0</td>\n      <td>0.0</td>\n      <td>...</td>\n      <td>1.0</td>\n      <td>0.0</td>\n      <td>0.0</td>\n      <td>0.0</td>\n      <td>1.0</td>\n      <td>0.0</td>\n      <td>0.0</td>\n      <td>0.0</td>\n      <td>0.0</td>\n      <td>0.0</td>\n    </tr>\n  </tbody>\n</table>\n<p>5 rows × 47 columns</p>\n</div>"
     },
     "metadata": {},
     "execution_count": 26
    }
   ],
   "source": [
    "# Merge one-hot encoded features and drop the originals\n",
    "charity_df = charity_df.merge(encode_df,left_index=True, right_index=True)\n",
    "charity_df = charity_df.drop(charity_bin_cat,1)\n",
    "charity_df.head()"
   ]
  },
  {
   "source": [
    "## Split the data"
   ],
   "cell_type": "markdown",
   "metadata": {}
  },
  {
   "cell_type": "code",
   "execution_count": 28,
   "metadata": {},
   "outputs": [],
   "source": [
    "# split data for training and testing\n",
    "\n",
    "# Remove loan status target from features data\n",
    "y = charity_df.IS_SUCCESSFUL\n",
    "X = charity_df.drop(columns=[\"IS_SUCCESSFUL\"]).values\n",
    "\n",
    "# Split training/test datasets\n",
    "X_train, X_test, y_train, y_test = train_test_split(X, y, stratify=y)\n",
    "\n",
    "# Create a StandardScaler instance\n",
    "scaler = StandardScaler()\n",
    "\n",
    "# Fit the StandardScaler\n",
    "X_scaler = scaler.fit(X_train)\n",
    "\n",
    "# Scale the data\n",
    "X_train_scaled = X_scaler.transform(X_train)\n",
    "X_test_scaled = X_scaler.transform(X_test)"
   ]
  },
  {
   "source": [
    "# Test various models\n",
    "\n",
    "#### Deep learning model\n",
    "\n",
    "Starting with two layers"
   ],
   "cell_type": "markdown",
   "metadata": {}
  },
  {
   "cell_type": "code",
   "execution_count": 29,
   "metadata": {
    "tags": []
   },
   "outputs": [
    {
     "output_type": "stream",
     "name": "stdout",
     "text": [
      "Model: \"sequential\"\n_________________________________________________________________\nLayer (type)                 Output Shape              Param #   \n=================================================================\ndense (Dense)                (None, 92)                4324      \n_________________________________________________________________\ndense_1 (Dense)              (None, 46)                4278      \n_________________________________________________________________\ndense_2 (Dense)              (None, 1)                 47        \n=================================================================\nTotal params: 8,649\nTrainable params: 8,649\nNon-trainable params: 0\n_________________________________________________________________\n"
     ]
    }
   ],
   "source": [
    "# build and evaluate deep learning model\n",
    "# Define the model - deep neural net\n",
    "number_input_features = len(X_train_scaled[0])\n",
    "hidden_nodes_layer1 =  number_input_features*2\n",
    "hidden_nodes_layer2 = hidden_nodes_layer1/2\n",
    "\n",
    "nn = tf.keras.models.Sequential()\n",
    "\n",
    "# First hidden layer\n",
    "nn.add(\n",
    "    tf.keras.layers.Dense(units=hidden_nodes_layer1, input_dim=number_input_features, activation=\"relu\")\n",
    ")\n",
    "\n",
    "# Second hidden layer\n",
    "nn.add(tf.keras.layers.Dense(units=hidden_nodes_layer2, activation=\"relu\"))\n",
    "\n",
    "# Output layer\n",
    "nn.add(tf.keras.layers.Dense(units=1, activation=\"sigmoid\"))\n",
    "\n",
    "# check model structure\n",
    "nn.summary()"
   ]
  },
  {
   "cell_type": "code",
   "execution_count": 30,
   "metadata": {},
   "outputs": [
    {
     "output_type": "stream",
     "name": "stdout",
     "text": [
      "Epoch 1/100\n",
      "804/804 [==============================] - 0s 517us/step - loss: 0.5669 - accuracy: 0.7202\n",
      "Epoch 2/100\n",
      "804/804 [==============================] - 0s 501us/step - loss: 0.5520 - accuracy: 0.7308\n",
      "Epoch 3/100\n",
      "804/804 [==============================] - 0s 495us/step - loss: 0.5497 - accuracy: 0.7323\n",
      "Epoch 4/100\n",
      "804/804 [==============================] - 0s 492us/step - loss: 0.5474 - accuracy: 0.7313\n",
      "Epoch 5/100\n",
      "804/804 [==============================] - 0s 491us/step - loss: 0.5455 - accuracy: 0.7339\n",
      "Epoch 6/100\n",
      "804/804 [==============================] - 0s 495us/step - loss: 0.5443 - accuracy: 0.7337\n",
      "Epoch 7/100\n",
      "804/804 [==============================] - 0s 494us/step - loss: 0.5437 - accuracy: 0.7347\n",
      "Epoch 8/100\n",
      "804/804 [==============================] - 0s 491us/step - loss: 0.5433 - accuracy: 0.7352\n",
      "Epoch 9/100\n",
      "804/804 [==============================] - 0s 492us/step - loss: 0.5423 - accuracy: 0.7351\n",
      "Epoch 10/100\n",
      "804/804 [==============================] - 0s 499us/step - loss: 0.5415 - accuracy: 0.7357\n",
      "Epoch 11/100\n",
      "804/804 [==============================] - 0s 497us/step - loss: 0.5411 - accuracy: 0.7363\n",
      "Epoch 12/100\n",
      "804/804 [==============================] - 0s 541us/step - loss: 0.5408 - accuracy: 0.7367\n",
      "Epoch 13/100\n",
      "804/804 [==============================] - 0s 506us/step - loss: 0.5398 - accuracy: 0.7364\n",
      "Epoch 14/100\n",
      "804/804 [==============================] - 0s 506us/step - loss: 0.5398 - accuracy: 0.7365\n",
      "Epoch 15/100\n",
      "804/804 [==============================] - 0s 512us/step - loss: 0.5390 - accuracy: 0.7377\n",
      "Epoch 16/100\n",
      "804/804 [==============================] - 0s 510us/step - loss: 0.5389 - accuracy: 0.7377\n",
      "Epoch 17/100\n",
      "804/804 [==============================] - 0s 516us/step - loss: 0.5388 - accuracy: 0.7373\n",
      "Epoch 18/100\n",
      "804/804 [==============================] - 0s 526us/step - loss: 0.5380 - accuracy: 0.7377\n",
      "Epoch 19/100\n",
      "804/804 [==============================] - 0s 511us/step - loss: 0.5382 - accuracy: 0.7380\n",
      "Epoch 20/100\n",
      "804/804 [==============================] - 0s 561us/step - loss: 0.5375 - accuracy: 0.7381\n",
      "Epoch 21/100\n",
      "804/804 [==============================] - 0s 558us/step - loss: 0.5371 - accuracy: 0.7384\n",
      "Epoch 22/100\n",
      "804/804 [==============================] - 0s 507us/step - loss: 0.5375 - accuracy: 0.7386\n",
      "Epoch 23/100\n",
      "804/804 [==============================] - 0s 531us/step - loss: 0.5368 - accuracy: 0.7369\n",
      "Epoch 24/100\n",
      "804/804 [==============================] - 0s 497us/step - loss: 0.5364 - accuracy: 0.7376\n",
      "Epoch 25/100\n",
      "804/804 [==============================] - 0s 516us/step - loss: 0.5369 - accuracy: 0.7374\n",
      "Epoch 26/100\n",
      "804/804 [==============================] - 0s 533us/step - loss: 0.5363 - accuracy: 0.7397\n",
      "Epoch 27/100\n",
      "804/804 [==============================] - 0s 499us/step - loss: 0.5364 - accuracy: 0.7393\n",
      "Epoch 28/100\n",
      "804/804 [==============================] - 0s 506us/step - loss: 0.5358 - accuracy: 0.7399\n",
      "Epoch 29/100\n",
      "804/804 [==============================] - 0s 522us/step - loss: 0.5355 - accuracy: 0.7384\n",
      "Epoch 30/100\n",
      "804/804 [==============================] - 0s 541us/step - loss: 0.5354 - accuracy: 0.7395\n",
      "Epoch 31/100\n",
      "804/804 [==============================] - 0s 496us/step - loss: 0.5354 - accuracy: 0.7396\n",
      "Epoch 32/100\n",
      "804/804 [==============================] - 0s 492us/step - loss: 0.5349 - accuracy: 0.7400\n",
      "Epoch 33/100\n",
      "804/804 [==============================] - 0s 490us/step - loss: 0.5349 - accuracy: 0.7406\n",
      "Epoch 34/100\n",
      "804/804 [==============================] - 0s 496us/step - loss: 0.5345 - accuracy: 0.7405\n",
      "Epoch 35/100\n",
      "804/804 [==============================] - 0s 492us/step - loss: 0.5345 - accuracy: 0.7400\n",
      "Epoch 36/100\n",
      "804/804 [==============================] - 0s 495us/step - loss: 0.5347 - accuracy: 0.7399\n",
      "Epoch 37/100\n",
      "804/804 [==============================] - 0s 499us/step - loss: 0.5342 - accuracy: 0.7395\n",
      "Epoch 38/100\n",
      "804/804 [==============================] - 0s 497us/step - loss: 0.5339 - accuracy: 0.7405\n",
      "Epoch 39/100\n",
      "804/804 [==============================] - 0s 494us/step - loss: 0.5342 - accuracy: 0.7407\n",
      "Epoch 40/100\n",
      "804/804 [==============================] - 0s 491us/step - loss: 0.5337 - accuracy: 0.7404\n",
      "Epoch 41/100\n",
      "804/804 [==============================] - 0s 521us/step - loss: 0.5337 - accuracy: 0.7411\n",
      "Epoch 42/100\n",
      "804/804 [==============================] - 0s 519us/step - loss: 0.5335 - accuracy: 0.7411\n",
      "Epoch 43/100\n",
      "804/804 [==============================] - 0s 515us/step - loss: 0.5334 - accuracy: 0.7403\n",
      "Epoch 44/100\n",
      "804/804 [==============================] - 0s 496us/step - loss: 0.5330 - accuracy: 0.7397\n",
      "Epoch 45/100\n",
      "804/804 [==============================] - 0s 496us/step - loss: 0.5331 - accuracy: 0.7409\n",
      "Epoch 46/100\n",
      "804/804 [==============================] - 0s 491us/step - loss: 0.5327 - accuracy: 0.7410\n",
      "Epoch 47/100\n",
      "804/804 [==============================] - 0s 499us/step - loss: 0.5327 - accuracy: 0.7410\n",
      "Epoch 48/100\n",
      "804/804 [==============================] - 0s 495us/step - loss: 0.5330 - accuracy: 0.7406\n",
      "Epoch 49/100\n",
      "804/804 [==============================] - 0s 495us/step - loss: 0.5324 - accuracy: 0.7416\n",
      "Epoch 50/100\n",
      "804/804 [==============================] - 0s 501us/step - loss: 0.5323 - accuracy: 0.7404\n",
      "Epoch 51/100\n",
      "804/804 [==============================] - 0s 494us/step - loss: 0.5323 - accuracy: 0.7413\n",
      "Epoch 52/100\n",
      "804/804 [==============================] - 0s 510us/step - loss: 0.5319 - accuracy: 0.7416\n",
      "Epoch 53/100\n",
      "804/804 [==============================] - 0s 499us/step - loss: 0.5322 - accuracy: 0.7415\n",
      "Epoch 54/100\n",
      "804/804 [==============================] - 0s 496us/step - loss: 0.5324 - accuracy: 0.7412\n",
      "Epoch 55/100\n",
      "804/804 [==============================] - 0s 501us/step - loss: 0.5317 - accuracy: 0.7409\n",
      "Epoch 56/100\n",
      "804/804 [==============================] - 0s 500us/step - loss: 0.5319 - accuracy: 0.7417\n",
      "Epoch 57/100\n",
      "804/804 [==============================] - 0s 504us/step - loss: 0.5319 - accuracy: 0.7414\n",
      "Epoch 58/100\n",
      "804/804 [==============================] - 0s 514us/step - loss: 0.5314 - accuracy: 0.7417\n",
      "Epoch 59/100\n",
      "804/804 [==============================] - 0s 495us/step - loss: 0.5318 - accuracy: 0.7420\n",
      "Epoch 60/100\n",
      "804/804 [==============================] - 0s 494us/step - loss: 0.5318 - accuracy: 0.7411\n",
      "Epoch 61/100\n",
      "804/804 [==============================] - 0s 517us/step - loss: 0.5310 - accuracy: 0.7416\n",
      "Epoch 62/100\n",
      "804/804 [==============================] - 0s 509us/step - loss: 0.5314 - accuracy: 0.7412\n",
      "Epoch 63/100\n",
      "804/804 [==============================] - 0s 512us/step - loss: 0.5309 - accuracy: 0.7416\n",
      "Epoch 64/100\n",
      "804/804 [==============================] - 0s 495us/step - loss: 0.5312 - accuracy: 0.7422\n",
      "Epoch 65/100\n",
      "804/804 [==============================] - 0s 494us/step - loss: 0.5305 - accuracy: 0.7421\n",
      "Epoch 66/100\n",
      "804/804 [==============================] - 0s 551us/step - loss: 0.5313 - accuracy: 0.7416\n",
      "Epoch 67/100\n",
      "804/804 [==============================] - 0s 569us/step - loss: 0.5306 - accuracy: 0.7417\n",
      "Epoch 68/100\n",
      "804/804 [==============================] - 0s 590us/step - loss: 0.5312 - accuracy: 0.7418\n",
      "Epoch 69/100\n",
      "804/804 [==============================] - 1s 629us/step - loss: 0.5305 - accuracy: 0.7428\n",
      "Epoch 70/100\n",
      "804/804 [==============================] - 0s 609us/step - loss: 0.5310 - accuracy: 0.7420\n",
      "Epoch 71/100\n",
      "804/804 [==============================] - 0s 550us/step - loss: 0.5303 - accuracy: 0.7417\n",
      "Epoch 72/100\n",
      "804/804 [==============================] - 0s 594us/step - loss: 0.5305 - accuracy: 0.7421\n",
      "Epoch 73/100\n",
      "804/804 [==============================] - 0s 497us/step - loss: 0.5304 - accuracy: 0.7420\n",
      "Epoch 74/100\n",
      "804/804 [==============================] - 0s 507us/step - loss: 0.5306 - accuracy: 0.7419\n",
      "Epoch 75/100\n",
      "804/804 [==============================] - 0s 522us/step - loss: 0.5305 - accuracy: 0.7418\n",
      "Epoch 76/100\n",
      "804/804 [==============================] - 0s 515us/step - loss: 0.5297 - accuracy: 0.7426\n",
      "Epoch 77/100\n",
      "804/804 [==============================] - 0s 515us/step - loss: 0.5303 - accuracy: 0.7415\n",
      "Epoch 78/100\n",
      "804/804 [==============================] - 0s 497us/step - loss: 0.5295 - accuracy: 0.7425\n",
      "Epoch 79/100\n",
      "804/804 [==============================] - 0s 558us/step - loss: 0.5300 - accuracy: 0.7422\n",
      "Epoch 80/100\n",
      "804/804 [==============================] - 0s 538us/step - loss: 0.5301 - accuracy: 0.7425\n",
      "Epoch 81/100\n",
      "804/804 [==============================] - 0s 563us/step - loss: 0.5299 - accuracy: 0.7421\n",
      "Epoch 82/100\n",
      "804/804 [==============================] - 0s 510us/step - loss: 0.5301 - accuracy: 0.7422\n",
      "Epoch 83/100\n",
      "804/804 [==============================] - 0s 516us/step - loss: 0.5296 - accuracy: 0.7423\n",
      "Epoch 84/100\n",
      "804/804 [==============================] - 0s 511us/step - loss: 0.5295 - accuracy: 0.7423\n",
      "Epoch 85/100\n",
      "804/804 [==============================] - 0s 497us/step - loss: 0.5296 - accuracy: 0.7421\n",
      "Epoch 86/100\n",
      "804/804 [==============================] - 0s 496us/step - loss: 0.5296 - accuracy: 0.7421\n",
      "Epoch 87/100\n",
      "804/804 [==============================] - 0s 496us/step - loss: 0.5297 - accuracy: 0.7423\n",
      "Epoch 88/100\n",
      "804/804 [==============================] - 0s 505us/step - loss: 0.5303 - accuracy: 0.7419\n",
      "Epoch 89/100\n",
      "804/804 [==============================] - 0s 536us/step - loss: 0.5290 - accuracy: 0.7421\n",
      "Epoch 90/100\n",
      "804/804 [==============================] - 0s 504us/step - loss: 0.5293 - accuracy: 0.7426\n",
      "Epoch 91/100\n",
      "804/804 [==============================] - 0s 530us/step - loss: 0.5296 - accuracy: 0.7423\n",
      "Epoch 92/100\n",
      "804/804 [==============================] - 0s 531us/step - loss: 0.5294 - accuracy: 0.7419\n",
      "Epoch 93/100\n",
      "804/804 [==============================] - 0s 541us/step - loss: 0.5291 - accuracy: 0.7425\n",
      "Epoch 94/100\n",
      "804/804 [==============================] - 0s 506us/step - loss: 0.5293 - accuracy: 0.7429\n",
      "Epoch 95/100\n",
      "804/804 [==============================] - 0s 497us/step - loss: 0.5293 - accuracy: 0.7423\n",
      "Epoch 96/100\n",
      "804/804 [==============================] - 0s 497us/step - loss: 0.5291 - accuracy: 0.7427\n",
      "Epoch 97/100\n",
      "804/804 [==============================] - 0s 505us/step - loss: 0.5292 - accuracy: 0.7421\n",
      "Epoch 98/100\n",
      "804/804 [==============================] - 0s 522us/step - loss: 0.5290 - accuracy: 0.7422\n",
      "Epoch 99/100\n",
      "804/804 [==============================] - 0s 506us/step - loss: 0.5292 - accuracy: 0.7421\n",
      "Epoch 100/100\n",
      "804/804 [==============================] - 0s 509us/step - loss: 0.5287 - accuracy: 0.7424\n"
     ]
    }
   ],
   "source": [
    "# Compile the Sequential model together and customize metrics\n",
    "nn.compile(loss=\"binary_crossentropy\", optimizer=\"adam\", metrics=[\"accuracy\"])\n",
    "\n",
    "# Train the model\n",
    "fit_model = nn.fit(X_train_scaled, y_train, epochs=100)"
   ]
  },
  {
   "cell_type": "code",
   "execution_count": 34,
   "metadata": {},
   "outputs": [
    {
     "output_type": "execute_result",
     "data": {
      "text/plain": [
       "<matplotlib.axes._subplots.AxesSubplot at 0x1e7a9ca0dc0>"
      ]
     },
     "metadata": {},
     "execution_count": 34
    },
    {
     "output_type": "display_data",
     "data": {
      "text/plain": "<Figure size 432x288 with 1 Axes>",
      "image/svg+xml": "<?xml version=\"1.0\" encoding=\"utf-8\" standalone=\"no\"?>\r\n<!DOCTYPE svg PUBLIC \"-//W3C//DTD SVG 1.1//EN\"\r\n  \"http://www.w3.org/Graphics/SVG/1.1/DTD/svg11.dtd\">\r\n<!-- Created with matplotlib (https://matplotlib.org/) -->\r\n<svg height=\"248.518125pt\" version=\"1.1\" viewBox=\"0 0 384.828125 248.518125\" width=\"384.828125pt\" xmlns=\"http://www.w3.org/2000/svg\" xmlns:xlink=\"http://www.w3.org/1999/xlink\">\r\n <defs>\r\n  <style type=\"text/css\">\r\n*{stroke-linecap:butt;stroke-linejoin:round;}\r\n  </style>\r\n </defs>\r\n <g id=\"figure_1\">\r\n  <g id=\"patch_1\">\r\n   <path d=\"M 0 248.518125 \r\nL 384.828125 248.518125 \r\nL 384.828125 0 \r\nL 0 0 \r\nz\r\n\" style=\"fill:none;\"/>\r\n  </g>\r\n  <g id=\"axes_1\">\r\n   <g id=\"patch_2\">\r\n    <path d=\"M 42.828125 224.64 \r\nL 377.628125 224.64 \r\nL 377.628125 7.2 \r\nL 42.828125 7.2 \r\nz\r\n\" style=\"fill:#ffffff;\"/>\r\n   </g>\r\n   <g id=\"matplotlib.axis_1\">\r\n    <g id=\"xtick_1\">\r\n     <g id=\"line2d_1\">\r\n      <defs>\r\n       <path d=\"M 0 0 \r\nL 0 3.5 \r\n\" id=\"mdd9d02b41a\" style=\"stroke:#000000;stroke-width:0.8;\"/>\r\n      </defs>\r\n      <g>\r\n       <use style=\"stroke:#000000;stroke-width:0.8;\" x=\"54.971927\" xlink:href=\"#mdd9d02b41a\" y=\"224.64\"/>\r\n      </g>\r\n     </g>\r\n     <g id=\"text_1\">\r\n      <!-- 0 -->\r\n      <defs>\r\n       <path d=\"M 31.78125 66.40625 \r\nQ 24.171875 66.40625 20.328125 58.90625 \r\nQ 16.5 51.421875 16.5 36.375 \r\nQ 16.5 21.390625 20.328125 13.890625 \r\nQ 24.171875 6.390625 31.78125 6.390625 \r\nQ 39.453125 6.390625 43.28125 13.890625 \r\nQ 47.125 21.390625 47.125 36.375 \r\nQ 47.125 51.421875 43.28125 58.90625 \r\nQ 39.453125 66.40625 31.78125 66.40625 \r\nz\r\nM 31.78125 74.21875 \r\nQ 44.046875 74.21875 50.515625 64.515625 \r\nQ 56.984375 54.828125 56.984375 36.375 \r\nQ 56.984375 17.96875 50.515625 8.265625 \r\nQ 44.046875 -1.421875 31.78125 -1.421875 \r\nQ 19.53125 -1.421875 13.0625 8.265625 \r\nQ 6.59375 17.96875 6.59375 36.375 \r\nQ 6.59375 54.828125 13.0625 64.515625 \r\nQ 19.53125 74.21875 31.78125 74.21875 \r\nz\r\n\" id=\"DejaVuSans-48\"/>\r\n      </defs>\r\n      <g transform=\"translate(51.790677 239.238438)scale(0.1 -0.1)\">\r\n       <use xlink:href=\"#DejaVuSans-48\"/>\r\n      </g>\r\n     </g>\r\n    </g>\r\n    <g id=\"xtick_2\">\r\n     <g id=\"line2d_2\">\r\n      <g>\r\n       <use style=\"stroke:#000000;stroke-width:0.8;\" x=\"116.45953\" xlink:href=\"#mdd9d02b41a\" y=\"224.64\"/>\r\n      </g>\r\n     </g>\r\n     <g id=\"text_2\">\r\n      <!-- 20 -->\r\n      <defs>\r\n       <path d=\"M 19.1875 8.296875 \r\nL 53.609375 8.296875 \r\nL 53.609375 0 \r\nL 7.328125 0 \r\nL 7.328125 8.296875 \r\nQ 12.9375 14.109375 22.625 23.890625 \r\nQ 32.328125 33.6875 34.8125 36.53125 \r\nQ 39.546875 41.84375 41.421875 45.53125 \r\nQ 43.3125 49.21875 43.3125 52.78125 \r\nQ 43.3125 58.59375 39.234375 62.25 \r\nQ 35.15625 65.921875 28.609375 65.921875 \r\nQ 23.96875 65.921875 18.8125 64.3125 \r\nQ 13.671875 62.703125 7.8125 59.421875 \r\nL 7.8125 69.390625 \r\nQ 13.765625 71.78125 18.9375 73 \r\nQ 24.125 74.21875 28.421875 74.21875 \r\nQ 39.75 74.21875 46.484375 68.546875 \r\nQ 53.21875 62.890625 53.21875 53.421875 \r\nQ 53.21875 48.921875 51.53125 44.890625 \r\nQ 49.859375 40.875 45.40625 35.40625 \r\nQ 44.1875 33.984375 37.640625 27.21875 \r\nQ 31.109375 20.453125 19.1875 8.296875 \r\nz\r\n\" id=\"DejaVuSans-50\"/>\r\n      </defs>\r\n      <g transform=\"translate(110.09703 239.238438)scale(0.1 -0.1)\">\r\n       <use xlink:href=\"#DejaVuSans-50\"/>\r\n       <use x=\"63.623047\" xlink:href=\"#DejaVuSans-48\"/>\r\n      </g>\r\n     </g>\r\n    </g>\r\n    <g id=\"xtick_3\">\r\n     <g id=\"line2d_3\">\r\n      <g>\r\n       <use style=\"stroke:#000000;stroke-width:0.8;\" x=\"177.947133\" xlink:href=\"#mdd9d02b41a\" y=\"224.64\"/>\r\n      </g>\r\n     </g>\r\n     <g id=\"text_3\">\r\n      <!-- 40 -->\r\n      <defs>\r\n       <path d=\"M 37.796875 64.3125 \r\nL 12.890625 25.390625 \r\nL 37.796875 25.390625 \r\nz\r\nM 35.203125 72.90625 \r\nL 47.609375 72.90625 \r\nL 47.609375 25.390625 \r\nL 58.015625 25.390625 \r\nL 58.015625 17.1875 \r\nL 47.609375 17.1875 \r\nL 47.609375 0 \r\nL 37.796875 0 \r\nL 37.796875 17.1875 \r\nL 4.890625 17.1875 \r\nL 4.890625 26.703125 \r\nz\r\n\" id=\"DejaVuSans-52\"/>\r\n      </defs>\r\n      <g transform=\"translate(171.584633 239.238438)scale(0.1 -0.1)\">\r\n       <use xlink:href=\"#DejaVuSans-52\"/>\r\n       <use x=\"63.623047\" xlink:href=\"#DejaVuSans-48\"/>\r\n      </g>\r\n     </g>\r\n    </g>\r\n    <g id=\"xtick_4\">\r\n     <g id=\"line2d_4\">\r\n      <g>\r\n       <use style=\"stroke:#000000;stroke-width:0.8;\" x=\"239.434737\" xlink:href=\"#mdd9d02b41a\" y=\"224.64\"/>\r\n      </g>\r\n     </g>\r\n     <g id=\"text_4\">\r\n      <!-- 60 -->\r\n      <defs>\r\n       <path d=\"M 33.015625 40.375 \r\nQ 26.375 40.375 22.484375 35.828125 \r\nQ 18.609375 31.296875 18.609375 23.390625 \r\nQ 18.609375 15.53125 22.484375 10.953125 \r\nQ 26.375 6.390625 33.015625 6.390625 \r\nQ 39.65625 6.390625 43.53125 10.953125 \r\nQ 47.40625 15.53125 47.40625 23.390625 \r\nQ 47.40625 31.296875 43.53125 35.828125 \r\nQ 39.65625 40.375 33.015625 40.375 \r\nz\r\nM 52.59375 71.296875 \r\nL 52.59375 62.3125 \r\nQ 48.875 64.0625 45.09375 64.984375 \r\nQ 41.3125 65.921875 37.59375 65.921875 \r\nQ 27.828125 65.921875 22.671875 59.328125 \r\nQ 17.53125 52.734375 16.796875 39.40625 \r\nQ 19.671875 43.65625 24.015625 45.921875 \r\nQ 28.375 48.1875 33.59375 48.1875 \r\nQ 44.578125 48.1875 50.953125 41.515625 \r\nQ 57.328125 34.859375 57.328125 23.390625 \r\nQ 57.328125 12.15625 50.6875 5.359375 \r\nQ 44.046875 -1.421875 33.015625 -1.421875 \r\nQ 20.359375 -1.421875 13.671875 8.265625 \r\nQ 6.984375 17.96875 6.984375 36.375 \r\nQ 6.984375 53.65625 15.1875 63.9375 \r\nQ 23.390625 74.21875 37.203125 74.21875 \r\nQ 40.921875 74.21875 44.703125 73.484375 \r\nQ 48.484375 72.75 52.59375 71.296875 \r\nz\r\n\" id=\"DejaVuSans-54\"/>\r\n      </defs>\r\n      <g transform=\"translate(233.072237 239.238438)scale(0.1 -0.1)\">\r\n       <use xlink:href=\"#DejaVuSans-54\"/>\r\n       <use x=\"63.623047\" xlink:href=\"#DejaVuSans-48\"/>\r\n      </g>\r\n     </g>\r\n    </g>\r\n    <g id=\"xtick_5\">\r\n     <g id=\"line2d_5\">\r\n      <g>\r\n       <use style=\"stroke:#000000;stroke-width:0.8;\" x=\"300.92234\" xlink:href=\"#mdd9d02b41a\" y=\"224.64\"/>\r\n      </g>\r\n     </g>\r\n     <g id=\"text_5\">\r\n      <!-- 80 -->\r\n      <defs>\r\n       <path d=\"M 31.78125 34.625 \r\nQ 24.75 34.625 20.71875 30.859375 \r\nQ 16.703125 27.09375 16.703125 20.515625 \r\nQ 16.703125 13.921875 20.71875 10.15625 \r\nQ 24.75 6.390625 31.78125 6.390625 \r\nQ 38.8125 6.390625 42.859375 10.171875 \r\nQ 46.921875 13.96875 46.921875 20.515625 \r\nQ 46.921875 27.09375 42.890625 30.859375 \r\nQ 38.875 34.625 31.78125 34.625 \r\nz\r\nM 21.921875 38.8125 \r\nQ 15.578125 40.375 12.03125 44.71875 \r\nQ 8.5 49.078125 8.5 55.328125 \r\nQ 8.5 64.0625 14.71875 69.140625 \r\nQ 20.953125 74.21875 31.78125 74.21875 \r\nQ 42.671875 74.21875 48.875 69.140625 \r\nQ 55.078125 64.0625 55.078125 55.328125 \r\nQ 55.078125 49.078125 51.53125 44.71875 \r\nQ 48 40.375 41.703125 38.8125 \r\nQ 48.828125 37.15625 52.796875 32.3125 \r\nQ 56.78125 27.484375 56.78125 20.515625 \r\nQ 56.78125 9.90625 50.3125 4.234375 \r\nQ 43.84375 -1.421875 31.78125 -1.421875 \r\nQ 19.734375 -1.421875 13.25 4.234375 \r\nQ 6.78125 9.90625 6.78125 20.515625 \r\nQ 6.78125 27.484375 10.78125 32.3125 \r\nQ 14.796875 37.15625 21.921875 38.8125 \r\nz\r\nM 18.3125 54.390625 \r\nQ 18.3125 48.734375 21.84375 45.5625 \r\nQ 25.390625 42.390625 31.78125 42.390625 \r\nQ 38.140625 42.390625 41.71875 45.5625 \r\nQ 45.3125 48.734375 45.3125 54.390625 \r\nQ 45.3125 60.0625 41.71875 63.234375 \r\nQ 38.140625 66.40625 31.78125 66.40625 \r\nQ 25.390625 66.40625 21.84375 63.234375 \r\nQ 18.3125 60.0625 18.3125 54.390625 \r\nz\r\n\" id=\"DejaVuSans-56\"/>\r\n      </defs>\r\n      <g transform=\"translate(294.55984 239.238438)scale(0.1 -0.1)\">\r\n       <use xlink:href=\"#DejaVuSans-56\"/>\r\n       <use x=\"63.623047\" xlink:href=\"#DejaVuSans-48\"/>\r\n      </g>\r\n     </g>\r\n    </g>\r\n    <g id=\"xtick_6\">\r\n     <g id=\"line2d_6\">\r\n      <g>\r\n       <use style=\"stroke:#000000;stroke-width:0.8;\" x=\"362.409943\" xlink:href=\"#mdd9d02b41a\" y=\"224.64\"/>\r\n      </g>\r\n     </g>\r\n     <g id=\"text_6\">\r\n      <!-- 100 -->\r\n      <defs>\r\n       <path d=\"M 12.40625 8.296875 \r\nL 28.515625 8.296875 \r\nL 28.515625 63.921875 \r\nL 10.984375 60.40625 \r\nL 10.984375 69.390625 \r\nL 28.421875 72.90625 \r\nL 38.28125 72.90625 \r\nL 38.28125 8.296875 \r\nL 54.390625 8.296875 \r\nL 54.390625 0 \r\nL 12.40625 0 \r\nz\r\n\" id=\"DejaVuSans-49\"/>\r\n      </defs>\r\n      <g transform=\"translate(352.866193 239.238438)scale(0.1 -0.1)\">\r\n       <use xlink:href=\"#DejaVuSans-49\"/>\r\n       <use x=\"63.623047\" xlink:href=\"#DejaVuSans-48\"/>\r\n       <use x=\"127.246094\" xlink:href=\"#DejaVuSans-48\"/>\r\n      </g>\r\n     </g>\r\n    </g>\r\n   </g>\r\n   <g id=\"matplotlib.axis_2\">\r\n    <g id=\"ytick_1\">\r\n     <g id=\"line2d_7\">\r\n      <defs>\r\n       <path d=\"M 0 0 \r\nL -3.5 0 \r\n\" id=\"m92c6f1a87b\" style=\"stroke:#000000;stroke-width:0.8;\"/>\r\n      </defs>\r\n      <g>\r\n       <use style=\"stroke:#000000;stroke-width:0.8;\" x=\"42.828125\" xlink:href=\"#m92c6f1a87b\" y=\"207.863923\"/>\r\n      </g>\r\n     </g>\r\n     <g id=\"text_7\">\r\n      <!-- 0.530 -->\r\n      <defs>\r\n       <path d=\"M 10.6875 12.40625 \r\nL 21 12.40625 \r\nL 21 0 \r\nL 10.6875 0 \r\nz\r\n\" id=\"DejaVuSans-46\"/>\r\n       <path d=\"M 10.796875 72.90625 \r\nL 49.515625 72.90625 \r\nL 49.515625 64.59375 \r\nL 19.828125 64.59375 \r\nL 19.828125 46.734375 \r\nQ 21.96875 47.46875 24.109375 47.828125 \r\nQ 26.265625 48.1875 28.421875 48.1875 \r\nQ 40.625 48.1875 47.75 41.5 \r\nQ 54.890625 34.8125 54.890625 23.390625 \r\nQ 54.890625 11.625 47.5625 5.09375 \r\nQ 40.234375 -1.421875 26.90625 -1.421875 \r\nQ 22.3125 -1.421875 17.546875 -0.640625 \r\nQ 12.796875 0.140625 7.71875 1.703125 \r\nL 7.71875 11.625 \r\nQ 12.109375 9.234375 16.796875 8.0625 \r\nQ 21.484375 6.890625 26.703125 6.890625 \r\nQ 35.15625 6.890625 40.078125 11.328125 \r\nQ 45.015625 15.765625 45.015625 23.390625 \r\nQ 45.015625 31 40.078125 35.4375 \r\nQ 35.15625 39.890625 26.703125 39.890625 \r\nQ 22.75 39.890625 18.8125 39.015625 \r\nQ 14.890625 38.140625 10.796875 36.28125 \r\nz\r\n\" id=\"DejaVuSans-53\"/>\r\n       <path d=\"M 40.578125 39.3125 \r\nQ 47.65625 37.796875 51.625 33 \r\nQ 55.609375 28.21875 55.609375 21.1875 \r\nQ 55.609375 10.40625 48.1875 4.484375 \r\nQ 40.765625 -1.421875 27.09375 -1.421875 \r\nQ 22.515625 -1.421875 17.65625 -0.515625 \r\nQ 12.796875 0.390625 7.625 2.203125 \r\nL 7.625 11.71875 \r\nQ 11.71875 9.328125 16.59375 8.109375 \r\nQ 21.484375 6.890625 26.8125 6.890625 \r\nQ 36.078125 6.890625 40.9375 10.546875 \r\nQ 45.796875 14.203125 45.796875 21.1875 \r\nQ 45.796875 27.640625 41.28125 31.265625 \r\nQ 36.765625 34.90625 28.71875 34.90625 \r\nL 20.21875 34.90625 \r\nL 20.21875 43.015625 \r\nL 29.109375 43.015625 \r\nQ 36.375 43.015625 40.234375 45.921875 \r\nQ 44.09375 48.828125 44.09375 54.296875 \r\nQ 44.09375 59.90625 40.109375 62.90625 \r\nQ 36.140625 65.921875 28.71875 65.921875 \r\nQ 24.65625 65.921875 20.015625 65.03125 \r\nQ 15.375 64.15625 9.8125 62.3125 \r\nL 9.8125 71.09375 \r\nQ 15.4375 72.65625 20.34375 73.4375 \r\nQ 25.25 74.21875 29.59375 74.21875 \r\nQ 40.828125 74.21875 47.359375 69.109375 \r\nQ 53.90625 64.015625 53.90625 55.328125 \r\nQ 53.90625 49.265625 50.4375 45.09375 \r\nQ 46.96875 40.921875 40.578125 39.3125 \r\nz\r\n\" id=\"DejaVuSans-51\"/>\r\n      </defs>\r\n      <g transform=\"translate(7.2 211.663142)scale(0.1 -0.1)\">\r\n       <use xlink:href=\"#DejaVuSans-48\"/>\r\n       <use x=\"63.623047\" xlink:href=\"#DejaVuSans-46\"/>\r\n       <use x=\"95.410156\" xlink:href=\"#DejaVuSans-53\"/>\r\n       <use x=\"159.033203\" xlink:href=\"#DejaVuSans-51\"/>\r\n       <use x=\"222.65625\" xlink:href=\"#DejaVuSans-48\"/>\r\n      </g>\r\n     </g>\r\n    </g>\r\n    <g id=\"ytick_2\">\r\n     <g id=\"line2d_8\">\r\n      <g>\r\n       <use style=\"stroke:#000000;stroke-width:0.8;\" x=\"42.828125\" xlink:href=\"#m92c6f1a87b\" y=\"181.987031\"/>\r\n      </g>\r\n     </g>\r\n     <g id=\"text_8\">\r\n      <!-- 0.535 -->\r\n      <g transform=\"translate(7.2 185.786249)scale(0.1 -0.1)\">\r\n       <use xlink:href=\"#DejaVuSans-48\"/>\r\n       <use x=\"63.623047\" xlink:href=\"#DejaVuSans-46\"/>\r\n       <use x=\"95.410156\" xlink:href=\"#DejaVuSans-53\"/>\r\n       <use x=\"159.033203\" xlink:href=\"#DejaVuSans-51\"/>\r\n       <use x=\"222.65625\" xlink:href=\"#DejaVuSans-53\"/>\r\n      </g>\r\n     </g>\r\n    </g>\r\n    <g id=\"ytick_3\">\r\n     <g id=\"line2d_9\">\r\n      <g>\r\n       <use style=\"stroke:#000000;stroke-width:0.8;\" x=\"42.828125\" xlink:href=\"#m92c6f1a87b\" y=\"156.110138\"/>\r\n      </g>\r\n     </g>\r\n     <g id=\"text_9\">\r\n      <!-- 0.540 -->\r\n      <g transform=\"translate(7.2 159.909357)scale(0.1 -0.1)\">\r\n       <use xlink:href=\"#DejaVuSans-48\"/>\r\n       <use x=\"63.623047\" xlink:href=\"#DejaVuSans-46\"/>\r\n       <use x=\"95.410156\" xlink:href=\"#DejaVuSans-53\"/>\r\n       <use x=\"159.033203\" xlink:href=\"#DejaVuSans-52\"/>\r\n       <use x=\"222.65625\" xlink:href=\"#DejaVuSans-48\"/>\r\n      </g>\r\n     </g>\r\n    </g>\r\n    <g id=\"ytick_4\">\r\n     <g id=\"line2d_10\">\r\n      <g>\r\n       <use style=\"stroke:#000000;stroke-width:0.8;\" x=\"42.828125\" xlink:href=\"#m92c6f1a87b\" y=\"130.233246\"/>\r\n      </g>\r\n     </g>\r\n     <g id=\"text_10\">\r\n      <!-- 0.545 -->\r\n      <g transform=\"translate(7.2 134.032465)scale(0.1 -0.1)\">\r\n       <use xlink:href=\"#DejaVuSans-48\"/>\r\n       <use x=\"63.623047\" xlink:href=\"#DejaVuSans-46\"/>\r\n       <use x=\"95.410156\" xlink:href=\"#DejaVuSans-53\"/>\r\n       <use x=\"159.033203\" xlink:href=\"#DejaVuSans-52\"/>\r\n       <use x=\"222.65625\" xlink:href=\"#DejaVuSans-53\"/>\r\n      </g>\r\n     </g>\r\n    </g>\r\n    <g id=\"ytick_5\">\r\n     <g id=\"line2d_11\">\r\n      <g>\r\n       <use style=\"stroke:#000000;stroke-width:0.8;\" x=\"42.828125\" xlink:href=\"#m92c6f1a87b\" y=\"104.356354\"/>\r\n      </g>\r\n     </g>\r\n     <g id=\"text_11\">\r\n      <!-- 0.550 -->\r\n      <g transform=\"translate(7.2 108.155573)scale(0.1 -0.1)\">\r\n       <use xlink:href=\"#DejaVuSans-48\"/>\r\n       <use x=\"63.623047\" xlink:href=\"#DejaVuSans-46\"/>\r\n       <use x=\"95.410156\" xlink:href=\"#DejaVuSans-53\"/>\r\n       <use x=\"159.033203\" xlink:href=\"#DejaVuSans-53\"/>\r\n       <use x=\"222.65625\" xlink:href=\"#DejaVuSans-48\"/>\r\n      </g>\r\n     </g>\r\n    </g>\r\n    <g id=\"ytick_6\">\r\n     <g id=\"line2d_12\">\r\n      <g>\r\n       <use style=\"stroke:#000000;stroke-width:0.8;\" x=\"42.828125\" xlink:href=\"#m92c6f1a87b\" y=\"78.479462\"/>\r\n      </g>\r\n     </g>\r\n     <g id=\"text_12\">\r\n      <!-- 0.555 -->\r\n      <g transform=\"translate(7.2 82.27868)scale(0.1 -0.1)\">\r\n       <use xlink:href=\"#DejaVuSans-48\"/>\r\n       <use x=\"63.623047\" xlink:href=\"#DejaVuSans-46\"/>\r\n       <use x=\"95.410156\" xlink:href=\"#DejaVuSans-53\"/>\r\n       <use x=\"159.033203\" xlink:href=\"#DejaVuSans-53\"/>\r\n       <use x=\"222.65625\" xlink:href=\"#DejaVuSans-53\"/>\r\n      </g>\r\n     </g>\r\n    </g>\r\n    <g id=\"ytick_7\">\r\n     <g id=\"line2d_13\">\r\n      <g>\r\n       <use style=\"stroke:#000000;stroke-width:0.8;\" x=\"42.828125\" xlink:href=\"#m92c6f1a87b\" y=\"52.602569\"/>\r\n      </g>\r\n     </g>\r\n     <g id=\"text_13\">\r\n      <!-- 0.560 -->\r\n      <g transform=\"translate(7.2 56.401788)scale(0.1 -0.1)\">\r\n       <use xlink:href=\"#DejaVuSans-48\"/>\r\n       <use x=\"63.623047\" xlink:href=\"#DejaVuSans-46\"/>\r\n       <use x=\"95.410156\" xlink:href=\"#DejaVuSans-53\"/>\r\n       <use x=\"159.033203\" xlink:href=\"#DejaVuSans-54\"/>\r\n       <use x=\"222.65625\" xlink:href=\"#DejaVuSans-48\"/>\r\n      </g>\r\n     </g>\r\n    </g>\r\n    <g id=\"ytick_8\">\r\n     <g id=\"line2d_14\">\r\n      <g>\r\n       <use style=\"stroke:#000000;stroke-width:0.8;\" x=\"42.828125\" xlink:href=\"#m92c6f1a87b\" y=\"26.725677\"/>\r\n      </g>\r\n     </g>\r\n     <g id=\"text_14\">\r\n      <!-- 0.565 -->\r\n      <g transform=\"translate(7.2 30.524896)scale(0.1 -0.1)\">\r\n       <use xlink:href=\"#DejaVuSans-48\"/>\r\n       <use x=\"63.623047\" xlink:href=\"#DejaVuSans-46\"/>\r\n       <use x=\"95.410156\" xlink:href=\"#DejaVuSans-53\"/>\r\n       <use x=\"159.033203\" xlink:href=\"#DejaVuSans-54\"/>\r\n       <use x=\"222.65625\" xlink:href=\"#DejaVuSans-53\"/>\r\n      </g>\r\n     </g>\r\n    </g>\r\n   </g>\r\n   <g id=\"line2d_15\">\r\n    <path clip-path=\"url(#pa56699506d)\" d=\"M 58.046307 17.083636 \r\nL 61.120687 94.13492 \r\nL 64.195067 105.690762 \r\nL 67.269447 117.89934 \r\nL 70.343827 127.604939 \r\nL 73.418208 133.970045 \r\nL 76.492588 137.216144 \r\nL 79.566968 139.136411 \r\nL 82.641348 144.43789 \r\nL 85.715728 148.391018 \r\nL 88.790108 150.35262 \r\nL 91.864489 151.887291 \r\nL 94.938869 156.924097 \r\nL 98.013249 157.104247 \r\nL 101.087629 161.135111 \r\nL 104.162009 161.928204 \r\nL 107.236389 162.406035 \r\nL 110.31077 166.602859 \r\nL 113.38515 165.562367 \r\nL 116.45953 168.988 \r\nL 119.53391 171.060654 \r\nL 122.60829 169.229537 \r\nL 125.68267 172.534555 \r\nL 128.757051 174.66582 \r\nL 131.831431 171.941355 \r\nL 134.905811 175.373157 \r\nL 137.980191 174.583765 \r\nL 141.054571 178.049808 \r\nL 144.128951 179.539133 \r\nL 147.203332 180.166575 \r\nL 150.277712 179.849152 \r\nL 153.352092 182.69454 \r\nL 156.426472 182.332697 \r\nL 159.500852 184.380982 \r\nL 162.575232 184.622827 \r\nL 165.649613 183.720842 \r\nL 168.723993 186.063105 \r\nL 171.798373 187.632634 \r\nL 174.872753 186.184644 \r\nL 177.947133 188.758573 \r\nL 181.021513 188.489273 \r\nL 184.095894 189.914435 \r\nL 187.170274 190.157515 \r\nL 190.244654 192.377004 \r\nL 193.319034 191.66504 \r\nL 196.393414 194.01594 \r\nL 199.467794 193.658415 \r\nL 202.542175 192.163538 \r\nL 205.616555 195.355962 \r\nL 208.690935 195.844589 \r\nL 211.765315 195.730761 \r\nL 214.839695 197.836422 \r\nL 217.914075 196.588635 \r\nL 220.988456 195.42938 \r\nL 224.062836 199.13696 \r\nL 227.137216 198.154153 \r\nL 230.211596 198.285564 \r\nL 233.285976 200.726231 \r\nL 236.360356 198.60021 \r\nL 239.434737 198.484223 \r\nL 242.509117 202.66439 \r\nL 245.583497 200.711733 \r\nL 248.657877 203.273014 \r\nL 251.732257 201.860191 \r\nL 254.806637 205.037192 \r\nL 257.881018 201.016816 \r\nL 260.955398 204.619514 \r\nL 264.029778 201.745438 \r\nL 267.104158 205.277495 \r\nL 270.178538 202.442595 \r\nL 273.252918 206.446313 \r\nL 276.327299 205.411682 \r\nL 279.401679 205.973418 \r\nL 282.476059 204.539927 \r\nL 285.550439 205.099504 \r\nL 288.624819 209.277511 \r\nL 291.699199 206.431197 \r\nL 294.77358 210.412396 \r\nL 297.84796 207.764742 \r\nL 300.92234 207.487421 \r\nL 303.99672 208.414393 \r\nL 307.0711 207.359712 \r\nL 310.14548 209.832152 \r\nL 313.219861 210.535787 \r\nL 316.294241 210.125821 \r\nL 319.368621 210.173635 \r\nL 322.443001 209.432366 \r\nL 325.517381 206.388936 \r\nL 328.591761 213.150434 \r\nL 331.666142 211.586767 \r\nL 334.740522 209.963563 \r\nL 337.814902 211.215361 \r\nL 340.889282 212.569573 \r\nL 343.963662 211.552834 \r\nL 347.038042 211.232019 \r\nL 350.112423 212.409474 \r\nL 353.186803 211.942132 \r\nL 356.261183 213.022725 \r\nL 359.335563 211.757046 \r\nL 362.409943 214.756364 \r\n\" style=\"fill:none;stroke:#1f77b4;stroke-linecap:square;stroke-width:1.5;\"/>\r\n   </g>\r\n   <g id=\"patch_3\">\r\n    <path d=\"M 42.828125 224.64 \r\nL 42.828125 7.2 \r\n\" style=\"fill:none;stroke:#000000;stroke-linecap:square;stroke-linejoin:miter;stroke-width:0.8;\"/>\r\n   </g>\r\n   <g id=\"patch_4\">\r\n    <path d=\"M 377.628125 224.64 \r\nL 377.628125 7.2 \r\n\" style=\"fill:none;stroke:#000000;stroke-linecap:square;stroke-linejoin:miter;stroke-width:0.8;\"/>\r\n   </g>\r\n   <g id=\"patch_5\">\r\n    <path d=\"M 42.828125 224.64 \r\nL 377.628125 224.64 \r\n\" style=\"fill:none;stroke:#000000;stroke-linecap:square;stroke-linejoin:miter;stroke-width:0.8;\"/>\r\n   </g>\r\n   <g id=\"patch_6\">\r\n    <path d=\"M 42.828125 7.2 \r\nL 377.628125 7.2 \r\n\" style=\"fill:none;stroke:#000000;stroke-linecap:square;stroke-linejoin:miter;stroke-width:0.8;\"/>\r\n   </g>\r\n   <g id=\"legend_1\">\r\n    <g id=\"patch_7\">\r\n     <path d=\"M 319.3125 29.878125 \r\nL 370.628125 29.878125 \r\nQ 372.628125 29.878125 372.628125 27.878125 \r\nL 372.628125 14.2 \r\nQ 372.628125 12.2 370.628125 12.2 \r\nL 319.3125 12.2 \r\nQ 317.3125 12.2 317.3125 14.2 \r\nL 317.3125 27.878125 \r\nQ 317.3125 29.878125 319.3125 29.878125 \r\nz\r\n\" style=\"fill:#ffffff;opacity:0.8;stroke:#cccccc;stroke-linejoin:miter;\"/>\r\n    </g>\r\n    <g id=\"line2d_16\">\r\n     <path d=\"M 321.3125 20.298438 \r\nL 341.3125 20.298438 \r\n\" style=\"fill:none;stroke:#1f77b4;stroke-linecap:square;stroke-width:1.5;\"/>\r\n    </g>\r\n    <g id=\"line2d_17\"/>\r\n    <g id=\"text_15\">\r\n     <!-- loss -->\r\n     <defs>\r\n      <path d=\"M 9.421875 75.984375 \r\nL 18.40625 75.984375 \r\nL 18.40625 0 \r\nL 9.421875 0 \r\nz\r\n\" id=\"DejaVuSans-108\"/>\r\n      <path d=\"M 30.609375 48.390625 \r\nQ 23.390625 48.390625 19.1875 42.75 \r\nQ 14.984375 37.109375 14.984375 27.296875 \r\nQ 14.984375 17.484375 19.15625 11.84375 \r\nQ 23.34375 6.203125 30.609375 6.203125 \r\nQ 37.796875 6.203125 41.984375 11.859375 \r\nQ 46.1875 17.53125 46.1875 27.296875 \r\nQ 46.1875 37.015625 41.984375 42.703125 \r\nQ 37.796875 48.390625 30.609375 48.390625 \r\nz\r\nM 30.609375 56 \r\nQ 42.328125 56 49.015625 48.375 \r\nQ 55.71875 40.765625 55.71875 27.296875 \r\nQ 55.71875 13.875 49.015625 6.21875 \r\nQ 42.328125 -1.421875 30.609375 -1.421875 \r\nQ 18.84375 -1.421875 12.171875 6.21875 \r\nQ 5.515625 13.875 5.515625 27.296875 \r\nQ 5.515625 40.765625 12.171875 48.375 \r\nQ 18.84375 56 30.609375 56 \r\nz\r\n\" id=\"DejaVuSans-111\"/>\r\n      <path d=\"M 44.28125 53.078125 \r\nL 44.28125 44.578125 \r\nQ 40.484375 46.53125 36.375 47.5 \r\nQ 32.28125 48.484375 27.875 48.484375 \r\nQ 21.1875 48.484375 17.84375 46.4375 \r\nQ 14.5 44.390625 14.5 40.28125 \r\nQ 14.5 37.15625 16.890625 35.375 \r\nQ 19.28125 33.59375 26.515625 31.984375 \r\nL 29.59375 31.296875 \r\nQ 39.15625 29.25 43.1875 25.515625 \r\nQ 47.21875 21.78125 47.21875 15.09375 \r\nQ 47.21875 7.46875 41.1875 3.015625 \r\nQ 35.15625 -1.421875 24.609375 -1.421875 \r\nQ 20.21875 -1.421875 15.453125 -0.5625 \r\nQ 10.6875 0.296875 5.421875 2 \r\nL 5.421875 11.28125 \r\nQ 10.40625 8.6875 15.234375 7.390625 \r\nQ 20.0625 6.109375 24.8125 6.109375 \r\nQ 31.15625 6.109375 34.5625 8.28125 \r\nQ 37.984375 10.453125 37.984375 14.40625 \r\nQ 37.984375 18.0625 35.515625 20.015625 \r\nQ 33.0625 21.96875 24.703125 23.78125 \r\nL 21.578125 24.515625 \r\nQ 13.234375 26.265625 9.515625 29.90625 \r\nQ 5.8125 33.546875 5.8125 39.890625 \r\nQ 5.8125 47.609375 11.28125 51.796875 \r\nQ 16.75 56 26.8125 56 \r\nQ 31.78125 56 36.171875 55.265625 \r\nQ 40.578125 54.546875 44.28125 53.078125 \r\nz\r\n\" id=\"DejaVuSans-115\"/>\r\n     </defs>\r\n     <g transform=\"translate(349.3125 23.798438)scale(0.1 -0.1)\">\r\n      <use xlink:href=\"#DejaVuSans-108\"/>\r\n      <use x=\"27.783203\" xlink:href=\"#DejaVuSans-111\"/>\r\n      <use x=\"88.964844\" xlink:href=\"#DejaVuSans-115\"/>\r\n      <use x=\"141.064453\" xlink:href=\"#DejaVuSans-115\"/>\r\n     </g>\r\n    </g>\r\n   </g>\r\n  </g>\r\n </g>\r\n <defs>\r\n  <clipPath id=\"pa56699506d\">\r\n   <rect height=\"217.44\" width=\"334.8\" x=\"42.828125\" y=\"7.2\"/>\r\n  </clipPath>\r\n </defs>\r\n</svg>\r\n",
      "image/png": "[encoded data removed]"
     },
     "metadata": {
      "needs_background": "light"
     }
    }
   ],
   "source": [
    "# plot trianing history\n",
    "training_df = pd.DataFrame(fit_model.history, index=range(1,len(fit_model.history['loss'])+1))\n",
    "\n",
    "training_df.plot(y='loss')"
   ]
  },
  {
   "cell_type": "code",
   "execution_count": 31,
   "metadata": {},
   "outputs": [
    {
     "output_type": "stream",
     "name": "stdout",
     "text": [
      "268/268 - 0s - loss: 0.5728 - accuracy: 0.7245\n",
      "Loss: 0.5728497505187988, Accuracy: 0.7245481014251709\n"
     ]
    }
   ],
   "source": [
    "# Evaluate the model using the test data\n",
    "model_loss, model_accuracy = nn.evaluate(X_test_scaled,y_test,verbose=2)\n",
    "print(f\"Loss: {model_loss}, Accuracy: {model_accuracy}\")"
   ]
  },
  {
   "source": [
    "#### Accuracy of 72.5%\n",
    "\n",
    "###### Tried 50, 100 and 500 epochs; all returned the same value +/- .05% accuracy."
   ],
   "cell_type": "markdown",
   "metadata": {}
  },
  {
   "cell_type": "code",
   "execution_count": 33,
   "metadata": {},
   "outputs": [],
   "source": [
    "# export the fully trained classification model from the previous cell\n",
    "\n",
    "# Export model to HDF5 file\n",
    "nn.save(\"trained_funding_decision.h5\")"
   ]
  },
  {
   "source": [
    "### Try sigmoid next \n",
    "##### Trying to achieve a binary output; sigmoid is well suited for this"
   ],
   "cell_type": "markdown",
   "metadata": {}
  },
  {
   "cell_type": "code",
   "execution_count": 35,
   "metadata": {},
   "outputs": [
    {
     "output_type": "stream",
     "name": "stdout",
     "text": [
      "Model: \"sequential_1\"\n_________________________________________________________________\nLayer (type)                 Output Shape              Param #   \n=================================================================\ndense_3 (Dense)              (None, 92)                4324      \n_________________________________________________________________\ndense_4 (Dense)              (None, 46)                4278      \n_________________________________________________________________\ndense_5 (Dense)              (None, 1)                 47        \n=================================================================\nTotal params: 8,649\nTrainable params: 8,649\nNon-trainable params: 0\n_________________________________________________________________\n"
     ]
    }
   ],
   "source": [
    "# build and evaluate deep learning model\n",
    "# Define the model - deep neural net\n",
    "number_input_features = len(X_train_scaled[0])\n",
    "hidden_nodes_layer1 =  number_input_features*2\n",
    "hidden_nodes_layer2 = hidden_nodes_layer1/2\n",
    "\n",
    "nn = tf.keras.models.Sequential()\n",
    "\n",
    "# First hidden layer\n",
    "nn.add(\n",
    "    tf.keras.layers.Dense(units=hidden_nodes_layer1, input_dim=number_input_features, activation=\"sigmoid\")\n",
    ")\n",
    "\n",
    "# Second hidden layer\n",
    "nn.add(tf.keras.layers.Dense(units=hidden_nodes_layer2, activation=\"sigmoid\"))\n",
    "\n",
    "# Output layer\n",
    "nn.add(tf.keras.layers.Dense(units=1, activation=\"sigmoid\"))\n",
    "\n",
    "# check model structure\n",
    "nn.summary()"
   ]
  },
  {
   "cell_type": "code",
   "execution_count": 36,
   "metadata": {},
   "outputs": [
    {
     "output_type": "stream",
     "name": "stdout",
     "text": [
      "Epoch 1/100\n",
      "804/804 [==============================] - 0s 519us/step - loss: 0.5907 - accuracy: 0.7074\n",
      "Epoch 2/100\n",
      "804/804 [==============================] - 0s 523us/step - loss: 0.5711 - accuracy: 0.7232\n",
      "Epoch 3/100\n",
      "804/804 [==============================] - 0s 522us/step - loss: 0.5645 - accuracy: 0.7257\n",
      "Epoch 4/100\n",
      "804/804 [==============================] - 0s 530us/step - loss: 0.5583 - accuracy: 0.7282\n",
      "Epoch 5/100\n",
      "804/804 [==============================] - 0s 509us/step - loss: 0.5546 - accuracy: 0.7282\n",
      "Epoch 6/100\n",
      "804/804 [==============================] - 0s 502us/step - loss: 0.5521 - accuracy: 0.7298\n",
      "Epoch 7/100\n",
      "804/804 [==============================] - 0s 501us/step - loss: 0.5511 - accuracy: 0.7294\n",
      "Epoch 8/100\n",
      "804/804 [==============================] - 0s 505us/step - loss: 0.5494 - accuracy: 0.7305\n",
      "Epoch 9/100\n",
      "804/804 [==============================] - 0s 509us/step - loss: 0.5488 - accuracy: 0.7319\n",
      "Epoch 10/100\n",
      "804/804 [==============================] - 0s 500us/step - loss: 0.5479 - accuracy: 0.7309\n",
      "Epoch 11/100\n",
      "804/804 [==============================] - 0s 519us/step - loss: 0.5473 - accuracy: 0.7324\n",
      "Epoch 12/100\n",
      "804/804 [==============================] - 0s 510us/step - loss: 0.5464 - accuracy: 0.7324\n",
      "Epoch 13/100\n",
      "804/804 [==============================] - 0s 510us/step - loss: 0.5460 - accuracy: 0.7315\n",
      "Epoch 14/100\n",
      "804/804 [==============================] - 0s 538us/step - loss: 0.5453 - accuracy: 0.7323\n",
      "Epoch 15/100\n",
      "804/804 [==============================] - 0s 526us/step - loss: 0.5447 - accuracy: 0.7334\n",
      "Epoch 16/100\n",
      "804/804 [==============================] - 0s 497us/step - loss: 0.5443 - accuracy: 0.7339\n",
      "Epoch 17/100\n",
      "804/804 [==============================] - 0s 501us/step - loss: 0.5435 - accuracy: 0.7332\n",
      "Epoch 18/100\n",
      "804/804 [==============================] - 0s 516us/step - loss: 0.5433 - accuracy: 0.7346\n",
      "Epoch 19/100\n",
      "804/804 [==============================] - 0s 491us/step - loss: 0.5428 - accuracy: 0.7342\n",
      "Epoch 20/100\n",
      "804/804 [==============================] - 0s 489us/step - loss: 0.5426 - accuracy: 0.7342\n",
      "Epoch 21/100\n",
      "804/804 [==============================] - 0s 489us/step - loss: 0.5422 - accuracy: 0.7341\n",
      "Epoch 22/100\n",
      "804/804 [==============================] - 0s 512us/step - loss: 0.5413 - accuracy: 0.7360\n",
      "Epoch 23/100\n",
      "804/804 [==============================] - 0s 491us/step - loss: 0.5415 - accuracy: 0.7355\n",
      "Epoch 24/100\n",
      "804/804 [==============================] - 0s 491us/step - loss: 0.5412 - accuracy: 0.7358\n",
      "Epoch 25/100\n",
      "804/804 [==============================] - 0s 491us/step - loss: 0.5408 - accuracy: 0.7355\n",
      "Epoch 26/100\n",
      "804/804 [==============================] - 0s 486us/step - loss: 0.5401 - accuracy: 0.7352\n",
      "Epoch 27/100\n",
      "804/804 [==============================] - 0s 497us/step - loss: 0.5401 - accuracy: 0.7364\n",
      "Epoch 28/100\n",
      "804/804 [==============================] - 0s 495us/step - loss: 0.5400 - accuracy: 0.7360\n",
      "Epoch 29/100\n",
      "804/804 [==============================] - 0s 495us/step - loss: 0.5393 - accuracy: 0.7373\n",
      "Epoch 30/100\n",
      "804/804 [==============================] - 0s 499us/step - loss: 0.5388 - accuracy: 0.7371\n",
      "Epoch 31/100\n",
      "804/804 [==============================] - 0s 509us/step - loss: 0.5388 - accuracy: 0.7365\n",
      "Epoch 32/100\n",
      "804/804 [==============================] - 0s 543us/step - loss: 0.5385 - accuracy: 0.7374\n",
      "Epoch 33/100\n",
      "804/804 [==============================] - 0s 547us/step - loss: 0.5383 - accuracy: 0.7379\n",
      "Epoch 34/100\n",
      "804/804 [==============================] - 0s 525us/step - loss: 0.5382 - accuracy: 0.7363\n",
      "Epoch 35/100\n",
      "804/804 [==============================] - 0s 521us/step - loss: 0.5377 - accuracy: 0.7377\n",
      "Epoch 36/100\n",
      "804/804 [==============================] - 0s 494us/step - loss: 0.5377 - accuracy: 0.7372\n",
      "Epoch 37/100\n",
      "804/804 [==============================] - 0s 553us/step - loss: 0.5372 - accuracy: 0.7376\n",
      "Epoch 38/100\n",
      "804/804 [==============================] - 0s 499us/step - loss: 0.5371 - accuracy: 0.7370\n",
      "Epoch 39/100\n",
      "804/804 [==============================] - 0s 590us/step - loss: 0.5368 - accuracy: 0.7374\n",
      "Epoch 40/100\n",
      "804/804 [==============================] - 0s 535us/step - loss: 0.5369 - accuracy: 0.7384\n",
      "Epoch 41/100\n",
      "804/804 [==============================] - 0s 516us/step - loss: 0.5362 - accuracy: 0.7395\n",
      "Epoch 42/100\n",
      "804/804 [==============================] - 0s 515us/step - loss: 0.5362 - accuracy: 0.7390\n",
      "Epoch 43/100\n",
      "804/804 [==============================] - 0s 527us/step - loss: 0.5357 - accuracy: 0.7374\n",
      "Epoch 44/100\n",
      "804/804 [==============================] - 0s 496us/step - loss: 0.5357 - accuracy: 0.7386\n",
      "Epoch 45/100\n",
      "804/804 [==============================] - 0s 511us/step - loss: 0.5355 - accuracy: 0.7384\n",
      "Epoch 46/100\n",
      "804/804 [==============================] - 0s 499us/step - loss: 0.5350 - accuracy: 0.7381\n",
      "Epoch 47/100\n",
      "804/804 [==============================] - 0s 489us/step - loss: 0.5352 - accuracy: 0.7375\n",
      "Epoch 48/100\n",
      "804/804 [==============================] - 0s 495us/step - loss: 0.5345 - accuracy: 0.7390\n",
      "Epoch 49/100\n",
      "804/804 [==============================] - 0s 532us/step - loss: 0.5348 - accuracy: 0.7385\n",
      "Epoch 50/100\n",
      "804/804 [==============================] - 0s 526us/step - loss: 0.5348 - accuracy: 0.7372\n",
      "Epoch 51/100\n",
      "804/804 [==============================] - 0s 511us/step - loss: 0.5343 - accuracy: 0.7398\n",
      "Epoch 52/100\n",
      "804/804 [==============================] - 0s 522us/step - loss: 0.5343 - accuracy: 0.7388\n",
      "Epoch 53/100\n",
      "804/804 [==============================] - 0s 515us/step - loss: 0.5341 - accuracy: 0.7379\n",
      "Epoch 54/100\n",
      "804/804 [==============================] - 0s 504us/step - loss: 0.5339 - accuracy: 0.7387\n",
      "Epoch 55/100\n",
      "804/804 [==============================] - 0s 489us/step - loss: 0.5331 - accuracy: 0.7400\n",
      "Epoch 56/100\n",
      "804/804 [==============================] - 0s 520us/step - loss: 0.5334 - accuracy: 0.7399\n",
      "Epoch 57/100\n",
      "804/804 [==============================] - 0s 510us/step - loss: 0.5333 - accuracy: 0.7386\n",
      "Epoch 58/100\n",
      "804/804 [==============================] - 0s 530us/step - loss: 0.5331 - accuracy: 0.7394\n",
      "Epoch 59/100\n",
      "804/804 [==============================] - 0s 505us/step - loss: 0.5332 - accuracy: 0.7394\n",
      "Epoch 60/100\n",
      "804/804 [==============================] - 0s 485us/step - loss: 0.5329 - accuracy: 0.7387\n",
      "Epoch 61/100\n",
      "804/804 [==============================] - 0s 492us/step - loss: 0.5326 - accuracy: 0.7403\n",
      "Epoch 62/100\n",
      "804/804 [==============================] - 0s 491us/step - loss: 0.5325 - accuracy: 0.7396\n",
      "Epoch 63/100\n",
      "804/804 [==============================] - 0s 521us/step - loss: 0.5327 - accuracy: 0.7400\n",
      "Epoch 64/100\n",
      "804/804 [==============================] - 0s 525us/step - loss: 0.5324 - accuracy: 0.7399\n",
      "Epoch 65/100\n",
      "804/804 [==============================] - 0s 530us/step - loss: 0.5321 - accuracy: 0.7395\n",
      "Epoch 66/100\n",
      "804/804 [==============================] - 0s 490us/step - loss: 0.5321 - accuracy: 0.7400\n",
      "Epoch 67/100\n",
      "804/804 [==============================] - 0s 488us/step - loss: 0.5321 - accuracy: 0.7403\n",
      "Epoch 68/100\n",
      "804/804 [==============================] - 0s 495us/step - loss: 0.5319 - accuracy: 0.7411\n",
      "Epoch 69/100\n",
      "804/804 [==============================] - 0s 501us/step - loss: 0.5316 - accuracy: 0.7395\n",
      "Epoch 70/100\n",
      "804/804 [==============================] - 0s 486us/step - loss: 0.5319 - accuracy: 0.7398\n",
      "Epoch 71/100\n",
      "804/804 [==============================] - 0s 504us/step - loss: 0.5314 - accuracy: 0.7399\n",
      "Epoch 72/100\n",
      "804/804 [==============================] - 0s 522us/step - loss: 0.5316 - accuracy: 0.7396\n",
      "Epoch 73/100\n",
      "804/804 [==============================] - 0s 512us/step - loss: 0.5312 - accuracy: 0.7400\n",
      "Epoch 74/100\n",
      "804/804 [==============================] - 0s 520us/step - loss: 0.5311 - accuracy: 0.7406\n",
      "Epoch 75/100\n",
      "804/804 [==============================] - 0s 523us/step - loss: 0.5312 - accuracy: 0.7413\n",
      "Epoch 76/100\n",
      "804/804 [==============================] - 0s 502us/step - loss: 0.5311 - accuracy: 0.7397\n",
      "Epoch 77/100\n",
      "804/804 [==============================] - 0s 525us/step - loss: 0.5313 - accuracy: 0.7413\n",
      "Epoch 78/100\n",
      "804/804 [==============================] - 0s 492us/step - loss: 0.5311 - accuracy: 0.7411\n",
      "Epoch 79/100\n",
      "804/804 [==============================] - 0s 507us/step - loss: 0.5309 - accuracy: 0.7416\n",
      "Epoch 80/100\n",
      "804/804 [==============================] - 0s 507us/step - loss: 0.5310 - accuracy: 0.7406\n",
      "Epoch 81/100\n",
      "804/804 [==============================] - 0s 495us/step - loss: 0.5305 - accuracy: 0.7414\n",
      "Epoch 82/100\n",
      "804/804 [==============================] - 0s 542us/step - loss: 0.5304 - accuracy: 0.7415\n",
      "Epoch 83/100\n",
      "804/804 [==============================] - 0s 519us/step - loss: 0.5306 - accuracy: 0.7404\n",
      "Epoch 84/100\n",
      "804/804 [==============================] - 0s 532us/step - loss: 0.5303 - accuracy: 0.7404\n",
      "Epoch 85/100\n",
      "804/804 [==============================] - 0s 531us/step - loss: 0.5301 - accuracy: 0.7405\n",
      "Epoch 86/100\n",
      "804/804 [==============================] - 0s 525us/step - loss: 0.5303 - accuracy: 0.7418\n",
      "Epoch 87/100\n",
      "804/804 [==============================] - 0s 501us/step - loss: 0.5301 - accuracy: 0.7415\n",
      "Epoch 88/100\n",
      "804/804 [==============================] - 0s 532us/step - loss: 0.5301 - accuracy: 0.7411\n",
      "Epoch 89/100\n",
      "804/804 [==============================] - 0s 511us/step - loss: 0.5299 - accuracy: 0.7413\n",
      "Epoch 90/100\n",
      "804/804 [==============================] - 0s 499us/step - loss: 0.5300 - accuracy: 0.7421\n",
      "Epoch 91/100\n",
      "804/804 [==============================] - 0s 499us/step - loss: 0.5296 - accuracy: 0.7410\n",
      "Epoch 92/100\n",
      "804/804 [==============================] - 0s 507us/step - loss: 0.5294 - accuracy: 0.7424\n",
      "Epoch 93/100\n",
      "804/804 [==============================] - 0s 506us/step - loss: 0.5295 - accuracy: 0.7416\n",
      "Epoch 94/100\n",
      "804/804 [==============================] - 0s 512us/step - loss: 0.5294 - accuracy: 0.7415\n",
      "Epoch 95/100\n",
      "804/804 [==============================] - 0s 502us/step - loss: 0.5293 - accuracy: 0.7419\n",
      "Epoch 96/100\n",
      "804/804 [==============================] - 0s 497us/step - loss: 0.5295 - accuracy: 0.7420\n",
      "Epoch 97/100\n",
      "804/804 [==============================] - 0s 515us/step - loss: 0.5293 - accuracy: 0.7422\n",
      "Epoch 98/100\n",
      "804/804 [==============================] - 0s 495us/step - loss: 0.5293 - accuracy: 0.7421\n",
      "Epoch 99/100\n",
      "804/804 [==============================] - 0s 502us/step - loss: 0.5290 - accuracy: 0.7417\n",
      "Epoch 100/100\n",
      "804/804 [==============================] - 0s 502us/step - loss: 0.5292 - accuracy: 0.7420\n"
     ]
    }
   ],
   "source": [
    "# Compile the Sequential model together and customize metrics\n",
    "nn.compile(loss=\"binary_crossentropy\", optimizer=\"adam\", metrics=[\"accuracy\"])\n",
    "\n",
    "# Train the model\n",
    "fit_model = nn.fit(X_train_scaled, y_train, epochs=100)"
   ]
  },
  {
   "cell_type": "code",
   "execution_count": 37,
   "metadata": {},
   "outputs": [
    {
     "output_type": "execute_result",
     "data": {
      "text/plain": [
       "<matplotlib.axes._subplots.AxesSubplot at 0x1e79da1ddf0>"
      ]
     },
     "metadata": {},
     "execution_count": 37
    },
    {
     "output_type": "display_data",
     "data": {
      "text/plain": "<Figure size 432x288 with 1 Axes>",
      "image/svg+xml": "<?xml version=\"1.0\" encoding=\"utf-8\" standalone=\"no\"?>\r\n<!DOCTYPE svg PUBLIC \"-//W3C//DTD SVG 1.1//EN\"\r\n  \"http://www.w3.org/Graphics/SVG/1.1/DTD/svg11.dtd\">\r\n<!-- Created with matplotlib (https://matplotlib.org/) -->\r\n<svg height=\"248.518125pt\" version=\"1.1\" viewBox=\"0 0 378.465625 248.518125\" width=\"378.465625pt\" xmlns=\"http://www.w3.org/2000/svg\" xmlns:xlink=\"http://www.w3.org/1999/xlink\">\r\n <defs>\r\n  <style type=\"text/css\">\r\n*{stroke-linecap:butt;stroke-linejoin:round;}\r\n  </style>\r\n </defs>\r\n <g id=\"figure_1\">\r\n  <g id=\"patch_1\">\r\n   <path d=\"M 0 248.518125 \r\nL 378.465625 248.518125 \r\nL 378.465625 0 \r\nL 0 0 \r\nz\r\n\" style=\"fill:none;\"/>\r\n  </g>\r\n  <g id=\"axes_1\">\r\n   <g id=\"patch_2\">\r\n    <path d=\"M 36.465625 224.64 \r\nL 371.265625 224.64 \r\nL 371.265625 7.2 \r\nL 36.465625 7.2 \r\nz\r\n\" style=\"fill:#ffffff;\"/>\r\n   </g>\r\n   <g id=\"matplotlib.axis_1\">\r\n    <g id=\"xtick_1\">\r\n     <g id=\"line2d_1\">\r\n      <defs>\r\n       <path d=\"M 0 0 \r\nL 0 3.5 \r\n\" id=\"medeab0a8fb\" style=\"stroke:#000000;stroke-width:0.8;\"/>\r\n      </defs>\r\n      <g>\r\n       <use style=\"stroke:#000000;stroke-width:0.8;\" x=\"48.609427\" xlink:href=\"#medeab0a8fb\" y=\"224.64\"/>\r\n      </g>\r\n     </g>\r\n     <g id=\"text_1\">\r\n      <!-- 0 -->\r\n      <defs>\r\n       <path d=\"M 31.78125 66.40625 \r\nQ 24.171875 66.40625 20.328125 58.90625 \r\nQ 16.5 51.421875 16.5 36.375 \r\nQ 16.5 21.390625 20.328125 13.890625 \r\nQ 24.171875 6.390625 31.78125 6.390625 \r\nQ 39.453125 6.390625 43.28125 13.890625 \r\nQ 47.125 21.390625 47.125 36.375 \r\nQ 47.125 51.421875 43.28125 58.90625 \r\nQ 39.453125 66.40625 31.78125 66.40625 \r\nz\r\nM 31.78125 74.21875 \r\nQ 44.046875 74.21875 50.515625 64.515625 \r\nQ 56.984375 54.828125 56.984375 36.375 \r\nQ 56.984375 17.96875 50.515625 8.265625 \r\nQ 44.046875 -1.421875 31.78125 -1.421875 \r\nQ 19.53125 -1.421875 13.0625 8.265625 \r\nQ 6.59375 17.96875 6.59375 36.375 \r\nQ 6.59375 54.828125 13.0625 64.515625 \r\nQ 19.53125 74.21875 31.78125 74.21875 \r\nz\r\n\" id=\"DejaVuSans-48\"/>\r\n      </defs>\r\n      <g transform=\"translate(45.428177 239.238437)scale(0.1 -0.1)\">\r\n       <use xlink:href=\"#DejaVuSans-48\"/>\r\n      </g>\r\n     </g>\r\n    </g>\r\n    <g id=\"xtick_2\">\r\n     <g id=\"line2d_2\">\r\n      <g>\r\n       <use style=\"stroke:#000000;stroke-width:0.8;\" x=\"110.09703\" xlink:href=\"#medeab0a8fb\" y=\"224.64\"/>\r\n      </g>\r\n     </g>\r\n     <g id=\"text_2\">\r\n      <!-- 20 -->\r\n      <defs>\r\n       <path d=\"M 19.1875 8.296875 \r\nL 53.609375 8.296875 \r\nL 53.609375 0 \r\nL 7.328125 0 \r\nL 7.328125 8.296875 \r\nQ 12.9375 14.109375 22.625 23.890625 \r\nQ 32.328125 33.6875 34.8125 36.53125 \r\nQ 39.546875 41.84375 41.421875 45.53125 \r\nQ 43.3125 49.21875 43.3125 52.78125 \r\nQ 43.3125 58.59375 39.234375 62.25 \r\nQ 35.15625 65.921875 28.609375 65.921875 \r\nQ 23.96875 65.921875 18.8125 64.3125 \r\nQ 13.671875 62.703125 7.8125 59.421875 \r\nL 7.8125 69.390625 \r\nQ 13.765625 71.78125 18.9375 73 \r\nQ 24.125 74.21875 28.421875 74.21875 \r\nQ 39.75 74.21875 46.484375 68.546875 \r\nQ 53.21875 62.890625 53.21875 53.421875 \r\nQ 53.21875 48.921875 51.53125 44.890625 \r\nQ 49.859375 40.875 45.40625 35.40625 \r\nQ 44.1875 33.984375 37.640625 27.21875 \r\nQ 31.109375 20.453125 19.1875 8.296875 \r\nz\r\n\" id=\"DejaVuSans-50\"/>\r\n      </defs>\r\n      <g transform=\"translate(103.73453 239.238437)scale(0.1 -0.1)\">\r\n       <use xlink:href=\"#DejaVuSans-50\"/>\r\n       <use x=\"63.623047\" xlink:href=\"#DejaVuSans-48\"/>\r\n      </g>\r\n     </g>\r\n    </g>\r\n    <g id=\"xtick_3\">\r\n     <g id=\"line2d_3\">\r\n      <g>\r\n       <use style=\"stroke:#000000;stroke-width:0.8;\" x=\"171.584633\" xlink:href=\"#medeab0a8fb\" y=\"224.64\"/>\r\n      </g>\r\n     </g>\r\n     <g id=\"text_3\">\r\n      <!-- 40 -->\r\n      <defs>\r\n       <path d=\"M 37.796875 64.3125 \r\nL 12.890625 25.390625 \r\nL 37.796875 25.390625 \r\nz\r\nM 35.203125 72.90625 \r\nL 47.609375 72.90625 \r\nL 47.609375 25.390625 \r\nL 58.015625 25.390625 \r\nL 58.015625 17.1875 \r\nL 47.609375 17.1875 \r\nL 47.609375 0 \r\nL 37.796875 0 \r\nL 37.796875 17.1875 \r\nL 4.890625 17.1875 \r\nL 4.890625 26.703125 \r\nz\r\n\" id=\"DejaVuSans-52\"/>\r\n      </defs>\r\n      <g transform=\"translate(165.222133 239.238437)scale(0.1 -0.1)\">\r\n       <use xlink:href=\"#DejaVuSans-52\"/>\r\n       <use x=\"63.623047\" xlink:href=\"#DejaVuSans-48\"/>\r\n      </g>\r\n     </g>\r\n    </g>\r\n    <g id=\"xtick_4\">\r\n     <g id=\"line2d_4\">\r\n      <g>\r\n       <use style=\"stroke:#000000;stroke-width:0.8;\" x=\"233.072237\" xlink:href=\"#medeab0a8fb\" y=\"224.64\"/>\r\n      </g>\r\n     </g>\r\n     <g id=\"text_4\">\r\n      <!-- 60 -->\r\n      <defs>\r\n       <path d=\"M 33.015625 40.375 \r\nQ 26.375 40.375 22.484375 35.828125 \r\nQ 18.609375 31.296875 18.609375 23.390625 \r\nQ 18.609375 15.53125 22.484375 10.953125 \r\nQ 26.375 6.390625 33.015625 6.390625 \r\nQ 39.65625 6.390625 43.53125 10.953125 \r\nQ 47.40625 15.53125 47.40625 23.390625 \r\nQ 47.40625 31.296875 43.53125 35.828125 \r\nQ 39.65625 40.375 33.015625 40.375 \r\nz\r\nM 52.59375 71.296875 \r\nL 52.59375 62.3125 \r\nQ 48.875 64.0625 45.09375 64.984375 \r\nQ 41.3125 65.921875 37.59375 65.921875 \r\nQ 27.828125 65.921875 22.671875 59.328125 \r\nQ 17.53125 52.734375 16.796875 39.40625 \r\nQ 19.671875 43.65625 24.015625 45.921875 \r\nQ 28.375 48.1875 33.59375 48.1875 \r\nQ 44.578125 48.1875 50.953125 41.515625 \r\nQ 57.328125 34.859375 57.328125 23.390625 \r\nQ 57.328125 12.15625 50.6875 5.359375 \r\nQ 44.046875 -1.421875 33.015625 -1.421875 \r\nQ 20.359375 -1.421875 13.671875 8.265625 \r\nQ 6.984375 17.96875 6.984375 36.375 \r\nQ 6.984375 53.65625 15.1875 63.9375 \r\nQ 23.390625 74.21875 37.203125 74.21875 \r\nQ 40.921875 74.21875 44.703125 73.484375 \r\nQ 48.484375 72.75 52.59375 71.296875 \r\nz\r\n\" id=\"DejaVuSans-54\"/>\r\n      </defs>\r\n      <g transform=\"translate(226.709737 239.238437)scale(0.1 -0.1)\">\r\n       <use xlink:href=\"#DejaVuSans-54\"/>\r\n       <use x=\"63.623047\" xlink:href=\"#DejaVuSans-48\"/>\r\n      </g>\r\n     </g>\r\n    </g>\r\n    <g id=\"xtick_5\">\r\n     <g id=\"line2d_5\">\r\n      <g>\r\n       <use style=\"stroke:#000000;stroke-width:0.8;\" x=\"294.55984\" xlink:href=\"#medeab0a8fb\" y=\"224.64\"/>\r\n      </g>\r\n     </g>\r\n     <g id=\"text_5\">\r\n      <!-- 80 -->\r\n      <defs>\r\n       <path d=\"M 31.78125 34.625 \r\nQ 24.75 34.625 20.71875 30.859375 \r\nQ 16.703125 27.09375 16.703125 20.515625 \r\nQ 16.703125 13.921875 20.71875 10.15625 \r\nQ 24.75 6.390625 31.78125 6.390625 \r\nQ 38.8125 6.390625 42.859375 10.171875 \r\nQ 46.921875 13.96875 46.921875 20.515625 \r\nQ 46.921875 27.09375 42.890625 30.859375 \r\nQ 38.875 34.625 31.78125 34.625 \r\nz\r\nM 21.921875 38.8125 \r\nQ 15.578125 40.375 12.03125 44.71875 \r\nQ 8.5 49.078125 8.5 55.328125 \r\nQ 8.5 64.0625 14.71875 69.140625 \r\nQ 20.953125 74.21875 31.78125 74.21875 \r\nQ 42.671875 74.21875 48.875 69.140625 \r\nQ 55.078125 64.0625 55.078125 55.328125 \r\nQ 55.078125 49.078125 51.53125 44.71875 \r\nQ 48 40.375 41.703125 38.8125 \r\nQ 48.828125 37.15625 52.796875 32.3125 \r\nQ 56.78125 27.484375 56.78125 20.515625 \r\nQ 56.78125 9.90625 50.3125 4.234375 \r\nQ 43.84375 -1.421875 31.78125 -1.421875 \r\nQ 19.734375 -1.421875 13.25 4.234375 \r\nQ 6.78125 9.90625 6.78125 20.515625 \r\nQ 6.78125 27.484375 10.78125 32.3125 \r\nQ 14.796875 37.15625 21.921875 38.8125 \r\nz\r\nM 18.3125 54.390625 \r\nQ 18.3125 48.734375 21.84375 45.5625 \r\nQ 25.390625 42.390625 31.78125 42.390625 \r\nQ 38.140625 42.390625 41.71875 45.5625 \r\nQ 45.3125 48.734375 45.3125 54.390625 \r\nQ 45.3125 60.0625 41.71875 63.234375 \r\nQ 38.140625 66.40625 31.78125 66.40625 \r\nQ 25.390625 66.40625 21.84375 63.234375 \r\nQ 18.3125 60.0625 18.3125 54.390625 \r\nz\r\n\" id=\"DejaVuSans-56\"/>\r\n      </defs>\r\n      <g transform=\"translate(288.19734 239.238437)scale(0.1 -0.1)\">\r\n       <use xlink:href=\"#DejaVuSans-56\"/>\r\n       <use x=\"63.623047\" xlink:href=\"#DejaVuSans-48\"/>\r\n      </g>\r\n     </g>\r\n    </g>\r\n    <g id=\"xtick_6\">\r\n     <g id=\"line2d_6\">\r\n      <g>\r\n       <use style=\"stroke:#000000;stroke-width:0.8;\" x=\"356.047443\" xlink:href=\"#medeab0a8fb\" y=\"224.64\"/>\r\n      </g>\r\n     </g>\r\n     <g id=\"text_6\">\r\n      <!-- 100 -->\r\n      <defs>\r\n       <path d=\"M 12.40625 8.296875 \r\nL 28.515625 8.296875 \r\nL 28.515625 63.921875 \r\nL 10.984375 60.40625 \r\nL 10.984375 69.390625 \r\nL 28.421875 72.90625 \r\nL 38.28125 72.90625 \r\nL 38.28125 8.296875 \r\nL 54.390625 8.296875 \r\nL 54.390625 0 \r\nL 12.40625 0 \r\nz\r\n\" id=\"DejaVuSans-49\"/>\r\n      </defs>\r\n      <g transform=\"translate(346.503693 239.238437)scale(0.1 -0.1)\">\r\n       <use xlink:href=\"#DejaVuSans-49\"/>\r\n       <use x=\"63.623047\" xlink:href=\"#DejaVuSans-48\"/>\r\n       <use x=\"127.246094\" xlink:href=\"#DejaVuSans-48\"/>\r\n      </g>\r\n     </g>\r\n    </g>\r\n   </g>\r\n   <g id=\"matplotlib.axis_2\">\r\n    <g id=\"ytick_1\">\r\n     <g id=\"line2d_7\">\r\n      <defs>\r\n       <path d=\"M 0 0 \r\nL -3.5 0 \r\n\" id=\"m8d5b5bf4fc\" style=\"stroke:#000000;stroke-width:0.8;\"/>\r\n      </defs>\r\n      <g>\r\n       <use style=\"stroke:#000000;stroke-width:0.8;\" x=\"36.465625\" xlink:href=\"#m8d5b5bf4fc\" y=\"211.643022\"/>\r\n      </g>\r\n     </g>\r\n     <g id=\"text_7\">\r\n      <!-- 0.53 -->\r\n      <defs>\r\n       <path d=\"M 10.6875 12.40625 \r\nL 21 12.40625 \r\nL 21 0 \r\nL 10.6875 0 \r\nz\r\n\" id=\"DejaVuSans-46\"/>\r\n       <path d=\"M 10.796875 72.90625 \r\nL 49.515625 72.90625 \r\nL 49.515625 64.59375 \r\nL 19.828125 64.59375 \r\nL 19.828125 46.734375 \r\nQ 21.96875 47.46875 24.109375 47.828125 \r\nQ 26.265625 48.1875 28.421875 48.1875 \r\nQ 40.625 48.1875 47.75 41.5 \r\nQ 54.890625 34.8125 54.890625 23.390625 \r\nQ 54.890625 11.625 47.5625 5.09375 \r\nQ 40.234375 -1.421875 26.90625 -1.421875 \r\nQ 22.3125 -1.421875 17.546875 -0.640625 \r\nQ 12.796875 0.140625 7.71875 1.703125 \r\nL 7.71875 11.625 \r\nQ 12.109375 9.234375 16.796875 8.0625 \r\nQ 21.484375 6.890625 26.703125 6.890625 \r\nQ 35.15625 6.890625 40.078125 11.328125 \r\nQ 45.015625 15.765625 45.015625 23.390625 \r\nQ 45.015625 31 40.078125 35.4375 \r\nQ 35.15625 39.890625 26.703125 39.890625 \r\nQ 22.75 39.890625 18.8125 39.015625 \r\nQ 14.890625 38.140625 10.796875 36.28125 \r\nz\r\n\" id=\"DejaVuSans-53\"/>\r\n       <path d=\"M 40.578125 39.3125 \r\nQ 47.65625 37.796875 51.625 33 \r\nQ 55.609375 28.21875 55.609375 21.1875 \r\nQ 55.609375 10.40625 48.1875 4.484375 \r\nQ 40.765625 -1.421875 27.09375 -1.421875 \r\nQ 22.515625 -1.421875 17.65625 -0.515625 \r\nQ 12.796875 0.390625 7.625 2.203125 \r\nL 7.625 11.71875 \r\nQ 11.71875 9.328125 16.59375 8.109375 \r\nQ 21.484375 6.890625 26.8125 6.890625 \r\nQ 36.078125 6.890625 40.9375 10.546875 \r\nQ 45.796875 14.203125 45.796875 21.1875 \r\nQ 45.796875 27.640625 41.28125 31.265625 \r\nQ 36.765625 34.90625 28.71875 34.90625 \r\nL 20.21875 34.90625 \r\nL 20.21875 43.015625 \r\nL 29.109375 43.015625 \r\nQ 36.375 43.015625 40.234375 45.921875 \r\nQ 44.09375 48.828125 44.09375 54.296875 \r\nQ 44.09375 59.90625 40.109375 62.90625 \r\nQ 36.140625 65.921875 28.71875 65.921875 \r\nQ 24.65625 65.921875 20.015625 65.03125 \r\nQ 15.375 64.15625 9.8125 62.3125 \r\nL 9.8125 71.09375 \r\nQ 15.4375 72.65625 20.34375 73.4375 \r\nQ 25.25 74.21875 29.59375 74.21875 \r\nQ 40.828125 74.21875 47.359375 69.109375 \r\nQ 53.90625 64.015625 53.90625 55.328125 \r\nQ 53.90625 49.265625 50.4375 45.09375 \r\nQ 46.96875 40.921875 40.578125 39.3125 \r\nz\r\n\" id=\"DejaVuSans-51\"/>\r\n      </defs>\r\n      <g transform=\"translate(7.2 215.442241)scale(0.1 -0.1)\">\r\n       <use xlink:href=\"#DejaVuSans-48\"/>\r\n       <use x=\"63.623047\" xlink:href=\"#DejaVuSans-46\"/>\r\n       <use x=\"95.410156\" xlink:href=\"#DejaVuSans-53\"/>\r\n       <use x=\"159.033203\" xlink:href=\"#DejaVuSans-51\"/>\r\n      </g>\r\n     </g>\r\n    </g>\r\n    <g id=\"ytick_2\">\r\n     <g id=\"line2d_8\">\r\n      <g>\r\n       <use style=\"stroke:#000000;stroke-width:0.8;\" x=\"36.465625\" xlink:href=\"#m8d5b5bf4fc\" y=\"179.589225\"/>\r\n      </g>\r\n     </g>\r\n     <g id=\"text_8\">\r\n      <!-- 0.54 -->\r\n      <g transform=\"translate(7.2 183.388444)scale(0.1 -0.1)\">\r\n       <use xlink:href=\"#DejaVuSans-48\"/>\r\n       <use x=\"63.623047\" xlink:href=\"#DejaVuSans-46\"/>\r\n       <use x=\"95.410156\" xlink:href=\"#DejaVuSans-53\"/>\r\n       <use x=\"159.033203\" xlink:href=\"#DejaVuSans-52\"/>\r\n      </g>\r\n     </g>\r\n    </g>\r\n    <g id=\"ytick_3\">\r\n     <g id=\"line2d_9\">\r\n      <g>\r\n       <use style=\"stroke:#000000;stroke-width:0.8;\" x=\"36.465625\" xlink:href=\"#m8d5b5bf4fc\" y=\"147.535428\"/>\r\n      </g>\r\n     </g>\r\n     <g id=\"text_9\">\r\n      <!-- 0.55 -->\r\n      <g transform=\"translate(7.2 151.334647)scale(0.1 -0.1)\">\r\n       <use xlink:href=\"#DejaVuSans-48\"/>\r\n       <use x=\"63.623047\" xlink:href=\"#DejaVuSans-46\"/>\r\n       <use x=\"95.410156\" xlink:href=\"#DejaVuSans-53\"/>\r\n       <use x=\"159.033203\" xlink:href=\"#DejaVuSans-53\"/>\r\n      </g>\r\n     </g>\r\n    </g>\r\n    <g id=\"ytick_4\">\r\n     <g id=\"line2d_10\">\r\n      <g>\r\n       <use style=\"stroke:#000000;stroke-width:0.8;\" x=\"36.465625\" xlink:href=\"#m8d5b5bf4fc\" y=\"115.481631\"/>\r\n      </g>\r\n     </g>\r\n     <g id=\"text_10\">\r\n      <!-- 0.56 -->\r\n      <g transform=\"translate(7.2 119.28085)scale(0.1 -0.1)\">\r\n       <use xlink:href=\"#DejaVuSans-48\"/>\r\n       <use x=\"63.623047\" xlink:href=\"#DejaVuSans-46\"/>\r\n       <use x=\"95.410156\" xlink:href=\"#DejaVuSans-53\"/>\r\n       <use x=\"159.033203\" xlink:href=\"#DejaVuSans-54\"/>\r\n      </g>\r\n     </g>\r\n    </g>\r\n    <g id=\"ytick_5\">\r\n     <g id=\"line2d_11\">\r\n      <g>\r\n       <use style=\"stroke:#000000;stroke-width:0.8;\" x=\"36.465625\" xlink:href=\"#m8d5b5bf4fc\" y=\"83.427834\"/>\r\n      </g>\r\n     </g>\r\n     <g id=\"text_11\">\r\n      <!-- 0.57 -->\r\n      <defs>\r\n       <path d=\"M 8.203125 72.90625 \r\nL 55.078125 72.90625 \r\nL 55.078125 68.703125 \r\nL 28.609375 0 \r\nL 18.3125 0 \r\nL 43.21875 64.59375 \r\nL 8.203125 64.59375 \r\nz\r\n\" id=\"DejaVuSans-55\"/>\r\n      </defs>\r\n      <g transform=\"translate(7.2 87.227052)scale(0.1 -0.1)\">\r\n       <use xlink:href=\"#DejaVuSans-48\"/>\r\n       <use x=\"63.623047\" xlink:href=\"#DejaVuSans-46\"/>\r\n       <use x=\"95.410156\" xlink:href=\"#DejaVuSans-53\"/>\r\n       <use x=\"159.033203\" xlink:href=\"#DejaVuSans-55\"/>\r\n      </g>\r\n     </g>\r\n    </g>\r\n    <g id=\"ytick_6\">\r\n     <g id=\"line2d_12\">\r\n      <g>\r\n       <use style=\"stroke:#000000;stroke-width:0.8;\" x=\"36.465625\" xlink:href=\"#m8d5b5bf4fc\" y=\"51.374036\"/>\r\n      </g>\r\n     </g>\r\n     <g id=\"text_12\">\r\n      <!-- 0.58 -->\r\n      <g transform=\"translate(7.2 55.173255)scale(0.1 -0.1)\">\r\n       <use xlink:href=\"#DejaVuSans-48\"/>\r\n       <use x=\"63.623047\" xlink:href=\"#DejaVuSans-46\"/>\r\n       <use x=\"95.410156\" xlink:href=\"#DejaVuSans-53\"/>\r\n       <use x=\"159.033203\" xlink:href=\"#DejaVuSans-56\"/>\r\n      </g>\r\n     </g>\r\n    </g>\r\n    <g id=\"ytick_7\">\r\n     <g id=\"line2d_13\">\r\n      <g>\r\n       <use style=\"stroke:#000000;stroke-width:0.8;\" x=\"36.465625\" xlink:href=\"#m8d5b5bf4fc\" y=\"19.320239\"/>\r\n      </g>\r\n     </g>\r\n     <g id=\"text_13\">\r\n      <!-- 0.59 -->\r\n      <defs>\r\n       <path d=\"M 10.984375 1.515625 \r\nL 10.984375 10.5 \r\nQ 14.703125 8.734375 18.5 7.8125 \r\nQ 22.3125 6.890625 25.984375 6.890625 \r\nQ 35.75 6.890625 40.890625 13.453125 \r\nQ 46.046875 20.015625 46.78125 33.40625 \r\nQ 43.953125 29.203125 39.59375 26.953125 \r\nQ 35.25 24.703125 29.984375 24.703125 \r\nQ 19.046875 24.703125 12.671875 31.3125 \r\nQ 6.296875 37.9375 6.296875 49.421875 \r\nQ 6.296875 60.640625 12.9375 67.421875 \r\nQ 19.578125 74.21875 30.609375 74.21875 \r\nQ 43.265625 74.21875 49.921875 64.515625 \r\nQ 56.59375 54.828125 56.59375 36.375 \r\nQ 56.59375 19.140625 48.40625 8.859375 \r\nQ 40.234375 -1.421875 26.421875 -1.421875 \r\nQ 22.703125 -1.421875 18.890625 -0.6875 \r\nQ 15.09375 0.046875 10.984375 1.515625 \r\nz\r\nM 30.609375 32.421875 \r\nQ 37.25 32.421875 41.125 36.953125 \r\nQ 45.015625 41.5 45.015625 49.421875 \r\nQ 45.015625 57.28125 41.125 61.84375 \r\nQ 37.25 66.40625 30.609375 66.40625 \r\nQ 23.96875 66.40625 20.09375 61.84375 \r\nQ 16.21875 57.28125 16.21875 49.421875 \r\nQ 16.21875 41.5 20.09375 36.953125 \r\nQ 23.96875 32.421875 30.609375 32.421875 \r\nz\r\n\" id=\"DejaVuSans-57\"/>\r\n      </defs>\r\n      <g transform=\"translate(7.2 23.119458)scale(0.1 -0.1)\">\r\n       <use xlink:href=\"#DejaVuSans-48\"/>\r\n       <use x=\"63.623047\" xlink:href=\"#DejaVuSans-46\"/>\r\n       <use x=\"95.410156\" xlink:href=\"#DejaVuSans-53\"/>\r\n       <use x=\"159.033203\" xlink:href=\"#DejaVuSans-57\"/>\r\n      </g>\r\n     </g>\r\n    </g>\r\n   </g>\r\n   <g id=\"line2d_14\">\r\n    <path clip-path=\"url(#pa74684cac3)\" d=\"M 51.683807 17.083636 \r\nL 54.758187 79.868683 \r\nL 57.832567 101.063236 \r\nL 60.906947 120.894226 \r\nL 63.981327 132.726294 \r\nL 67.055708 140.741264 \r\nL 70.130088 144.138996 \r\nL 73.204468 149.387673 \r\nL 76.278848 151.299183 \r\nL 79.353228 154.373267 \r\nL 82.427608 156.165941 \r\nL 85.501989 158.994518 \r\nL 88.576369 160.350248 \r\nL 91.650749 162.661637 \r\nL 94.725129 164.409795 \r\nL 97.799509 165.834305 \r\nL 100.873889 168.386043 \r\nL 103.94827 169.099826 \r\nL 107.02265 170.728192 \r\nL 110.09703 171.273274 \r\nL 113.17141 172.468517 \r\nL 116.24579 175.304354 \r\nL 119.32017 174.932369 \r\nL 122.394551 175.735949 \r\nL 125.468931 177.183576 \r\nL 128.543311 179.137501 \r\nL 131.617691 179.334097 \r\nL 134.692071 179.710859 \r\nL 137.766451 181.755535 \r\nL 140.840832 183.505221 \r\nL 143.915212 183.475799 \r\nL 146.989592 184.501767 \r\nL 150.063972 185.046084 \r\nL 153.138352 185.507101 \r\nL 156.212732 187.083118 \r\nL 159.287113 187.023509 \r\nL 162.361493 188.52425 \r\nL 165.435873 189.026153 \r\nL 168.510253 189.732103 \r\nL 171.584633 189.593205 \r\nL 174.659013 191.851864 \r\nL 177.733394 191.71717 \r\nL 180.807774 193.47488 \r\nL 183.882154 193.33904 \r\nL 186.956534 194.047283 \r\nL 190.030914 195.584706 \r\nL 193.105294 194.979252 \r\nL 196.179675 197.163207 \r\nL 199.254055 196.140105 \r\nL 202.328435 196.368607 \r\nL 205.402815 197.769808 \r\nL 208.477195 197.967169 \r\nL 211.551575 198.45971 \r\nL 214.625956 199.114648 \r\nL 217.700336 201.56761 \r\nL 220.774716 200.618828 \r\nL 223.849096 201.090736 \r\nL 226.923476 201.701349 \r\nL 229.997856 201.41916 \r\nL 233.072237 202.298015 \r\nL 236.146617 203.231704 \r\nL 239.220997 203.503194 \r\nL 242.295377 202.85819 \r\nL 245.369757 204.003186 \r\nL 248.444137 204.840964 \r\nL 251.518518 204.920061 \r\nL 254.592898 204.81479 \r\nL 257.667278 205.633654 \r\nL 260.741658 206.550529 \r\nL 263.816038 205.586463 \r\nL 266.890418 207.152545 \r\nL 269.964799 206.439144 \r\nL 273.039179 207.816081 \r\nL 276.113559 208.065408 \r\nL 279.187939 207.919824 \r\nL 282.262319 208.079929 \r\nL 285.336699 207.564652 \r\nL 288.41108 208.148517 \r\nL 291.48546 208.604376 \r\nL 294.55984 208.412174 \r\nL 297.63422 210.107983 \r\nL 300.7086 210.310502 \r\nL 303.78298 209.83057 \r\nL 306.857361 210.790433 \r\nL 309.931741 211.285649 \r\nL 313.006121 210.696434 \r\nL 316.080501 211.345067 \r\nL 319.154881 211.216678 \r\nL 322.229261 211.821369 \r\nL 325.303642 211.611208 \r\nL 328.378022 212.789829 \r\nL 331.452402 213.521763 \r\nL 334.526782 213.387069 \r\nL 337.601162 213.685115 \r\nL 340.675542 213.962337 \r\nL 343.749923 213.352297 \r\nL 346.824303 213.821529 \r\nL 349.898683 213.913045 \r\nL 352.973063 214.756364 \r\nL 356.047443 214.069901 \r\n\" style=\"fill:none;stroke:#1f77b4;stroke-linecap:square;stroke-width:1.5;\"/>\r\n   </g>\r\n   <g id=\"patch_3\">\r\n    <path d=\"M 36.465625 224.64 \r\nL 36.465625 7.2 \r\n\" style=\"fill:none;stroke:#000000;stroke-linecap:square;stroke-linejoin:miter;stroke-width:0.8;\"/>\r\n   </g>\r\n   <g id=\"patch_4\">\r\n    <path d=\"M 371.265625 224.64 \r\nL 371.265625 7.2 \r\n\" style=\"fill:none;stroke:#000000;stroke-linecap:square;stroke-linejoin:miter;stroke-width:0.8;\"/>\r\n   </g>\r\n   <g id=\"patch_5\">\r\n    <path d=\"M 36.465625 224.64 \r\nL 371.265625 224.64 \r\n\" style=\"fill:none;stroke:#000000;stroke-linecap:square;stroke-linejoin:miter;stroke-width:0.8;\"/>\r\n   </g>\r\n   <g id=\"patch_6\">\r\n    <path d=\"M 36.465625 7.2 \r\nL 371.265625 7.2 \r\n\" style=\"fill:none;stroke:#000000;stroke-linecap:square;stroke-linejoin:miter;stroke-width:0.8;\"/>\r\n   </g>\r\n   <g id=\"legend_1\">\r\n    <g id=\"patch_7\">\r\n     <path d=\"M 312.95 29.878125 \r\nL 364.265625 29.878125 \r\nQ 366.265625 29.878125 366.265625 27.878125 \r\nL 366.265625 14.2 \r\nQ 366.265625 12.2 364.265625 12.2 \r\nL 312.95 12.2 \r\nQ 310.95 12.2 310.95 14.2 \r\nL 310.95 27.878125 \r\nQ 310.95 29.878125 312.95 29.878125 \r\nz\r\n\" style=\"fill:#ffffff;opacity:0.8;stroke:#cccccc;stroke-linejoin:miter;\"/>\r\n    </g>\r\n    <g id=\"line2d_15\">\r\n     <path d=\"M 314.95 20.298437 \r\nL 334.95 20.298437 \r\n\" style=\"fill:none;stroke:#1f77b4;stroke-linecap:square;stroke-width:1.5;\"/>\r\n    </g>\r\n    <g id=\"line2d_16\"/>\r\n    <g id=\"text_14\">\r\n     <!-- loss -->\r\n     <defs>\r\n      <path d=\"M 9.421875 75.984375 \r\nL 18.40625 75.984375 \r\nL 18.40625 0 \r\nL 9.421875 0 \r\nz\r\n\" id=\"DejaVuSans-108\"/>\r\n      <path d=\"M 30.609375 48.390625 \r\nQ 23.390625 48.390625 19.1875 42.75 \r\nQ 14.984375 37.109375 14.984375 27.296875 \r\nQ 14.984375 17.484375 19.15625 11.84375 \r\nQ 23.34375 6.203125 30.609375 6.203125 \r\nQ 37.796875 6.203125 41.984375 11.859375 \r\nQ 46.1875 17.53125 46.1875 27.296875 \r\nQ 46.1875 37.015625 41.984375 42.703125 \r\nQ 37.796875 48.390625 30.609375 48.390625 \r\nz\r\nM 30.609375 56 \r\nQ 42.328125 56 49.015625 48.375 \r\nQ 55.71875 40.765625 55.71875 27.296875 \r\nQ 55.71875 13.875 49.015625 6.21875 \r\nQ 42.328125 -1.421875 30.609375 -1.421875 \r\nQ 18.84375 -1.421875 12.171875 6.21875 \r\nQ 5.515625 13.875 5.515625 27.296875 \r\nQ 5.515625 40.765625 12.171875 48.375 \r\nQ 18.84375 56 30.609375 56 \r\nz\r\n\" id=\"DejaVuSans-111\"/>\r\n      <path d=\"M 44.28125 53.078125 \r\nL 44.28125 44.578125 \r\nQ 40.484375 46.53125 36.375 47.5 \r\nQ 32.28125 48.484375 27.875 48.484375 \r\nQ 21.1875 48.484375 17.84375 46.4375 \r\nQ 14.5 44.390625 14.5 40.28125 \r\nQ 14.5 37.15625 16.890625 35.375 \r\nQ 19.28125 33.59375 26.515625 31.984375 \r\nL 29.59375 31.296875 \r\nQ 39.15625 29.25 43.1875 25.515625 \r\nQ 47.21875 21.78125 47.21875 15.09375 \r\nQ 47.21875 7.46875 41.1875 3.015625 \r\nQ 35.15625 -1.421875 24.609375 -1.421875 \r\nQ 20.21875 -1.421875 15.453125 -0.5625 \r\nQ 10.6875 0.296875 5.421875 2 \r\nL 5.421875 11.28125 \r\nQ 10.40625 8.6875 15.234375 7.390625 \r\nQ 20.0625 6.109375 24.8125 6.109375 \r\nQ 31.15625 6.109375 34.5625 8.28125 \r\nQ 37.984375 10.453125 37.984375 14.40625 \r\nQ 37.984375 18.0625 35.515625 20.015625 \r\nQ 33.0625 21.96875 24.703125 23.78125 \r\nL 21.578125 24.515625 \r\nQ 13.234375 26.265625 9.515625 29.90625 \r\nQ 5.8125 33.546875 5.8125 39.890625 \r\nQ 5.8125 47.609375 11.28125 51.796875 \r\nQ 16.75 56 26.8125 56 \r\nQ 31.78125 56 36.171875 55.265625 \r\nQ 40.578125 54.546875 44.28125 53.078125 \r\nz\r\n\" id=\"DejaVuSans-115\"/>\r\n     </defs>\r\n     <g transform=\"translate(342.95 23.798437)scale(0.1 -0.1)\">\r\n      <use xlink:href=\"#DejaVuSans-108\"/>\r\n      <use x=\"27.783203\" xlink:href=\"#DejaVuSans-111\"/>\r\n      <use x=\"88.964844\" xlink:href=\"#DejaVuSans-115\"/>\r\n      <use x=\"141.064453\" xlink:href=\"#DejaVuSans-115\"/>\r\n     </g>\r\n    </g>\r\n   </g>\r\n  </g>\r\n </g>\r\n <defs>\r\n  <clipPath id=\"pa74684cac3\">\r\n   <rect height=\"217.44\" width=\"334.8\" x=\"36.465625\" y=\"7.2\"/>\r\n  </clipPath>\r\n </defs>\r\n</svg>\r\n",
      "image/png": "[encoded data removed]"
     },
     "metadata": {
      "needs_background": "light"
     }
    }
   ],
   "source": [
    "# plot trianing history\n",
    "training_df = pd.DataFrame(fit_model.history, index=range(1,len(fit_model.history['loss'])+1))\n",
    "\n",
    "training_df.plot(y='loss')"
   ]
  },
  {
   "cell_type": "code",
   "execution_count": 38,
   "metadata": {},
   "outputs": [
    {
     "output_type": "stream",
     "name": "stdout",
     "text": [
      "268/268 - 0s - loss: 0.5662 - accuracy: 0.7235\n",
      "Loss: 0.5661859512329102, Accuracy: 0.723498523235321\n"
     ]
    }
   ],
   "source": [
    "# Evaluate the model using the test data\n",
    "model_loss, model_accuracy = nn.evaluate(X_test_scaled,y_test,verbose=2)\n",
    "print(f\"Loss: {model_loss}, Accuracy: {model_accuracy}\")"
   ]
  },
  {
   "cell_type": "code",
   "execution_count": 39,
   "metadata": {
    "tags": [
     "outputPrepend"
    ]
   },
   "outputs": [
    {
     "output_type": "stream",
     "name": "stdout",
     "text": [
      "===================] - 1s 789us/step - loss: 0.5202 - accuracy: 0.7458\n",
      "Epoch 813/1000\n",
      "804/804 [==============================] - 0s 615us/step - loss: 0.5203 - accuracy: 0.7460\n",
      "Epoch 814/1000\n",
      "804/804 [==============================] - 1s 685us/step - loss: 0.5203 - accuracy: 0.7465\n",
      "Epoch 815/1000\n",
      "804/804 [==============================] - 1s 697us/step - loss: 0.5204 - accuracy: 0.7462\n",
      "Epoch 816/1000\n",
      "804/804 [==============================] - 1s 686us/step - loss: 0.5202 - accuracy: 0.7463\n",
      "Epoch 817/1000\n",
      "804/804 [==============================] - 0s 568us/step - loss: 0.5204 - accuracy: 0.7459\n",
      "Epoch 818/1000\n",
      "804/804 [==============================] - 1s 706us/step - loss: 0.5203 - accuracy: 0.7461\n",
      "Epoch 819/1000\n",
      "804/804 [==============================] - 1s 733us/step - loss: 0.5203 - accuracy: 0.7464\n",
      "Epoch 820/1000\n",
      "804/804 [==============================] - 0s 552us/step - loss: 0.5202 - accuracy: 0.7463\n",
      "Epoch 821/1000\n",
      "804/804 [==============================] - 0s 589us/step - loss: 0.5205 - accuracy: 0.7460\n",
      "Epoch 822/1000\n",
      "804/804 [==============================] - 1s 748us/step - loss: 0.5202 - accuracy: 0.7466\n",
      "Epoch 823/1000\n",
      "804/804 [==============================] - 1s 651us/step - loss: 0.5205 - accuracy: 0.7461\n",
      "Epoch 824/1000\n",
      "804/804 [==============================] - 0s 590us/step - loss: 0.5202 - accuracy: 0.7459\n",
      "Epoch 825/1000\n",
      "804/804 [==============================] - 1s 738us/step - loss: 0.5204 - accuracy: 0.7462\n",
      "Epoch 826/1000\n",
      "804/804 [==============================] - 1s 654us/step - loss: 0.5201 - accuracy: 0.7460\n",
      "Epoch 827/1000\n",
      "804/804 [==============================] - 0s 614us/step - loss: 0.5203 - accuracy: 0.7463\n",
      "Epoch 828/1000\n",
      "804/804 [==============================] - 0s 613us/step - loss: 0.5201 - accuracy: 0.7462\n",
      "Epoch 829/1000\n",
      "804/804 [==============================] - 1s 635us/step - loss: 0.5203 - accuracy: 0.7460\n",
      "Epoch 830/1000\n",
      "804/804 [==============================] - 1s 625us/step - loss: 0.5203 - accuracy: 0.7462\n",
      "Epoch 831/1000\n",
      "804/804 [==============================] - 1s 720us/step - loss: 0.5202 - accuracy: 0.7461\n",
      "Epoch 832/1000\n",
      "804/804 [==============================] - 0s 614us/step - loss: 0.5203 - accuracy: 0.7463\n",
      "Epoch 833/1000\n",
      "804/804 [==============================] - 0s 562us/step - loss: 0.5202 - accuracy: 0.7459\n",
      "Epoch 834/1000\n",
      "804/804 [==============================] - 0s 617us/step - loss: 0.5202 - accuracy: 0.7457\n",
      "Epoch 835/1000\n",
      "804/804 [==============================] - 1s 649us/step - loss: 0.5204 - accuracy: 0.7460\n",
      "Epoch 836/1000\n",
      "804/804 [==============================] - 1s 670us/step - loss: 0.5201 - accuracy: 0.7460\n",
      "Epoch 837/1000\n",
      "804/804 [==============================] - 1s 667us/step - loss: 0.5204 - accuracy: 0.7461\n",
      "Epoch 838/1000\n",
      "804/804 [==============================] - 1s 661us/step - loss: 0.5201 - accuracy: 0.7462\n",
      "Epoch 839/1000\n",
      "804/804 [==============================] - 1s 706us/step - loss: 0.5201 - accuracy: 0.7464\n",
      "Epoch 840/1000\n",
      "804/804 [==============================] - 1s 646us/step - loss: 0.5203 - accuracy: 0.7463\n",
      "Epoch 841/1000\n",
      "804/804 [==============================] - 1s 638us/step - loss: 0.5201 - accuracy: 0.7459\n",
      "Epoch 842/1000\n",
      "804/804 [==============================] - 0s 597us/step - loss: 0.5204 - accuracy: 0.7463\n",
      "Epoch 843/1000\n",
      "804/804 [==============================] - 1s 641us/step - loss: 0.5205 - accuracy: 0.7461\n",
      "Epoch 844/1000\n",
      "804/804 [==============================] - 0s 587us/step - loss: 0.5202 - accuracy: 0.7456\n",
      "Epoch 845/1000\n",
      "804/804 [==============================] - 1s 639us/step - loss: 0.5202 - accuracy: 0.7465\n",
      "Epoch 846/1000\n",
      "804/804 [==============================] - 0s 610us/step - loss: 0.5202 - accuracy: 0.7458\n",
      "Epoch 847/1000\n",
      "804/804 [==============================] - 1s 715us/step - loss: 0.5201 - accuracy: 0.7461\n",
      "Epoch 848/1000\n",
      "804/804 [==============================] - 0s 571us/step - loss: 0.5202 - accuracy: 0.7462\n",
      "Epoch 849/1000\n",
      "804/804 [==============================] - 0s 588us/step - loss: 0.5202 - accuracy: 0.7471\n",
      "Epoch 850/1000\n",
      "804/804 [==============================] - 0s 519us/step - loss: 0.5201 - accuracy: 0.7459\n",
      "Epoch 851/1000\n",
      "804/804 [==============================] - 0s 561us/step - loss: 0.5202 - accuracy: 0.7463\n",
      "Epoch 852/1000\n",
      "804/804 [==============================] - 0s 531us/step - loss: 0.5202 - accuracy: 0.7464\n",
      "Epoch 853/1000\n",
      "804/804 [==============================] - 0s 563us/step - loss: 0.5201 - accuracy: 0.7464\n",
      "Epoch 854/1000\n",
      "804/804 [==============================] - 1s 683us/step - loss: 0.5201 - accuracy: 0.7465\n",
      "Epoch 855/1000\n",
      "804/804 [==============================] - 1s 649us/step - loss: 0.5201 - accuracy: 0.7464\n",
      "Epoch 856/1000\n",
      "804/804 [==============================] - 1s 643us/step - loss: 0.5203 - accuracy: 0.7462\n",
      "Epoch 857/1000\n",
      "804/804 [==============================] - 0s 620us/step - loss: 0.5202 - accuracy: 0.7463\n",
      "Epoch 858/1000\n",
      "804/804 [==============================] - 0s 574us/step - loss: 0.5202 - accuracy: 0.7466\n",
      "Epoch 859/1000\n",
      "804/804 [==============================] - 1s 638us/step - loss: 0.5201 - accuracy: 0.7461\n",
      "Epoch 860/1000\n",
      "804/804 [==============================] - 1s 641us/step - loss: 0.5202 - accuracy: 0.7464\n",
      "Epoch 861/1000\n",
      "804/804 [==============================] - 0s 582us/step - loss: 0.5201 - accuracy: 0.7458\n",
      "Epoch 862/1000\n",
      "804/804 [==============================] - 0s 607us/step - loss: 0.5202 - accuracy: 0.7466\n",
      "Epoch 863/1000\n",
      "804/804 [==============================] - 1s 630us/step - loss: 0.5200 - accuracy: 0.7459\n",
      "Epoch 864/1000\n",
      "804/804 [==============================] - 1s 662us/step - loss: 0.5204 - accuracy: 0.7462\n",
      "Epoch 865/1000\n",
      "804/804 [==============================] - 1s 675us/step - loss: 0.5199 - accuracy: 0.7466\n",
      "Epoch 866/1000\n",
      "804/804 [==============================] - 1s 702us/step - loss: 0.5202 - accuracy: 0.7462\n",
      "Epoch 867/1000\n",
      "804/804 [==============================] - 0s 602us/step - loss: 0.5201 - accuracy: 0.7467\n",
      "Epoch 868/1000\n",
      "804/804 [==============================] - 0s 574us/step - loss: 0.5201 - accuracy: 0.7465\n",
      "Epoch 869/1000\n",
      "804/804 [==============================] - 1s 666us/step - loss: 0.5202 - accuracy: 0.7462\n",
      "Epoch 870/1000\n",
      "804/804 [==============================] - 1s 661us/step - loss: 0.5201 - accuracy: 0.7464\n",
      "Epoch 871/1000\n",
      "804/804 [==============================] - 1s 638us/step - loss: 0.5201 - accuracy: 0.7459\n",
      "Epoch 872/1000\n",
      "804/804 [==============================] - 1s 712us/step - loss: 0.5201 - accuracy: 0.7457\n",
      "Epoch 873/1000\n",
      "804/804 [==============================] - 1s 674us/step - loss: 0.5200 - accuracy: 0.7462\n",
      "Epoch 874/1000\n",
      "804/804 [==============================] - 0s 618us/step - loss: 0.5203 - accuracy: 0.7460\n",
      "Epoch 875/1000\n",
      "804/804 [==============================] - 0s 572us/step - loss: 0.5202 - accuracy: 0.7462\n",
      "Epoch 876/1000\n",
      "804/804 [==============================] - 0s 614us/step - loss: 0.5201 - accuracy: 0.7458\n",
      "Epoch 877/1000\n",
      "804/804 [==============================] - 1s 655us/step - loss: 0.5200 - accuracy: 0.7460\n",
      "Epoch 878/1000\n",
      "804/804 [==============================] - 0s 584us/step - loss: 0.5200 - accuracy: 0.7460\n",
      "Epoch 879/1000\n",
      "804/804 [==============================] - 0s 547us/step - loss: 0.5200 - accuracy: 0.7463\n",
      "Epoch 880/1000\n",
      "804/804 [==============================] - 0s 533us/step - loss: 0.5201 - accuracy: 0.7465\n",
      "Epoch 881/1000\n",
      "804/804 [==============================] - 0s 558us/step - loss: 0.5200 - accuracy: 0.7461\n",
      "Epoch 882/1000\n",
      "804/804 [==============================] - 0s 550us/step - loss: 0.5201 - accuracy: 0.7463\n",
      "Epoch 883/1000\n",
      "804/804 [==============================] - 1s 711us/step - loss: 0.5201 - accuracy: 0.7456\n",
      "Epoch 884/1000\n",
      "804/804 [==============================] - 1s 723us/step - loss: 0.5202 - accuracy: 0.7458\n",
      "Epoch 885/1000\n",
      "804/804 [==============================] - 0s 617us/step - loss: 0.5200 - accuracy: 0.7458\n",
      "Epoch 886/1000\n",
      "804/804 [==============================] - 0s 589us/step - loss: 0.5201 - accuracy: 0.7459\n",
      "Epoch 887/1000\n",
      "804/804 [==============================] - 0s 584us/step - loss: 0.5201 - accuracy: 0.7466\n",
      "Epoch 888/1000\n",
      "804/804 [==============================] - 0s 554us/step - loss: 0.5201 - accuracy: 0.7457\n",
      "Epoch 889/1000\n",
      "804/804 [==============================] - 1s 675us/step - loss: 0.5200 - accuracy: 0.7470\n",
      "Epoch 890/1000\n",
      "804/804 [==============================] - 0s 610us/step - loss: 0.5201 - accuracy: 0.7459\n",
      "Epoch 891/1000\n",
      "804/804 [==============================] - 1s 677us/step - loss: 0.5201 - accuracy: 0.7463\n",
      "Epoch 892/1000\n",
      "804/804 [==============================] - 1s 716us/step - loss: 0.5200 - accuracy: 0.7458\n",
      "Epoch 893/1000\n",
      "804/804 [==============================] - 0s 574us/step - loss: 0.5201 - accuracy: 0.7460\n",
      "Epoch 894/1000\n",
      "804/804 [==============================] - 0s 566us/step - loss: 0.5201 - accuracy: 0.7466\n",
      "Epoch 895/1000\n",
      "804/804 [==============================] - 1s 666us/step - loss: 0.5201 - accuracy: 0.7460\n",
      "Epoch 896/1000\n",
      "804/804 [==============================] - 0s 545us/step - loss: 0.5201 - accuracy: 0.7465\n",
      "Epoch 897/1000\n",
      "804/804 [==============================] - 1s 623us/step - loss: 0.5199 - accuracy: 0.7463\n",
      "Epoch 898/1000\n",
      "804/804 [==============================] - 0s 581us/step - loss: 0.5201 - accuracy: 0.7456\n",
      "Epoch 899/1000\n",
      "804/804 [==============================] - 0s 590us/step - loss: 0.5201 - accuracy: 0.7465\n",
      "Epoch 900/1000\n",
      "804/804 [==============================] - 1s 689us/step - loss: 0.5200 - accuracy: 0.7463\n",
      "Epoch 901/1000\n",
      "804/804 [==============================] - 1s 657us/step - loss: 0.5200 - accuracy: 0.7465\n",
      "Epoch 902/1000\n",
      "804/804 [==============================] - 1s 665us/step - loss: 0.5201 - accuracy: 0.7464\n",
      "Epoch 903/1000\n",
      "804/804 [==============================] - 1s 659us/step - loss: 0.5200 - accuracy: 0.7458\n",
      "Epoch 904/1000\n",
      "804/804 [==============================] - 1s 691us/step - loss: 0.5200 - accuracy: 0.7462\n",
      "Epoch 905/1000\n",
      "804/804 [==============================] - 1s 669us/step - loss: 0.5201 - accuracy: 0.7467\n",
      "Epoch 906/1000\n",
      "804/804 [==============================] - 1s 748us/step - loss: 0.5200 - accuracy: 0.7465\n",
      "Epoch 907/1000\n",
      "804/804 [==============================] - 1s 705us/step - loss: 0.5200 - accuracy: 0.7465\n",
      "Epoch 908/1000\n",
      "804/804 [==============================] - 1s 707us/step - loss: 0.5200 - accuracy: 0.7463\n",
      "Epoch 909/1000\n",
      "804/804 [==============================] - 1s 721us/step - loss: 0.5200 - accuracy: 0.7467\n",
      "Epoch 910/1000\n",
      "804/804 [==============================] - 1s 718us/step - loss: 0.5201 - accuracy: 0.7465\n",
      "Epoch 911/1000\n",
      "804/804 [==============================] - 1s 733us/step - loss: 0.5199 - accuracy: 0.7465\n",
      "Epoch 912/1000\n",
      "804/804 [==============================] - 1s 708us/step - loss: 0.5201 - accuracy: 0.7464\n",
      "Epoch 913/1000\n",
      "804/804 [==============================] - 1s 690us/step - loss: 0.5200 - accuracy: 0.7467\n",
      "Epoch 914/1000\n",
      "804/804 [==============================] - 0s 605us/step - loss: 0.5199 - accuracy: 0.7462\n",
      "Epoch 915/1000\n",
      "804/804 [==============================] - 1s 718us/step - loss: 0.5200 - accuracy: 0.7461\n",
      "Epoch 916/1000\n",
      "804/804 [==============================] - 1s 644us/step - loss: 0.5200 - accuracy: 0.7456\n",
      "Epoch 917/1000\n",
      "804/804 [==============================] - 1s 732us/step - loss: 0.5200 - accuracy: 0.7462\n",
      "Epoch 918/1000\n",
      "804/804 [==============================] - 1s 680us/step - loss: 0.5199 - accuracy: 0.7466\n",
      "Epoch 919/1000\n",
      "804/804 [==============================] - 1s 702us/step - loss: 0.5200 - accuracy: 0.7467\n",
      "Epoch 920/1000\n",
      "804/804 [==============================] - 1s 722us/step - loss: 0.5200 - accuracy: 0.7463\n",
      "Epoch 921/1000\n",
      "804/804 [==============================] - 1s 703us/step - loss: 0.5200 - accuracy: 0.7461\n",
      "Epoch 922/1000\n",
      "804/804 [==============================] - 1s 703us/step - loss: 0.5200 - accuracy: 0.7456\n",
      "Epoch 923/1000\n",
      "804/804 [==============================] - 1s 677us/step - loss: 0.5200 - accuracy: 0.7459\n",
      "Epoch 924/1000\n",
      "804/804 [==============================] - 1s 638us/step - loss: 0.5201 - accuracy: 0.7463\n",
      "Epoch 925/1000\n",
      "804/804 [==============================] - 1s 728us/step - loss: 0.5197 - accuracy: 0.7467\n",
      "Epoch 926/1000\n",
      "804/804 [==============================] - 1s 679us/step - loss: 0.5199 - accuracy: 0.7465\n",
      "Epoch 927/1000\n",
      "804/804 [==============================] - 1s 717us/step - loss: 0.5199 - accuracy: 0.7462\n",
      "Epoch 928/1000\n",
      "804/804 [==============================] - 1s 724us/step - loss: 0.5200 - accuracy: 0.7462\n",
      "Epoch 929/1000\n",
      "804/804 [==============================] - 1s 692us/step - loss: 0.5201 - accuracy: 0.7463\n",
      "Epoch 930/1000\n",
      "804/804 [==============================] - 1s 708us/step - loss: 0.5200 - accuracy: 0.7465\n",
      "Epoch 931/1000\n",
      "804/804 [==============================] - 1s 695us/step - loss: 0.5198 - accuracy: 0.7460\n",
      "Epoch 932/1000\n",
      "804/804 [==============================] - 1s 664us/step - loss: 0.5199 - accuracy: 0.7462\n",
      "Epoch 933/1000\n",
      "804/804 [==============================] - 1s 710us/step - loss: 0.5199 - accuracy: 0.7463\n",
      "Epoch 934/1000\n",
      "804/804 [==============================] - 1s 723us/step - loss: 0.5200 - accuracy: 0.7465\n",
      "Epoch 935/1000\n",
      "804/804 [==============================] - 1s 685us/step - loss: 0.5200 - accuracy: 0.7463\n",
      "Epoch 936/1000\n",
      "804/804 [==============================] - 1s 677us/step - loss: 0.5200 - accuracy: 0.7467\n",
      "Epoch 937/1000\n",
      "804/804 [==============================] - 1s 722us/step - loss: 0.5198 - accuracy: 0.7463\n",
      "Epoch 938/1000\n",
      "804/804 [==============================] - 1s 736us/step - loss: 0.5199 - accuracy: 0.7467\n",
      "Epoch 939/1000\n",
      "804/804 [==============================] - 1s 707us/step - loss: 0.5199 - accuracy: 0.7465\n",
      "Epoch 940/1000\n",
      "804/804 [==============================] - 1s 738us/step - loss: 0.5199 - accuracy: 0.7463\n",
      "Epoch 941/1000\n",
      "804/804 [==============================] - 1s 708us/step - loss: 0.5198 - accuracy: 0.7465\n",
      "Epoch 942/1000\n",
      "804/804 [==============================] - 1s 708us/step - loss: 0.5200 - accuracy: 0.7461\n",
      "Epoch 943/1000\n",
      "804/804 [==============================] - 1s 676us/step - loss: 0.5200 - accuracy: 0.7461\n",
      "Epoch 944/1000\n",
      "804/804 [==============================] - 1s 760us/step - loss: 0.5199 - accuracy: 0.7460\n",
      "Epoch 945/1000\n",
      "804/804 [==============================] - 1s 744us/step - loss: 0.5199 - accuracy: 0.7462\n",
      "Epoch 946/1000\n",
      "804/804 [==============================] - 1s 685us/step - loss: 0.5199 - accuracy: 0.7461\n",
      "Epoch 947/1000\n",
      "804/804 [==============================] - 1s 721us/step - loss: 0.5199 - accuracy: 0.7465\n",
      "Epoch 948/1000\n",
      "804/804 [==============================] - 1s 712us/step - loss: 0.5199 - accuracy: 0.7458\n",
      "Epoch 949/1000\n",
      "804/804 [==============================] - 1s 718us/step - loss: 0.5198 - accuracy: 0.7461\n",
      "Epoch 950/1000\n",
      "804/804 [==============================] - 1s 731us/step - loss: 0.5200 - accuracy: 0.7465\n",
      "Epoch 951/1000\n",
      "804/804 [==============================] - 1s 690us/step - loss: 0.5198 - accuracy: 0.7460\n",
      "Epoch 952/1000\n",
      "804/804 [==============================] - 1s 712us/step - loss: 0.5199 - accuracy: 0.7459\n",
      "Epoch 953/1000\n",
      "804/804 [==============================] - 1s 716us/step - loss: 0.5198 - accuracy: 0.7462\n",
      "Epoch 954/1000\n",
      "804/804 [==============================] - 1s 713us/step - loss: 0.5199 - accuracy: 0.7461\n",
      "Epoch 955/1000\n",
      "804/804 [==============================] - 1s 732us/step - loss: 0.5198 - accuracy: 0.7461\n",
      "Epoch 956/1000\n",
      "804/804 [==============================] - 1s 760us/step - loss: 0.5198 - accuracy: 0.7461\n",
      "Epoch 957/1000\n",
      "804/804 [==============================] - 1s 733us/step - loss: 0.5198 - accuracy: 0.7463\n",
      "Epoch 958/1000\n",
      "804/804 [==============================] - 1s 655us/step - loss: 0.5200 - accuracy: 0.7463\n",
      "Epoch 959/1000\n",
      "804/804 [==============================] - 1s 677us/step - loss: 0.5198 - accuracy: 0.7465\n",
      "Epoch 960/1000\n",
      "804/804 [==============================] - 1s 702us/step - loss: 0.5197 - accuracy: 0.7460\n",
      "Epoch 961/1000\n",
      "804/804 [==============================] - 1s 712us/step - loss: 0.5197 - accuracy: 0.7467\n",
      "Epoch 962/1000\n",
      "804/804 [==============================] - 1s 693us/step - loss: 0.5196 - accuracy: 0.7465\n",
      "Epoch 963/1000\n",
      "804/804 [==============================] - 1s 737us/step - loss: 0.5197 - accuracy: 0.7462\n",
      "Epoch 964/1000\n",
      "804/804 [==============================] - 1s 765us/step - loss: 0.5199 - accuracy: 0.7465\n",
      "Epoch 965/1000\n",
      "804/804 [==============================] - 1s 726us/step - loss: 0.5198 - accuracy: 0.7466\n",
      "Epoch 966/1000\n",
      "804/804 [==============================] - 1s 682us/step - loss: 0.5196 - accuracy: 0.7459\n",
      "Epoch 967/1000\n",
      "804/804 [==============================] - 1s 711us/step - loss: 0.5199 - accuracy: 0.7461\n",
      "Epoch 968/1000\n",
      "804/804 [==============================] - 1s 739us/step - loss: 0.5198 - accuracy: 0.7467\n",
      "Epoch 969/1000\n",
      "804/804 [==============================] - 1s 770us/step - loss: 0.5199 - accuracy: 0.7460\n",
      "Epoch 970/1000\n",
      "804/804 [==============================] - 1s 765us/step - loss: 0.5197 - accuracy: 0.7459\n",
      "Epoch 971/1000\n",
      "804/804 [==============================] - 1s 764us/step - loss: 0.5198 - accuracy: 0.7460\n",
      "Epoch 972/1000\n",
      "804/804 [==============================] - 0s 618us/step - loss: 0.5199 - accuracy: 0.7460\n",
      "Epoch 973/1000\n",
      "804/804 [==============================] - 0s 602us/step - loss: 0.5198 - accuracy: 0.7459\n",
      "Epoch 974/1000\n",
      "804/804 [==============================] - 1s 727us/step - loss: 0.5199 - accuracy: 0.7467\n",
      "Epoch 975/1000\n",
      "804/804 [==============================] - 1s 768us/step - loss: 0.5198 - accuracy: 0.7460\n",
      "Epoch 976/1000\n",
      "804/804 [==============================] - 1s 636us/step - loss: 0.5197 - accuracy: 0.7466\n",
      "Epoch 977/1000\n",
      "804/804 [==============================] - 0s 576us/step - loss: 0.5197 - accuracy: 0.7460\n",
      "Epoch 978/1000\n",
      "804/804 [==============================] - 1s 634us/step - loss: 0.5196 - accuracy: 0.7466\n",
      "Epoch 979/1000\n",
      "804/804 [==============================] - 1s 701us/step - loss: 0.5197 - accuracy: 0.7463\n",
      "Epoch 980/1000\n",
      "804/804 [==============================] - 1s 654us/step - loss: 0.5198 - accuracy: 0.7461\n",
      "Epoch 981/1000\n",
      "804/804 [==============================] - 1s 650us/step - loss: 0.5199 - accuracy: 0.7462\n",
      "Epoch 982/1000\n",
      "804/804 [==============================] - 1s 655us/step - loss: 0.5198 - accuracy: 0.7460\n",
      "Epoch 983/1000\n",
      "804/804 [==============================] - 1s 750us/step - loss: 0.5196 - accuracy: 0.7468\n",
      "Epoch 984/1000\n",
      "804/804 [==============================] - 1s 743us/step - loss: 0.5196 - accuracy: 0.7464\n",
      "Epoch 985/1000\n",
      "804/804 [==============================] - 1s 711us/step - loss: 0.5198 - accuracy: 0.7461\n",
      "Epoch 986/1000\n",
      "804/804 [==============================] - 1s 723us/step - loss: 0.5198 - accuracy: 0.7462\n",
      "Epoch 987/1000\n",
      "804/804 [==============================] - 1s 692us/step - loss: 0.5196 - accuracy: 0.7465\n",
      "Epoch 988/1000\n",
      "804/804 [==============================] - 1s 726us/step - loss: 0.5198 - accuracy: 0.7465\n",
      "Epoch 989/1000\n",
      "804/804 [==============================] - 1s 712us/step - loss: 0.5196 - accuracy: 0.7463\n",
      "Epoch 990/1000\n",
      "804/804 [==============================] - 1s 697us/step - loss: 0.5198 - accuracy: 0.7463\n",
      "Epoch 991/1000\n",
      "804/804 [==============================] - 1s 703us/step - loss: 0.5196 - accuracy: 0.7463\n",
      "Epoch 992/1000\n",
      "804/804 [==============================] - 1s 676us/step - loss: 0.5196 - accuracy: 0.7468\n",
      "Epoch 993/1000\n",
      "804/804 [==============================] - 1s 734us/step - loss: 0.5197 - accuracy: 0.7466\n",
      "Epoch 994/1000\n",
      "804/804 [==============================] - 1s 795us/step - loss: 0.5196 - accuracy: 0.7468\n",
      "Epoch 995/1000\n",
      "804/804 [==============================] - 1s 762us/step - loss: 0.5200 - accuracy: 0.7465\n",
      "Epoch 996/1000\n",
      "804/804 [==============================] - 1s 739us/step - loss: 0.5198 - accuracy: 0.7462\n",
      "Epoch 997/1000\n",
      "804/804 [==============================] - 1s 712us/step - loss: 0.5196 - accuracy: 0.7469\n",
      "Epoch 998/1000\n",
      "804/804 [==============================] - 1s 731us/step - loss: 0.5198 - accuracy: 0.7463\n",
      "Epoch 999/1000\n",
      "804/804 [==============================] - 1s 732us/step - loss: 0.5195 - accuracy: 0.7469\n",
      "Epoch 1000/1000\n",
      "804/804 [==============================] - 1s 732us/step - loss: 0.5199 - accuracy: 0.7463\n"
     ]
    }
   ],
   "source": [
    "# try with sigmoid with 1000 epochs\n",
    "# Compile the Sequential model together and customize metrics\n",
    "nn.compile(loss=\"binary_crossentropy\", optimizer=\"adam\", metrics=[\"accuracy\"])\n",
    "\n",
    "# Train the model\n",
    "fit_model = nn.fit(X_train_scaled, y_train, epochs=1000)"
   ]
  },
  {
   "cell_type": "code",
   "execution_count": 40,
   "metadata": {},
   "outputs": [
    {
     "output_type": "execute_result",
     "data": {
      "text/plain": [
       "<matplotlib.axes._subplots.AxesSubplot at 0x1e7abee2760>"
      ]
     },
     "metadata": {},
     "execution_count": 40
    },
    {
     "output_type": "display_data",
     "data": {
      "text/plain": "<Figure size 432x288 with 1 Axes>",
      "image/svg+xml": "<?xml version=\"1.0\" encoding=\"utf-8\" standalone=\"no\"?>\r\n<!DOCTYPE svg PUBLIC \"-//W3C//DTD SVG 1.1//EN\"\r\n  \"http://www.w3.org/Graphics/SVG/1.1/DTD/svg11.dtd\">\r\n<!-- Created with matplotlib (https://matplotlib.org/) -->\r\n<svg height=\"248.518125pt\" version=\"1.1\" viewBox=\"0 0 384.828125 248.518125\" width=\"384.828125pt\" xmlns=\"http://www.w3.org/2000/svg\" xmlns:xlink=\"http://www.w3.org/1999/xlink\">\r\n <defs>\r\n  <style type=\"text/css\">\r\n*{stroke-linecap:butt;stroke-linejoin:round;}\r\n  </style>\r\n </defs>\r\n <g id=\"figure_1\">\r\n  <g id=\"patch_1\">\r\n   <path d=\"M 0 248.518125 \r\nL 384.828125 248.518125 \r\nL 384.828125 0 \r\nL 0 0 \r\nz\r\n\" style=\"fill:none;\"/>\r\n  </g>\r\n  <g id=\"axes_1\">\r\n   <g id=\"patch_2\">\r\n    <path d=\"M 42.828125 224.64 \r\nL 377.628125 224.64 \r\nL 377.628125 7.2 \r\nL 42.828125 7.2 \r\nz\r\n\" style=\"fill:#ffffff;\"/>\r\n   </g>\r\n   <g id=\"matplotlib.axis_1\">\r\n    <g id=\"xtick_1\">\r\n     <g id=\"line2d_1\">\r\n      <defs>\r\n       <path d=\"M 0 0 \r\nL 0 3.5 \r\n\" id=\"m44a311ef7f\" style=\"stroke:#000000;stroke-width:0.8;\"/>\r\n      </defs>\r\n      <g>\r\n       <use style=\"stroke:#000000;stroke-width:0.8;\" x=\"57.741639\" xlink:href=\"#m44a311ef7f\" y=\"224.64\"/>\r\n      </g>\r\n     </g>\r\n     <g id=\"text_1\">\r\n      <!-- 0 -->\r\n      <defs>\r\n       <path d=\"M 31.78125 66.40625 \r\nQ 24.171875 66.40625 20.328125 58.90625 \r\nQ 16.5 51.421875 16.5 36.375 \r\nQ 16.5 21.390625 20.328125 13.890625 \r\nQ 24.171875 6.390625 31.78125 6.390625 \r\nQ 39.453125 6.390625 43.28125 13.890625 \r\nQ 47.125 21.390625 47.125 36.375 \r\nQ 47.125 51.421875 43.28125 58.90625 \r\nQ 39.453125 66.40625 31.78125 66.40625 \r\nz\r\nM 31.78125 74.21875 \r\nQ 44.046875 74.21875 50.515625 64.515625 \r\nQ 56.984375 54.828125 56.984375 36.375 \r\nQ 56.984375 17.96875 50.515625 8.265625 \r\nQ 44.046875 -1.421875 31.78125 -1.421875 \r\nQ 19.53125 -1.421875 13.0625 8.265625 \r\nQ 6.59375 17.96875 6.59375 36.375 \r\nQ 6.59375 54.828125 13.0625 64.515625 \r\nQ 19.53125 74.21875 31.78125 74.21875 \r\nz\r\n\" id=\"DejaVuSans-48\"/>\r\n      </defs>\r\n      <g transform=\"translate(54.560389 239.238438)scale(0.1 -0.1)\">\r\n       <use xlink:href=\"#DejaVuSans-48\"/>\r\n      </g>\r\n     </g>\r\n    </g>\r\n    <g id=\"xtick_2\">\r\n     <g id=\"line2d_2\">\r\n      <g>\r\n       <use style=\"stroke:#000000;stroke-width:0.8;\" x=\"118.675299\" xlink:href=\"#m44a311ef7f\" y=\"224.64\"/>\r\n      </g>\r\n     </g>\r\n     <g id=\"text_2\">\r\n      <!-- 200 -->\r\n      <defs>\r\n       <path d=\"M 19.1875 8.296875 \r\nL 53.609375 8.296875 \r\nL 53.609375 0 \r\nL 7.328125 0 \r\nL 7.328125 8.296875 \r\nQ 12.9375 14.109375 22.625 23.890625 \r\nQ 32.328125 33.6875 34.8125 36.53125 \r\nQ 39.546875 41.84375 41.421875 45.53125 \r\nQ 43.3125 49.21875 43.3125 52.78125 \r\nQ 43.3125 58.59375 39.234375 62.25 \r\nQ 35.15625 65.921875 28.609375 65.921875 \r\nQ 23.96875 65.921875 18.8125 64.3125 \r\nQ 13.671875 62.703125 7.8125 59.421875 \r\nL 7.8125 69.390625 \r\nQ 13.765625 71.78125 18.9375 73 \r\nQ 24.125 74.21875 28.421875 74.21875 \r\nQ 39.75 74.21875 46.484375 68.546875 \r\nQ 53.21875 62.890625 53.21875 53.421875 \r\nQ 53.21875 48.921875 51.53125 44.890625 \r\nQ 49.859375 40.875 45.40625 35.40625 \r\nQ 44.1875 33.984375 37.640625 27.21875 \r\nQ 31.109375 20.453125 19.1875 8.296875 \r\nz\r\n\" id=\"DejaVuSans-50\"/>\r\n      </defs>\r\n      <g transform=\"translate(109.131549 239.238438)scale(0.1 -0.1)\">\r\n       <use xlink:href=\"#DejaVuSans-50\"/>\r\n       <use x=\"63.623047\" xlink:href=\"#DejaVuSans-48\"/>\r\n       <use x=\"127.246094\" xlink:href=\"#DejaVuSans-48\"/>\r\n      </g>\r\n     </g>\r\n    </g>\r\n    <g id=\"xtick_3\">\r\n     <g id=\"line2d_3\">\r\n      <g>\r\n       <use style=\"stroke:#000000;stroke-width:0.8;\" x=\"179.60896\" xlink:href=\"#m44a311ef7f\" y=\"224.64\"/>\r\n      </g>\r\n     </g>\r\n     <g id=\"text_3\">\r\n      <!-- 400 -->\r\n      <defs>\r\n       <path d=\"M 37.796875 64.3125 \r\nL 12.890625 25.390625 \r\nL 37.796875 25.390625 \r\nz\r\nM 35.203125 72.90625 \r\nL 47.609375 72.90625 \r\nL 47.609375 25.390625 \r\nL 58.015625 25.390625 \r\nL 58.015625 17.1875 \r\nL 47.609375 17.1875 \r\nL 47.609375 0 \r\nL 37.796875 0 \r\nL 37.796875 17.1875 \r\nL 4.890625 17.1875 \r\nL 4.890625 26.703125 \r\nz\r\n\" id=\"DejaVuSans-52\"/>\r\n      </defs>\r\n      <g transform=\"translate(170.06521 239.238438)scale(0.1 -0.1)\">\r\n       <use xlink:href=\"#DejaVuSans-52\"/>\r\n       <use x=\"63.623047\" xlink:href=\"#DejaVuSans-48\"/>\r\n       <use x=\"127.246094\" xlink:href=\"#DejaVuSans-48\"/>\r\n      </g>\r\n     </g>\r\n    </g>\r\n    <g id=\"xtick_4\">\r\n     <g id=\"line2d_4\">\r\n      <g>\r\n       <use style=\"stroke:#000000;stroke-width:0.8;\" x=\"240.542621\" xlink:href=\"#m44a311ef7f\" y=\"224.64\"/>\r\n      </g>\r\n     </g>\r\n     <g id=\"text_4\">\r\n      <!-- 600 -->\r\n      <defs>\r\n       <path d=\"M 33.015625 40.375 \r\nQ 26.375 40.375 22.484375 35.828125 \r\nQ 18.609375 31.296875 18.609375 23.390625 \r\nQ 18.609375 15.53125 22.484375 10.953125 \r\nQ 26.375 6.390625 33.015625 6.390625 \r\nQ 39.65625 6.390625 43.53125 10.953125 \r\nQ 47.40625 15.53125 47.40625 23.390625 \r\nQ 47.40625 31.296875 43.53125 35.828125 \r\nQ 39.65625 40.375 33.015625 40.375 \r\nz\r\nM 52.59375 71.296875 \r\nL 52.59375 62.3125 \r\nQ 48.875 64.0625 45.09375 64.984375 \r\nQ 41.3125 65.921875 37.59375 65.921875 \r\nQ 27.828125 65.921875 22.671875 59.328125 \r\nQ 17.53125 52.734375 16.796875 39.40625 \r\nQ 19.671875 43.65625 24.015625 45.921875 \r\nQ 28.375 48.1875 33.59375 48.1875 \r\nQ 44.578125 48.1875 50.953125 41.515625 \r\nQ 57.328125 34.859375 57.328125 23.390625 \r\nQ 57.328125 12.15625 50.6875 5.359375 \r\nQ 44.046875 -1.421875 33.015625 -1.421875 \r\nQ 20.359375 -1.421875 13.671875 8.265625 \r\nQ 6.984375 17.96875 6.984375 36.375 \r\nQ 6.984375 53.65625 15.1875 63.9375 \r\nQ 23.390625 74.21875 37.203125 74.21875 \r\nQ 40.921875 74.21875 44.703125 73.484375 \r\nQ 48.484375 72.75 52.59375 71.296875 \r\nz\r\n\" id=\"DejaVuSans-54\"/>\r\n      </defs>\r\n      <g transform=\"translate(230.998871 239.238438)scale(0.1 -0.1)\">\r\n       <use xlink:href=\"#DejaVuSans-54\"/>\r\n       <use x=\"63.623047\" xlink:href=\"#DejaVuSans-48\"/>\r\n       <use x=\"127.246094\" xlink:href=\"#DejaVuSans-48\"/>\r\n      </g>\r\n     </g>\r\n    </g>\r\n    <g id=\"xtick_5\">\r\n     <g id=\"line2d_5\">\r\n      <g>\r\n       <use style=\"stroke:#000000;stroke-width:0.8;\" x=\"301.476282\" xlink:href=\"#m44a311ef7f\" y=\"224.64\"/>\r\n      </g>\r\n     </g>\r\n     <g id=\"text_5\">\r\n      <!-- 800 -->\r\n      <defs>\r\n       <path d=\"M 31.78125 34.625 \r\nQ 24.75 34.625 20.71875 30.859375 \r\nQ 16.703125 27.09375 16.703125 20.515625 \r\nQ 16.703125 13.921875 20.71875 10.15625 \r\nQ 24.75 6.390625 31.78125 6.390625 \r\nQ 38.8125 6.390625 42.859375 10.171875 \r\nQ 46.921875 13.96875 46.921875 20.515625 \r\nQ 46.921875 27.09375 42.890625 30.859375 \r\nQ 38.875 34.625 31.78125 34.625 \r\nz\r\nM 21.921875 38.8125 \r\nQ 15.578125 40.375 12.03125 44.71875 \r\nQ 8.5 49.078125 8.5 55.328125 \r\nQ 8.5 64.0625 14.71875 69.140625 \r\nQ 20.953125 74.21875 31.78125 74.21875 \r\nQ 42.671875 74.21875 48.875 69.140625 \r\nQ 55.078125 64.0625 55.078125 55.328125 \r\nQ 55.078125 49.078125 51.53125 44.71875 \r\nQ 48 40.375 41.703125 38.8125 \r\nQ 48.828125 37.15625 52.796875 32.3125 \r\nQ 56.78125 27.484375 56.78125 20.515625 \r\nQ 56.78125 9.90625 50.3125 4.234375 \r\nQ 43.84375 -1.421875 31.78125 -1.421875 \r\nQ 19.734375 -1.421875 13.25 4.234375 \r\nQ 6.78125 9.90625 6.78125 20.515625 \r\nQ 6.78125 27.484375 10.78125 32.3125 \r\nQ 14.796875 37.15625 21.921875 38.8125 \r\nz\r\nM 18.3125 54.390625 \r\nQ 18.3125 48.734375 21.84375 45.5625 \r\nQ 25.390625 42.390625 31.78125 42.390625 \r\nQ 38.140625 42.390625 41.71875 45.5625 \r\nQ 45.3125 48.734375 45.3125 54.390625 \r\nQ 45.3125 60.0625 41.71875 63.234375 \r\nQ 38.140625 66.40625 31.78125 66.40625 \r\nQ 25.390625 66.40625 21.84375 63.234375 \r\nQ 18.3125 60.0625 18.3125 54.390625 \r\nz\r\n\" id=\"DejaVuSans-56\"/>\r\n      </defs>\r\n      <g transform=\"translate(291.932532 239.238438)scale(0.1 -0.1)\">\r\n       <use xlink:href=\"#DejaVuSans-56\"/>\r\n       <use x=\"63.623047\" xlink:href=\"#DejaVuSans-48\"/>\r\n       <use x=\"127.246094\" xlink:href=\"#DejaVuSans-48\"/>\r\n      </g>\r\n     </g>\r\n    </g>\r\n    <g id=\"xtick_6\">\r\n     <g id=\"line2d_6\">\r\n      <g>\r\n       <use style=\"stroke:#000000;stroke-width:0.8;\" x=\"362.409943\" xlink:href=\"#m44a311ef7f\" y=\"224.64\"/>\r\n      </g>\r\n     </g>\r\n     <g id=\"text_6\">\r\n      <!-- 1000 -->\r\n      <defs>\r\n       <path d=\"M 12.40625 8.296875 \r\nL 28.515625 8.296875 \r\nL 28.515625 63.921875 \r\nL 10.984375 60.40625 \r\nL 10.984375 69.390625 \r\nL 28.421875 72.90625 \r\nL 38.28125 72.90625 \r\nL 38.28125 8.296875 \r\nL 54.390625 8.296875 \r\nL 54.390625 0 \r\nL 12.40625 0 \r\nz\r\n\" id=\"DejaVuSans-49\"/>\r\n      </defs>\r\n      <g transform=\"translate(349.684943 239.238438)scale(0.1 -0.1)\">\r\n       <use xlink:href=\"#DejaVuSans-49\"/>\r\n       <use x=\"63.623047\" xlink:href=\"#DejaVuSans-48\"/>\r\n       <use x=\"127.246094\" xlink:href=\"#DejaVuSans-48\"/>\r\n       <use x=\"190.869141\" xlink:href=\"#DejaVuSans-48\"/>\r\n      </g>\r\n     </g>\r\n    </g>\r\n   </g>\r\n   <g id=\"matplotlib.axis_2\">\r\n    <g id=\"ytick_1\">\r\n     <g id=\"line2d_7\">\r\n      <defs>\r\n       <path d=\"M 0 0 \r\nL -3.5 0 \r\n\" id=\"m70877cec9b\" style=\"stroke:#000000;stroke-width:0.8;\"/>\r\n      </defs>\r\n      <g>\r\n       <use style=\"stroke:#000000;stroke-width:0.8;\" x=\"42.828125\" xlink:href=\"#m70877cec9b\" y=\"205.630581\"/>\r\n      </g>\r\n     </g>\r\n     <g id=\"text_7\">\r\n      <!-- 0.520 -->\r\n      <defs>\r\n       <path d=\"M 10.6875 12.40625 \r\nL 21 12.40625 \r\nL 21 0 \r\nL 10.6875 0 \r\nz\r\n\" id=\"DejaVuSans-46\"/>\r\n       <path d=\"M 10.796875 72.90625 \r\nL 49.515625 72.90625 \r\nL 49.515625 64.59375 \r\nL 19.828125 64.59375 \r\nL 19.828125 46.734375 \r\nQ 21.96875 47.46875 24.109375 47.828125 \r\nQ 26.265625 48.1875 28.421875 48.1875 \r\nQ 40.625 48.1875 47.75 41.5 \r\nQ 54.890625 34.8125 54.890625 23.390625 \r\nQ 54.890625 11.625 47.5625 5.09375 \r\nQ 40.234375 -1.421875 26.90625 -1.421875 \r\nQ 22.3125 -1.421875 17.546875 -0.640625 \r\nQ 12.796875 0.140625 7.71875 1.703125 \r\nL 7.71875 11.625 \r\nQ 12.109375 9.234375 16.796875 8.0625 \r\nQ 21.484375 6.890625 26.703125 6.890625 \r\nQ 35.15625 6.890625 40.078125 11.328125 \r\nQ 45.015625 15.765625 45.015625 23.390625 \r\nQ 45.015625 31 40.078125 35.4375 \r\nQ 35.15625 39.890625 26.703125 39.890625 \r\nQ 22.75 39.890625 18.8125 39.015625 \r\nQ 14.890625 38.140625 10.796875 36.28125 \r\nz\r\n\" id=\"DejaVuSans-53\"/>\r\n      </defs>\r\n      <g transform=\"translate(7.2 209.4298)scale(0.1 -0.1)\">\r\n       <use xlink:href=\"#DejaVuSans-48\"/>\r\n       <use x=\"63.623047\" xlink:href=\"#DejaVuSans-46\"/>\r\n       <use x=\"95.410156\" xlink:href=\"#DejaVuSans-53\"/>\r\n       <use x=\"159.033203\" xlink:href=\"#DejaVuSans-50\"/>\r\n       <use x=\"222.65625\" xlink:href=\"#DejaVuSans-48\"/>\r\n      </g>\r\n     </g>\r\n    </g>\r\n    <g id=\"ytick_2\">\r\n     <g id=\"line2d_8\">\r\n      <g>\r\n       <use style=\"stroke:#000000;stroke-width:0.8;\" x=\"42.828125\" xlink:href=\"#m70877cec9b\" y=\"165.18177\"/>\r\n      </g>\r\n     </g>\r\n     <g id=\"text_8\">\r\n      <!-- 0.522 -->\r\n      <g transform=\"translate(7.2 168.980989)scale(0.1 -0.1)\">\r\n       <use xlink:href=\"#DejaVuSans-48\"/>\r\n       <use x=\"63.623047\" xlink:href=\"#DejaVuSans-46\"/>\r\n       <use x=\"95.410156\" xlink:href=\"#DejaVuSans-53\"/>\r\n       <use x=\"159.033203\" xlink:href=\"#DejaVuSans-50\"/>\r\n       <use x=\"222.65625\" xlink:href=\"#DejaVuSans-50\"/>\r\n      </g>\r\n     </g>\r\n    </g>\r\n    <g id=\"ytick_3\">\r\n     <g id=\"line2d_9\">\r\n      <g>\r\n       <use style=\"stroke:#000000;stroke-width:0.8;\" x=\"42.828125\" xlink:href=\"#m70877cec9b\" y=\"124.732959\"/>\r\n      </g>\r\n     </g>\r\n     <g id=\"text_9\">\r\n      <!-- 0.524 -->\r\n      <g transform=\"translate(7.2 128.532177)scale(0.1 -0.1)\">\r\n       <use xlink:href=\"#DejaVuSans-48\"/>\r\n       <use x=\"63.623047\" xlink:href=\"#DejaVuSans-46\"/>\r\n       <use x=\"95.410156\" xlink:href=\"#DejaVuSans-53\"/>\r\n       <use x=\"159.033203\" xlink:href=\"#DejaVuSans-50\"/>\r\n       <use x=\"222.65625\" xlink:href=\"#DejaVuSans-52\"/>\r\n      </g>\r\n     </g>\r\n    </g>\r\n    <g id=\"ytick_4\">\r\n     <g id=\"line2d_10\">\r\n      <g>\r\n       <use style=\"stroke:#000000;stroke-width:0.8;\" x=\"42.828125\" xlink:href=\"#m70877cec9b\" y=\"84.284147\"/>\r\n      </g>\r\n     </g>\r\n     <g id=\"text_10\">\r\n      <!-- 0.526 -->\r\n      <g transform=\"translate(7.2 88.083366)scale(0.1 -0.1)\">\r\n       <use xlink:href=\"#DejaVuSans-48\"/>\r\n       <use x=\"63.623047\" xlink:href=\"#DejaVuSans-46\"/>\r\n       <use x=\"95.410156\" xlink:href=\"#DejaVuSans-53\"/>\r\n       <use x=\"159.033203\" xlink:href=\"#DejaVuSans-50\"/>\r\n       <use x=\"222.65625\" xlink:href=\"#DejaVuSans-54\"/>\r\n      </g>\r\n     </g>\r\n    </g>\r\n    <g id=\"ytick_5\">\r\n     <g id=\"line2d_11\">\r\n      <g>\r\n       <use style=\"stroke:#000000;stroke-width:0.8;\" x=\"42.828125\" xlink:href=\"#m70877cec9b\" y=\"43.835336\"/>\r\n      </g>\r\n     </g>\r\n     <g id=\"text_11\">\r\n      <!-- 0.528 -->\r\n      <g transform=\"translate(7.2 47.634555)scale(0.1 -0.1)\">\r\n       <use xlink:href=\"#DejaVuSans-48\"/>\r\n       <use x=\"63.623047\" xlink:href=\"#DejaVuSans-46\"/>\r\n       <use x=\"95.410156\" xlink:href=\"#DejaVuSans-53\"/>\r\n       <use x=\"159.033203\" xlink:href=\"#DejaVuSans-50\"/>\r\n       <use x=\"222.65625\" xlink:href=\"#DejaVuSans-56\"/>\r\n      </g>\r\n     </g>\r\n    </g>\r\n   </g>\r\n   <g id=\"line2d_12\">\r\n    <path clip-path=\"url(#pf74547d3dc)\" d=\"M 58.046307 17.083636 \r\nL 58.350975 24.569596 \r\nL 58.655643 26.507989 \r\nL 58.960312 33.570829 \r\nL 59.26498 26.347662 \r\nL 59.569648 31.39978 \r\nL 59.874317 30.195517 \r\nL 60.178985 37.374082 \r\nL 60.483653 33.306832 \r\nL 60.788322 34.869119 \r\nL 61.09299 34.754599 \r\nL 61.397658 40.077948 \r\nL 61.702326 33.585295 \r\nL 62.006995 39.680144 \r\nL 62.311663 38.737467 \r\nL 62.616331 38.520483 \r\nL 62.921 43.282084 \r\nL 63.225668 42.737212 \r\nL 63.530336 41.027857 \r\nL 63.835005 48.243792 \r\nL 64.139673 45.680966 \r\nL 64.444341 46.935859 \r\nL 64.74901 50.001365 \r\nL 65.053678 48.206423 \r\nL 65.358346 53.239254 \r\nL 65.663014 48.408941 \r\nL 65.967683 56.298733 \r\nL 66.272351 52.864353 \r\nL 66.577019 57.059383 \r\nL 66.881688 59.273829 \r\nL 67.491024 56.104652 \r\nL 67.795693 57.9888 \r\nL 68.100361 56.854454 \r\nL 68.405029 58.228688 \r\nL 68.709697 58.111757 \r\nL 69.014366 55.740601 \r\nL 69.319034 60.052562 \r\nL 69.623702 59.376294 \r\nL 69.928371 57.516256 \r\nL 70.233039 64.606822 \r\nL 70.537707 64.702054 \r\nL 70.842376 64.653835 \r\nL 71.147044 68.61621 \r\nL 71.451712 62.786564 \r\nL 71.756381 70.530494 \r\nL 72.061049 69.19604 \r\nL 72.365717 67.322742 \r\nL 72.670385 69.381682 \r\nL 72.975054 67.307071 \r\nL 73.279722 70.598 \r\nL 73.58439 70.839094 \r\nL 73.889059 73.348879 \r\nL 74.193727 73.2874 \r\nL 74.498395 67.215456 \r\nL 74.803064 72.535188 \r\nL 75.107732 74.737579 \r\nL 75.4124 72.304944 \r\nL 75.717068 71.140461 \r\nL 76.021737 76.682 \r\nL 76.326405 72.277218 \r\nL 76.631073 82.962491 \r\nL 76.935742 73.784053 \r\nL 77.545078 77.545115 \r\nL 77.849747 77.574047 \r\nL 78.154415 78.521545 \r\nL 78.459083 78.891624 \r\nL 78.763752 79.79452 \r\nL 79.06842 83.923249 \r\nL 79.373088 81.020481 \r\nL 79.677756 82.351318 \r\nL 79.982425 77.48002 \r\nL 80.287093 86.721142 \r\nL 80.591761 85.502413 \r\nL 80.89643 80.838455 \r\nL 81.201098 81.9945 \r\nL 81.505766 85.319182 \r\nL 81.810435 85.926738 \r\nL 82.115103 84.304177 \r\nL 82.419771 87.029742 \r\nL 82.724439 83.919633 \r\nL 83.029108 84.218589 \r\nL 83.638444 90.581052 \r\nL 83.943113 89.028408 \r\nL 84.247781 90.26763 \r\nL 84.552449 92.060162 \r\nL 84.857118 89.069394 \r\nL 85.466454 94.011815 \r\nL 85.771123 89.369556 \r\nL 86.075791 92.184325 \r\nL 86.380459 98.026025 \r\nL 86.685127 88.477509 \r\nL 86.989796 92.28679 \r\nL 87.294464 93.890063 \r\nL 87.599132 90.8342 \r\nL 87.903801 91.921533 \r\nL 88.208469 93.90935 \r\nL 88.513137 94.841178 \r\nL 88.817806 93.347602 \r\nL 89.122474 95.656074 \r\nL 89.427142 95.279968 \r\nL 89.731811 100.440579 \r\nL 90.036479 93.217411 \r\nL 90.341147 94.438551 \r\nL 90.645815 98.127285 \r\nL 90.950484 98.774621 \r\nL 91.255152 100.686494 \r\nL 91.55982 101.696677 \r\nL 91.864489 97.144828 \r\nL 92.169157 102.594751 \r\nL 92.473825 96.646969 \r\nL 92.778494 97.903068 \r\nL 93.083162 103.731508 \r\nL 93.38783 101.917278 \r\nL 93.692498 105.029797 \r\nL 93.997167 101.58939 \r\nL 94.301835 108.725764 \r\nL 94.606503 109.140445 \r\nL 94.911172 103.819507 \r\nL 95.21584 103.654358 \r\nL 95.520508 105.561409 \r\nL 95.825177 103.864109 \r\nL 96.434513 107.51909 \r\nL 97.04385 104.679006 \r\nL 97.348518 106.270225 \r\nL 97.653186 109.389977 \r\nL 97.957855 108.626915 \r\nL 98.262523 107.089943 \r\nL 98.567191 109.878192 \r\nL 98.87186 106.50288 \r\nL 99.176528 111.612861 \r\nL 99.481196 111.89253 \r\nL 99.785865 106.105075 \r\nL 100.090533 111.517629 \r\nL 100.395201 110.94262 \r\nL 100.699869 109.314033 \r\nL 101.004538 115.999561 \r\nL 101.613874 107.370817 \r\nL 102.527879 114.843517 \r\nL 102.832548 113.625993 \r\nL 103.137216 110.392927 \r\nL 103.441884 111.479054 \r\nL 103.746553 115.660824 \r\nL 104.051221 113.470488 \r\nL 104.355889 114.634971 \r\nL 104.660557 110.215723 \r\nL 104.965226 117.755929 \r\nL 105.269894 113.51509 \r\nL 105.574562 114.492725 \r\nL 105.879231 116.472105 \r\nL 106.183899 115.060501 \r\nL 106.488567 118.154939 \r\nL 106.793236 116.410626 \r\nL 107.097904 117.174893 \r\nL 108.011909 121.275897 \r\nL 108.316577 117.765572 \r\nL 108.621245 117.426836 \r\nL 108.925914 119.090382 \r\nL 109.230582 116.842183 \r\nL 109.53525 117.968091 \r\nL 109.839919 119.658158 \r\nL 110.144587 119.171149 \r\nL 110.449255 119.848622 \r\nL 110.753924 119.17597 \r\nL 111.058592 120.651464 \r\nL 111.36326 121.533867 \r\nL 111.667928 121.620661 \r\nL 111.972597 120.369384 \r\nL 112.581933 119.635254 \r\nL 112.886602 122.189642 \r\nL 113.19127 120.605656 \r\nL 113.495938 119.908895 \r\nL 113.800607 127.66488 \r\nL 114.105275 122.445201 \r\nL 114.409943 121.976274 \r\nL 114.714611 122.202902 \r\nL 115.01928 123.937571 \r\nL 115.323948 122.116108 \r\nL 115.933285 124.476416 \r\nL 116.237953 123.186564 \r\nL 116.542621 124.066556 \r\nL 116.84729 122.524762 \r\nL 117.151958 122.169149 \r\nL 117.456626 123.017799 \r\nL 117.761295 124.686167 \r\nL 118.065963 123.627766 \r\nL 118.675299 128.653364 \r\nL 118.979968 125.498653 \r\nL 119.284636 125.713226 \r\nL 119.589304 124.375156 \r\nL 119.893973 127.135679 \r\nL 120.198641 125.153889 \r\nL 120.503309 128.172382 \r\nL 120.807978 128.453256 \r\nL 121.112646 124.108748 \r\nL 121.721982 129.604479 \r\nL 122.026651 124.459539 \r\nL 122.331319 130.368746 \r\nL 122.635987 130.908796 \r\nL 122.940656 130.718332 \r\nL 123.245324 127.110364 \r\nL 123.549992 129.386289 \r\nL 123.854661 125.394983 \r\nL 124.159329 127.256226 \r\nL 124.463997 130.3145 \r\nL 124.768666 129.828696 \r\nL 125.073334 131.417503 \r\nL 125.378002 129.436918 \r\nL 125.68267 131.195697 \r\nL 125.987339 131.405449 \r\nL 126.596675 128.713637 \r\nL 126.901344 132.50363 \r\nL 127.206012 133.73803 \r\nL 127.51068 129.914284 \r\nL 127.815349 128.071123 \r\nL 128.120017 133.829646 \r\nL 128.424685 131.227039 \r\nL 128.729354 133.10757 \r\nL 129.034022 130.611045 \r\nL 129.33869 133.119625 \r\nL 129.643358 131.295751 \r\nL 129.948027 132.263742 \r\nL 130.252695 132.277002 \r\nL 130.557363 135.288263 \r\nL 130.862032 129.694889 \r\nL 131.1667 133.475238 \r\nL 131.471368 132.879737 \r\nL 131.776037 129.088538 \r\nL 132.080705 133.213651 \r\nL 132.690041 135.054402 \r\nL 132.99471 134.100876 \r\nL 133.299378 130.666496 \r\nL 133.604046 134.300984 \r\nL 133.908715 135.869298 \r\nL 134.213383 136.147762 \r\nL 134.518051 135.261742 \r\nL 134.82272 133.718743 \r\nL 135.127388 134.010466 \r\nL 135.432056 129.068045 \r\nL 135.736725 136.358719 \r\nL 136.041393 136.385239 \r\nL 136.346061 135.572753 \r\nL 136.650729 137.59794 \r\nL 136.955398 135.600479 \r\nL 137.564734 137.237505 \r\nL 137.869403 134.918184 \r\nL 138.174071 138.053607 \r\nL 138.478739 133.624716 \r\nL 138.783408 138.838367 \r\nL 139.088076 138.712999 \r\nL 139.392744 137.309833 \r\nL 139.697412 137.248354 \r\nL 140.002081 135.748752 \r\nL 140.306749 135.777683 \r\nL 140.611417 135.211113 \r\nL 140.916086 139.672552 \r\nL 141.220754 140.447668 \r\nL 141.525422 136.843317 \r\nL 141.830091 137.888458 \r\nL 142.134759 139.75814 \r\nL 142.439427 139.543567 \r\nL 142.744096 140.159561 \r\nL 143.353432 139.543567 \r\nL 143.6581 140.014905 \r\nL 143.962769 140.98169 \r\nL 144.267437 139.034859 \r\nL 144.876774 139.649648 \r\nL 145.181442 136.234555 \r\nL 145.790779 141.169744 \r\nL 146.095447 140.413915 \r\nL 146.400115 141.432536 \r\nL 146.704783 143.174438 \r\nL 147.009452 139.695456 \r\nL 147.31412 141.254126 \r\nL 148.228125 140.607995 \r\nL 148.532793 143.313067 \r\nL 148.837462 140.28493 \r\nL 149.14213 142.194392 \r\nL 149.446798 140.741802 \r\nL 149.751467 142.828468 \r\nL 150.056135 142.441513 \r\nL 150.360803 142.617511 \r\nL 150.665471 143.020138 \r\nL 150.97014 142.613895 \r\nL 151.274808 143.872404 \r\nL 151.579476 142.295651 \r\nL 151.884145 141.961736 \r\nL 152.188813 143.725337 \r\nL 152.493481 141.579603 \r\nL 152.79815 147.833573 \r\nL 153.102818 140.681529 \r\nL 153.407486 146.603996 \r\nL 153.712154 143.363696 \r\nL 154.016823 145.255076 \r\nL 154.321491 144.382317 \r\nL 154.626159 144.218373 \r\nL 154.930828 144.378701 \r\nL 155.235496 146.724542 \r\nL 155.844833 143.055096 \r\nL 156.149501 146.47501 \r\nL 156.454169 145.367185 \r\nL 156.758838 143.274492 \r\nL 157.368174 146.025371 \r\nL 157.672842 143.910979 \r\nL 157.977511 147.838395 \r\nL 158.282179 145.719182 \r\nL 158.586847 148.178337 \r\nL 158.891516 147.29714 \r\nL 159.196184 144.868121 \r\nL 159.500852 145.892769 \r\nL 159.805521 149.323533 \r\nL 160.110189 147.516535 \r\nL 160.414857 146.46175 \r\nL 160.719525 150.31925 \r\nL 161.024194 149.333176 \r\nL 161.63353 146.165205 \r\nL 161.938199 149.753885 \r\nL 162.242867 145.303295 \r\nL 162.547535 150.330099 \r\nL 162.852204 150.189059 \r\nL 163.156872 147.880587 \r\nL 163.46154 146.866788 \r\nL 163.766209 148.808798 \r\nL 164.070877 149.251204 \r\nL 164.375545 148.451979 \r\nL 164.984882 150.705 \r\nL 165.28955 149.505558 \r\nL 165.594218 149.174054 \r\nL 165.898887 151.896002 \r\nL 166.203555 141.151662 \r\nL 166.508223 150.782149 \r\nL 166.812892 150.168566 \r\nL 167.11756 151.462034 \r\nL 167.422228 148.938988 \r\nL 167.726896 149.485065 \r\nL 168.031565 154.298501 \r\nL 168.336233 150.338537 \r\nL 168.640901 152.668708 \r\nL 168.94557 149.541722 \r\nL 169.250238 148.139762 \r\nL 169.554906 150.520563 \r\nL 170.164243 151.001545 \r\nL 170.468911 155.22189 \r\nL 171.078248 150.026321 \r\nL 171.687584 152.368546 \r\nL 171.992253 150.656781 \r\nL 172.296921 154.803592 \r\nL 172.601589 153.014677 \r\nL 172.906258 152.25041 \r\nL 173.210926 156.35503 \r\nL 173.515594 153.219607 \r\nL 173.820263 154.768634 \r\nL 174.124931 151.005161 \r\nL 174.429599 155.103754 \r\nL 174.734268 153.713849 \r\nL 175.038936 154.106832 \r\nL 175.343604 155.702872 \r\nL 175.648272 152.965253 \r\nL 176.257609 156.408071 \r\nL 176.562277 154.164694 \r\nL 176.866946 152.976102 \r\nL 177.171614 153.25336 \r\nL 177.476282 156.547905 \r\nL 177.780951 155.095316 \r\nL 178.085619 155.262876 \r\nL 178.390287 156.578042 \r\nL 178.694955 153.753629 \r\nL 179.304292 158.538134 \r\nL 179.60896 156.239305 \r\nL 179.913629 155.252027 \r\nL 180.218297 156.396016 \r\nL 180.522965 156.676891 \r\nL 180.827634 157.946249 \r\nL 181.132302 152.05633 \r\nL 181.43697 157.685868 \r\nL 182.046307 155.170055 \r\nL 182.350975 154.773456 \r\nL 182.655643 156.874587 \r\nL 182.960312 157.315789 \r\nL 183.26498 159.027554 \r\nL 183.569648 156.999956 \r\nL 183.874317 160.487377 \r\nL 184.178985 158.422409 \r\nL 184.483653 158.298246 \r\nL 184.788322 158.814186 \r\nL 185.09299 154.420253 \r\nL 185.702326 159.606179 \r\nL 186.006995 160.063052 \r\nL 186.311663 157.213324 \r\nL 186.616331 161.233562 \r\nL 186.921 158.004111 \r\nL 187.225668 160.975591 \r\nL 187.530336 160.517513 \r\nL 187.835005 162.175032 \r\nL 188.139673 158.227123 \r\nL 188.444341 158.662297 \r\nL 188.74901 162.228073 \r\nL 189.053678 155.645009 \r\nL 189.358346 161.876076 \r\nL 189.967683 160.382501 \r\nL 190.272351 157.806415 \r\nL 190.577019 161.561449 \r\nL 190.881688 162.870588 \r\nL 191.186356 160.645293 \r\nL 191.491024 161.732625 \r\nL 191.795693 160.709183 \r\nL 192.100361 160.736908 \r\nL 192.405029 161.89898 \r\nL 192.709697 159.472372 \r\nL 193.014366 164.262904 \r\nL 193.319034 161.26852 \r\nL 193.623702 160.714005 \r\nL 193.928371 163.422692 \r\nL 194.233039 159.509742 \r\nL 194.537707 163.36483 \r\nL 194.842376 160.927373 \r\nL 195.147044 163.243078 \r\nL 195.451712 162.70785 \r\nL 195.756381 162.492071 \r\nL 196.061049 164.373807 \r\nL 196.365717 163.785538 \r\nL 196.670385 162.610207 \r\nL 196.975054 160.51028 \r\nL 197.279722 162.587303 \r\nL 197.58439 163.227406 \r\nL 198.193727 162.971847 \r\nL 198.498395 164.148384 \r\nL 198.803064 160.100421 \r\nL 199.107732 165.034404 \r\nL 199.4124 163.795182 \r\nL 199.717068 164.236384 \r\nL 200.021737 165.19232 \r\nL 200.326405 162.957381 \r\nL 200.631073 164.962076 \r\nL 200.935742 164.126686 \r\nL 201.24041 166.63406 \r\nL 201.545078 163.36483 \r\nL 201.849747 165.746836 \r\nL 202.154415 164.205041 \r\nL 202.459083 168.791849 \r\nL 202.763752 165.236922 \r\nL 203.06842 167.347698 \r\nL 203.373088 162.041225 \r\nL 203.677756 164.520874 \r\nL 204.287093 166.167544 \r\nL 204.591761 163.599896 \r\nL 204.89643 167.256082 \r\nL 205.201098 166.782333 \r\nL 205.505766 165.763712 \r\nL 205.810435 168.40851 \r\nL 206.115103 169.821319 \r\nL 206.419771 164.777639 \r\nL 206.724439 165.830013 \r\nL 207.029108 161.897775 \r\nL 207.333776 167.227151 \r\nL 207.638444 168.014322 \r\nL 207.943113 168.44588 \r\nL 208.247781 164.774023 \r\nL 208.552449 168.936505 \r\nL 208.857118 165.958998 \r\nL 209.161786 167.917884 \r\nL 209.466454 167.461012 \r\nL 209.771123 164.733037 \r\nL 210.075791 170.855611 \r\nL 210.380459 168.402483 \r\nL 210.685127 172.206941 \r\nL 210.989796 166.290502 \r\nL 211.294464 169.591075 \r\nL 211.903801 167.844351 \r\nL 212.208469 168.074595 \r\nL 212.513137 168.707466 \r\nL 212.817806 167.309123 \r\nL 213.122474 168.40851 \r\nL 213.427142 168.88467 \r\nL 213.731811 168.632727 \r\nL 214.036479 166.007217 \r\nL 214.341147 169.211352 \r\nL 214.645815 169.454857 \r\nL 214.950484 168.609823 \r\nL 215.255152 172.8591 \r\nL 215.55982 170.628983 \r\nL 215.864489 172.315434 \r\nL 216.169157 166.186832 \r\nL 216.778494 170.22274 \r\nL 217.083162 167.177727 \r\nL 217.38783 170.782078 \r\nL 217.692498 167.860022 \r\nL 217.997167 171.740425 \r\nL 218.301835 171.064157 \r\nL 218.606503 173.423259 \r\nL 218.911172 169.535623 \r\nL 219.21584 168.645987 \r\nL 219.520508 169.38494 \r\nL 219.825177 170.965309 \r\nL 220.129845 174.234539 \r\nL 220.434513 169.412665 \r\nL 220.739182 175.116942 \r\nL 221.04385 174.109171 \r\nL 221.348518 169.904497 \r\nL 221.653186 172.484199 \r\nL 221.957855 168.116787 \r\nL 222.262523 170.521696 \r\nL 222.567191 170.027454 \r\nL 223.176528 173.446163 \r\nL 223.481196 170.283014 \r\nL 223.785865 171.067774 \r\nL 224.090533 173.585997 \r\nL 224.395201 173.437725 \r\nL 224.699869 170.50482 \r\nL 225.004538 175.274859 \r\nL 225.309206 171.950177 \r\nL 225.613874 171.346237 \r\nL 225.918543 174.676946 \r\nL 226.223211 172.715649 \r\nL 226.527879 174.866205 \r\nL 226.832548 175.802854 \r\nL 227.137216 175.068724 \r\nL 227.441884 170.219124 \r\nL 227.746553 176.130741 \r\nL 228.051221 172.083984 \r\nL 228.355889 170.563888 \r\nL 228.660557 173.883748 \r\nL 228.965226 173.065235 \r\nL 229.269894 172.94951 \r\nL 229.574562 171.476428 \r\nL 229.879231 170.801365 \r\nL 230.183899 178.051053 \r\nL 230.488567 174.950588 \r\nL 230.793236 173.350931 \r\nL 231.097904 175.333927 \r\nL 231.402572 169.992496 \r\nL 232.316577 178.234284 \r\nL 232.621245 172.824141 \r\nL 232.925914 177.225307 \r\nL 233.230582 171.519824 \r\nL 233.53525 174.526263 \r\nL 233.839919 175.459295 \r\nL 234.144587 173.142385 \r\nL 234.449255 174.268293 \r\nL 234.753924 178.101682 \r\nL 235.058592 177.379607 \r\nL 235.36326 173.904241 \r\nL 235.667928 176.835941 \r\nL 235.972597 176.653915 \r\nL 236.277265 177.057747 \r\nL 236.581933 174.218868 \r\nL 236.886602 176.97698 \r\nL 237.19127 176.416437 \r\nL 237.495938 175.26401 \r\nL 237.800607 178.188476 \r\nL 238.105275 175.496665 \r\nL 238.409943 181.06593 \r\nL 239.01928 176.405588 \r\nL 239.323948 176.083728 \r\nL 239.628616 176.35978 \r\nL 240.237953 179.367424 \r\nL 240.542621 177.049308 \r\nL 240.84729 178.362064 \r\nL 241.151958 178.959976 \r\nL 241.456626 175.606363 \r\nL 242.065963 179.031099 \r\nL 242.370631 176.973364 \r\nL 242.675299 177.156595 \r\nL 242.979968 180.447524 \r\nL 243.284636 177.175883 \r\nL 243.589304 177.254238 \r\nL 243.893973 176.562299 \r\nL 244.198641 180.81037 \r\nL 244.503309 178.398228 \r\nL 244.807978 177.149362 \r\nL 245.112646 179.491588 \r\nL 245.417314 175.845045 \r\nL 245.721982 178.321078 \r\nL 246.026651 176.086139 \r\nL 246.331319 181.047848 \r\nL 246.635987 178.122175 \r\nL 246.940656 182.066468 \r\nL 247.245324 178.495871 \r\nL 247.549992 178.63691 \r\nL 247.854661 180.119637 \r\nL 248.159329 180.463195 \r\nL 248.463997 177.017966 \r\nL 248.768666 183.403333 \r\nL 249.073334 179.659148 \r\nL 249.378002 177.570071 \r\nL 249.68267 180.939355 \r\nL 249.987339 179.305946 \r\nL 250.292007 179.314384 \r\nL 250.901344 182.557094 \r\nL 251.206012 183.07424 \r\nL 251.51068 181.02856 \r\nL 251.815349 178.096861 \r\nL 252.424685 183.16465 \r\nL 252.729354 183.258677 \r\nL 253.034022 179.362603 \r\nL 253.33869 181.000834 \r\nL 253.643358 180.381223 \r\nL 253.948027 183.350292 \r\nL 254.252695 181.106915 \r\nL 254.557363 183.775823 \r\nL 254.862032 183.650454 \r\nL 255.1667 183.294841 \r\nL 255.471368 183.669742 \r\nL 255.776037 182.631833 \r\nL 256.080705 183.155006 \r\nL 256.385373 179.554272 \r\nL 256.690041 184.9391 \r\nL 256.99471 180.992396 \r\nL 257.299378 185.363425 \r\nL 257.604046 181.098477 \r\nL 257.908715 180.950205 \r\nL 258.213383 182.416054 \r\nL 258.518051 182.927173 \r\nL 258.82272 185.708189 \r\nL 259.127388 185.285069 \r\nL 259.432056 182.261754 \r\nL 259.736725 182.029099 \r\nL 260.041393 182.758407 \r\nL 260.346061 185.371863 \r\nL 260.650729 182.91994 \r\nL 260.955398 185.80101 \r\nL 261.260066 185.211536 \r\nL 261.564734 183.218896 \r\nL 261.869403 185.540629 \r\nL 262.174071 186.435086 \r\nL 262.478739 184.895703 \r\nL 262.783408 186.990807 \r\nL 263.088076 182.343726 \r\nL 263.392744 187.260832 \r\nL 263.697412 188.379507 \r\nL 264.002081 185.768462 \r\nL 264.306749 184.804087 \r\nL 264.611417 184.676308 \r\nL 264.916086 185.699751 \r\nL 265.220754 188.494027 \r\nL 265.525422 185.245289 \r\nL 265.830091 185.113893 \r\nL 266.134759 186.12287 \r\nL 266.439427 185.100633 \r\nL 266.744096 185.264576 \r\nL 267.048764 189.899603 \r\nL 267.353432 185.123537 \r\nL 267.962769 184.196531 \r\nL 268.267437 184.371324 \r\nL 268.572105 189.565688 \r\nL 268.876774 185.610546 \r\nL 269.181442 187.858745 \r\nL 269.48611 186.478483 \r\nL 269.790779 185.936022 \r\nL 270.095447 186.888342 \r\nL 270.400115 185.829941 \r\nL 270.704783 190.489077 \r\nL 271.009452 189.097966 \r\nL 271.31412 181.995346 \r\nL 271.618788 187.749047 \r\nL 271.923457 187.022149 \r\nL 272.228125 190.502337 \r\nL 272.532793 190.81817 \r\nL 272.837462 188.905091 \r\nL 273.14213 187.850306 \r\nL 273.446798 190.238339 \r\nL 273.751467 189.541579 \r\nL 274.056135 189.981575 \r\nL 274.360803 192.110432 \r\nL 274.665471 188.013045 \r\nL 274.97014 191.557122 \r\nL 275.274808 191.991091 \r\nL 275.579476 190.055108 \r\nL 275.884145 189.072651 \r\nL 276.188813 190.487871 \r\nL 276.493481 189.540373 \r\nL 276.79815 187.556172 \r\nL 277.102818 190.044259 \r\nL 277.407486 190.122615 \r\nL 277.712154 187.429598 \r\nL 278.016823 192.637222 \r\nL 278.321491 192.552839 \r\nL 278.626159 190.540912 \r\nL 278.930828 192.047748 \r\nL 279.235496 191.119537 \r\nL 279.540164 191.57882 \r\nL 279.844833 187.424776 \r\nL 280.149501 191.330494 \r\nL 280.454169 189.846562 \r\nL 280.758838 191.741559 \r\nL 281.063506 192.901219 \r\nL 281.368174 192.814426 \r\nL 281.672842 189.92974 \r\nL 281.977511 192.353937 \r\nL 282.282179 193.026588 \r\nL 282.586847 191.341343 \r\nL 282.891516 192.900014 \r\nL 283.500852 194.268221 \r\nL 283.805521 195.838946 \r\nL 284.110189 192.415416 \r\nL 284.414857 191.082167 \r\nL 284.719525 194.438192 \r\nL 285.024194 190.941128 \r\nL 285.328862 192.767412 \r\nL 285.63353 192.552839 \r\nL 285.938199 192.726427 \r\nL 286.242867 190.572254 \r\nL 286.547535 196.938333 \r\nL 286.852204 192.294869 \r\nL 287.156872 194.880599 \r\nL 287.46154 193.732993 \r\nL 287.766209 191.542656 \r\nL 288.070877 191.005017 \r\nL 288.375545 191.34496 \r\nL 288.680213 194.674464 \r\nL 288.984882 193.663076 \r\nL 289.28955 194.876982 \r\nL 289.594218 193.505159 \r\nL 289.898887 192.968726 \r\nL 290.508223 193.58472 \r\nL 290.812892 192.183966 \r\nL 291.11756 195.014406 \r\nL 291.422228 194.200714 \r\nL 291.726896 194.368275 \r\nL 292.031565 192.054981 \r\nL 292.336233 197.249344 \r\nL 292.640901 193.799293 \r\nL 292.94557 193.97047 \r\nL 293.250238 193.694418 \r\nL 293.554906 195.312156 \r\nL 293.859575 194.604546 \r\nL 294.164243 199.099739 \r\nL 294.468911 198.328239 \r\nL 295.078248 193.367736 \r\nL 295.382916 193.892115 \r\nL 295.687584 199.208231 \r\nL 295.992253 196.652637 \r\nL 296.296921 197.660409 \r\nL 296.601589 194.323672 \r\nL 296.906258 195.018022 \r\nL 297.210926 195.363992 \r\nL 297.515594 192.508237 \r\nL 297.820263 197.724299 \r\nL 298.124931 197.061291 \r\nL 298.429599 196.92869 \r\nL 298.734268 199.712117 \r\nL 299.038936 197.228851 \r\nL 299.343604 196.45253 \r\nL 299.648272 194.983064 \r\nL 299.952941 198.220952 \r\nL 300.257609 197.004634 \r\nL 300.562277 194.663614 \r\nL 300.866946 196.8648 \r\nL 301.171614 200.584876 \r\nL 301.476282 198.945439 \r\nL 301.780951 199.483078 \r\nL 302.085619 195.538785 \r\nL 302.390287 198.164295 \r\nL 302.694955 197.859311 \r\nL 302.999624 199.059958 \r\nL 303.304292 198.243856 \r\nL 303.60896 200.106305 \r\nL 303.913629 198.493388 \r\nL 304.218297 195.459224 \r\nL 304.522965 201.633633 \r\nL 304.827634 197.461507 \r\nL 305.132302 200.92964 \r\nL 305.741639 199.569871 \r\nL 306.046307 196.680363 \r\nL 306.350975 201.316595 \r\nL 306.655643 198.031693 \r\nL 306.960312 200.238906 \r\nL 307.26498 200.232879 \r\nL 307.569648 201.193637 \r\nL 307.874317 195.128925 \r\nL 308.178985 201.884371 \r\nL 308.483653 195.742509 \r\nL 308.788322 201.118898 \r\nL 309.09299 198.325828 \r\nL 309.397658 202.671542 \r\nL 309.702326 199.528885 \r\nL 310.006995 203.37433 \r\nL 310.311663 200.113538 \r\nL 310.616331 199.461379 \r\nL 310.921 201.250294 \r\nL 311.225668 200.310029 \r\nL 311.530336 201.7144 \r\nL 311.835005 200.948927 \r\nL 312.139673 198.134158 \r\nL 312.444341 204.473717 \r\nL 312.74901 198.160679 \r\nL 313.053678 203.058497 \r\nL 313.358346 204.581004 \r\nL 313.663014 200.28592 \r\nL 313.967683 202.848746 \r\nL 314.272351 198.431909 \r\nL 314.577019 196.242778 \r\nL 314.881688 201.050187 \r\nL 315.186356 202.523269 \r\nL 315.491024 200.903119 \r\nL 315.795693 203.288742 \r\nL 316.100361 202.426832 \r\nL 316.405029 202.500365 \r\nL 316.709697 204.294102 \r\nL 317.014366 202.318339 \r\nL 317.319034 202.561844 \r\nL 317.623702 203.870983 \r\nL 317.928371 203.369508 \r\nL 318.233039 203.854106 \r\nL 318.537707 199.222696 \r\nL 318.842376 201.52273 \r\nL 319.147044 201.39254 \r\nL 319.451712 203.470767 \r\nL 319.756381 202.149574 \r\nL 320.061049 203.457507 \r\nL 320.365717 200.602958 \r\nL 320.670385 205.415188 \r\nL 320.975054 198.090761 \r\nL 321.279722 208.046726 \r\nL 321.58439 200.992324 \r\nL 321.889059 203.811915 \r\nL 322.193727 204.423088 \r\nL 322.498395 200.962187 \r\nL 322.803064 203.957777 \r\nL 323.107732 203.81312 \r\nL 323.4124 202.997018 \r\nL 323.717068 205.834691 \r\nL 324.021737 199.481872 \r\nL 324.631073 204.266377 \r\nL 324.935742 205.778034 \r\nL 325.545078 204.734098 \r\nL 325.849747 204.378485 \r\nL 326.154415 204.87996 \r\nL 326.459083 203.408083 \r\nL 326.763752 204.065063 \r\nL 327.06842 201.667386 \r\nL 327.373088 206.395234 \r\nL 327.677756 203.160962 \r\nL 327.982425 203.845668 \r\nL 328.287093 203.950544 \r\nL 328.591761 205.338038 \r\nL 328.89643 203.672081 \r\nL 329.201098 202.739048 \r\nL 329.505766 205.932334 \r\nL 329.810435 202.665514 \r\nL 330.115103 202.601625 \r\nL 330.419771 204.489388 \r\nL 330.724439 204.356787 \r\nL 331.029108 208.592803 \r\nL 331.333776 203.831202 \r\nL 331.638444 204.485772 \r\nL 331.943113 205.722583 \r\nL 332.247781 205.969704 \r\nL 332.552449 203.732354 \r\nL 332.857118 204.782317 \r\nL 333.161786 206.269865 \r\nL 333.466454 204.009612 \r\nL 333.771123 206.195126 \r\nL 334.075791 205.893759 \r\nL 334.380459 205.790089 \r\nL 334.685127 206.592931 \r\nL 334.989796 202.909019 \r\nL 335.294464 207.091995 \r\nL 335.599132 204.125337 \r\nL 335.903801 206.426576 \r\nL 336.208469 206.739998 \r\nL 336.513137 205.272943 \r\nL 336.817806 205.892554 \r\nL 337.122474 205.416394 \r\nL 337.427142 208.427654 \r\nL 337.731811 206.14088 \r\nL 338.036479 206.117976 \r\nL 338.341147 205.892554 \r\nL 338.645815 206.271071 \r\nL 338.950484 205.603241 \r\nL 339.255152 203.52863 \r\nL 339.55982 211.121876 \r\nL 339.864489 208.332422 \r\nL 340.169157 208.285409 \r\nL 340.473825 204.736509 \r\nL 340.778494 204.312184 \r\nL 341.083162 205.880499 \r\nL 341.38783 209.671697 \r\nL 341.692498 207.235446 \r\nL 341.997167 208.019 \r\nL 342.301835 205.99984 \r\nL 342.606503 205.74187 \r\nL 342.911172 206.374741 \r\nL 343.21584 210.605936 \r\nL 343.520508 206.932873 \r\nL 343.825177 208.134725 \r\nL 344.129845 206.948544 \r\nL 344.434513 209.557178 \r\nL 344.739182 205.403133 \r\nL 345.348518 207.598292 \r\nL 345.653186 206.928051 \r\nL 345.957855 207.272815 \r\nL 346.262523 207.841796 \r\nL 346.567191 206.809915 \r\nL 346.87186 209.095483 \r\nL 347.176528 204.654537 \r\nL 347.481196 209.859751 \r\nL 347.785865 207.51632 \r\nL 348.090533 209.804299 \r\nL 348.395201 208.64946 \r\nL 348.699869 209.220852 \r\nL 349.004538 209.165401 \r\nL 349.309206 209.986325 \r\nL 349.613874 206.46274 \r\nL 349.918543 209.869394 \r\nL 350.223211 211.306313 \r\nL 350.527879 210.833769 \r\nL 350.832548 213.661798 \r\nL 351.137216 211.111027 \r\nL 351.441884 206.753258 \r\nL 351.746553 210.560128 \r\nL 352.051221 212.871011 \r\nL 352.355889 206.956982 \r\nL 352.660557 208.719377 \r\nL 352.965226 208.54579 \r\nL 353.269894 211.705323 \r\nL 353.879231 206.727943 \r\nL 354.183899 208.814609 \r\nL 354.488567 207.052214 \r\nL 355.097904 211.687241 \r\nL 355.402572 212.391234 \r\nL 355.70724 214.366997 \r\nL 356.011909 210.930207 \r\nL 356.316577 210.110488 \r\nL 356.621245 207.148652 \r\nL 356.925914 209.387207 \r\nL 357.230582 213.62684 \r\nL 357.53525 214.021028 \r\nL 357.839919 209.419755 \r\nL 358.144587 209.352248 \r\nL 358.449255 214.057192 \r\nL 358.753924 210.445608 \r\nL 359.058592 213.102461 \r\nL 359.36326 209.244962 \r\nL 359.667928 214.227163 \r\nL 360.277265 211.772829 \r\nL 360.581933 213.298952 \r\nL 360.886602 206.280714 \r\nL 361.19127 208.719377 \r\nL 361.495938 214.189793 \r\nL 361.800607 209.757286 \r\nL 362.105275 214.756364 \r\nL 362.409943 208.506009 \r\nL 362.409943 208.506009 \r\n\" style=\"fill:none;stroke:#1f77b4;stroke-linecap:square;stroke-width:1.5;\"/>\r\n   </g>\r\n   <g id=\"patch_3\">\r\n    <path d=\"M 42.828125 224.64 \r\nL 42.828125 7.2 \r\n\" style=\"fill:none;stroke:#000000;stroke-linecap:square;stroke-linejoin:miter;stroke-width:0.8;\"/>\r\n   </g>\r\n   <g id=\"patch_4\">\r\n    <path d=\"M 377.628125 224.64 \r\nL 377.628125 7.2 \r\n\" style=\"fill:none;stroke:#000000;stroke-linecap:square;stroke-linejoin:miter;stroke-width:0.8;\"/>\r\n   </g>\r\n   <g id=\"patch_5\">\r\n    <path d=\"M 42.828125 224.64 \r\nL 377.628125 224.64 \r\n\" style=\"fill:none;stroke:#000000;stroke-linecap:square;stroke-linejoin:miter;stroke-width:0.8;\"/>\r\n   </g>\r\n   <g id=\"patch_6\">\r\n    <path d=\"M 42.828125 7.2 \r\nL 377.628125 7.2 \r\n\" style=\"fill:none;stroke:#000000;stroke-linecap:square;stroke-linejoin:miter;stroke-width:0.8;\"/>\r\n   </g>\r\n   <g id=\"legend_1\">\r\n    <g id=\"patch_7\">\r\n     <path d=\"M 319.3125 29.878125 \r\nL 370.628125 29.878125 \r\nQ 372.628125 29.878125 372.628125 27.878125 \r\nL 372.628125 14.2 \r\nQ 372.628125 12.2 370.628125 12.2 \r\nL 319.3125 12.2 \r\nQ 317.3125 12.2 317.3125 14.2 \r\nL 317.3125 27.878125 \r\nQ 317.3125 29.878125 319.3125 29.878125 \r\nz\r\n\" style=\"fill:#ffffff;opacity:0.8;stroke:#cccccc;stroke-linejoin:miter;\"/>\r\n    </g>\r\n    <g id=\"line2d_13\">\r\n     <path d=\"M 321.3125 20.298438 \r\nL 341.3125 20.298438 \r\n\" style=\"fill:none;stroke:#1f77b4;stroke-linecap:square;stroke-width:1.5;\"/>\r\n    </g>\r\n    <g id=\"line2d_14\"/>\r\n    <g id=\"text_12\">\r\n     <!-- loss -->\r\n     <defs>\r\n      <path d=\"M 9.421875 75.984375 \r\nL 18.40625 75.984375 \r\nL 18.40625 0 \r\nL 9.421875 0 \r\nz\r\n\" id=\"DejaVuSans-108\"/>\r\n      <path d=\"M 30.609375 48.390625 \r\nQ 23.390625 48.390625 19.1875 42.75 \r\nQ 14.984375 37.109375 14.984375 27.296875 \r\nQ 14.984375 17.484375 19.15625 11.84375 \r\nQ 23.34375 6.203125 30.609375 6.203125 \r\nQ 37.796875 6.203125 41.984375 11.859375 \r\nQ 46.1875 17.53125 46.1875 27.296875 \r\nQ 46.1875 37.015625 41.984375 42.703125 \r\nQ 37.796875 48.390625 30.609375 48.390625 \r\nz\r\nM 30.609375 56 \r\nQ 42.328125 56 49.015625 48.375 \r\nQ 55.71875 40.765625 55.71875 27.296875 \r\nQ 55.71875 13.875 49.015625 6.21875 \r\nQ 42.328125 -1.421875 30.609375 -1.421875 \r\nQ 18.84375 -1.421875 12.171875 6.21875 \r\nQ 5.515625 13.875 5.515625 27.296875 \r\nQ 5.515625 40.765625 12.171875 48.375 \r\nQ 18.84375 56 30.609375 56 \r\nz\r\n\" id=\"DejaVuSans-111\"/>\r\n      <path d=\"M 44.28125 53.078125 \r\nL 44.28125 44.578125 \r\nQ 40.484375 46.53125 36.375 47.5 \r\nQ 32.28125 48.484375 27.875 48.484375 \r\nQ 21.1875 48.484375 17.84375 46.4375 \r\nQ 14.5 44.390625 14.5 40.28125 \r\nQ 14.5 37.15625 16.890625 35.375 \r\nQ 19.28125 33.59375 26.515625 31.984375 \r\nL 29.59375 31.296875 \r\nQ 39.15625 29.25 43.1875 25.515625 \r\nQ 47.21875 21.78125 47.21875 15.09375 \r\nQ 47.21875 7.46875 41.1875 3.015625 \r\nQ 35.15625 -1.421875 24.609375 -1.421875 \r\nQ 20.21875 -1.421875 15.453125 -0.5625 \r\nQ 10.6875 0.296875 5.421875 2 \r\nL 5.421875 11.28125 \r\nQ 10.40625 8.6875 15.234375 7.390625 \r\nQ 20.0625 6.109375 24.8125 6.109375 \r\nQ 31.15625 6.109375 34.5625 8.28125 \r\nQ 37.984375 10.453125 37.984375 14.40625 \r\nQ 37.984375 18.0625 35.515625 20.015625 \r\nQ 33.0625 21.96875 24.703125 23.78125 \r\nL 21.578125 24.515625 \r\nQ 13.234375 26.265625 9.515625 29.90625 \r\nQ 5.8125 33.546875 5.8125 39.890625 \r\nQ 5.8125 47.609375 11.28125 51.796875 \r\nQ 16.75 56 26.8125 56 \r\nQ 31.78125 56 36.171875 55.265625 \r\nQ 40.578125 54.546875 44.28125 53.078125 \r\nz\r\n\" id=\"DejaVuSans-115\"/>\r\n     </defs>\r\n     <g transform=\"translate(349.3125 23.798438)scale(0.1 -0.1)\">\r\n      <use xlink:href=\"#DejaVuSans-108\"/>\r\n      <use x=\"27.783203\" xlink:href=\"#DejaVuSans-111\"/>\r\n      <use x=\"88.964844\" xlink:href=\"#DejaVuSans-115\"/>\r\n      <use x=\"141.064453\" xlink:href=\"#DejaVuSans-115\"/>\r\n     </g>\r\n    </g>\r\n   </g>\r\n  </g>\r\n </g>\r\n <defs>\r\n  <clipPath id=\"pf74547d3dc\">\r\n   <rect height=\"217.44\" width=\"334.8\" x=\"42.828125\" y=\"7.2\"/>\r\n  </clipPath>\r\n </defs>\r\n</svg>\r\n",
      "image/png": "[encoded data removed]"
     },
     "metadata": {
      "needs_background": "light"
     }
    }
   ],
   "source": [
    "# plot trianing history\n",
    "training_df = pd.DataFrame(fit_model.history, index=range(1,len(fit_model.history['loss'])+1))\n",
    "\n",
    "training_df.plot(y='loss')"
   ]
  },
  {
   "cell_type": "code",
   "execution_count": 41,
   "metadata": {},
   "outputs": [
    {
     "output_type": "stream",
     "name": "stdout",
     "text": [
      "268/268 - 0s - loss: 0.6715 - accuracy: 0.7238\n",
      "Loss: 0.6714900732040405, Accuracy: 0.7238484025001526\n"
     ]
    }
   ],
   "source": [
    "model_loss, model_accuracy = nn.evaluate(X_test_scaled,y_test,verbose=2)\n",
    "print(f\"Loss: {model_loss}, Accuracy: {model_accuracy}\")"
   ]
  },
  {
   "cell_type": "code",
   "execution_count": 42,
   "metadata": {},
   "outputs": [],
   "source": [
    "# export the fully trained classification model from the previous cell\n",
    "\n",
    "# Export model to HDF5 file\n",
    "nn.save(\"trained_funding_decision1000.h5\")"
   ]
  },
  {
   "source": [
    "### Try sigmoid with 100 epochs & 3 neural layers"
   ],
   "cell_type": "markdown",
   "metadata": {}
  },
  {
   "cell_type": "code",
   "execution_count": 43,
   "metadata": {},
   "outputs": [
    {
     "output_type": "stream",
     "name": "stdout",
     "text": [
      "Model: \"sequential_2\"\n_________________________________________________________________\nLayer (type)                 Output Shape              Param #   \n=================================================================\ndense_6 (Dense)              (None, 92)                4324      \n_________________________________________________________________\ndense_7 (Dense)              (None, 46)                4278      \n_________________________________________________________________\ndense_8 (Dense)              (None, 92)                4324      \n_________________________________________________________________\ndense_9 (Dense)              (None, 1)                 93        \n=================================================================\nTotal params: 13,019\nTrainable params: 13,019\nNon-trainable params: 0\n_________________________________________________________________\n"
     ]
    }
   ],
   "source": [
    "# build and evaluate deep learning model\n",
    "# Define the model - deep neural net\n",
    "number_input_features = len(X_train_scaled[0])\n",
    "hidden_nodes_layer1 =  number_input_features*2\n",
    "hidden_nodes_layer2 = hidden_nodes_layer1/2\n",
    "hidden_nodes_layer3 = hidden_nodes_layer1\n",
    "\n",
    "nn = tf.keras.models.Sequential()\n",
    "\n",
    "# First hidden layer\n",
    "nn.add(\n",
    "    tf.keras.layers.Dense(units=hidden_nodes_layer1, input_dim=number_input_features, activation=\"sigmoid\")\n",
    ")\n",
    "\n",
    "# Second hidden layer\n",
    "nn.add(tf.keras.layers.Dense(units=hidden_nodes_layer2, activation=\"sigmoid\"))\n",
    "\n",
    "# Thirs hidden layer\n",
    "nn.add(tf.keras.layers.Dense(units=hidden_nodes_layer3, activation=\"sigmoid\"))\n",
    "\n",
    "# Output layer\n",
    "nn.add(tf.keras.layers.Dense(units=1, activation=\"sigmoid\"))\n",
    "\n",
    "# check model structure\n",
    "nn.summary()"
   ]
  },
  {
   "cell_type": "code",
   "execution_count": 44,
   "metadata": {},
   "outputs": [
    {
     "output_type": "stream",
     "name": "stdout",
     "text": [
      "Epoch 1/100\n",
      "  1/804 [..............................] - ETA: 0s - loss: 0.8293 - accuracy: 0.4062WARNING:tensorflow:Callbacks method `on_train_batch_end` is slow compared to the batch time (batch time: 0.0000s vs `on_train_batch_end` time: 0.0010s). Check your callbacks.\n",
      "804/804 [==============================] - 0s 605us/step - loss: 0.5956 - accuracy: 0.7018\n",
      "Epoch 2/100\n",
      "804/804 [==============================] - 0s 568us/step - loss: 0.5693 - accuracy: 0.7250\n",
      "Epoch 3/100\n",
      "804/804 [==============================] - 0s 590us/step - loss: 0.5619 - accuracy: 0.7260\n",
      "Epoch 4/100\n",
      "804/804 [==============================] - 0s 577us/step - loss: 0.5572 - accuracy: 0.7285\n",
      "Epoch 5/100\n",
      "804/804 [==============================] - 0s 579us/step - loss: 0.5541 - accuracy: 0.7299\n",
      "Epoch 6/100\n",
      "804/804 [==============================] - 0s 584us/step - loss: 0.5532 - accuracy: 0.7294\n",
      "Epoch 7/100\n",
      "804/804 [==============================] - 0s 617us/step - loss: 0.5509 - accuracy: 0.7292\n",
      "Epoch 8/100\n",
      "804/804 [==============================] - 0s 574us/step - loss: 0.5503 - accuracy: 0.7314\n",
      "Epoch 9/100\n",
      "804/804 [==============================] - 0s 587us/step - loss: 0.5499 - accuracy: 0.7299\n",
      "Epoch 10/100\n",
      "804/804 [==============================] - 0s 562us/step - loss: 0.5490 - accuracy: 0.7305\n",
      "Epoch 11/100\n",
      "804/804 [==============================] - 0s 572us/step - loss: 0.5477 - accuracy: 0.7325\n",
      "Epoch 12/100\n",
      "804/804 [==============================] - 0s 607us/step - loss: 0.5471 - accuracy: 0.7323\n",
      "Epoch 13/100\n",
      "804/804 [==============================] - 0s 579us/step - loss: 0.5473 - accuracy: 0.7313\n",
      "Epoch 14/100\n",
      "804/804 [==============================] - 0s 564us/step - loss: 0.5460 - accuracy: 0.7309\n",
      "Epoch 15/100\n",
      "804/804 [==============================] - 0s 578us/step - loss: 0.5459 - accuracy: 0.7320\n",
      "Epoch 16/100\n",
      "804/804 [==============================] - 0s 587us/step - loss: 0.5453 - accuracy: 0.7331\n",
      "Epoch 17/100\n",
      "804/804 [==============================] - 0s 567us/step - loss: 0.5449 - accuracy: 0.7317\n",
      "Epoch 18/100\n",
      "804/804 [==============================] - 0s 620us/step - loss: 0.5444 - accuracy: 0.7331\n",
      "Epoch 19/100\n",
      "804/804 [==============================] - 0s 620us/step - loss: 0.5437 - accuracy: 0.7323\n",
      "Epoch 20/100\n",
      "804/804 [==============================] - 0s 567us/step - loss: 0.5437 - accuracy: 0.7339\n",
      "Epoch 21/100\n",
      "804/804 [==============================] - 0s 599us/step - loss: 0.5431 - accuracy: 0.7326\n",
      "Epoch 22/100\n",
      "804/804 [==============================] - 0s 574us/step - loss: 0.5426 - accuracy: 0.7331\n",
      "Epoch 23/100\n",
      "804/804 [==============================] - 0s 567us/step - loss: 0.5427 - accuracy: 0.7332\n",
      "Epoch 24/100\n",
      "804/804 [==============================] - 0s 566us/step - loss: 0.5419 - accuracy: 0.7340\n",
      "Epoch 25/100\n",
      "804/804 [==============================] - 0s 595us/step - loss: 0.5415 - accuracy: 0.7359\n",
      "Epoch 26/100\n",
      "804/804 [==============================] - 0s 609us/step - loss: 0.5412 - accuracy: 0.7354\n",
      "Epoch 27/100\n",
      "804/804 [==============================] - 0s 574us/step - loss: 0.5409 - accuracy: 0.7348\n",
      "Epoch 28/100\n",
      "804/804 [==============================] - 0s 557us/step - loss: 0.5412 - accuracy: 0.7342\n",
      "Epoch 29/100\n",
      "804/804 [==============================] - 0s 583us/step - loss: 0.5411 - accuracy: 0.7344\n",
      "Epoch 30/100\n",
      "804/804 [==============================] - 1s 646us/step - loss: 0.5399 - accuracy: 0.7369\n",
      "Epoch 31/100\n",
      "804/804 [==============================] - 0s 564us/step - loss: 0.5404 - accuracy: 0.7342\n",
      "Epoch 32/100\n",
      "804/804 [==============================] - 0s 569us/step - loss: 0.5393 - accuracy: 0.7371\n",
      "Epoch 33/100\n",
      "804/804 [==============================] - 1s 639us/step - loss: 0.5396 - accuracy: 0.7350\n",
      "Epoch 34/100\n",
      "804/804 [==============================] - 0s 577us/step - loss: 0.5392 - accuracy: 0.7361\n",
      "Epoch 35/100\n",
      "804/804 [==============================] - 0s 569us/step - loss: 0.5394 - accuracy: 0.7378\n",
      "Epoch 36/100\n",
      "804/804 [==============================] - 0s 617us/step - loss: 0.5386 - accuracy: 0.7371\n",
      "Epoch 37/100\n",
      "804/804 [==============================] - 0s 595us/step - loss: 0.5390 - accuracy: 0.7370\n",
      "Epoch 38/100\n",
      "804/804 [==============================] - 0s 568us/step - loss: 0.5383 - accuracy: 0.7366\n",
      "Epoch 39/100\n",
      "804/804 [==============================] - 0s 568us/step - loss: 0.5381 - accuracy: 0.7369\n",
      "Epoch 40/100\n",
      "804/804 [==============================] - 0s 551us/step - loss: 0.5378 - accuracy: 0.7376\n",
      "Epoch 41/100\n",
      "804/804 [==============================] - 0s 561us/step - loss: 0.5379 - accuracy: 0.7368\n",
      "Epoch 42/100\n",
      "804/804 [==============================] - 0s 600us/step - loss: 0.5371 - accuracy: 0.7370\n",
      "Epoch 43/100\n",
      "804/804 [==============================] - 0s 618us/step - loss: 0.5372 - accuracy: 0.7355\n",
      "Epoch 44/100\n",
      "804/804 [==============================] - 0s 610us/step - loss: 0.5371 - accuracy: 0.7366\n",
      "Epoch 45/100\n",
      "804/804 [==============================] - 1s 625us/step - loss: 0.5366 - accuracy: 0.7382\n",
      "Epoch 46/100\n",
      "804/804 [==============================] - 0s 597us/step - loss: 0.5367 - accuracy: 0.7377\n",
      "Epoch 47/100\n",
      "804/804 [==============================] - 0s 597us/step - loss: 0.5359 - accuracy: 0.7372\n",
      "Epoch 48/100\n",
      "804/804 [==============================] - 0s 557us/step - loss: 0.5361 - accuracy: 0.7375\n",
      "Epoch 49/100\n",
      "804/804 [==============================] - 0s 569us/step - loss: 0.5359 - accuracy: 0.7371\n",
      "Epoch 50/100\n",
      "804/804 [==============================] - 0s 590us/step - loss: 0.5361 - accuracy: 0.7368\n",
      "Epoch 51/100\n",
      "804/804 [==============================] - 0s 583us/step - loss: 0.5359 - accuracy: 0.7383\n",
      "Epoch 52/100\n",
      "804/804 [==============================] - 0s 593us/step - loss: 0.5355 - accuracy: 0.7379\n",
      "Epoch 53/100\n",
      "804/804 [==============================] - 1s 650us/step - loss: 0.5358 - accuracy: 0.7378\n",
      "Epoch 54/100\n",
      "804/804 [==============================] - 0s 619us/step - loss: 0.5352 - accuracy: 0.7393\n",
      "Epoch 55/100\n",
      "804/804 [==============================] - 0s 614us/step - loss: 0.5352 - accuracy: 0.7388\n",
      "Epoch 56/100\n",
      "804/804 [==============================] - 1s 625us/step - loss: 0.5352 - accuracy: 0.7385\n",
      "Epoch 57/100\n",
      "804/804 [==============================] - 0s 566us/step - loss: 0.5346 - accuracy: 0.7391\n",
      "Epoch 58/100\n",
      "804/804 [==============================] - 0s 572us/step - loss: 0.5345 - accuracy: 0.7378\n",
      "Epoch 59/100\n",
      "804/804 [==============================] - 0s 578us/step - loss: 0.5343 - accuracy: 0.7390\n",
      "Epoch 60/100\n",
      "804/804 [==============================] - 0s 577us/step - loss: 0.5340 - accuracy: 0.7375\n",
      "Epoch 61/100\n",
      "804/804 [==============================] - 0s 577us/step - loss: 0.5343 - accuracy: 0.7393\n",
      "Epoch 62/100\n",
      "804/804 [==============================] - 0s 579us/step - loss: 0.5337 - accuracy: 0.7383\n",
      "Epoch 63/100\n",
      "804/804 [==============================] - 0s 553us/step - loss: 0.5337 - accuracy: 0.7388\n",
      "Epoch 64/100\n",
      "804/804 [==============================] - 0s 557us/step - loss: 0.5338 - accuracy: 0.7386\n",
      "Epoch 65/100\n",
      "804/804 [==============================] - 0s 564us/step - loss: 0.5338 - accuracy: 0.7379\n",
      "Epoch 66/100\n",
      "804/804 [==============================] - 0s 595us/step - loss: 0.5333 - accuracy: 0.7379\n",
      "Epoch 67/100\n",
      "804/804 [==============================] - 1s 628us/step - loss: 0.5333 - accuracy: 0.7385\n",
      "Epoch 68/100\n",
      "804/804 [==============================] - 1s 638us/step - loss: 0.5329 - accuracy: 0.7387\n",
      "Epoch 69/100\n",
      "804/804 [==============================] - 0s 579us/step - loss: 0.5333 - accuracy: 0.7396\n",
      "Epoch 70/100\n",
      "804/804 [==============================] - 0s 573us/step - loss: 0.5328 - accuracy: 0.7399\n",
      "Epoch 71/100\n",
      "804/804 [==============================] - 0s 574us/step - loss: 0.5330 - accuracy: 0.7398\n",
      "Epoch 72/100\n",
      "804/804 [==============================] - 0s 563us/step - loss: 0.5328 - accuracy: 0.7384\n",
      "Epoch 73/100\n",
      "804/804 [==============================] - 0s 568us/step - loss: 0.5321 - accuracy: 0.7409\n",
      "Epoch 74/100\n",
      "804/804 [==============================] - 0s 581us/step - loss: 0.5323 - accuracy: 0.7395\n",
      "Epoch 75/100\n",
      "804/804 [==============================] - 1s 623us/step - loss: 0.5324 - accuracy: 0.7400\n",
      "Epoch 76/100\n",
      "804/804 [==============================] - 0s 608us/step - loss: 0.5322 - accuracy: 0.7395\n",
      "Epoch 77/100\n",
      "804/804 [==============================] - 1s 677us/step - loss: 0.5322 - accuracy: 0.7395\n",
      "Epoch 78/100\n",
      "804/804 [==============================] - 1s 639us/step - loss: 0.5320 - accuracy: 0.7388\n",
      "Epoch 79/100\n",
      "804/804 [==============================] - 0s 587us/step - loss: 0.5318 - accuracy: 0.7399\n",
      "Epoch 80/100\n",
      "804/804 [==============================] - 0s 581us/step - loss: 0.5315 - accuracy: 0.7409\n",
      "Epoch 81/100\n",
      "804/804 [==============================] - 0s 573us/step - loss: 0.5315 - accuracy: 0.7397\n",
      "Epoch 82/100\n",
      "804/804 [==============================] - 0s 583us/step - loss: 0.5317 - accuracy: 0.7407\n",
      "Epoch 83/100\n",
      "804/804 [==============================] - 0s 583us/step - loss: 0.5315 - accuracy: 0.7408\n",
      "Epoch 84/100\n",
      "804/804 [==============================] - 0s 576us/step - loss: 0.5314 - accuracy: 0.7404\n",
      "Epoch 85/100\n",
      "804/804 [==============================] - 1s 625us/step - loss: 0.5311 - accuracy: 0.7401\n",
      "Epoch 86/100\n",
      "804/804 [==============================] - 1s 639us/step - loss: 0.5310 - accuracy: 0.7402\n",
      "Epoch 87/100\n",
      "804/804 [==============================] - 1s 629us/step - loss: 0.5310 - accuracy: 0.7400\n",
      "Epoch 88/100\n",
      "804/804 [==============================] - 0s 607us/step - loss: 0.5307 - accuracy: 0.7417\n",
      "Epoch 89/100\n",
      "804/804 [==============================] - 0s 614us/step - loss: 0.5308 - accuracy: 0.7410\n",
      "Epoch 90/100\n",
      "804/804 [==============================] - 0s 613us/step - loss: 0.5309 - accuracy: 0.7397\n",
      "Epoch 91/100\n",
      "804/804 [==============================] - 0s 602us/step - loss: 0.5304 - accuracy: 0.7415\n",
      "Epoch 92/100\n",
      "804/804 [==============================] - 0s 577us/step - loss: 0.5305 - accuracy: 0.7400\n",
      "Epoch 93/100\n",
      "804/804 [==============================] - 0s 602us/step - loss: 0.5305 - accuracy: 0.7405\n",
      "Epoch 94/100\n",
      "804/804 [==============================] - 0s 612us/step - loss: 0.5302 - accuracy: 0.7408\n",
      "Epoch 95/100\n",
      "804/804 [==============================] - 0s 617us/step - loss: 0.5301 - accuracy: 0.7421\n",
      "Epoch 96/100\n",
      "804/804 [==============================] - 1s 643us/step - loss: 0.5303 - accuracy: 0.7419\n",
      "Epoch 97/100\n",
      "804/804 [==============================] - 0s 594us/step - loss: 0.5302 - accuracy: 0.7410\n",
      "Epoch 98/100\n",
      "804/804 [==============================] - 0s 603us/step - loss: 0.5302 - accuracy: 0.7405\n",
      "Epoch 99/100\n",
      "804/804 [==============================] - 1s 641us/step - loss: 0.5298 - accuracy: 0.7411\n",
      "Epoch 100/100\n",
      "804/804 [==============================] - 0s 613us/step - loss: 0.5296 - accuracy: 0.7413\n"
     ]
    }
   ],
   "source": [
    "# try with sigmoid with 100 epochs & 3 layers\n",
    "# Compile the Sequential model together and customize metrics\n",
    "nn.compile(loss=\"binary_crossentropy\", optimizer=\"adam\", metrics=[\"accuracy\"])\n",
    "\n",
    "# Train the model\n",
    "fit_model = nn.fit(X_train_scaled, y_train, epochs=100)"
   ]
  },
  {
   "cell_type": "code",
   "execution_count": 45,
   "metadata": {},
   "outputs": [
    {
     "output_type": "execute_result",
     "data": {
      "text/plain": [
       "<matplotlib.axes._subplots.AxesSubplot at 0x1e79d0f89a0>"
      ]
     },
     "metadata": {},
     "execution_count": 45
    },
    {
     "output_type": "display_data",
     "data": {
      "text/plain": "<Figure size 432x288 with 1 Axes>",
      "image/svg+xml": "<?xml version=\"1.0\" encoding=\"utf-8\" standalone=\"no\"?>\r\n<!DOCTYPE svg PUBLIC \"-//W3C//DTD SVG 1.1//EN\"\r\n  \"http://www.w3.org/Graphics/SVG/1.1/DTD/svg11.dtd\">\r\n<!-- Created with matplotlib (https://matplotlib.org/) -->\r\n<svg height=\"248.518125pt\" version=\"1.1\" viewBox=\"0 0 378.465625 248.518125\" width=\"378.465625pt\" xmlns=\"http://www.w3.org/2000/svg\" xmlns:xlink=\"http://www.w3.org/1999/xlink\">\r\n <defs>\r\n  <style type=\"text/css\">\r\n*{stroke-linecap:butt;stroke-linejoin:round;}\r\n  </style>\r\n </defs>\r\n <g id=\"figure_1\">\r\n  <g id=\"patch_1\">\r\n   <path d=\"M 0 248.518125 \r\nL 378.465625 248.518125 \r\nL 378.465625 0 \r\nL 0 0 \r\nz\r\n\" style=\"fill:none;\"/>\r\n  </g>\r\n  <g id=\"axes_1\">\r\n   <g id=\"patch_2\">\r\n    <path d=\"M 36.465625 224.64 \r\nL 371.265625 224.64 \r\nL 371.265625 7.2 \r\nL 36.465625 7.2 \r\nz\r\n\" style=\"fill:#ffffff;\"/>\r\n   </g>\r\n   <g id=\"matplotlib.axis_1\">\r\n    <g id=\"xtick_1\">\r\n     <g id=\"line2d_1\">\r\n      <defs>\r\n       <path d=\"M 0 0 \r\nL 0 3.5 \r\n\" id=\"m1cbbab7173\" style=\"stroke:#000000;stroke-width:0.8;\"/>\r\n      </defs>\r\n      <g>\r\n       <use style=\"stroke:#000000;stroke-width:0.8;\" x=\"48.609427\" xlink:href=\"#m1cbbab7173\" y=\"224.64\"/>\r\n      </g>\r\n     </g>\r\n     <g id=\"text_1\">\r\n      <!-- 0 -->\r\n      <defs>\r\n       <path d=\"M 31.78125 66.40625 \r\nQ 24.171875 66.40625 20.328125 58.90625 \r\nQ 16.5 51.421875 16.5 36.375 \r\nQ 16.5 21.390625 20.328125 13.890625 \r\nQ 24.171875 6.390625 31.78125 6.390625 \r\nQ 39.453125 6.390625 43.28125 13.890625 \r\nQ 47.125 21.390625 47.125 36.375 \r\nQ 47.125 51.421875 43.28125 58.90625 \r\nQ 39.453125 66.40625 31.78125 66.40625 \r\nz\r\nM 31.78125 74.21875 \r\nQ 44.046875 74.21875 50.515625 64.515625 \r\nQ 56.984375 54.828125 56.984375 36.375 \r\nQ 56.984375 17.96875 50.515625 8.265625 \r\nQ 44.046875 -1.421875 31.78125 -1.421875 \r\nQ 19.53125 -1.421875 13.0625 8.265625 \r\nQ 6.59375 17.96875 6.59375 36.375 \r\nQ 6.59375 54.828125 13.0625 64.515625 \r\nQ 19.53125 74.21875 31.78125 74.21875 \r\nz\r\n\" id=\"DejaVuSans-48\"/>\r\n      </defs>\r\n      <g transform=\"translate(45.428177 239.238437)scale(0.1 -0.1)\">\r\n       <use xlink:href=\"#DejaVuSans-48\"/>\r\n      </g>\r\n     </g>\r\n    </g>\r\n    <g id=\"xtick_2\">\r\n     <g id=\"line2d_2\">\r\n      <g>\r\n       <use style=\"stroke:#000000;stroke-width:0.8;\" x=\"110.09703\" xlink:href=\"#m1cbbab7173\" y=\"224.64\"/>\r\n      </g>\r\n     </g>\r\n     <g id=\"text_2\">\r\n      <!-- 20 -->\r\n      <defs>\r\n       <path d=\"M 19.1875 8.296875 \r\nL 53.609375 8.296875 \r\nL 53.609375 0 \r\nL 7.328125 0 \r\nL 7.328125 8.296875 \r\nQ 12.9375 14.109375 22.625 23.890625 \r\nQ 32.328125 33.6875 34.8125 36.53125 \r\nQ 39.546875 41.84375 41.421875 45.53125 \r\nQ 43.3125 49.21875 43.3125 52.78125 \r\nQ 43.3125 58.59375 39.234375 62.25 \r\nQ 35.15625 65.921875 28.609375 65.921875 \r\nQ 23.96875 65.921875 18.8125 64.3125 \r\nQ 13.671875 62.703125 7.8125 59.421875 \r\nL 7.8125 69.390625 \r\nQ 13.765625 71.78125 18.9375 73 \r\nQ 24.125 74.21875 28.421875 74.21875 \r\nQ 39.75 74.21875 46.484375 68.546875 \r\nQ 53.21875 62.890625 53.21875 53.421875 \r\nQ 53.21875 48.921875 51.53125 44.890625 \r\nQ 49.859375 40.875 45.40625 35.40625 \r\nQ 44.1875 33.984375 37.640625 27.21875 \r\nQ 31.109375 20.453125 19.1875 8.296875 \r\nz\r\n\" id=\"DejaVuSans-50\"/>\r\n      </defs>\r\n      <g transform=\"translate(103.73453 239.238437)scale(0.1 -0.1)\">\r\n       <use xlink:href=\"#DejaVuSans-50\"/>\r\n       <use x=\"63.623047\" xlink:href=\"#DejaVuSans-48\"/>\r\n      </g>\r\n     </g>\r\n    </g>\r\n    <g id=\"xtick_3\">\r\n     <g id=\"line2d_3\">\r\n      <g>\r\n       <use style=\"stroke:#000000;stroke-width:0.8;\" x=\"171.584633\" xlink:href=\"#m1cbbab7173\" y=\"224.64\"/>\r\n      </g>\r\n     </g>\r\n     <g id=\"text_3\">\r\n      <!-- 40 -->\r\n      <defs>\r\n       <path d=\"M 37.796875 64.3125 \r\nL 12.890625 25.390625 \r\nL 37.796875 25.390625 \r\nz\r\nM 35.203125 72.90625 \r\nL 47.609375 72.90625 \r\nL 47.609375 25.390625 \r\nL 58.015625 25.390625 \r\nL 58.015625 17.1875 \r\nL 47.609375 17.1875 \r\nL 47.609375 0 \r\nL 37.796875 0 \r\nL 37.796875 17.1875 \r\nL 4.890625 17.1875 \r\nL 4.890625 26.703125 \r\nz\r\n\" id=\"DejaVuSans-52\"/>\r\n      </defs>\r\n      <g transform=\"translate(165.222133 239.238437)scale(0.1 -0.1)\">\r\n       <use xlink:href=\"#DejaVuSans-52\"/>\r\n       <use x=\"63.623047\" xlink:href=\"#DejaVuSans-48\"/>\r\n      </g>\r\n     </g>\r\n    </g>\r\n    <g id=\"xtick_4\">\r\n     <g id=\"line2d_4\">\r\n      <g>\r\n       <use style=\"stroke:#000000;stroke-width:0.8;\" x=\"233.072237\" xlink:href=\"#m1cbbab7173\" y=\"224.64\"/>\r\n      </g>\r\n     </g>\r\n     <g id=\"text_4\">\r\n      <!-- 60 -->\r\n      <defs>\r\n       <path d=\"M 33.015625 40.375 \r\nQ 26.375 40.375 22.484375 35.828125 \r\nQ 18.609375 31.296875 18.609375 23.390625 \r\nQ 18.609375 15.53125 22.484375 10.953125 \r\nQ 26.375 6.390625 33.015625 6.390625 \r\nQ 39.65625 6.390625 43.53125 10.953125 \r\nQ 47.40625 15.53125 47.40625 23.390625 \r\nQ 47.40625 31.296875 43.53125 35.828125 \r\nQ 39.65625 40.375 33.015625 40.375 \r\nz\r\nM 52.59375 71.296875 \r\nL 52.59375 62.3125 \r\nQ 48.875 64.0625 45.09375 64.984375 \r\nQ 41.3125 65.921875 37.59375 65.921875 \r\nQ 27.828125 65.921875 22.671875 59.328125 \r\nQ 17.53125 52.734375 16.796875 39.40625 \r\nQ 19.671875 43.65625 24.015625 45.921875 \r\nQ 28.375 48.1875 33.59375 48.1875 \r\nQ 44.578125 48.1875 50.953125 41.515625 \r\nQ 57.328125 34.859375 57.328125 23.390625 \r\nQ 57.328125 12.15625 50.6875 5.359375 \r\nQ 44.046875 -1.421875 33.015625 -1.421875 \r\nQ 20.359375 -1.421875 13.671875 8.265625 \r\nQ 6.984375 17.96875 6.984375 36.375 \r\nQ 6.984375 53.65625 15.1875 63.9375 \r\nQ 23.390625 74.21875 37.203125 74.21875 \r\nQ 40.921875 74.21875 44.703125 73.484375 \r\nQ 48.484375 72.75 52.59375 71.296875 \r\nz\r\n\" id=\"DejaVuSans-54\"/>\r\n      </defs>\r\n      <g transform=\"translate(226.709737 239.238437)scale(0.1 -0.1)\">\r\n       <use xlink:href=\"#DejaVuSans-54\"/>\r\n       <use x=\"63.623047\" xlink:href=\"#DejaVuSans-48\"/>\r\n      </g>\r\n     </g>\r\n    </g>\r\n    <g id=\"xtick_5\">\r\n     <g id=\"line2d_5\">\r\n      <g>\r\n       <use style=\"stroke:#000000;stroke-width:0.8;\" x=\"294.55984\" xlink:href=\"#m1cbbab7173\" y=\"224.64\"/>\r\n      </g>\r\n     </g>\r\n     <g id=\"text_5\">\r\n      <!-- 80 -->\r\n      <defs>\r\n       <path d=\"M 31.78125 34.625 \r\nQ 24.75 34.625 20.71875 30.859375 \r\nQ 16.703125 27.09375 16.703125 20.515625 \r\nQ 16.703125 13.921875 20.71875 10.15625 \r\nQ 24.75 6.390625 31.78125 6.390625 \r\nQ 38.8125 6.390625 42.859375 10.171875 \r\nQ 46.921875 13.96875 46.921875 20.515625 \r\nQ 46.921875 27.09375 42.890625 30.859375 \r\nQ 38.875 34.625 31.78125 34.625 \r\nz\r\nM 21.921875 38.8125 \r\nQ 15.578125 40.375 12.03125 44.71875 \r\nQ 8.5 49.078125 8.5 55.328125 \r\nQ 8.5 64.0625 14.71875 69.140625 \r\nQ 20.953125 74.21875 31.78125 74.21875 \r\nQ 42.671875 74.21875 48.875 69.140625 \r\nQ 55.078125 64.0625 55.078125 55.328125 \r\nQ 55.078125 49.078125 51.53125 44.71875 \r\nQ 48 40.375 41.703125 38.8125 \r\nQ 48.828125 37.15625 52.796875 32.3125 \r\nQ 56.78125 27.484375 56.78125 20.515625 \r\nQ 56.78125 9.90625 50.3125 4.234375 \r\nQ 43.84375 -1.421875 31.78125 -1.421875 \r\nQ 19.734375 -1.421875 13.25 4.234375 \r\nQ 6.78125 9.90625 6.78125 20.515625 \r\nQ 6.78125 27.484375 10.78125 32.3125 \r\nQ 14.796875 37.15625 21.921875 38.8125 \r\nz\r\nM 18.3125 54.390625 \r\nQ 18.3125 48.734375 21.84375 45.5625 \r\nQ 25.390625 42.390625 31.78125 42.390625 \r\nQ 38.140625 42.390625 41.71875 45.5625 \r\nQ 45.3125 48.734375 45.3125 54.390625 \r\nQ 45.3125 60.0625 41.71875 63.234375 \r\nQ 38.140625 66.40625 31.78125 66.40625 \r\nQ 25.390625 66.40625 21.84375 63.234375 \r\nQ 18.3125 60.0625 18.3125 54.390625 \r\nz\r\n\" id=\"DejaVuSans-56\"/>\r\n      </defs>\r\n      <g transform=\"translate(288.19734 239.238437)scale(0.1 -0.1)\">\r\n       <use xlink:href=\"#DejaVuSans-56\"/>\r\n       <use x=\"63.623047\" xlink:href=\"#DejaVuSans-48\"/>\r\n      </g>\r\n     </g>\r\n    </g>\r\n    <g id=\"xtick_6\">\r\n     <g id=\"line2d_6\">\r\n      <g>\r\n       <use style=\"stroke:#000000;stroke-width:0.8;\" x=\"356.047443\" xlink:href=\"#m1cbbab7173\" y=\"224.64\"/>\r\n      </g>\r\n     </g>\r\n     <g id=\"text_6\">\r\n      <!-- 100 -->\r\n      <defs>\r\n       <path d=\"M 12.40625 8.296875 \r\nL 28.515625 8.296875 \r\nL 28.515625 63.921875 \r\nL 10.984375 60.40625 \r\nL 10.984375 69.390625 \r\nL 28.421875 72.90625 \r\nL 38.28125 72.90625 \r\nL 38.28125 8.296875 \r\nL 54.390625 8.296875 \r\nL 54.390625 0 \r\nL 12.40625 0 \r\nz\r\n\" id=\"DejaVuSans-49\"/>\r\n      </defs>\r\n      <g transform=\"translate(346.503693 239.238437)scale(0.1 -0.1)\">\r\n       <use xlink:href=\"#DejaVuSans-49\"/>\r\n       <use x=\"63.623047\" xlink:href=\"#DejaVuSans-48\"/>\r\n       <use x=\"127.246094\" xlink:href=\"#DejaVuSans-48\"/>\r\n      </g>\r\n     </g>\r\n    </g>\r\n   </g>\r\n   <g id=\"matplotlib.axis_2\">\r\n    <g id=\"ytick_1\">\r\n     <g id=\"line2d_7\">\r\n      <defs>\r\n       <path d=\"M 0 0 \r\nL -3.5 0 \r\n\" id=\"m4ab28e8a63\" style=\"stroke:#000000;stroke-width:0.8;\"/>\r\n      </defs>\r\n      <g>\r\n       <use style=\"stroke:#000000;stroke-width:0.8;\" x=\"36.465625\" xlink:href=\"#m4ab28e8a63\" y=\"213.509505\"/>\r\n      </g>\r\n     </g>\r\n     <g id=\"text_7\">\r\n      <!-- 0.53 -->\r\n      <defs>\r\n       <path d=\"M 10.6875 12.40625 \r\nL 21 12.40625 \r\nL 21 0 \r\nL 10.6875 0 \r\nz\r\n\" id=\"DejaVuSans-46\"/>\r\n       <path d=\"M 10.796875 72.90625 \r\nL 49.515625 72.90625 \r\nL 49.515625 64.59375 \r\nL 19.828125 64.59375 \r\nL 19.828125 46.734375 \r\nQ 21.96875 47.46875 24.109375 47.828125 \r\nQ 26.265625 48.1875 28.421875 48.1875 \r\nQ 40.625 48.1875 47.75 41.5 \r\nQ 54.890625 34.8125 54.890625 23.390625 \r\nQ 54.890625 11.625 47.5625 5.09375 \r\nQ 40.234375 -1.421875 26.90625 -1.421875 \r\nQ 22.3125 -1.421875 17.546875 -0.640625 \r\nQ 12.796875 0.140625 7.71875 1.703125 \r\nL 7.71875 11.625 \r\nQ 12.109375 9.234375 16.796875 8.0625 \r\nQ 21.484375 6.890625 26.703125 6.890625 \r\nQ 35.15625 6.890625 40.078125 11.328125 \r\nQ 45.015625 15.765625 45.015625 23.390625 \r\nQ 45.015625 31 40.078125 35.4375 \r\nQ 35.15625 39.890625 26.703125 39.890625 \r\nQ 22.75 39.890625 18.8125 39.015625 \r\nQ 14.890625 38.140625 10.796875 36.28125 \r\nz\r\n\" id=\"DejaVuSans-53\"/>\r\n       <path d=\"M 40.578125 39.3125 \r\nQ 47.65625 37.796875 51.625 33 \r\nQ 55.609375 28.21875 55.609375 21.1875 \r\nQ 55.609375 10.40625 48.1875 4.484375 \r\nQ 40.765625 -1.421875 27.09375 -1.421875 \r\nQ 22.515625 -1.421875 17.65625 -0.515625 \r\nQ 12.796875 0.390625 7.625 2.203125 \r\nL 7.625 11.71875 \r\nQ 11.71875 9.328125 16.59375 8.109375 \r\nQ 21.484375 6.890625 26.8125 6.890625 \r\nQ 36.078125 6.890625 40.9375 10.546875 \r\nQ 45.796875 14.203125 45.796875 21.1875 \r\nQ 45.796875 27.640625 41.28125 31.265625 \r\nQ 36.765625 34.90625 28.71875 34.90625 \r\nL 20.21875 34.90625 \r\nL 20.21875 43.015625 \r\nL 29.109375 43.015625 \r\nQ 36.375 43.015625 40.234375 45.921875 \r\nQ 44.09375 48.828125 44.09375 54.296875 \r\nQ 44.09375 59.90625 40.109375 62.90625 \r\nQ 36.140625 65.921875 28.71875 65.921875 \r\nQ 24.65625 65.921875 20.015625 65.03125 \r\nQ 15.375 64.15625 9.8125 62.3125 \r\nL 9.8125 71.09375 \r\nQ 15.4375 72.65625 20.34375 73.4375 \r\nQ 25.25 74.21875 29.59375 74.21875 \r\nQ 40.828125 74.21875 47.359375 69.109375 \r\nQ 53.90625 64.015625 53.90625 55.328125 \r\nQ 53.90625 49.265625 50.4375 45.09375 \r\nQ 46.96875 40.921875 40.578125 39.3125 \r\nz\r\n\" id=\"DejaVuSans-51\"/>\r\n      </defs>\r\n      <g transform=\"translate(7.2 217.308724)scale(0.1 -0.1)\">\r\n       <use xlink:href=\"#DejaVuSans-48\"/>\r\n       <use x=\"63.623047\" xlink:href=\"#DejaVuSans-46\"/>\r\n       <use x=\"95.410156\" xlink:href=\"#DejaVuSans-53\"/>\r\n       <use x=\"159.033203\" xlink:href=\"#DejaVuSans-51\"/>\r\n      </g>\r\n     </g>\r\n    </g>\r\n    <g id=\"ytick_2\">\r\n     <g id=\"line2d_8\">\r\n      <g>\r\n       <use style=\"stroke:#000000;stroke-width:0.8;\" x=\"36.465625\" xlink:href=\"#m4ab28e8a63\" y=\"183.554783\"/>\r\n      </g>\r\n     </g>\r\n     <g id=\"text_8\">\r\n      <!-- 0.54 -->\r\n      <g transform=\"translate(7.2 187.354002)scale(0.1 -0.1)\">\r\n       <use xlink:href=\"#DejaVuSans-48\"/>\r\n       <use x=\"63.623047\" xlink:href=\"#DejaVuSans-46\"/>\r\n       <use x=\"95.410156\" xlink:href=\"#DejaVuSans-53\"/>\r\n       <use x=\"159.033203\" xlink:href=\"#DejaVuSans-52\"/>\r\n      </g>\r\n     </g>\r\n    </g>\r\n    <g id=\"ytick_3\">\r\n     <g id=\"line2d_9\">\r\n      <g>\r\n       <use style=\"stroke:#000000;stroke-width:0.8;\" x=\"36.465625\" xlink:href=\"#m4ab28e8a63\" y=\"153.600062\"/>\r\n      </g>\r\n     </g>\r\n     <g id=\"text_9\">\r\n      <!-- 0.55 -->\r\n      <g transform=\"translate(7.2 157.399281)scale(0.1 -0.1)\">\r\n       <use xlink:href=\"#DejaVuSans-48\"/>\r\n       <use x=\"63.623047\" xlink:href=\"#DejaVuSans-46\"/>\r\n       <use x=\"95.410156\" xlink:href=\"#DejaVuSans-53\"/>\r\n       <use x=\"159.033203\" xlink:href=\"#DejaVuSans-53\"/>\r\n      </g>\r\n     </g>\r\n    </g>\r\n    <g id=\"ytick_4\">\r\n     <g id=\"line2d_10\">\r\n      <g>\r\n       <use style=\"stroke:#000000;stroke-width:0.8;\" x=\"36.465625\" xlink:href=\"#m4ab28e8a63\" y=\"123.645341\"/>\r\n      </g>\r\n     </g>\r\n     <g id=\"text_10\">\r\n      <!-- 0.56 -->\r\n      <g transform=\"translate(7.2 127.444559)scale(0.1 -0.1)\">\r\n       <use xlink:href=\"#DejaVuSans-48\"/>\r\n       <use x=\"63.623047\" xlink:href=\"#DejaVuSans-46\"/>\r\n       <use x=\"95.410156\" xlink:href=\"#DejaVuSans-53\"/>\r\n       <use x=\"159.033203\" xlink:href=\"#DejaVuSans-54\"/>\r\n      </g>\r\n     </g>\r\n    </g>\r\n    <g id=\"ytick_5\">\r\n     <g id=\"line2d_11\">\r\n      <g>\r\n       <use style=\"stroke:#000000;stroke-width:0.8;\" x=\"36.465625\" xlink:href=\"#m4ab28e8a63\" y=\"93.690619\"/>\r\n      </g>\r\n     </g>\r\n     <g id=\"text_11\">\r\n      <!-- 0.57 -->\r\n      <defs>\r\n       <path d=\"M 8.203125 72.90625 \r\nL 55.078125 72.90625 \r\nL 55.078125 68.703125 \r\nL 28.609375 0 \r\nL 18.3125 0 \r\nL 43.21875 64.59375 \r\nL 8.203125 64.59375 \r\nz\r\n\" id=\"DejaVuSans-55\"/>\r\n      </defs>\r\n      <g transform=\"translate(7.2 97.489838)scale(0.1 -0.1)\">\r\n       <use xlink:href=\"#DejaVuSans-48\"/>\r\n       <use x=\"63.623047\" xlink:href=\"#DejaVuSans-46\"/>\r\n       <use x=\"95.410156\" xlink:href=\"#DejaVuSans-53\"/>\r\n       <use x=\"159.033203\" xlink:href=\"#DejaVuSans-55\"/>\r\n      </g>\r\n     </g>\r\n    </g>\r\n    <g id=\"ytick_6\">\r\n     <g id=\"line2d_12\">\r\n      <g>\r\n       <use style=\"stroke:#000000;stroke-width:0.8;\" x=\"36.465625\" xlink:href=\"#m4ab28e8a63\" y=\"63.735898\"/>\r\n      </g>\r\n     </g>\r\n     <g id=\"text_12\">\r\n      <!-- 0.58 -->\r\n      <g transform=\"translate(7.2 67.535116)scale(0.1 -0.1)\">\r\n       <use xlink:href=\"#DejaVuSans-48\"/>\r\n       <use x=\"63.623047\" xlink:href=\"#DejaVuSans-46\"/>\r\n       <use x=\"95.410156\" xlink:href=\"#DejaVuSans-53\"/>\r\n       <use x=\"159.033203\" xlink:href=\"#DejaVuSans-56\"/>\r\n      </g>\r\n     </g>\r\n    </g>\r\n    <g id=\"ytick_7\">\r\n     <g id=\"line2d_13\">\r\n      <g>\r\n       <use style=\"stroke:#000000;stroke-width:0.8;\" x=\"36.465625\" xlink:href=\"#m4ab28e8a63\" y=\"33.781176\"/>\r\n      </g>\r\n     </g>\r\n     <g id=\"text_13\">\r\n      <!-- 0.59 -->\r\n      <defs>\r\n       <path d=\"M 10.984375 1.515625 \r\nL 10.984375 10.5 \r\nQ 14.703125 8.734375 18.5 7.8125 \r\nQ 22.3125 6.890625 25.984375 6.890625 \r\nQ 35.75 6.890625 40.890625 13.453125 \r\nQ 46.046875 20.015625 46.78125 33.40625 \r\nQ 43.953125 29.203125 39.59375 26.953125 \r\nQ 35.25 24.703125 29.984375 24.703125 \r\nQ 19.046875 24.703125 12.671875 31.3125 \r\nQ 6.296875 37.9375 6.296875 49.421875 \r\nQ 6.296875 60.640625 12.9375 67.421875 \r\nQ 19.578125 74.21875 30.609375 74.21875 \r\nQ 43.265625 74.21875 49.921875 64.515625 \r\nQ 56.59375 54.828125 56.59375 36.375 \r\nQ 56.59375 19.140625 48.40625 8.859375 \r\nQ 40.234375 -1.421875 26.421875 -1.421875 \r\nQ 22.703125 -1.421875 18.890625 -0.6875 \r\nQ 15.09375 0.046875 10.984375 1.515625 \r\nz\r\nM 30.609375 32.421875 \r\nQ 37.25 32.421875 41.125 36.953125 \r\nQ 45.015625 41.5 45.015625 49.421875 \r\nQ 45.015625 57.28125 41.125 61.84375 \r\nQ 37.25 66.40625 30.609375 66.40625 \r\nQ 23.96875 66.40625 20.09375 61.84375 \r\nQ 16.21875 57.28125 16.21875 49.421875 \r\nQ 16.21875 41.5 20.09375 36.953125 \r\nQ 23.96875 32.421875 30.609375 32.421875 \r\nz\r\n\" id=\"DejaVuSans-57\"/>\r\n      </defs>\r\n      <g transform=\"translate(7.2 37.580395)scale(0.1 -0.1)\">\r\n       <use xlink:href=\"#DejaVuSans-48\"/>\r\n       <use x=\"63.623047\" xlink:href=\"#DejaVuSans-46\"/>\r\n       <use x=\"95.410156\" xlink:href=\"#DejaVuSans-53\"/>\r\n       <use x=\"159.033203\" xlink:href=\"#DejaVuSans-57\"/>\r\n      </g>\r\n     </g>\r\n    </g>\r\n   </g>\r\n   <g id=\"line2d_14\">\r\n    <path clip-path=\"url(#p288ace871d)\" d=\"M 51.683807 17.083636 \r\nL 54.758187 95.887982 \r\nL 57.832567 117.952992 \r\nL 60.906947 131.953345 \r\nL 63.981327 141.292092 \r\nL 67.055708 144.020067 \r\nL 70.130088 150.90294 \r\nL 73.204468 152.664991 \r\nL 76.278848 153.924619 \r\nL 79.353228 156.457445 \r\nL 82.427608 160.358811 \r\nL 85.501989 162.363504 \r\nL 88.576369 161.777879 \r\nL 91.650749 165.589795 \r\nL 94.725129 165.861539 \r\nL 97.799509 167.559672 \r\nL 100.873889 169.006414 \r\nL 103.94827 170.459227 \r\nL 107.02265 172.520518 \r\nL 110.09703 172.589258 \r\nL 113.17141 174.402194 \r\nL 116.24579 175.746452 \r\nL 119.32017 175.467566 \r\nL 122.394551 177.918798 \r\nL 125.468931 179.161464 \r\nL 128.543311 179.939202 \r\nL 131.617691 180.842278 \r\nL 134.692071 180.022225 \r\nL 137.766451 180.157383 \r\nL 140.840832 183.835926 \r\nL 143.915212 182.476134 \r\nL 146.989592 185.763309 \r\nL 150.063972 184.80417 \r\nL 153.138352 185.922035 \r\nL 156.212732 185.486744 \r\nL 159.287113 187.773179 \r\nL 162.361493 186.563008 \r\nL 165.435873 188.696252 \r\nL 168.510253 189.271164 \r\nL 171.584633 190.17049 \r\nL 174.659013 189.870358 \r\nL 177.733394 192.103765 \r\nL 180.807774 192.036811 \r\nL 183.882154 192.377652 \r\nL 186.956534 193.805647 \r\nL 190.030914 193.528904 \r\nL 193.105294 195.687859 \r\nL 196.179675 195.166153 \r\nL 199.254055 195.858725 \r\nL 202.328435 195.335056 \r\nL 205.402815 195.972458 \r\nL 208.477195 197.175666 \r\nL 211.551575 196.100653 \r\nL 214.625956 198.002325 \r\nL 217.700336 198.027857 \r\nL 220.774716 197.982507 \r\nL 223.849096 199.838115 \r\nL 226.923476 199.993806 \r\nL 229.997856 200.578537 \r\nL 233.072237 201.659086 \r\nL 236.146617 200.555148 \r\nL 239.220997 202.439859 \r\nL 242.295377 202.34041 \r\nL 245.369757 202.17615 \r\nL 248.444137 202.217393 \r\nL 251.518518 203.695202 \r\nL 254.592898 203.612358 \r\nL 257.667278 204.746648 \r\nL 260.741658 203.714842 \r\nL 263.816038 205.252821 \r\nL 266.890418 204.536145 \r\nL 269.964799 205.091953 \r\nL 273.039179 207.327324 \r\nL 276.113559 206.576011 \r\nL 279.187939 206.326049 \r\nL 282.262319 206.963808 \r\nL 285.336699 206.861681 \r\nL 288.41108 207.534435 \r\nL 291.48546 207.990437 \r\nL 294.55984 209.000282 \r\nL 297.63422 208.975821 \r\nL 300.7086 208.563742 \r\nL 303.78298 208.935292 \r\nL 306.857361 209.384509 \r\nL 309.931741 210.142607 \r\nL 313.006121 210.635567 \r\nL 316.080501 210.584682 \r\nL 319.154881 211.404556 \r\nL 322.229261 211.093889 \r\nL 325.303642 210.822145 \r\nL 328.378022 212.458145 \r\nL 331.452402 212.143371 \r\nL 334.526782 212.07981 \r\nL 337.601162 213.036984 \r\nL 340.675542 213.323012 \r\nL 343.749923 212.693109 \r\nL 346.824303 213.011631 \r\nL 349.898683 212.868796 \r\nL 352.973063 214.195557 \r\nL 356.047443 214.756364 \r\n\" style=\"fill:none;stroke:#1f77b4;stroke-linecap:square;stroke-width:1.5;\"/>\r\n   </g>\r\n   <g id=\"patch_3\">\r\n    <path d=\"M 36.465625 224.64 \r\nL 36.465625 7.2 \r\n\" style=\"fill:none;stroke:#000000;stroke-linecap:square;stroke-linejoin:miter;stroke-width:0.8;\"/>\r\n   </g>\r\n   <g id=\"patch_4\">\r\n    <path d=\"M 371.265625 224.64 \r\nL 371.265625 7.2 \r\n\" style=\"fill:none;stroke:#000000;stroke-linecap:square;stroke-linejoin:miter;stroke-width:0.8;\"/>\r\n   </g>\r\n   <g id=\"patch_5\">\r\n    <path d=\"M 36.465625 224.64 \r\nL 371.265625 224.64 \r\n\" style=\"fill:none;stroke:#000000;stroke-linecap:square;stroke-linejoin:miter;stroke-width:0.8;\"/>\r\n   </g>\r\n   <g id=\"patch_6\">\r\n    <path d=\"M 36.465625 7.2 \r\nL 371.265625 7.2 \r\n\" style=\"fill:none;stroke:#000000;stroke-linecap:square;stroke-linejoin:miter;stroke-width:0.8;\"/>\r\n   </g>\r\n   <g id=\"legend_1\">\r\n    <g id=\"patch_7\">\r\n     <path d=\"M 312.95 29.878125 \r\nL 364.265625 29.878125 \r\nQ 366.265625 29.878125 366.265625 27.878125 \r\nL 366.265625 14.2 \r\nQ 366.265625 12.2 364.265625 12.2 \r\nL 312.95 12.2 \r\nQ 310.95 12.2 310.95 14.2 \r\nL 310.95 27.878125 \r\nQ 310.95 29.878125 312.95 29.878125 \r\nz\r\n\" style=\"fill:#ffffff;opacity:0.8;stroke:#cccccc;stroke-linejoin:miter;\"/>\r\n    </g>\r\n    <g id=\"line2d_15\">\r\n     <path d=\"M 314.95 20.298437 \r\nL 334.95 20.298437 \r\n\" style=\"fill:none;stroke:#1f77b4;stroke-linecap:square;stroke-width:1.5;\"/>\r\n    </g>\r\n    <g id=\"line2d_16\"/>\r\n    <g id=\"text_14\">\r\n     <!-- loss -->\r\n     <defs>\r\n      <path d=\"M 9.421875 75.984375 \r\nL 18.40625 75.984375 \r\nL 18.40625 0 \r\nL 9.421875 0 \r\nz\r\n\" id=\"DejaVuSans-108\"/>\r\n      <path d=\"M 30.609375 48.390625 \r\nQ 23.390625 48.390625 19.1875 42.75 \r\nQ 14.984375 37.109375 14.984375 27.296875 \r\nQ 14.984375 17.484375 19.15625 11.84375 \r\nQ 23.34375 6.203125 30.609375 6.203125 \r\nQ 37.796875 6.203125 41.984375 11.859375 \r\nQ 46.1875 17.53125 46.1875 27.296875 \r\nQ 46.1875 37.015625 41.984375 42.703125 \r\nQ 37.796875 48.390625 30.609375 48.390625 \r\nz\r\nM 30.609375 56 \r\nQ 42.328125 56 49.015625 48.375 \r\nQ 55.71875 40.765625 55.71875 27.296875 \r\nQ 55.71875 13.875 49.015625 6.21875 \r\nQ 42.328125 -1.421875 30.609375 -1.421875 \r\nQ 18.84375 -1.421875 12.171875 6.21875 \r\nQ 5.515625 13.875 5.515625 27.296875 \r\nQ 5.515625 40.765625 12.171875 48.375 \r\nQ 18.84375 56 30.609375 56 \r\nz\r\n\" id=\"DejaVuSans-111\"/>\r\n      <path d=\"M 44.28125 53.078125 \r\nL 44.28125 44.578125 \r\nQ 40.484375 46.53125 36.375 47.5 \r\nQ 32.28125 48.484375 27.875 48.484375 \r\nQ 21.1875 48.484375 17.84375 46.4375 \r\nQ 14.5 44.390625 14.5 40.28125 \r\nQ 14.5 37.15625 16.890625 35.375 \r\nQ 19.28125 33.59375 26.515625 31.984375 \r\nL 29.59375 31.296875 \r\nQ 39.15625 29.25 43.1875 25.515625 \r\nQ 47.21875 21.78125 47.21875 15.09375 \r\nQ 47.21875 7.46875 41.1875 3.015625 \r\nQ 35.15625 -1.421875 24.609375 -1.421875 \r\nQ 20.21875 -1.421875 15.453125 -0.5625 \r\nQ 10.6875 0.296875 5.421875 2 \r\nL 5.421875 11.28125 \r\nQ 10.40625 8.6875 15.234375 7.390625 \r\nQ 20.0625 6.109375 24.8125 6.109375 \r\nQ 31.15625 6.109375 34.5625 8.28125 \r\nQ 37.984375 10.453125 37.984375 14.40625 \r\nQ 37.984375 18.0625 35.515625 20.015625 \r\nQ 33.0625 21.96875 24.703125 23.78125 \r\nL 21.578125 24.515625 \r\nQ 13.234375 26.265625 9.515625 29.90625 \r\nQ 5.8125 33.546875 5.8125 39.890625 \r\nQ 5.8125 47.609375 11.28125 51.796875 \r\nQ 16.75 56 26.8125 56 \r\nQ 31.78125 56 36.171875 55.265625 \r\nQ 40.578125 54.546875 44.28125 53.078125 \r\nz\r\n\" id=\"DejaVuSans-115\"/>\r\n     </defs>\r\n     <g transform=\"translate(342.95 23.798437)scale(0.1 -0.1)\">\r\n      <use xlink:href=\"#DejaVuSans-108\"/>\r\n      <use x=\"27.783203\" xlink:href=\"#DejaVuSans-111\"/>\r\n      <use x=\"88.964844\" xlink:href=\"#DejaVuSans-115\"/>\r\n      <use x=\"141.064453\" xlink:href=\"#DejaVuSans-115\"/>\r\n     </g>\r\n    </g>\r\n   </g>\r\n  </g>\r\n </g>\r\n <defs>\r\n  <clipPath id=\"p288ace871d\">\r\n   <rect height=\"217.44\" width=\"334.8\" x=\"36.465625\" y=\"7.2\"/>\r\n  </clipPath>\r\n </defs>\r\n</svg>\r\n",
      "image/png": "[encoded data removed]"
     },
     "metadata": {
      "needs_background": "light"
     }
    }
   ],
   "source": [
    "# plot trianing history\n",
    "training_df = pd.DataFrame(fit_model.history, index=range(1,len(fit_model.history['loss'])+1))\n",
    "\n",
    "training_df.plot(y='loss')"
   ]
  },
  {
   "cell_type": "code",
   "execution_count": 46,
   "metadata": {},
   "outputs": [
    {
     "output_type": "stream",
     "name": "stdout",
     "text": [
      "268/268 - 0s - loss: 0.5655 - accuracy: 0.7262\n",
      "Loss: 0.5655080676078796, Accuracy: 0.7261807322502136\n"
     ]
    }
   ],
   "source": [
    "model_loss, model_accuracy = nn.evaluate(X_test_scaled,y_test,verbose=2)\n",
    "print(f\"Loss: {model_loss}, Accuracy: {model_accuracy}\")"
   ]
  },
  {
   "source": [
    "### Adding a 3rd layer increased accuracy about a quarter point.  Extending epochs, layers and other training factors are now all in the realm of overfitting the model.  Classifying data in more refince, discrete groups is needed to achieve the objective requirement of 75% accuracy."
   ],
   "cell_type": "markdown",
   "metadata": {}
  }
 ]
}